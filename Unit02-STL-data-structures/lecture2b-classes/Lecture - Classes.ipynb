{
 "cells": [
  {
   "cell_type": "markdown",
   "id": "531b29ef",
   "metadata": {
    "slideshow": {
     "slide_type": "slide"
    }
   },
   "source": [
    "# Classes"
   ]
  },
  {
   "cell_type": "markdown",
   "id": "705016a5",
   "metadata": {
    "slideshow": {
     "slide_type": "skip"
    }
   },
   "source": [
    "- Private, public\n",
    "- Constructor, initialization\n",
    "- Templates\n",
    "- const\n",
    "- Delegator pattern (composite data structures)\n",
    "- Class: Noisy Vector\n",
    "  - Prints to stdout when a method is called\n",
    "  - On destruction, prints method usage stats\n",
    "- HW: vector_set\n",
    "  - Implement set interface with a vector\n",
    "  - Profile: set vs vector set?\n"
   ]
  },
  {
   "cell_type": "markdown",
   "id": "5866a89e",
   "metadata": {
    "slideshow": {
     "slide_type": "slide"
    }
   },
   "source": [
    "## `uses_stuff.cpp`, `stuff.h`"
   ]
  },
  {
   "cell_type": "markdown",
   "id": "bd11b61b",
   "metadata": {
    "slideshow": {
     "slide_type": "slide"
    }
   },
   "source": [
    "- class syntax\n",
    "  - semicolon at the end of the class\n",
    "- public, private\n",
    "  - try to access the private variables from `uses_stuff.cpp` and observe the compiler error\n",
    "- `const` on methods means the method doesn't change the class instance data\n",
    "  - remove `const` from `get_word` and see the resulting compiler error\n",
    "- `const` on variables means the variable's data can't be changed\n",
    "- operator overloading\n",
    "  - `operator<<`"
   ]
  },
  {
   "cell_type": "markdown",
   "id": "293ad4d9",
   "metadata": {
    "slideshow": {
     "slide_type": "slide"
    }
   },
   "source": [
    "## `counter_demo.cpp`"
   ]
  },
  {
   "cell_type": "markdown",
   "id": "429206e0",
   "metadata": {
    "slideshow": {
     "slide_type": "slide"
    }
   },
   "source": [
    "- using the constructor body\n",
    "- design: wrapping other data structures to create a new data structure\n",
    "  - there are many ways to use `vector`, there is only one way to use `Counters`\n",
    "- `return` vs modifying a reference\n",
    "  - make sure they understand how `input` works\n",
    "  - mutable references means side effects!\n",
    "- `++counter` vs `counter++`"
   ]
  },
  {
   "cell_type": "markdown",
   "id": "bca9c1e4",
   "metadata": {
    "slideshow": {
     "slide_type": "slide"
    }
   },
   "source": [
    "## `pair_demo.cpp`"
   ]
  },
  {
   "cell_type": "markdown",
   "id": "ebdf15b4",
   "metadata": {
    "slideshow": {
     "slide_type": "notes"
    }
   },
   "source": [
    "- templated classes"
   ]
  },
  {
   "cell_type": "markdown",
   "id": "7a666f16",
   "metadata": {
    "slideshow": {
     "slide_type": "slide"
    }
   },
   "source": [
    "## 👷🏿‍♂️ `noisy_vector.h`\n",
    "\n",
    "Write a class that acts like a vector but prints how many times each method is being called.\n",
    "\n",
    "For example:\n",
    "\n",
    "```c++\n",
    "NoisyVector<int> numbers;\n",
    "numbers.push_back(7);\n",
    "numbers.push_back(10);\n",
    "numbers.pop_back();\n",
    "```\n",
    "\n",
    "should print\n",
    "\n",
    "```\n",
    "push_back called 1 time\n",
    "push_back called 2 times\n",
    "pop_back called 1 time\n",
    "```\n",
    "\n",
    "Support `push_back`, `pop_back`, `size`, and `operator[]`;\n",
    "\n",
    "See also **`noisy_demo.cpp`**"
   ]
  },
  {
   "cell_type": "markdown",
   "id": "e81a558e",
   "metadata": {
    "slideshow": {
     "slide_type": "slide"
    }
   },
   "source": [
    "- why are none of the methods on `NoisyVector` `const`?\n",
    "  - Try making `size() const` - what happens?\n",
    "  - Why not `NoisyVector<T> const&` in `operator<<`?\n",
    "- `operator[]`\n",
    "  - why the return reference?\n",
    "  - how does `words[0] = \"capybara\"` work?\n",
    "  - **lvalues** vs **rvalues**\n",
    "    - references can be used in **both** positions\n",
    "- note the trace of the program\n",
    "  - `.size()` called each time through the loop\n",
    "  "
   ]
  },
  {
   "cell_type": "markdown",
   "id": "b8be390c",
   "metadata": {
    "slideshow": {
     "slide_type": "slide"
    }
   },
   "source": [
    "## Key Ideas\n",
    "\n",
    "- Classes\n",
    "- Templated classes\n",
    "- Delegation pattern"
   ]
  }
 ],
 "metadata": {
  "celltoolbar": "Slideshow",
  "kernelspec": {
   "display_name": "C++17 (docker)",
   "language": "C++17",
   "name": "xeus-cling"
  },
  "language_info": {
   "codemirror_mode": "text/x-c++src",
   "file_extension": ".cpp",
   "mimetype": "text/x-c++src",
   "name": "c++",
   "version": "17"
  },
  "toc": {
   "base_numbering": 1,
   "nav_menu": {},
   "number_sections": false,
   "sideBar": true,
   "skip_h1_title": true,
   "title_cell": "Table of Contents",
   "title_sidebar": "Contents",
   "toc_cell": false,
   "toc_position": {
    "height": "calc(100% - 180px)",
    "left": "10px",
    "top": "150px",
    "width": "384px"
   },
   "toc_section_display": true,
   "toc_window_display": true
  }
 },
 "nbformat": 4,
 "nbformat_minor": 5
}
