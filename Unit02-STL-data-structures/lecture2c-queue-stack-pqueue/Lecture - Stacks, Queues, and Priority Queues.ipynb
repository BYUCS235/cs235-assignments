{
 "cells": [
  {
   "cell_type": "markdown",
   "id": "ac17dfaf",
   "metadata": {
    "slideshow": {
     "slide_type": "slide"
    }
   },
   "source": [
    "# Stacks, Queues, and Priority Queues"
   ]
  },
  {
   "cell_type": "code",
   "execution_count": null,
   "id": "196b710d",
   "metadata": {
    "slideshow": {
     "slide_type": "slide"
    }
   },
   "outputs": [],
   "source": [
    "#include <string>\n",
    "using std::string;\n",
    "\n",
    "#include <iostream>\n",
    "using std::cout, std::endl;\n",
    "\n",
    "#include <sstream>\n",
    "using std::stringstream;"
   ]
  },
  {
   "cell_type": "markdown",
   "id": "4233194f",
   "metadata": {
    "slideshow": {
     "slide_type": "slide"
    }
   },
   "source": [
    "## Stacks"
   ]
  },
  {
   "cell_type": "markdown",
   "id": "75586426",
   "metadata": {
    "slideshow": {
     "slide_type": "skip"
    }
   },
   "source": [
    "- Last-in-first-out (LIFO)\n",
    "- abstract interface: `push`, `pop`, `top`, `empty`\n",
    "- C++ STD library `stack`\n",
    "- Demonstration\n",
    "- Use-case: Reversal, matching parens, undo, call stack\n",
    "    - In class: reversal and matching parens"
   ]
  },
  {
   "cell_type": "markdown",
   "id": "881a24b1",
   "metadata": {
    "slideshow": {
     "slide_type": "fragment"
    }
   },
   "source": [
    "- Ordered (but not \"insertion\" order!)\n",
    "- Last-in-first-out (LIFO)\n",
    "- `push`, `pop`, `top`, `empty`"
   ]
  },
  {
   "cell_type": "code",
   "execution_count": null,
   "id": "6818a7bb",
   "metadata": {
    "slideshow": {
     "slide_type": "slide"
    }
   },
   "outputs": [],
   "source": [
    "#include <stack>\n",
    "using std::stack;"
   ]
  },
  {
   "cell_type": "code",
   "execution_count": 11,
   "id": "9d73951e",
   "metadata": {},
   "outputs": [
    {
     "name": "stdout",
     "output_type": "stream",
     "text": [
      "Lehi\n",
      "Nephi\n",
      "Kishkuman\n",
      "Pahoran\n",
      "Zeniff\n",
      "Abinadi\n"
     ]
    }
   ],
   "source": [
    "stack<string> names;\n",
    "\n",
    "names.push(\"Abinadi\");\n",
    "names.push(\"Zeniff\");\n",
    "names.push(\"Pahoran\");\n",
    "names.push(\"Kishkuman\");\n",
    "names.push(\"Nephi\");\n",
    "names.push(\"Lehi\");\n",
    "\n",
    "while (!names.empty()) {\n",
    "    cout << names.top() << endl;\n",
    "    names.pop();\n",
    "}"
   ]
  },
  {
   "cell_type": "markdown",
   "id": "9093adbd",
   "metadata": {
    "slideshow": {
     "slide_type": "slide"
    }
   },
   "source": [
    "### Use Cases for Stacks"
   ]
  },
  {
   "cell_type": "markdown",
   "id": "fdafb8df",
   "metadata": {
    "slideshow": {
     "slide_type": "fragment"
    }
   },
   "source": [
    "- Inverting/reversing\n",
    "  - Backing out of something the same way you went in, retracing steps\n",
    "- Nested problems\n",
    "  - When a sub-problem has the same quality as the primary problem\n",
    "    - Solving a maze\n",
    "    - Boggle\n",
    "  - Inception! 😴 😴 😴"
   ]
  },
  {
   "cell_type": "markdown",
   "id": "a98fb857",
   "metadata": {
    "slideshow": {
     "slide_type": "fragment"
    }
   },
   "source": [
    "- Symmetric problems\n",
    "  - matching parentheses\n",
    "  - chiasmus, palindromes"
   ]
  },
  {
   "cell_type": "markdown",
   "id": "6c840025",
   "metadata": {
    "slideshow": {
     "slide_type": "slide"
    }
   },
   "source": [
    "- Memory allocation for functions!\n",
    "  - the \"stack\" is...a stack!"
   ]
  },
  {
   "cell_type": "markdown",
   "id": "2a17827a",
   "metadata": {
    "slideshow": {
     "slide_type": "fragment"
    }
   },
   "source": [
    "  \n",
    "<div style=\"font-size: 200pt\"> 🤯 </div>"
   ]
  },
  {
   "cell_type": "markdown",
   "id": "c0798812",
   "metadata": {
    "slideshow": {
     "slide_type": "slide"
    }
   },
   "source": [
    "```c++\n",
    "void A() {\n",
    "    // What is the call stack contents at this point?\n",
    "}\n",
    "void B() {\n",
    "    A();\n",
    "}\n",
    "void C() {\n",
    "    B();\n",
    "}\n",
    "```\n",
    "```c++\n",
    "int main() {\n",
    "    C();\n",
    "    B();\n",
    "    C();\n",
    "}\n",
    "```"
   ]
  },
  {
   "cell_type": "markdown",
   "id": "42187702",
   "metadata": {
    "slideshow": {
     "slide_type": "fragment"
    }
   },
   "source": [
    "```\n",
    "0: main\n",
    "1: C\n",
    "2: B\n",
    "3: A\n",
    "```"
   ]
  },
  {
   "cell_type": "markdown",
   "id": "fa197899",
   "metadata": {
    "slideshow": {
     "slide_type": "slide"
    }
   },
   "source": [
    "### How would you implement a stack?"
   ]
  },
  {
   "cell_type": "markdown",
   "id": "1b517257",
   "metadata": {
    "slideshow": {
     "slide_type": "slide"
    }
   },
   "source": [
    "### Big Ideas for Stacks\n",
    "- Allows us to implement algorithms with nested, symmetric, or reversing qualities\n",
    "- Simple to implement efficiently (use a `vector`, work from the back)"
   ]
  },
  {
   "cell_type": "markdown",
   "id": "32b4f6ff",
   "metadata": {
    "slideshow": {
     "slide_type": "slide"
    }
   },
   "source": [
    "### Postfix notation\n",
    "\n",
    "```\n",
    "3 1 2 + + 5 *\n",
    "```\n",
    "\n",
    "- 3 -> stack (3)\n",
    "- 1 -> stack (1, 3)\n",
    "- 2 -> stack (2, 1, 3)\n",
    "- `+` -> pop 2, pop 1, add => 3 -> stack (3, 3)\n",
    "- `+` -> pop 3, pop 3, add => 6 -> stack (6)\n",
    "- 5 -> stack (5, 6)\n",
    "- `*` -> pop 5, pop 6, multiply => 30\n",
    "- all done!\n",
    "\n",
    "#### `postfix.cpp`"
   ]
  },
  {
   "cell_type": "markdown",
   "id": "72a18d5d",
   "metadata": {
    "slideshow": {
     "slide_type": "slide"
    }
   },
   "source": [
    "## Queues"
   ]
  },
  {
   "cell_type": "markdown",
   "id": "fec66026",
   "metadata": {
    "slideshow": {
     "slide_type": "skip"
    }
   },
   "source": [
    "- FIFO\n",
    "- Add at back, remove from front\n",
    "- All about controlling behavior\n",
    "- No iterator!\n",
    "- Use-case: rolling window (lab 1), scheduling, buffering"
   ]
  },
  {
   "cell_type": "markdown",
   "id": "9cd9a843",
   "metadata": {
    "slideshow": {
     "slide_type": "fragment"
    }
   },
   "source": [
    "- Ordered\n",
    "- First-in-first-out (FIFO)\n",
    "- `front`, `push`, `pop`, `empty`"
   ]
  },
  {
   "cell_type": "code",
   "execution_count": null,
   "id": "894af3b7",
   "metadata": {
    "slideshow": {
     "slide_type": "slide"
    }
   },
   "outputs": [],
   "source": [
    "#include <queue>\n",
    "using std::queue;"
   ]
  },
  {
   "cell_type": "code",
   "execution_count": 12,
   "id": "54841351",
   "metadata": {},
   "outputs": [
    {
     "name": "stdout",
     "output_type": "stream",
     "text": [
      "Abinadi\n",
      "Zeniff\n",
      "Pahoran\n",
      "Kishkuman\n",
      "Nephi\n",
      "Lehi\n"
     ]
    }
   ],
   "source": [
    "queue<string> names;\n",
    "\n",
    "names.push(\"Abinadi\");\n",
    "names.push(\"Zeniff\");\n",
    "names.push(\"Pahoran\");\n",
    "names.push(\"Kishkuman\");\n",
    "names.push(\"Nephi\");\n",
    "names.push(\"Lehi\");\n",
    "\n",
    "while (!names.empty()) {\n",
    "    cout << names.front() << endl;\n",
    "    names.pop();\n",
    "}"
   ]
  },
  {
   "cell_type": "markdown",
   "id": "f9723e2d",
   "metadata": {
    "slideshow": {
     "slide_type": "slide"
    }
   },
   "source": [
    "### Use Cases for Queues\n",
    "- When insertion order should be preserved\n",
    "- When access to any element but the front is not allowed\n",
    "- Examples\n",
    "  - Search for the shortest path in a network\n",
    "  - Wait in line\n",
    "  - Simplified process scheduling"
   ]
  },
  {
   "cell_type": "markdown",
   "id": "1279e329",
   "metadata": {
    "slideshow": {
     "slide_type": "slide"
    }
   },
   "source": [
    "### How would you implement a queue?"
   ]
  },
  {
   "cell_type": "markdown",
   "id": "e1edb4d8",
   "metadata": {
    "slideshow": {
     "slide_type": "fragment"
    }
   },
   "source": [
    "If you use a `vector` under the hood, what happens when you add an element in the back?\n",
    "\n",
    "What happens when you remove the front element?"
   ]
  },
  {
   "cell_type": "markdown",
   "id": "3f94227c",
   "metadata": {
    "slideshow": {
     "slide_type": "fragment"
    }
   },
   "source": [
    "What should we use instead of `vector`?"
   ]
  },
  {
   "cell_type": "markdown",
   "id": "c8ad9030",
   "metadata": {
    "slideshow": {
     "slide_type": "slide"
    }
   },
   "source": [
    "### Big ideas\n",
    "- Queues (with `list`) can be more efficient than other structures when you can follow the queue contract: first-in-first-out"
   ]
  },
  {
   "cell_type": "markdown",
   "id": "345e2072",
   "metadata": {
    "slideshow": {
     "slide_type": "slide"
    }
   },
   "source": [
    "### `wait_in_line.cpp`"
   ]
  },
  {
   "cell_type": "markdown",
   "id": "d407a0e1",
   "metadata": {
    "slideshow": {
     "slide_type": "slide"
    }
   },
   "source": [
    "## Priority Queues"
   ]
  },
  {
   "cell_type": "markdown",
   "id": "49218f5f",
   "metadata": {
    "slideshow": {
     "slide_type": "skip"
    }
   },
   "source": [
    "- Auto-sorted\n",
    "- Uses heap under the hood\n",
    "- No iterator!\n",
    "- Use-case: Dijkstra's algorithm, sort-as-you-go, triage\n",
    "- `push`, `pop`, `top`\n"
   ]
  },
  {
   "cell_type": "markdown",
   "id": "271405b4",
   "metadata": {
    "slideshow": {
     "slide_type": "fragment"
    }
   },
   "source": [
    "- Ordered (sorted!)\n",
    "- `top`, `push`, `pop`, `empty`\n",
    "\n",
    "https://en.cppreference.com/w/cpp/container/priority_queue"
   ]
  },
  {
   "cell_type": "code",
   "execution_count": null,
   "id": "8a5c9d9b",
   "metadata": {
    "slideshow": {
     "slide_type": "slide"
    }
   },
   "outputs": [],
   "source": [
    "#include <queue>\n",
    "using std::priority_queue;"
   ]
  },
  {
   "cell_type": "code",
   "execution_count": 14,
   "id": "eeef0279",
   "metadata": {
    "slideshow": {
     "slide_type": "slide"
    }
   },
   "outputs": [
    {
     "name": "stdout",
     "output_type": "stream",
     "text": [
      "8\n",
      "8\n",
      "7\n",
      "2\n"
     ]
    }
   ],
   "source": [
    "priority_queue<int> numbers;\n",
    "numbers.push(7);\n",
    "numbers.push(8);\n",
    "numbers.push(8);\n",
    "numbers.push(2);\n",
    "\n",
    "while (!numbers.empty()) {\n",
    "    cout << numbers.top() << endl;\n",
    "    numbers.pop();\n",
    "}"
   ]
  },
  {
   "cell_type": "code",
   "execution_count": 15,
   "id": "c18ae641",
   "metadata": {
    "slideshow": {
     "slide_type": "slide"
    }
   },
   "outputs": [
    {
     "name": "stdout",
     "output_type": "stream",
     "text": [
      "abinadi\n",
      "Zeniff\n",
      "Pahoran\n",
      "Nephi\n",
      "Lehi\n",
      "Kishkuman\n",
      "Abinadi\n"
     ]
    }
   ],
   "source": [
    "priority_queue<string> names;\n",
    "\n",
    "names.push(\"Abinadi\");\n",
    "names.push(\"Zeniff\");\n",
    "names.push(\"Pahoran\");\n",
    "names.push(\"abinadi\");\n",
    "names.push(\"Kishkuman\");\n",
    "names.push(\"Nephi\");\n",
    "names.push(\"Lehi\");\n",
    "\n",
    "while (!names.empty()) {\n",
    "    cout << names.top() << endl;\n",
    "    names.pop();\n",
    "}"
   ]
  },
  {
   "cell_type": "markdown",
   "id": "0189761c",
   "metadata": {
    "slideshow": {
     "slide_type": "fragment"
    }
   },
   "source": [
    "By default, \"smaller\" items come out last."
   ]
  },
  {
   "cell_type": "code",
   "execution_count": null,
   "id": "8a5868ad",
   "metadata": {
    "slideshow": {
     "slide_type": "slide"
    }
   },
   "outputs": [],
   "source": [
    "#include <vector>\n",
    "using std::vector;\n",
    "\n",
    "#include <functional>\n",
    "using std::greater;"
   ]
  },
  {
   "cell_type": "code",
   "execution_count": 16,
   "id": "14afc11e",
   "metadata": {
    "slideshow": {
     "slide_type": "slide"
    }
   },
   "outputs": [
    {
     "name": "stdout",
     "output_type": "stream",
     "text": [
      "Abinadi\n",
      "Kishkuman\n",
      "Lehi\n",
      "Nephi\n",
      "Pahoran\n",
      "Zeniff\n"
     ]
    }
   ],
   "source": [
    "priority_queue<string, vector<string>, greater<string>> names;\n",
    "//                                     ^^^^\n",
    "// What you put as the comparer defines what items come out LAST, not first\n",
    "// It may be counter intuitive to some. You've been warned. :)\n",
    "\n",
    "names.push(\"Abinadi\");\n",
    "names.push(\"Zeniff\");\n",
    "names.push(\"Pahoran\");\n",
    "names.push(\"Kishkuman\");\n",
    "names.push(\"Nephi\");\n",
    "names.push(\"Lehi\");\n",
    "\n",
    "while (!names.empty()) {\n",
    "    cout << names.top() << endl;\n",
    "    names.pop();\n",
    "}"
   ]
  },
  {
   "cell_type": "markdown",
   "id": "7e85f68d",
   "metadata": {
    "slideshow": {
     "slide_type": "slide"
    }
   },
   "source": [
    "### Use Cases for Priority Queues\n",
    "- Triage, prioritization\n",
    "  - Emergency room\n",
    "  - OS process scheduling\n",
    "  - Memory allocation (hint: priority queues are typically implemented using a structure called a \"heap\")\n",
    "- Solving least-cost paths (more on this in CS 312!)"
   ]
  },
  {
   "cell_type": "markdown",
   "id": "983283b6",
   "metadata": {
    "slideshow": {
     "slide_type": "slide"
    }
   },
   "source": [
    "### How would you implement a priority queue?"
   ]
  },
  {
   "cell_type": "markdown",
   "id": "a6bdded5",
   "metadata": {
    "slideshow": {
     "slide_type": "slide"
    }
   },
   "source": [
    "### Big Ideas for Priority Queues\n",
    "- Useful for keeping items sorted as we go\n",
    "- Nicely implements the concept of prioritization\n",
    "- We'll talk more about implementation and performance at the end of the semester\n",
    "  - for now, know that most PQ operations are $O(\\log n)$"
   ]
  },
  {
   "cell_type": "markdown",
   "id": "9ab691ab",
   "metadata": {
    "slideshow": {
     "slide_type": "slide"
    }
   },
   "source": [
    "## Key Ideas\n",
    "\n",
    "- stacks\n",
    "- queues\n",
    "- priority-queues"
   ]
  }
 ],
 "metadata": {
  "celltoolbar": "Slideshow",
  "kernelspec": {
   "display_name": "C++17 (docker)",
   "language": "C++17",
   "name": "xeus-cling"
  },
  "language_info": {
   "codemirror_mode": "text/x-c++src",
   "file_extension": ".cpp",
   "mimetype": "text/x-c++src",
   "name": "c++",
   "version": "17"
  },
  "toc": {
   "base_numbering": 1,
   "nav_menu": {},
   "number_sections": false,
   "sideBar": true,
   "skip_h1_title": true,
   "title_cell": "Table of Contents",
   "title_sidebar": "Contents",
   "toc_cell": false,
   "toc_position": {
    "height": "calc(100% - 180px)",
    "left": "10px",
    "top": "150px",
    "width": "384px"
   },
   "toc_section_display": true,
   "toc_window_display": false
  }
 },
 "nbformat": 4,
 "nbformat_minor": 5
}
