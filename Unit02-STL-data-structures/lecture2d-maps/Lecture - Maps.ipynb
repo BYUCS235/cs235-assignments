{
 "cells": [
  {
   "cell_type": "markdown",
   "id": "109733e5",
   "metadata": {
    "slideshow": {
     "slide_type": "slide"
    }
   },
   "source": [
    "# Maps"
   ]
  },
  {
   "cell_type": "code",
   "execution_count": 1,
   "id": "bb4406c0",
   "metadata": {
    "slideshow": {
     "slide_type": "slide"
    }
   },
   "outputs": [],
   "source": [
    "#include <string>\n",
    "using std::string;"
   ]
  },
  {
   "cell_type": "code",
   "execution_count": 2,
   "id": "16649774",
   "metadata": {},
   "outputs": [],
   "source": [
    "#include <iostream>\n",
    "using std::cout, std::endl;"
   ]
  },
  {
   "cell_type": "markdown",
   "id": "406f9efa",
   "metadata": {
    "slideshow": {
     "slide_type": "slide"
    }
   },
   "source": [
    "- Maps link a **key** with a **value**\n",
    "\n",
    "\n",
    "- You use the key to store and retrieve the value\n",
    "  - Table of contents\n",
    "    - Key: chapter name, Value: page number\n",
    "  - Student Information Database\n",
    "    - Key: Student ID, Value: student information\n",
    "  - Scoreboard\n",
    "    - Key: athlete name, Value: score\n",
    "\n",
    "\n",
    "- The collection of keys is a **set**\n",
    "  - Unique, undefined order (associative)\n",
    "  \n",
    "https://en.cppreference.com/w/cpp/container/map"
   ]
  },
  {
   "cell_type": "markdown",
   "id": "9470469a",
   "metadata": {
    "slideshow": {
     "slide_type": "slide"
    }
   },
   "source": [
    "### Maps in Action!"
   ]
  },
  {
   "cell_type": "code",
   "execution_count": 3,
   "id": "c6fa74ca",
   "metadata": {},
   "outputs": [],
   "source": [
    "#include <map>\n",
    "using std::map;"
   ]
  },
  {
   "cell_type": "markdown",
   "id": "1e7ff4dc",
   "metadata": {
    "slideshow": {
     "slide_type": "slide"
    }
   },
   "source": [
    "#### Map literals"
   ]
  },
  {
   "cell_type": "code",
   "execution_count": 4,
   "id": "232021a2",
   "metadata": {
    "slideshow": {
     "slide_type": "fragment"
    }
   },
   "outputs": [],
   "source": [
    "map<string, string> id2name = {\n",
    "    {\"235\", \"Data Structures\"},\n",
    "    {\"142\", \"Intro to Programming\"},\n",
    "    {\"236\", \"Discrete Stuff\"}\n",
    "};"
   ]
  },
  {
   "cell_type": "markdown",
   "id": "9fb17dcb",
   "metadata": {
    "slideshow": {
     "slide_type": "slide"
    }
   },
   "source": [
    "#### Map Lookup"
   ]
  },
  {
   "cell_type": "code",
   "execution_count": 5,
   "id": "dda90525",
   "metadata": {
    "slideshow": {
     "slide_type": "fragment"
    }
   },
   "outputs": [
    {
     "name": "stdout",
     "output_type": "stream",
     "text": [
      "3 Data Structures\n"
     ]
    }
   ],
   "source": [
    "cout << id2name.size() << \" \" << id2name[\"235\"] << endl;"
   ]
  },
  {
   "cell_type": "code",
   "execution_count": 6,
   "id": "09a790b3",
   "metadata": {
    "slideshow": {
     "slide_type": "fragment"
    }
   },
   "outputs": [
    {
     "name": "stdout",
     "output_type": "stream",
     "text": [
      "3 \n"
     ]
    }
   ],
   "source": [
    "cout << id2name.size() << \" \" << id2name[\"110\"] << endl;"
   ]
  },
  {
   "cell_type": "code",
   "execution_count": 7,
   "id": "1781447a",
   "metadata": {
    "slideshow": {
     "slide_type": "fragment"
    }
   },
   "outputs": [
    {
     "name": "stdout",
     "output_type": "stream",
     "text": [
      "4 ><\n"
     ]
    }
   ],
   "source": [
    "cout << id2name.size() << \" \" << '>' << id2name[\"110\"] << '<' << endl;"
   ]
  },
  {
   "cell_type": "code",
   "execution_count": 8,
   "id": "099c0a70",
   "metadata": {
    "slideshow": {
     "slide_type": "fragment"
    }
   },
   "outputs": [
    {
     "name": "stderr",
     "output_type": "stream",
     "text": [
      "input_line_17:2:18: error: no member named 'get' in 'std::map<std::__cxx11::basic_string<char>, std::__cxx11::basic_string<char>, std::less<std::__cxx11::basic_string<char> >, std::allocator<std::pair<const std::__cxx11::basic_string<char>, std::__cxx11::basic_string<char> > > >'\n",
      " cout << id2name.get(\"111\") << endl;\n",
      "         ~~~~~~~ ^\n"
     ]
    },
    {
     "ename": "Interpreter Error",
     "evalue": "",
     "output_type": "error",
     "traceback": [
      "Interpreter Error: "
     ]
    }
   ],
   "source": [
    "cout << id2name.get(\"111\") << endl;"
   ]
  },
  {
   "cell_type": "markdown",
   "id": "d45f8f77",
   "metadata": {
    "slideshow": {
     "slide_type": "slide"
    }
   },
   "source": [
    "- Using the `[]` operator, as soon as you reference a key, it exists with the default value\n",
    "- To attempt to get a value without inadvertently creating it, use `get`"
   ]
  },
  {
   "cell_type": "code",
   "execution_count": 9,
   "id": "ff242e1f",
   "metadata": {
    "slideshow": {
     "slide_type": "slide"
    }
   },
   "outputs": [
    {
     "data": {
      "text/plain": [
       "false"
      ]
     },
     "execution_count": 9,
     "metadata": {},
     "output_type": "execute_result"
    }
   ],
   "source": [
    "id2name.find(\"111\") != id2name.end()  // i.e. is \"111\" found in id2name?"
   ]
  },
  {
   "cell_type": "code",
   "execution_count": 10,
   "id": "1edb4046",
   "metadata": {
    "slideshow": {
     "slide_type": "fragment"
    }
   },
   "outputs": [
    {
     "data": {
      "text/plain": [
       "true"
      ]
     },
     "execution_count": 10,
     "metadata": {},
     "output_type": "execute_result"
    }
   ],
   "source": [
    "id2name.find(\"142\") != id2name.end()  // i.e. is \"142\" found in id2name?"
   ]
  },
  {
   "cell_type": "markdown",
   "id": "3781b00b",
   "metadata": {
    "slideshow": {
     "slide_type": "slide"
    }
   },
   "source": [
    "In C++, simply by referencing a key, a default value is created.\n",
    "\n",
    "If you want to check for a key without creating a value, use `.find()` and compare to `.end()`\n",
    "\n",
    "(For hyper-efficient ways of initializing new values, see https://stackoverflow.com/questions/97050/stdmap-insert-or-stdmap-find)"
   ]
  },
  {
   "cell_type": "markdown",
   "id": "445151dc",
   "metadata": {
    "slideshow": {
     "slide_type": "slide"
    }
   },
   "source": [
    "### `counting.cpp`"
   ]
  },
  {
   "cell_type": "markdown",
   "id": "1e2c14b2",
   "metadata": {
    "slideshow": {
     "slide_type": "slide"
    }
   },
   "source": [
    "- map syntax\n",
    "  - template with two types\n",
    "- auto-initializing with `[]`\n",
    "- iterating throught the map\n",
    "  - the iterator has `first` and `second` properties. `first` is the key, `second` is the value.\n",
    "  - using a reference as the iterating variable"
   ]
  },
  {
   "cell_type": "markdown",
   "id": "d86d1a1b",
   "metadata": {
    "slideshow": {
     "slide_type": "slide"
    }
   },
   "source": [
    "### Cipher"
   ]
  },
  {
   "cell_type": "code",
   "execution_count": 11,
   "id": "bab80820",
   "metadata": {
    "slideshow": {
     "slide_type": "slide"
    }
   },
   "outputs": [
    {
     "name": "stdout",
     "output_type": "stream",
     "text": [
      "D\n"
     ]
    }
   ],
   "source": [
    "cout << static_cast<char>('d' - 'a' + 'A') << endl;"
   ]
  },
  {
   "cell_type": "code",
   "execution_count": 12,
   "id": "92d89cba",
   "metadata": {
    "slideshow": {
     "slide_type": "slide"
    }
   },
   "outputs": [
    {
     "name": "stdout",
     "output_type": "stream",
     "text": [
      "68\n"
     ]
    }
   ],
   "source": [
    "cout << ('d' - 'a' + 'A') << endl;"
   ]
  },
  {
   "cell_type": "code",
   "execution_count": 13,
   "id": "3fa781c2",
   "metadata": {
    "slideshow": {
     "slide_type": "slide"
    }
   },
   "outputs": [
    {
     "name": "stdout",
     "output_type": "stream",
     "text": [
      "A -> X; B -> Y; C -> Z; D -> I; E -> J; F -> K; G -> A; H -> F; I -> G; J -> W; K -> L; L -> M; M -> N; N -> O; O -> H; P -> U; Q -> V; R -> B; S -> C; T -> D; U -> E; V -> P; W -> Q; X -> R; Y -> S; Z -> T; a -> x; b -> y; c -> z; d -> i; e -> j; f -> k; g -> a; h -> f; i -> g; j -> w; k -> l; l -> m; m -> n; n -> o; o -> h; p -> u; q -> v; r -> b; s -> c; t -> d; u -> e; v -> p; w -> q; x -> r; y -> s; z -> t; \n"
     ]
    }
   ],
   "source": [
    "map<char, char> cipher;\n",
    "string alphabet = \"abcdefghijklmnopqrstuvwxyz\";\n",
    "string scramble = \"xyzijkafgwlmnohuvbcdepqrst\";\n",
    "\n",
    "for (int i = 0; i < alphabet.length(); i++) {\n",
    "    cipher[alphabet[i]] = scramble[i];\n",
    "    cipher[alphabet[i]-'a'+'A'] = scramble[i]-'a'+'A';\n",
    "}\n",
    "\n",
    "for (auto const& entry : cipher) {\n",
    "    cout << entry.first << \" -> \" << entry.second << \"; \";\n",
    "}\n",
    "cout << endl;"
   ]
  },
  {
   "cell_type": "code",
   "execution_count": 14,
   "id": "16e05bfa",
   "metadata": {
    "slideshow": {
     "slide_type": "slide"
    }
   },
   "outputs": [],
   "source": [
    "#include <sstream>\n",
    "using std::stringstream;"
   ]
  },
  {
   "cell_type": "code",
   "execution_count": 15,
   "id": "aaf3d829",
   "metadata": {},
   "outputs": [],
   "source": [
    "string encode(string const& in, map<char, char> const& cipher) {\n",
    "    stringstream result;\n",
    "    for (int i = 0; i < in.length(); i++) {\n",
    "        auto c = cipher.find(in[i]);  // c is an \"map iterator\" with key (first) and value (second)\n",
    "        if (c == cipher.end()) {\n",
    "            result << in[i];\n",
    "        } else {\n",
    "            result << c->second;  // to get the value, I use c->value instead of c.value\n",
    "        }\n",
    "    }\n",
    "    return result.str();\n",
    "}"
   ]
  },
  {
   "cell_type": "code",
   "execution_count": 16,
   "id": "f2643ddf",
   "metadata": {},
   "outputs": [
    {
     "name": "stdout",
     "output_type": "stream",
     "text": [
      "Fjmmh, ns oxnj gc Gogah Nhodhsx\n"
     ]
    }
   ],
   "source": [
    "cout << encode(\"Hello, my name is Inigo Montoya\", cipher) << endl;"
   ]
  },
  {
   "cell_type": "markdown",
   "id": "a2d83ec6",
   "metadata": {
    "slideshow": {
     "slide_type": "slide"
    }
   },
   "source": [
    "Let's try using a different character mapping!"
   ]
  },
  {
   "cell_type": "code",
   "execution_count": 17,
   "id": "8a28bf3c",
   "metadata": {},
   "outputs": [
    {
     "data": {
      "text/plain": [
       "5"
      ]
     },
     "execution_count": 17,
     "metadata": {},
     "output_type": "execute_result"
    }
   ],
   "source": [
    "(15 + 16) % 26"
   ]
  },
  {
   "cell_type": "code",
   "execution_count": 18,
   "id": "d21fe0db",
   "metadata": {
    "slideshow": {
     "slide_type": "slide"
    }
   },
   "outputs": [
    {
     "name": "stdout",
     "output_type": "stream",
     "text": [
      "A -> X; B -> Y; C -> Z; D -> I; E -> J; F -> K; G -> A; H -> F; I -> G; J -> W; K -> L; L -> M; M -> N; N -> O; O -> H; P -> U; Q -> V; R -> B; S -> C; T -> D; U -> E; V -> P; W -> Q; X -> R; Y -> S; Z -> T; a -> x; b -> y; c -> z; d -> i; e -> j; f -> k; g -> a; h -> f; i -> g; j -> w; k -> l; l -> m; m -> n; n -> o; o -> h; p -> u; q -> v; r -> b; s -> c; t -> d; u -> e; v -> p; w -> q; x -> r; y -> s; z -> t; \n"
     ]
    }
   ],
   "source": [
    "map<char, char> rot13;\n",
    "int offset = 13;\n",
    "for (int i = 0; i < 26; i++) {\n",
    "    rot13['a' + i] = 'a' + (i+offset)%26;\n",
    "    rot13['A' + i] = 'A' + (i+offset)%26;\n",
    "}\n",
    "for (auto const& entry : cipher) {\n",
    "    cout << entry.first << \" -> \" << entry.second << \"; \";\n",
    "}\n",
    "cout << endl;"
   ]
  },
  {
   "cell_type": "code",
   "execution_count": 19,
   "id": "0520f5d5",
   "metadata": {},
   "outputs": [
    {
     "name": "stdout",
     "output_type": "stream",
     "text": [
      "Uryyb, zl anzr vf Vavtb Zbagbln\n"
     ]
    }
   ],
   "source": [
    "cout << encode(\"Hello, my name is Inigo Montoya\", rot13) << endl;"
   ]
  },
  {
   "cell_type": "markdown",
   "id": "bf26e84a",
   "metadata": {
    "slideshow": {
     "slide_type": "slide"
    }
   },
   "source": [
    "### Decode!"
   ]
  },
  {
   "cell_type": "code",
   "execution_count": 20,
   "id": "331d1f14",
   "metadata": {},
   "outputs": [],
   "source": [
    "map<char, char> rehpic;\n",
    "for (auto const& key_value_pair : cipher) {\n",
    "    rehpic[key_value_pair.second] = key_value_pair.first;\n",
    "}"
   ]
  },
  {
   "cell_type": "markdown",
   "id": "3ec53ae2",
   "metadata": {
    "slideshow": {
     "slide_type": "fragment"
    }
   },
   "source": [
    "Notice how we swapped the keys and values:\n",
    "\n",
    "```\n",
    "entry.second -> entry.first;\n",
    "```\n",
    "\n",
    "When you have one-to-one mappings, the ability to reverse the mapping can be very useful.\n",
    "\n",
    "Will the same practice work for the \"counts\" map?"
   ]
  },
  {
   "cell_type": "code",
   "execution_count": 21,
   "id": "dc5606c1",
   "metadata": {
    "slideshow": {
     "slide_type": "slide"
    }
   },
   "outputs": [
    {
     "name": "stdout",
     "output_type": "stream",
     "text": [
      "I think maps are the coolest thing since sliced bread. 🍞\n",
      "G dfgol nxuc xbj dfj zhhmjcd dfgoa cgozj cmgzji ybjxi. 🍞\n",
      "I think maps are the coolest thing since sliced bread. 🍞\n"
     ]
    }
   ],
   "source": [
    "string message = \"I think maps are the coolest thing since sliced bread. 🍞\";\n",
    "cout << message << endl;\n",
    "\n",
    "string secret_message = encode(message, cipher);\n",
    "cout << secret_message << endl;\n",
    "\n",
    "string message_restored = encode(secret_message, rehpic);\n",
    "cout << message_restored << endl;"
   ]
  },
  {
   "cell_type": "markdown",
   "id": "a8fc3b50",
   "metadata": {
    "slideshow": {
     "slide_type": "slide"
    }
   },
   "source": [
    "## `nested.cpp`"
   ]
  },
  {
   "cell_type": "markdown",
   "id": "0f678bca",
   "metadata": {
    "slideshow": {
     "slide_type": "notes"
    }
   },
   "source": [
    "- nested structures\n",
    "  - template types\n",
    "  - data structure as map value\n",
    "- talk through the auto-initialization of the set"
   ]
  },
  {
   "cell_type": "markdown",
   "id": "c51fa776",
   "metadata": {
    "slideshow": {
     "slide_type": "slide"
    }
   },
   "source": [
    "### What if I want to bin words by a range? Say, 0-2, 3-5, etc."
   ]
  },
  {
   "cell_type": "markdown",
   "id": "62521bab",
   "metadata": {
    "slideshow": {
     "slide_type": "notes"
    }
   },
   "source": [
    "- pattern: for each item: compute the grouping key, add to bin"
   ]
  },
  {
   "cell_type": "markdown",
   "id": "e7c38c14",
   "metadata": {
    "slideshow": {
     "slide_type": "slide"
    }
   },
   "source": [
    "## `unordered_map`\n",
    "\n",
    "Just like `set` and `unordered_set`, there is a `map` and an `unordered_map`.\n",
    "\n",
    "`unordered_map` is faster. `map` stores the keys in sorted order."
   ]
  },
  {
   "cell_type": "markdown",
   "id": "f754cad7",
   "metadata": {
    "slideshow": {
     "slide_type": "slide"
    }
   },
   "source": [
    "### `map_performance.cpp`"
   ]
  },
  {
   "cell_type": "markdown",
   "id": "fc10afb8",
   "metadata": {
    "slideshow": {
     "slide_type": "slide"
    }
   },
   "source": [
    "## 👷🏽‍♀️ `fruits.cpp`\n",
    "\n",
    "Write a program that asks the user for a sequence of fruits. Group the fruits by last letter. Then print the groups."
   ]
  },
  {
   "cell_type": "markdown",
   "id": "963f148b",
   "metadata": {
    "slideshow": {
     "slide_type": "fragment"
    }
   },
   "source": [
    "What code do we use if we want to...\n",
    "\n",
    "- ignore duplicate fruits?\n",
    "- display the fruit in each group in alphabetical order?\n",
    "- display the fruit in each group in the order it was given?\n",
    "- display the fruit in each group in the reverse order it was given?\n",
    "- group by number of vowels instead of last character?\n",
    "\n",
    "What about the output changes if we used `unorderd_map` instead of `map` (or vice-versa)?"
   ]
  },
  {
   "cell_type": "markdown",
   "id": "ad441d58",
   "metadata": {
    "slideshow": {
     "slide_type": "slide"
    }
   },
   "source": [
    "## Key Ideas\n",
    "\n",
    "- Unique keys, not necessarily unique values\n",
    "- Fast lookup\n",
    "- Speed vs ordering\n",
    "  - `map` stores things in \"sorted\" order, but is slower at storage/retrieval than `unordered_map`\n",
    "  - `unordered_map` does not guarantee any order, but is faster at storage/retrieval than `map`\n"
   ]
  },
  {
   "cell_type": "markdown",
   "id": "5ebe2467",
   "metadata": {
    "slideshow": {
     "slide_type": "slide"
    }
   },
   "source": [
    "## Other key ideas\n",
    "\n",
    "- Nested data structures!"
   ]
  }
 ],
 "metadata": {
  "celltoolbar": "Slideshow",
  "kernelspec": {
   "display_name": "C++17 (docker)",
   "language": "C++17",
   "name": "xeus-cling"
  },
  "language_info": {
   "codemirror_mode": "text/x-c++src",
   "file_extension": ".cpp",
   "mimetype": "text/x-c++src",
   "name": "c++",
   "version": "17"
  },
  "toc": {
   "base_numbering": 1,
   "nav_menu": {},
   "number_sections": false,
   "sideBar": true,
   "skip_h1_title": true,
   "title_cell": "Table of Contents",
   "title_sidebar": "Contents",
   "toc_cell": false,
   "toc_position": {
    "height": "calc(100% - 180px)",
    "left": "10px",
    "top": "150px",
    "width": "384px"
   },
   "toc_section_display": true,
   "toc_window_display": true
  }
 },
 "nbformat": 4,
 "nbformat_minor": 5
}
