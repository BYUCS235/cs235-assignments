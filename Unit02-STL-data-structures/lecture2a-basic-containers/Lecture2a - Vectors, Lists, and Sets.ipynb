{
 "cells": [
  {
   "cell_type": "markdown",
   "id": "e30ba687",
   "metadata": {
    "slideshow": {
     "slide_type": "slide"
    }
   },
   "source": [
    "# Vectors, Lists, and Sets"
   ]
  },
  {
   "cell_type": "markdown",
   "id": "647fff4a",
   "metadata": {
    "slideshow": {
     "slide_type": "skip"
    }
   },
   "source": [
    "- Vector\n",
    "  - declaration with template type\n",
    "  - vector literal\n",
    "  - push_back\n",
    "  - `[]` vs `at`\n",
    "  - foreach iteration\n",
    "  - `auto`\n",
    "- Set\n",
    "  - no duplicates\n",
    "  - `set` is ordered\n",
    "  - `unordered_set` is not obviously ordered\n",
    "  - performance comparison\n",
    "- Class activity: user registration\n",
    "  - use vector to track names + ID\n",
    "  - use set to track IDs (so no duplicate IDs)\n",
    "- HW\n",
    "  - Implement someline like `uniq` utility\n",
    "    - print unique, sorted lines from stdin/file"
   ]
  },
  {
   "cell_type": "code",
   "execution_count": 1,
   "id": "3cbeaf9e",
   "metadata": {
    "slideshow": {
     "slide_type": "slide"
    }
   },
   "outputs": [],
   "source": [
    "#include <iostream>\n",
    "using std::cout, std::endl;\n",
    "\n",
    "#include <string>\n",
    "using std::string;"
   ]
  },
  {
   "cell_type": "markdown",
   "id": "4b39b645",
   "metadata": {
    "slideshow": {
     "slide_type": "slide"
    }
   },
   "source": [
    "## Vector"
   ]
  },
  {
   "cell_type": "code",
   "execution_count": 2,
   "id": "7816d17e",
   "metadata": {},
   "outputs": [],
   "source": [
    "#include <vector>\n",
    "using std::vector;"
   ]
  },
  {
   "cell_type": "code",
   "execution_count": 4,
   "id": "3d653cd3",
   "metadata": {
    "slideshow": {
     "slide_type": "slide"
    }
   },
   "outputs": [
    {
     "name": "stdout",
     "output_type": "stream",
     "text": [
      "1\n",
      "2\n",
      "3\n",
      "4\n",
      "5\n"
     ]
    }
   ],
   "source": [
    "vector<int> numbers = {1, 2, 3, 4, 5};\n",
    "\n",
    "for (int i = 0; i < numbers.size(); i++) { \n",
    "    cout << numbers[i] << endl;\n",
    "}\n"
   ]
  },
  {
   "cell_type": "markdown",
   "id": "bc051c02",
   "metadata": {
    "slideshow": {
     "slide_type": "slide"
    }
   },
   "source": [
    "- Inline vector literal using `{ }`.\n",
    "- Vector access using `[ ]`\n",
    "- `.size()`\n",
    "- **template** types - it is not enougth to have a \"vector\": you have a vector of some type.\n",
    "  - this way the compiler knows what type of thing is inside\n"
   ]
  },
  {
   "cell_type": "code",
   "execution_count": 5,
   "id": "cd533eff",
   "metadata": {
    "slideshow": {
     "slide_type": "slide"
    }
   },
   "outputs": [
    {
     "name": "stdout",
     "output_type": "stream",
     "text": [
      "0\n",
      "1\n",
      "2\n",
      "3\n",
      "4\n",
      "5\n",
      "6\n",
      "7\n",
      "8\n",
      "9\n"
     ]
    }
   ],
   "source": [
    "vector<int> numbers;\n",
    "\n",
    "for (int i = 0; i < 10; i++) {\n",
    "    numbers.push_back(i);\n",
    "}\n",
    "\n",
    "for (int const& num : numbers) {\n",
    "    cout << num << endl;\n",
    "}"
   ]
  },
  {
   "cell_type": "markdown",
   "id": "9a7c82e0",
   "metadata": {
    "slideshow": {
     "slide_type": "slide"
    }
   },
   "source": [
    "- Declaration of `numbers` makes empty vector\n",
    "- `.push_back`\n",
    "- for-each iteration syntax"
   ]
  },
  {
   "cell_type": "markdown",
   "id": "ff348dad",
   "metadata": {
    "slideshow": {
     "slide_type": "slide"
    }
   },
   "source": [
    "```c++\n",
    "vector<int> numbers;\n",
    "```\n",
    "\n",
    "**not**\n",
    "\n",
    "```c++\n",
    "vector<int> numbers();\n",
    "```"
   ]
  },
  {
   "cell_type": "markdown",
   "id": "17f16e35",
   "metadata": {
    "slideshow": {
     "slide_type": "-"
    }
   },
   "source": [
    "The second version is interpreted as a function declaration. \n",
    "\n",
    "I.E. a function named `numbers` that takes no arguments and returns a `vector<int>`"
   ]
  },
  {
   "cell_type": "code",
   "execution_count": 6,
   "id": "a7adc71d",
   "metadata": {
    "slideshow": {
     "slide_type": "slide"
    }
   },
   "outputs": [
    {
     "name": "stdout",
     "output_type": "stream",
     "text": [
      "0\n",
      "1\n",
      "2\n",
      "3\n",
      "4\n",
      "5\n",
      "6\n",
      "7\n",
      "8\n",
      "9\n"
     ]
    }
   ],
   "source": [
    "vector<int> other_numbers(numbers);\n",
    "\n",
    "for (auto const& num : other_numbers) {\n",
    "    cout << num << endl;\n",
    "}"
   ]
  },
  {
   "cell_type": "markdown",
   "id": "d4ca7ea4",
   "metadata": {
    "slideshow": {
     "slide_type": "slide"
    }
   },
   "source": [
    "- copy constructor\n",
    "- `auto` keyword when declaring a thing of a type the compiler can figure out"
   ]
  },
  {
   "cell_type": "code",
   "execution_count": 7,
   "id": "ffb55c03",
   "metadata": {
    "slideshow": {
     "slide_type": "slide"
    }
   },
   "outputs": [
    {
     "name": "stdout",
     "output_type": "stream",
     "text": [
      "Do\n",
      "you\n",
      "know\n",
      "the\n",
      "muffin\n",
      "man?\n"
     ]
    }
   ],
   "source": [
    "vector<string> words = {\"Do\", \"you\", \"know\", \"the\", \"muffin\", \"man?\"};\n",
    "for (auto word : words) { cout << word << endl; }"
   ]
  },
  {
   "cell_type": "code",
   "execution_count": 8,
   "id": "ddc700f6",
   "metadata": {},
   "outputs": [],
   "source": [
    "words.pop_back();\n",
    "words.pop_back();\n",
    "words.pop_back();"
   ]
  },
  {
   "cell_type": "code",
   "execution_count": 9,
   "id": "a59d4532",
   "metadata": {},
   "outputs": [
    {
     "name": "stdout",
     "output_type": "stream",
     "text": [
      "Do\n",
      "you\n",
      "know\n"
     ]
    }
   ],
   "source": [
    "for (auto const& word : words) { cout << word << endl; }"
   ]
  },
  {
   "cell_type": "markdown",
   "id": "a3d57e4b",
   "metadata": {
    "slideshow": {
     "slide_type": "slide"
    }
   },
   "source": [
    "- `.pop_back()` removes items from the back."
   ]
  },
  {
   "cell_type": "code",
   "execution_count": 10,
   "id": "f208846b",
   "metadata": {
    "slideshow": {
     "slide_type": "slide"
    }
   },
   "outputs": [
    {
     "name": "stdout",
     "output_type": "stream",
     "text": [
      "size is 4\n",
      "last word is: to\n",
      "words: and it came to \n",
      "----\n",
      "size is 4\n",
      "last word is: to\n",
      "words: and it came to pass \n"
     ]
    }
   ],
   "source": [
    "vector<string> words = {\"and\", \"it\", \"came\", \"to\", \"pass\"};\n",
    "words.pop_back();  // <-- should remove the word \"pass\"\n",
    "\n",
    "cout << \"size is \" << words.size() << endl;\n",
    "cout << \"last word is: \" << words[words.size() - 1] << endl;\n",
    "cout << \"words: \";\n",
    "\n",
    "for (auto word : words) { cout << word << ' '; } cout << endl;\n",
    "\n",
    "cout << \"----\" << endl;\n",
    "cout << \"size is \" << words.size() << endl;\n",
    "cout << \"last word is: \" << words[words.size() - 1] << endl;\n",
    "cout << \"words: \";\n",
    "\n",
    "for (int i = 0; i < 5; i++) {  // <-- the list size is only 4...so running to 5 will do what?\n",
    "    cout << words[i] << ' ';\n",
    "}\n",
    "cout << endl;"
   ]
  },
  {
   "cell_type": "markdown",
   "id": "a057126b",
   "metadata": {
    "slideshow": {
     "slide_type": "fragment"
    }
   },
   "source": [
    "<div style='font-size: 200pt'> 🤨 </div>"
   ]
  },
  {
   "cell_type": "markdown",
   "id": "db4d82eb",
   "metadata": {
    "slideshow": {
     "slide_type": "slide"
    }
   },
   "source": [
    "- the `[ ]` operator does not check that the index is valid. \n",
    "  - maybe you get **lucky** and you try to access invalid memory and your program **crashes**\n",
    "  - maybe you get **unlucky** and end up accessing memory that is technically valid (and thus has data) but isn't part of the vector, so your program continues onward with bogus data and trainwrecks somewhere down the line. 🤪"
   ]
  },
  {
   "cell_type": "code",
   "execution_count": 12,
   "id": "bf133375",
   "metadata": {
    "slideshow": {
     "slide_type": "slide"
    }
   },
   "outputs": [
    {
     "name": "stdout",
     "output_type": "stream",
     "text": [
      "5\n",
      "4\n",
      "size is 4\n",
      "last word is: to\n",
      "words: and it came to \n",
      "----\n",
      "size is 4\n",
      "last word is: to\n",
      "words: and it came to "
     ]
    },
    {
     "ename": "Standard Exception",
     "evalue": "vector::_M_range_check: __n (which is 4) >= this->size() (which is 4)",
     "output_type": "error",
     "traceback": [
      "Standard Exception: vector::_M_range_check: __n (which is 4) >= this->size() (which is 4)"
     ]
    }
   ],
   "source": [
    "vector<string> words = {\"and\", \"it\", \"came\", \"to\", \"pass\"};\n",
    "cout << words.size() << endl;\n",
    "words.pop_back();  // <-- should remove the word \"pass\"\n",
    "cout << words.size() << endl;\n",
    "\n",
    "cout << \"size is \" << words.size() << endl;\n",
    "cout << \"last word is: \" << words[words.size() - 1] << endl;\n",
    "cout << \"words: \";\n",
    "\n",
    "for (auto word : words) { cout << word << ' '; } cout << endl;\n",
    "\n",
    "cout << \"----\" << endl;\n",
    "cout << \"size is \" << words.size() << endl;\n",
    "cout << \"last word is: \" << words[words.size() - 1] << endl;\n",
    "cout << \"words: \";\n",
    "\n",
    "for (int i = 0; i < 5; i++) {  // <-- the list size is only 4...so running to 5 will do what?\n",
    "    cout << words.at(i) << ' ';\n",
    "}\n",
    "cout << endl;"
   ]
  },
  {
   "cell_type": "markdown",
   "id": "8aaab059",
   "metadata": {
    "slideshow": {
     "slide_type": "slide"
    }
   },
   "source": [
    "- `.at()` throws an exception when you go out of bounds"
   ]
  },
  {
   "cell_type": "markdown",
   "id": "fc3eb0bd",
   "metadata": {
    "slideshow": {
     "slide_type": "slide"
    }
   },
   "source": [
    "## 👷🏼‍♀️ `grocery.cpp`"
   ]
  },
  {
   "cell_type": "markdown",
   "id": "4a83c2bf",
   "metadata": {},
   "source": [
    "Write a program that queries the user for a list of items they want on their grocery list.\n",
    "\n",
    "Then print out the grocery list.\n",
    "\n",
    "```\n",
    "Item: eggs\n",
    "Item: milk\n",
    "Item: cheese\n",
    "Item: bread\n",
    "Item:\n",
    "- eggs\n",
    "- milk\n",
    "- cheese\n",
    "- bread\n",
    "```"
   ]
  },
  {
   "cell_type": "markdown",
   "id": "be2c4a8e",
   "metadata": {
    "slideshow": {
     "slide_type": "slide"
    }
   },
   "source": [
    "Can you add an item to the front of a vector?"
   ]
  },
  {
   "cell_type": "code",
   "execution_count": null,
   "id": "39ac7fb0",
   "metadata": {},
   "outputs": [],
   "source": [
    "vector<int> numbers;\n",
    "\n",
    "// numbers.push"
   ]
  },
  {
   "cell_type": "markdown",
   "id": "ad29177c",
   "metadata": {
    "slideshow": {
     "slide_type": "slide"
    }
   },
   "source": [
    "## List"
   ]
  },
  {
   "cell_type": "code",
   "execution_count": 13,
   "id": "f2cd601d",
   "metadata": {},
   "outputs": [],
   "source": [
    "#include <list>\n",
    "using std::list;"
   ]
  },
  {
   "cell_type": "code",
   "execution_count": 14,
   "id": "3fc31380",
   "metadata": {
    "slideshow": {
     "slide_type": "slide"
    }
   },
   "outputs": [
    {
     "name": "stdout",
     "output_type": "stream",
     "text": [
      "1\n",
      "2\n",
      "3\n",
      "4\n",
      "5\n"
     ]
    }
   ],
   "source": [
    "list<int> numbers = {1, 2, 3, 4, 5};\n",
    "for (auto num : numbers) {\n",
    "    cout << num << endl;\n",
    "}"
   ]
  },
  {
   "cell_type": "code",
   "execution_count": 15,
   "id": "5d626dad",
   "metadata": {
    "slideshow": {
     "slide_type": "slide"
    }
   },
   "outputs": [
    {
     "name": "stdout",
     "output_type": "stream",
     "text": [
      "0\n",
      "1\n",
      "2\n",
      "3\n",
      "4\n",
      "5\n",
      "6\n"
     ]
    }
   ],
   "source": [
    "numbers.push_front(0);\n",
    "numbers.push_back(6);\n",
    "for (auto num : numbers) {\n",
    "    cout << num << endl;\n",
    "}"
   ]
  },
  {
   "cell_type": "code",
   "execution_count": 16,
   "id": "99fb6ea1",
   "metadata": {
    "slideshow": {
     "slide_type": "slide"
    }
   },
   "outputs": [
    {
     "name": "stdout",
     "output_type": "stream",
     "text": [
      "1\n",
      "2\n",
      "3\n",
      "4\n",
      "5\n"
     ]
    }
   ],
   "source": [
    "numbers.pop_front();\n",
    "numbers.pop_back();\n",
    "for (auto num : numbers) {\n",
    "    cout << num << endl;\n",
    "}"
   ]
  },
  {
   "cell_type": "markdown",
   "id": "c97a0587",
   "metadata": {
    "slideshow": {
     "slide_type": "slide"
    }
   },
   "source": [
    "- you can add and remove items to both the front **and** back of a list."
   ]
  },
  {
   "cell_type": "code",
   "execution_count": 17,
   "id": "71f26cac",
   "metadata": {
    "slideshow": {
     "slide_type": "slide"
    }
   },
   "outputs": [
    {
     "name": "stderr",
     "output_type": "stream",
     "text": [
      "input_line_28:2:9: error: type 'list<int>' does not provide a subscript operator\n",
      " numbers[0]\n",
      " ~~~~~~~^~\n"
     ]
    },
    {
     "ename": "Interpreter Error",
     "evalue": "",
     "output_type": "error",
     "traceback": [
      "Interpreter Error: "
     ]
    }
   ],
   "source": [
    "numbers[0]"
   ]
  },
  {
   "cell_type": "code",
   "execution_count": 18,
   "id": "65539b9e",
   "metadata": {
    "slideshow": {
     "slide_type": "fragment"
    }
   },
   "outputs": [
    {
     "name": "stderr",
     "output_type": "stream",
     "text": [
      "input_line_29:2:10: error: no member named 'at' in 'std::__cxx11::list<int, std::allocator<int> >'\n",
      " numbers.at(1)\n",
      " ~~~~~~~ ^\n"
     ]
    },
    {
     "ename": "Interpreter Error",
     "evalue": "",
     "output_type": "error",
     "traceback": [
      "Interpreter Error: "
     ]
    }
   ],
   "source": [
    "numbers.at(1)"
   ]
  },
  {
   "cell_type": "markdown",
   "id": "9d53c8b6",
   "metadata": {
    "slideshow": {
     "slide_type": "slide"
    }
   },
   "source": [
    "Lists do not give you random access (i.e. the `[]` operator)"
   ]
  },
  {
   "cell_type": "markdown",
   "id": "cf3c9834",
   "metadata": {
    "slideshow": {
     "slide_type": "slide"
    }
   },
   "source": [
    "Why would you use a `list` instead of a `vector`?\n",
    "\n",
    "<div style='font-size: 100pt'> 🤔 </div>"
   ]
  },
  {
   "cell_type": "markdown",
   "id": "eac15b5a",
   "metadata": {
    "slideshow": {
     "slide_type": "slide"
    }
   },
   "source": [
    "## Set"
   ]
  },
  {
   "cell_type": "code",
   "execution_count": 19,
   "id": "ac0d0c9e",
   "metadata": {},
   "outputs": [],
   "source": [
    "#include <set>\n",
    "using std::set;"
   ]
  },
  {
   "cell_type": "code",
   "execution_count": 20,
   "id": "446b4dab",
   "metadata": {
    "slideshow": {
     "slide_type": "slide"
    }
   },
   "outputs": [
    {
     "name": "stdout",
     "output_type": "stream",
     "text": [
      "1\n",
      "2\n",
      "3\n"
     ]
    }
   ],
   "source": [
    "set<int> numbers = {1, 2, 3, 1, 2, 3};\n",
    "for (int num : numbers) {\n",
    "    cout << num << endl;\n",
    "}"
   ]
  },
  {
   "cell_type": "markdown",
   "id": "78798fa6",
   "metadata": {
    "slideshow": {
     "slide_type": "slide"
    }
   },
   "source": [
    "- `set` does not store duplicates"
   ]
  },
  {
   "cell_type": "code",
   "execution_count": 21,
   "id": "6c297944",
   "metadata": {
    "slideshow": {
     "slide_type": "slide"
    }
   },
   "outputs": [
    {
     "name": "stdout",
     "output_type": "stream",
     "text": [
      "oct\n",
      "jan\n",
      "sep\n",
      "mar\n",
      "feb\n",
      "jan\n",
      "dec\n",
      "jul\n",
      "dec\n",
      "\n",
      "dec\n",
      "feb\n",
      "jan\n",
      "jul\n",
      "mar\n",
      "oct\n",
      "sep\n"
     ]
    }
   ],
   "source": [
    "string month;\n",
    "set<string> seen;\n",
    "while (std::getline(std::cin, month) && month != \"\") {\n",
    "    seen.insert(month);\n",
    "}\n",
    "for (auto item : seen) { cout << item << endl; }"
   ]
  },
  {
   "cell_type": "markdown",
   "id": "1084ad33",
   "metadata": {
    "slideshow": {
     "slide_type": "slide"
    }
   },
   "source": [
    "- use `set` to filter out duplicates\n",
    "- `set` iterates in sorted order"
   ]
  },
  {
   "cell_type": "code",
   "execution_count": 22,
   "id": "6d78b436",
   "metadata": {
    "slideshow": {
     "slide_type": "slide"
    }
   },
   "outputs": [
    {
     "name": "stdout",
     "output_type": "stream",
     "text": [
      "banana\n",
      "avocado\n",
      "orange\n",
      "tomato\n",
      "banana\n",
      "We already have that fruit.\n",
      "pear\n",
      "pear\n",
      "We already have that fruit.\n",
      "strawberry\n",
      "pear\n",
      "We already have that fruit.\n",
      "\n",
      "\n",
      "FRUITS\n",
      "avocado\n",
      "banana\n",
      "orange\n",
      "pear\n",
      "strawberry\n",
      "tomato\n"
     ]
    }
   ],
   "source": [
    "string fruit;\n",
    "set<string> fruits;\n",
    "while (std::getline(std::cin, fruit) && fruit != \"\") {\n",
    "    if (fruits.find(fruit) == fruits.end()) {  // i.e. check if it is in the set BEFORE trying to add it\n",
    "        fruits.insert(fruit);\n",
    "    } else {\n",
    "        cout << \"We already have that fruit.\" << endl;\n",
    "    }\n",
    "}\n",
    "\n",
    "cout << endl << \"FRUITS\" << endl;\n",
    "for (auto fruit : fruits) {\n",
    "    cout << fruit << endl;\n",
    "}"
   ]
  },
  {
   "cell_type": "code",
   "execution_count": null,
   "id": "aa66e574",
   "metadata": {
    "slideshow": {
     "slide_type": "slide"
    }
   },
   "outputs": [],
   "source": [
    "string fruit;\n",
    "set<string> fruits;\n",
    "while (std::getline(std::cin, fruit) && fruit != \"\") {\n",
    "    auto insert_return = fruits.insert(fruit);  // Returns a pair with the location of the item \n",
    "                                                // and whether it was inserted\n",
    "    if (!insert_return.second) {  // i.e. was the fruit already in the set?\n",
    "        cout << \"We already have that fruit.\" << endl;        \n",
    "    }\n",
    "}\n",
    "\n",
    "cout << endl << \"FRUITS\" << endl;\n",
    "for (auto fruit : fruits) {\n",
    "    cout << fruit << endl;\n",
    "}"
   ]
  },
  {
   "cell_type": "markdown",
   "id": "46cab547",
   "metadata": {
    "slideshow": {
     "slide_type": "slide"
    }
   },
   "source": [
    "- `.find()`, `.end()` syntax\n",
    "- `.insert()` return values\n",
    "- Note the order the fruits are printed"
   ]
  },
  {
   "cell_type": "code",
   "execution_count": 23,
   "id": "7c992ae6",
   "metadata": {
    "slideshow": {
     "slide_type": "slide"
    }
   },
   "outputs": [],
   "source": [
    "#include <unordered_set>\n",
    "using std::unordered_set;"
   ]
  },
  {
   "cell_type": "code",
   "execution_count": 24,
   "id": "5ac93e4a",
   "metadata": {
    "slideshow": {
     "slide_type": "slide"
    }
   },
   "outputs": [
    {
     "name": "stdout",
     "output_type": "stream",
     "text": [
      "pear\n",
      "?\n",
      "kiwi\n",
      "pear\n",
      "We already have that fruit.\n",
      "mango\n",
      "mango\n",
      "We already have that fruit.\n",
      "bananc\n",
      "bananc\n",
      "We already have that fruit.\n",
      "banana\n",
      "\n",
      "\n",
      "FRUITS\n",
      "banana\n",
      "bananc\n",
      "mango\n",
      "kiwi\n",
      "?\n",
      "pear\n"
     ]
    }
   ],
   "source": [
    "string fruit;\n",
    "unordered_set<string> fruits;\n",
    "while (std::getline(std::cin, fruit) && fruit != \"\") {\n",
    "    auto insert_return = fruits.insert(fruit);  // Returns a pair with the location of the item \n",
    "                                                // and whether it was inserted\n",
    "    if (!insert_return.second) {  // i.e. was the fruit already in the set?\n",
    "        cout << \"We already have that fruit.\" << endl;        \n",
    "    }\n",
    "}\n",
    "\n",
    "cout << endl << \"FRUITS\" << endl;\n",
    "for (auto fruit : fruits) {\n",
    "    cout << fruit << endl;\n",
    "}"
   ]
  },
  {
   "cell_type": "markdown",
   "id": "74e264cd",
   "metadata": {
    "slideshow": {
     "slide_type": "notes"
    }
   },
   "source": [
    "- everything was the same except for `unordered_set`\n",
    "- the items in the set don't have a defined order\n",
    "- so why have `unordered_set`?"
   ]
  },
  {
   "cell_type": "markdown",
   "id": "aac1de5f",
   "metadata": {
    "slideshow": {
     "slide_type": "slide"
    }
   },
   "source": [
    "### `set_timing.cpp`"
   ]
  },
  {
   "cell_type": "markdown",
   "id": "0a0f8e57",
   "metadata": {
    "slideshow": {
     "slide_type": "slide"
    }
   },
   "source": [
    "## Big O\n",
    "\n",
    "We use the term **big-O** to describe how the performance of an algorithm or data structure changes with respect to the number of elements (typically represented by **n**)."
   ]
  },
  {
   "cell_type": "markdown",
   "id": "8f36661a",
   "metadata": {
    "slideshow": {
     "slide_type": "fragment"
    }
   },
   "source": [
    "- When the time a algorithm takes to do something doesn't change, no matter the size, we say that algorithm is \"constant time\" or $O(1)$\n",
    "  - The `unordered_set` behavior is $O(1)$\n",
    "- When the time of the algorithm grows in direct proportion to the number of items, we say that algorithm is \"linear\" or $O(n)$\n",
    "  - If the input goes up by 10x, then the runtime should go up by about 10x. \n",
    "- When the time of the algorithm grows in proportion to the logarithm of the input, we say that algorithm is \"logarithmic\" or $O(\\log n)$\n",
    "  - We see that the `set` runtime grows by a fixed amount for each power of 10 increase in the input size\n",
    "  - So the `set` algorithm is $O(\\log n)$"
   ]
  },
  {
   "cell_type": "markdown",
   "id": "2ae89fb4",
   "metadata": {
    "slideshow": {
     "slide_type": "slide"
    }
   },
   "source": [
    "## 👷🏻 `user_registration.cpp`"
   ]
  },
  {
   "cell_type": "markdown",
   "id": "a2647b1c",
   "metadata": {},
   "source": [
    "Write a program that registers users with unique IDs.\n",
    "\n",
    "The user is first prompted to provide a unique ID.\n",
    "- If the ID is already in use, indicate this to the user and prompt them again.\n",
    "- If the ID is available, proceed\n",
    "\n",
    "The user is then prompted for their first and last name.\n",
    "\n",
    "The next user is then registered.\n",
    "\n",
    "When a user enters nothing (i.e. empty line) for the ID, registration stops and all the registered users are printed with the following format:\n",
    "\n",
    "`First Last (ID)`"
   ]
  },
  {
   "cell_type": "markdown",
   "id": "4c757743",
   "metadata": {
    "slideshow": {
     "slide_type": "slide"
    }
   },
   "source": [
    "## Key Ideas\n",
    "\n",
    "- `vector`\n",
    "- `set`, `unordered_set`\n",
    "- Filtering unique values"
   ]
  }
 ],
 "metadata": {
  "celltoolbar": "Slideshow",
  "kernelspec": {
   "display_name": "C++17 (docker)",
   "language": "C++17",
   "name": "xeus-cling"
  },
  "language_info": {
   "codemirror_mode": "text/x-c++src",
   "file_extension": ".cpp",
   "mimetype": "text/x-c++src",
   "name": "c++",
   "version": "17"
  },
  "toc": {
   "base_numbering": 1,
   "nav_menu": {},
   "number_sections": false,
   "sideBar": true,
   "skip_h1_title": true,
   "title_cell": "Table of Contents",
   "title_sidebar": "Contents",
   "toc_cell": false,
   "toc_position": {
    "height": "calc(100% - 180px)",
    "left": "10px",
    "top": "150px",
    "width": "308px"
   },
   "toc_section_display": true,
   "toc_window_display": true
  }
 },
 "nbformat": 4,
 "nbformat_minor": 5
}
