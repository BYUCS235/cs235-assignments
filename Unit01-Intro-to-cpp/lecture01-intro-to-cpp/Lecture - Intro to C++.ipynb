{
 "cells": [
  {
   "cell_type": "markdown",
   "id": "8828bb54",
   "metadata": {
    "slideshow": {
     "slide_type": "slide"
    }
   },
   "source": [
    "# Introduction to C++"
   ]
  },
  {
   "cell_type": "markdown",
   "id": "72816479",
   "metadata": {
    "slideshow": {
     "slide_type": "skip"
    }
   },
   "source": [
    "- Basic compiling and running\n",
    "- makefile, make\n",
    "- Types: int, string, char\n",
    "- Functions, variables\n",
    "- Control (if, while, for)\n",
    "- #include `<iostream>, <string>`\n",
    "  - #include local file\n",
    "- Strings\n",
    "- Basic cin, cout\n",
    "- argc, argv"
   ]
  },
  {
   "cell_type": "markdown",
   "id": "f59d4e75",
   "metadata": {
    "slideshow": {
     "slide_type": "slide"
    }
   },
   "source": [
    "## `hello_world.cpp`"
   ]
  },
  {
   "cell_type": "markdown",
   "id": "00720cda",
   "metadata": {
    "slideshow": {
     "slide_type": "fragment"
    }
   },
   "source": [
    "- syntax: `{}`, `std::`, `<<`\n",
    "- `#include`\n",
    "- `int main()`\n",
    "- **namespaces**\n",
    "- show how to compile and run: `g++ -std=c++17 -o hello hello_world.cpp`\n"
   ]
  },
  {
   "cell_type": "markdown",
   "id": "2af92de2",
   "metadata": {
    "slideshow": {
     "slide_type": "slide"
    }
   },
   "source": [
    "## `add_numbers.cpp`"
   ]
  },
  {
   "cell_type": "markdown",
   "id": "3c02e147",
   "metadata": {
    "slideshow": {
     "slide_type": "fragment"
    }
   },
   "source": [
    "- `using std::cout`, etc.\n",
    "- declaring variables\n",
    "  - where are the bytes for those `int`s? We need to tell the compiler to make space for them.\n",
    "- `cin`\n",
    "  - `>>` putting data into the `int` spaces.\n",
    "- Demo\n",
    "```\n",
    "% ./add\n",
    "Enter a single number: 7\n",
    "Enter another number: 8\n",
    "The sum of 7 + 8 is 15\n",
    "```\n",
    "\n",
    "```\n",
    "% ./add\n",
    "Enter a single number: 7 9\n",
    "Enter another number: The sum of 7 + 9 is 16\n",
    "```\n",
    "- STDIN buffer, `cin` takes one token at a time, **not coupled to STDOUT**\n",
    "- show `makefile` and `make`"
   ]
  },
  {
   "cell_type": "markdown",
   "id": "c94373b8",
   "metadata": {
    "slideshow": {
     "slide_type": "slide"
    }
   },
   "source": [
    "## `wordsmithing.cpp`"
   ]
  },
  {
   "cell_type": "markdown",
   "id": "421081cb",
   "metadata": {
    "slideshow": {
     "slide_type": "fragment"
    }
   },
   "source": [
    "- stdout, stderr\n",
    "- `while`, `if`, `else if`\n",
    "  - parentheses are required\n",
    "- `<string>`\n",
    "- reading strings\n",
    "  - use the provided `input` function for programs with human interaction\n",
    "  - use `cin` directly for parsing formatted data from stream\n",
    "- `size_t`\n",
    "- `replace` is different than in python\n",
    "  - this is true for a lot of functions in c++: know that a lot of things take more work in c++\n",
    "  "
   ]
  },
  {
   "cell_type": "markdown",
   "id": "320121a2",
   "metadata": {
    "slideshow": {
     "slide_type": "slide"
    }
   },
   "source": [
    "## `product.cpp`"
   ]
  },
  {
   "cell_type": "markdown",
   "id": "96d9119d",
   "metadata": {
    "slideshow": {
     "slide_type": "fragment"
    }
   },
   "source": [
    "- `#include \"input.h\"\n",
    "  - `#pragma once`\n",
    "- comments\n",
    "  - `//` and `/* */`\n",
    "- arguments: argc, argv\n",
    "- `atoi`\n",
    "\n",
    "**Run**\n",
    "- `./prod 4 5`\n",
    "- `./prod 4 foo`\n",
    "  - `atoi` does not throw an exception!"
   ]
  },
  {
   "cell_type": "markdown",
   "id": "564dd09f",
   "metadata": {
    "slideshow": {
     "slide_type": "slide"
    }
   },
   "source": [
    "## `bigs.cpp`"
   ]
  },
  {
   "cell_type": "markdown",
   "id": "cba15fd1",
   "metadata": {
    "slideshow": {
     "slide_type": "fragment"
    }
   },
   "source": [
    "- `char`\n",
    "  - single quotes vs double quotes\n",
    "  - comparing characters\n",
    "- iteration through strings using iterator syntax\n",
    "- logical `&&`"
   ]
  },
  {
   "cell_type": "code",
   "execution_count": null,
   "id": "0687198d",
   "metadata": {
    "slideshow": {
     "slide_type": "slide"
    }
   },
   "outputs": [],
   "source": [
    "true && false"
   ]
  },
  {
   "cell_type": "code",
   "execution_count": null,
   "id": "7a2ca996",
   "metadata": {},
   "outputs": [],
   "source": [
    "false || true"
   ]
  },
  {
   "cell_type": "markdown",
   "id": "126eb397",
   "metadata": {
    "slideshow": {
     "slide_type": "slide"
    }
   },
   "source": [
    "## 👷🏻‍♀️ `say_that_again.cpp`"
   ]
  },
  {
   "cell_type": "markdown",
   "id": "b6440d43",
   "metadata": {},
   "source": [
    "Write a program that asks the user for a phrase, then a quantity, and then prints that phrase that many times.\n",
    "\n",
    "```\n",
    "Phrase: yo\n",
    "How many: 3\n",
    "yo yo yo \n",
    "Phrase: hello world\n",
    "How many: 2\n",
    "hello world hello world \n",
    "Phrase:\n",
    "```"
   ]
  },
  {
   "cell_type": "markdown",
   "id": "5c21a63b",
   "metadata": {
    "slideshow": {
     "slide_type": "fragment"
    }
   },
   "source": [
    "- `stoi` from `<string>` for parsing `int` from string\n",
    "- standard `for` loop syntax"
   ]
  }
 ],
 "metadata": {
  "celltoolbar": "Slideshow",
  "kernelspec": {
   "display_name": "C++17 (docker)",
   "language": "C++17",
   "name": "xeus-cling"
  },
  "language_info": {
   "codemirror_mode": "text/x-c++src",
   "file_extension": ".cpp",
   "mimetype": "text/x-c++src",
   "name": "c++",
   "version": "17"
  },
  "toc": {
   "base_numbering": 1,
   "nav_menu": {},
   "number_sections": false,
   "sideBar": true,
   "skip_h1_title": true,
   "title_cell": "Table of Contents",
   "title_sidebar": "Contents",
   "toc_cell": false,
   "toc_position": {
    "height": "calc(100% - 180px)",
    "left": "10px",
    "top": "150px",
    "width": "384px"
   },
   "toc_section_display": true,
   "toc_window_display": true
  }
 },
 "nbformat": 4,
 "nbformat_minor": 5
}
