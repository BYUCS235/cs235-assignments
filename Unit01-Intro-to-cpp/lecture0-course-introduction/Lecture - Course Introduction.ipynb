{
 "cells": [
  {
   "cell_type": "markdown",
   "id": "ae3f34a3",
   "metadata": {
    "slideshow": {
     "slide_type": "slide"
    }
   },
   "source": [
    "# Welcome to CS 235!"
   ]
  },
  {
   "cell_type": "markdown",
   "id": "fb9b0b35",
   "metadata": {
    "slideshow": {
     "slide_type": "slide"
    }
   },
   "source": [
    "## What I hope you do in this course\n",
    "\n",
    "- Learn how the magic works\n",
    "- Appreciate the work of those that have come before you\n",
    "- Establish a foundation to build upon throughout your career\n",
    "- Expand your mind and grow in wisdom\n",
    "- Develop your faith\n",
    "\n",
    "### Practical skills\n",
    "\n",
    "- C++\n",
    "- State management and manipulation\n",
    "- Basic complexity analysis\n",
    "- Familiarity with standard data structures and algorithms"
   ]
  },
  {
   "cell_type": "markdown",
   "id": "7f804a4a",
   "metadata": {
    "slideshow": {
     "slide_type": "slide"
    }
   },
   "source": [
    "## Syllabus\n",
    "\n",
    "Read it. Understand it. Follow its guidelines."
   ]
  },
  {
   "cell_type": "markdown",
   "id": "5c42611a",
   "metadata": {
    "slideshow": {
     "slide_type": "slide"
    }
   },
   "source": [
    "## What you should do to succeed in this class\n",
    "\n",
    "- Come to **lecture**\n",
    "- Do the **reading quizzes** in Canvas *on time*\n",
    "- Do the **homework assignments** *on time*\n",
    "  - Some are Canvas quizzes\n",
    "  - Most are turned in by Gradescope\n",
    "- **Do not purposefully fall behind**\n",
    "- Stay curious, work hard, have faith, and get help when you need it"
   ]
  },
  {
   "cell_type": "markdown",
   "id": "16c86921",
   "metadata": {
    "slideshow": {
     "slide_type": "slide"
    }
   },
   "source": [
    "## Office hours\n",
    "\n",
    "Schedule using the link in my profile on canvas: \n",
    "https://byu.instructure.com/courses/22635/pages/instructor-and-ta-information"
   ]
  },
  {
   "cell_type": "markdown",
   "id": "3180cd4f",
   "metadata": {
    "slideshow": {
     "slide_type": "slide"
    }
   },
   "source": [
    "## TA Office\n",
    "\n",
    "**1160 TMCB**"
   ]
  },
  {
   "cell_type": "markdown",
   "id": "ab640487",
   "metadata": {
    "slideshow": {
     "slide_type": "slide"
    }
   },
   "source": [
    "### Honesty\n",
    "- Don't cheat\n",
    "  - don't copy code from others (including GPT)\n",
    "  - don't share your code with others\n",
    "- Your grade should be a reflection of what **you can do and what you know**\n",
    "- Follow your conscience: you know what is expected. Do it.\n",
    "- If you do something you don't feel good about, come talk to me."
   ]
  },
  {
   "cell_type": "markdown",
   "id": "73bbcc15",
   "metadata": {
    "slideshow": {
     "slide_type": "slide"
    }
   },
   "source": [
    "## Canvas"
   ]
  },
  {
   "cell_type": "markdown",
   "id": "76b26f9e",
   "metadata": {
    "slideshow": {
     "slide_type": "slide"
    }
   },
   "source": [
    "### Is this course online?\n",
    "\n",
    "The online and in-person sections share the same Canvas course.\n",
    "\n",
    "You have access to everything the online students do. You are welcome to read/watch it all."
   ]
  },
  {
   "cell_type": "markdown",
   "id": "480d0beb",
   "metadata": {
    "slideshow": {
     "slide_type": "slide"
    }
   },
   "source": [
    "## Gradescope\n",
    "\n",
    "Use the link to Gradescope found in the navigation bar on the left in Canvas."
   ]
  },
  {
   "cell_type": "markdown",
   "id": "355b6eba",
   "metadata": {
    "slideshow": {
     "slide_type": "slide"
    }
   },
   "source": [
    "## Discord\n",
    "\n",
    "Join via the link found in Canvas."
   ]
  },
  {
   "cell_type": "markdown",
   "id": "54b8fffc",
   "metadata": {
    "slideshow": {
     "slide_type": "slide"
    }
   },
   "source": [
    "## GitHub\n",
    "\n",
    "- Lecture materials and HW instructions are found in GitHub\n",
    "- The link is in Canvas\n",
    "- You can download things manually, or you can follow the instructions to clone the repo and track changes"
   ]
  },
  {
   "cell_type": "markdown",
   "id": "7dd7276d",
   "metadata": {
    "slideshow": {
     "slide_type": "slide"
    }
   },
   "source": [
    "## What to do when it's hard\n",
    "\n",
    "- Be prayerful. Open your mind and heart. Listen to the promptings of the Spirit. Try the ideas that come to mind.\n",
    "- Have faith—keep a good attitude.\n",
    "- Get help—reach out to the TAs. Talk to a classmate (when appropriate). Talk to me.\n",
    "- Keep at it! Don't give up.\n",
    "\n",
    "> Keep trying. Be believing. Don't be discouraged. Things will work out.  \n",
    "> *- Gordon B. Hinkley*"
   ]
  },
  {
   "cell_type": "markdown",
   "id": "58a71693",
   "metadata": {
    "slideshow": {
     "slide_type": "slide"
    }
   },
   "source": [
    "# What to do when it's easy\n",
    "\n",
    "Some of you will find that this material comes very naturally to you. If so, some ideas to consider:\n",
    "\n",
    "- Find someone that needs help and offer to help\n",
    "- Do extra practice, come up with your own practice problems\n",
    "- Push yourself to learn material from outside of class"
   ]
  },
  {
   "cell_type": "markdown",
   "id": "1a40942c",
   "metadata": {
    "slideshow": {
     "slide_type": "slide"
    }
   },
   "source": [
    "# Questions?"
   ]
  }
 ],
 "metadata": {
  "celltoolbar": "Slideshow",
  "kernelspec": {
   "display_name": "Python 3 (ipykernel)",
   "language": "python",
   "name": "python3"
  },
  "language_info": {
   "codemirror_mode": {
    "name": "ipython",
    "version": 3
   },
   "file_extension": ".py",
   "mimetype": "text/x-python",
   "name": "python",
   "nbconvert_exporter": "python",
   "pygments_lexer": "ipython3",
   "version": "3.11.5"
  }
 },
 "nbformat": 4,
 "nbformat_minor": 5
}
