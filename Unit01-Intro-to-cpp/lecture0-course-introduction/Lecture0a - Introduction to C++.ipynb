{
 "cells": [
  {
   "cell_type": "markdown",
   "id": "9dfa88b8",
   "metadata": {
    "slideshow": {
     "slide_type": "slide"
    }
   },
   "source": [
    "# Introduction to C++"
   ]
  },
  {
   "cell_type": "markdown",
   "id": "f9860407",
   "metadata": {
    "slideshow": {
     "slide_type": "skip"
    }
   },
   "source": [
    "- basic syntax\n",
    "- variables, types (int)\n",
    "- functions\n",
    "- `cout`\n",
    "- arithmetic\n",
    "- argc, argv\n",
    "- `#include`\n",
    "\n",
    "- compile: `g++`\n",
    "- run"
   ]
  },
  {
   "cell_type": "markdown",
   "id": "50c99a60",
   "metadata": {
    "slideshow": {
     "slide_type": "slide"
    }
   },
   "source": [
    "## `hello.cpp`"
   ]
  },
  {
   "cell_type": "markdown",
   "id": "a37bf566",
   "metadata": {
    "slideshow": {
     "slide_type": "fragment"
    }
   },
   "source": [
    "```bash\n",
    "g++ -std=c++17 -Wall -o hello hello.cpp\n",
    "```\n",
    "\n",
    "```bash\n",
    "./hello\n",
    "```"
   ]
  },
  {
   "cell_type": "markdown",
   "id": "e2856c05",
   "metadata": {
    "slideshow": {
     "slide_type": "notes"
    }
   },
   "source": [
    "- Syntax\n",
    "  - `{}`, `;`, `#include <iostream>`, `using`, `int main() {}`, `<<`\n",
    "  - Whitespace does not matter to the compiler, but it matters a lot to the humans!\n",
    "- The entry point is always `main`, which always returns an `int`"
   ]
  },
  {
   "cell_type": "markdown",
   "id": "4db36b63",
   "metadata": {
    "slideshow": {
     "slide_type": "slide"
    }
   },
   "source": [
    "## `plus.cpp`"
   ]
  },
  {
   "cell_type": "markdown",
   "id": "438c2ce6",
   "metadata": {
    "slideshow": {
     "slide_type": "fragment"
    }
   },
   "source": [
    "```bash\n",
    "g++ -std=c++17 -Wall -o plus plus.cpp\n",
    "```\n",
    "\n",
    "```bash\n",
    "./plus 3 4\n",
    "\n",
    "./plus 8\n",
    "```"
   ]
  },
  {
   "cell_type": "markdown",
   "id": "58e6d05a",
   "metadata": {
    "slideshow": {
     "slide_type": "notes"
    }
   },
   "source": [
    "- Syntax\n",
    "  - `using`, `int main(int argc, char* argv[]) {}`, `atoi`, `argv[1]`, `return 1`, `if () {}`"
   ]
  },
  {
   "cell_type": "markdown",
   "id": "494daf65",
   "metadata": {
    "slideshow": {
     "slide_type": "slide"
    }
   },
   "source": [
    "## `minus.cpp`\n",
    "\n",
    "### `math_stuff.h`"
   ]
  },
  {
   "cell_type": "markdown",
   "id": "1321afab",
   "metadata": {
    "slideshow": {
     "slide_type": "notes"
    }
   },
   "source": [
    "- Syntax\n",
    "  - `#include \"mathy_stuff.h\"`\n",
    "  - `namespace`\n",
    "  - `return`"
   ]
  }
 ],
 "metadata": {
  "celltoolbar": "Slideshow",
  "kernelspec": {
   "display_name": "C++17 (docker)",
   "language": "C++17",
   "name": "xeus-cling"
  },
  "language_info": {
   "codemirror_mode": "text/x-c++src",
   "file_extension": ".cpp",
   "mimetype": "text/x-c++src",
   "name": "c++",
   "version": "17"
  }
 },
 "nbformat": 4,
 "nbformat_minor": 5
}
