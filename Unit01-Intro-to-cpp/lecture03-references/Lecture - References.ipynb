{
 "cells": [
  {
   "cell_type": "markdown",
   "id": "cc4143a7",
   "metadata": {
    "slideshow": {
     "slide_type": "slide"
    }
   },
   "source": [
    "# References"
   ]
  },
  {
   "cell_type": "markdown",
   "id": "5b9ea190",
   "metadata": {
    "slideshow": {
     "slide_type": "skip"
    }
   },
   "source": [
    "- Memory model: stack frames\n",
    "- References - pass by reference\n",
    "  - Avoid heavy copy - `heavy_copy.cpp`\n",
    "  - Enable passing as super type - `super_type.cpp`\n",
    "    - Take the opportunity to discuss IO streams and the shell a little more: STDIN, STDOUT, pipe, and redirect\n",
    "  - Allow modification (this one will take extra time to talk through) - `swap.cpp`\n",
    "- Const - `reckless.cpp`\n",
    "- Class: example for each point\n",
    "  - Heavy copy\n",
    "  - Super type\n",
    "  - Modify\n",
    "  - Const\n"
   ]
  },
  {
   "cell_type": "markdown",
   "id": "4d1049e6",
   "metadata": {
    "slideshow": {
     "slide_type": "slide"
    }
   },
   "source": [
    "## The Stack"
   ]
  },
  {
   "cell_type": "markdown",
   "id": "96f7c346",
   "metadata": {
    "cell_style": "center",
    "slideshow": {
     "slide_type": "slide"
    }
   },
   "source": [
    "```c++\n",
    "int do_more_stuff(int x, int y) { \n",
    "    int z = x * y; return x + y + z;\n",
    "}\n",
    "\n",
    "int do_stuff(int a, int b) { \n",
    "    int c = a + b; int d = a - b; \n",
    "    int e = do_more_stuff(c, d); \n",
    "    return a + b + e; \n",
    "}\n",
    "```\n",
    "```c++\n",
    "int do_it(int first, int second) { \n",
    "    return do_stuff(first, second) \n",
    "        + do_more_stuff(first, second); \n",
    "}\n",
    "\n",
    "int main() { cout << do_it(4, 5) << endl; }\n",
    "```"
   ]
  },
  {
   "cell_type": "markdown",
   "id": "fa76ccbf",
   "metadata": {
    "cell_style": "center",
    "slideshow": {
     "slide_type": "slide"
    }
   },
   "source": [
    "| step | call stack |\n",
    "| --- |:--- |\n",
    "| 0 | `main` |\n",
    "| 1 | `main` , `do_it` |\n",
    "| 2 | `main` , `do_it`, `do_stuff` |\n",
    "| 3 | `main` , `do_it`, `do_stuff`, `do_more_stuff` |\n",
    "| 4 | `main` , `do_it`, `do_stuff` |\n",
    "| 5 | `main` , `do_it` |\n",
    "| 6 | `main` , `do_it`, `do_more_stuff` |\n",
    "| 7 | `main` , `do_it` |\n",
    "| 8 | `main` |\n",
    "| 9 | program exits |\n"
   ]
  },
  {
   "cell_type": "markdown",
   "id": "3315962c",
   "metadata": {
    "slideshow": {
     "slide_type": "slide"
    }
   },
   "source": [
    "| function  | data |  \n",
    "|---|:---|\n",
    "| `main` | `do_it return` |\n",
    "| `do_it` | `do_stuff return`, `do_more_stuff return` |\n",
    "| `do_stuff` | `int a`, `int b`, `int c`, `int d`, `int e`, `do_more_stuff return` |\n",
    "| `do_more_stuff` | `int x`, `int y`, `int z` |\n",
    "\n",
    "Note: depending on the compiler, some optimizations may be performed and your actual usage may be less\n"
   ]
  },
  {
   "cell_type": "markdown",
   "id": "73ef5a11",
   "metadata": {
    "slideshow": {
     "slide_type": "slide"
    }
   },
   "source": [
    "## 👷🏻‍♂️ Write out the stack frames at each step of this program\n",
    "\n",
    "Also, indicate which variables are copied at each step.\n",
    "\n",
    "```c++\n",
    "void print_foo(int a) { cout << \"foo\" << a << endl; }\n",
    "\n",
    "void print_bar(int b) { cout << \"bar\" << b << endl; }\n",
    "\n",
    "void print_foobar(int x, int y) { print_foo(x); print_bar(y); }\n",
    "\n",
    "void print_quux(int one, int two) { cout << \"quux\" << endl; print_foobar(one, two); }\n",
    "\n",
    "void main() { print_foobar(8, 9); print_quux(3, 4); }\n",
    "```"
   ]
  },
  {
   "cell_type": "markdown",
   "id": "d74c4506",
   "metadata": {
    "cell_style": "center",
    "slideshow": {
     "slide_type": "slide"
    }
   },
   "source": [
    "| step | call stack |\n",
    "| --- |:--- |\n",
    "|  0 | `main` |\n",
    "|  1 | `main` , `print_foobar(x=8, y=9)` |\n",
    "|  2 | `main` , `print_foobar`, `print_foo(a=x)` |\n",
    "|  3 | `main` , `print_foobar` |\n",
    "|  4 | `main` , `print_foobar`, `print_bar(b=y)` |\n",
    "|  5 | `main` , `print_foobar` |\n",
    "|  6 | `main` |\n",
    "|  7 | `main`, `print_quux(one=3, two=4)` |\n",
    "|  8 | `main`, `print_quux`, `print_foobar(x=one, y=two)` |\n",
    "|  9 | `main`, `print_quux`, `print_foobar`, `print_foo(a=x)` |\n",
    "| 10 | `main`, `print_quux`, `print_foobar` |\n",
    "| 11 | `main`, `print_quux`, `print_foobar`, `print_bar(b=y)` |\n",
    "| 12 | `main`, `print_quux`, `print_foobar` |\n",
    "| 13 | `main`, `print_quux` |\n",
    "| 14 | `main` |\n",
    "| 15 | program exits |\n"
   ]
  },
  {
   "cell_type": "markdown",
   "id": "4b5b8cab",
   "metadata": {
    "slideshow": {
     "slide_type": "slide"
    }
   },
   "source": [
    "## `heavy_copy.cpp`"
   ]
  },
  {
   "cell_type": "markdown",
   "id": "0bf8a8b8",
   "metadata": {},
   "source": [
    "`make heavy && ./heavy really_big_text.txt 100`"
   ]
  },
  {
   "cell_type": "markdown",
   "id": "6e9904e2",
   "metadata": {
    "slideshow": {
     "slide_type": "slide"
    }
   },
   "source": [
    "### What is happening in `heavy_copy.cpp`?\n",
    "\n",
    "When you **pass by reference**, instead of copying the data at each step, the function *references* the data in the other stack. No data is copied."
   ]
  },
  {
   "cell_type": "markdown",
   "id": "cd0786a9",
   "metadata": {
    "slideshow": {
     "slide_type": "slide"
    }
   },
   "source": [
    "## `super_type.cpp`"
   ]
  },
  {
   "cell_type": "markdown",
   "id": "5382db21",
   "metadata": {
    "slideshow": {
     "slide_type": "notes"
    }
   },
   "source": [
    "- note how `istream` can except both `cin` and `ifstream`\n",
    "- talk about **abstract base classes**\n",
    "  - you can't instantiate them\n",
    "  - but you can treat different children classes as the same parent type\n",
    "- talk about interfaces\n",
    "  - the `bullets` method doesn't need to know how or where your stream is coming from\n",
    "  - it just needs to know that the thing behaves like an input stream"
   ]
  },
  {
   "cell_type": "markdown",
   "id": "f1adfef8",
   "metadata": {
    "slideshow": {
     "slide_type": "slide"
    }
   },
   "source": [
    "`make super && ./super text.txt`"
   ]
  },
  {
   "cell_type": "markdown",
   "id": "c4a8c79d",
   "metadata": {
    "slideshow": {
     "slide_type": "-"
    }
   },
   "source": [
    "`make super && ./super`"
   ]
  },
  {
   "cell_type": "markdown",
   "id": "193a3a45",
   "metadata": {
    "slideshow": {
     "slide_type": "fragment"
    }
   },
   "source": [
    "`cat text.txt | ./super > bulletted_text.txt`"
   ]
  },
  {
   "cell_type": "markdown",
   "id": "06e1e35a",
   "metadata": {
    "slideshow": {
     "slide_type": "fragment"
    }
   },
   "source": [
    "`cat text.txt | ./super | ./super | ./super`"
   ]
  },
  {
   "cell_type": "markdown",
   "id": "5ee35f00",
   "metadata": {
    "slideshow": {
     "slide_type": "slide"
    }
   },
   "source": [
    "- See how it echos with bullets line-by-line.\n",
    "- Use <kbd>ctrl</kbd> + <kbd>D</kbd> to close the input stream.\n",
    "- Demonstrate how to use the shell pipe `|` to pass data to `./super` via STDIN\n",
    "  - show `echo`, `cat`, and `head`\n",
    "  - `cat text.txt | ./super`\n",
    "- Demonstrate how to use the STDOUT redirect `>` to pass STDOUT to a file\n",
    "  - `cat text.txt | ./super > bulletted_text.txt`"
   ]
  },
  {
   "cell_type": "markdown",
   "id": "fc7a35fa",
   "metadata": {
    "slideshow": {
     "slide_type": "slide"
    }
   },
   "source": [
    "## `swap.cpp`"
   ]
  },
  {
   "cell_type": "markdown",
   "id": "4fc178ee",
   "metadata": {
    "slideshow": {
     "slide_type": "notes"
    }
   },
   "source": [
    "- `where.h` contains a macro `WHERE` that prints the memory address of a variable\n",
    "- explain: no new memory is allocated for `&first` and `&second`\n",
    "  - rather, the variable names `first` and `second` are used to reference the same memory address as `a` and `b`\n",
    "  - see the addresses `WHERE` prints\n",
    "- remove the `&` from the method signature\n",
    "  - see how the addresses change - we are now swapping different memory and the original memory stays unchanged\n",
    "  \n",
    "`make swap && ./swap 7 8`"
   ]
  },
  {
   "cell_type": "markdown",
   "id": "367f28f6",
   "metadata": {
    "slideshow": {
     "slide_type": "slide"
    }
   },
   "source": [
    "## 🤔 `get_file_contents`\n",
    "\n",
    "If we modified the `get_file_contents` method from `heavy_copy.cpp` to have the signature \n",
    "```c++\n",
    "void get_file_contents(string filename, string &contents);\n",
    "```\n",
    "\n",
    "how would if affect the number of times the file contents are copied?"
   ]
  },
  {
   "cell_type": "markdown",
   "id": "1f3f2cce",
   "metadata": {
    "slideshow": {
     "slide_type": "slide"
    }
   },
   "source": [
    "## `reckless.cpp`"
   ]
  },
  {
   "cell_type": "markdown",
   "id": "418ce3b2",
   "metadata": {
    "slideshow": {
     "slide_type": "notes"
    }
   },
   "source": [
    "- the `const_demo_framing.cpp`, `const_demo_telling.cpp`, and `const_demo_punchline.cpp` sequence outline the sequence of changes to make this point\n",
    "- `make reckless && ./reckless 4 'this is some text'`\n",
    "- now irresponsibly add something like the following to the method `reckless_with_your_data`\n",
    "  ```c++\n",
    "  number = 2;\n",
    "  phrase = \"You keep saying those words. I do not think they are what you think they are.\";\n",
    "  ```\n",
    "- `make reckless && ./reckless 4 'this is some text'`\n",
    "  - `reckless_with_your_data` changed the values!\n",
    "- add the `const` qualifier in the method signature -> notice the compiler error\n",
    "- moral: `const` keeps functions from changes the values of our references"
   ]
  },
  {
   "cell_type": "markdown",
   "id": "b51e534a",
   "metadata": {
    "slideshow": {
     "slide_type": "notes"
    }
   },
   "source": [
    "#### `const_demo_framing.cpp`\n",
    "\n",
    "#### `const_demo_telling.cpp`\n",
    "\n",
    "#### `const_demo_punchline.cpp`"
   ]
  },
  {
   "cell_type": "markdown",
   "id": "52b18925",
   "metadata": {
    "slideshow": {
     "slide_type": "slide"
    }
   },
   "source": [
    "## Key Ideas\n",
    "- Passing data *by reference* using the `&` modifier allows multiple functions to operate on the same memory location\n",
    "  - Avoids unnecessary data copies\n",
    "  - Allows subtype objects to be passed as supertypes\n",
    "  - Delegates the modification of data to another function\n",
    "  - Use `const` to make a reference readonly when the data should **not** change"
   ]
  }
 ],
 "metadata": {
  "celltoolbar": "Slideshow",
  "kernelspec": {
   "display_name": "C++17 (docker)",
   "language": "C++17",
   "name": "xeus-cling"
  },
  "language_info": {
   "codemirror_mode": "text/x-c++src",
   "file_extension": ".cpp",
   "mimetype": "text/x-c++src",
   "name": "c++",
   "version": "17"
  },
  "toc": {
   "base_numbering": 1,
   "nav_menu": {},
   "number_sections": false,
   "sideBar": true,
   "skip_h1_title": true,
   "title_cell": "Table of Contents",
   "title_sidebar": "Contents",
   "toc_cell": false,
   "toc_position": {
    "height": "calc(100% - 180px)",
    "left": "10px",
    "top": "150px",
    "width": "384px"
   },
   "toc_section_display": true,
   "toc_window_display": true
  }
 },
 "nbformat": 4,
 "nbformat_minor": 5
}
