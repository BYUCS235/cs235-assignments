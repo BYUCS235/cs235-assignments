{
 "cells": [
  {
   "cell_type": "markdown",
   "id": "6c42b343",
   "metadata": {
    "slideshow": {
     "slide_type": "slide"
    }
   },
   "source": [
    "# Programs That Read"
   ]
  },
  {
   "cell_type": "markdown",
   "id": "04f918df",
   "metadata": {
    "slideshow": {
     "slide_type": "notes"
    }
   },
   "source": [
    "- Key ideas\n",
    "  - Reading line-by-line\n",
    "  - Reading token-by-token (space delimited)\n",
    "- Input streams\n",
    "  - `cin`, `ifstream`, `istringstream`\n",
    "  - `>>` vs `getline`\n",
    "- Class: count words on each line\n",
    "- HW: Reformat input file\n",
    "  - Input line: first last points (int) factor (double)\n",
    "  - Output line: last, first: result (double)\n",
    "- HW: print the line with the most words\n"
   ]
  },
  {
   "cell_type": "markdown",
   "id": "2cf527cb",
   "metadata": {
    "slideshow": {
     "slide_type": "notes"
    }
   },
   "source": [
    "- read stdin line-by-line, `input.h`\n",
    "- read file line-by-line\n",
    "- read an istream token-by-token"
   ]
  },
  {
   "cell_type": "markdown",
   "id": "b1cbe4f9",
   "metadata": {
    "slideshow": {
     "slide_type": "slide"
    }
   },
   "source": [
    "## `guessing_game.cpp`"
   ]
  },
  {
   "cell_type": "markdown",
   "id": "673cbd30",
   "metadata": {
    "slideshow": {
     "slide_type": "notes"
    }
   },
   "source": [
    "- `getline`\n",
    "- `stoi`\n",
    "- `else if`"
   ]
  },
  {
   "cell_type": "markdown",
   "id": "bd89ffa9",
   "metadata": {
    "slideshow": {
     "slide_type": "slide"
    }
   },
   "source": [
    "`cin` is an *input stream*.\n",
    "\n",
    "A *stream* is a sequence of bytes. Those bytes could come from anywhere, but common sources include:\n",
    "\n",
    "- a file   (`ifstream`)\n",
    "- **STDIN** (standard in, `cin`)\n",
    "- a string (`istringstream`)\n",
    "\n",
    "If the stream runs out of bytes, then your read on that stream will quietly return `false` (but no exception is thrown!)"
   ]
  },
  {
   "cell_type": "markdown",
   "id": "ac1b0a8a",
   "metadata": {
    "slideshow": {
     "slide_type": "slide"
    }
   },
   "source": [
    "## `add_bullets.cpp`\n",
    "\n",
    "### `words.txt`"
   ]
  },
  {
   "cell_type": "markdown",
   "id": "b33727d9",
   "metadata": {
    "slideshow": {
     "slide_type": "notes"
    }
   },
   "source": [
    "- `<fstream>`, `ifstream`, `ofstream`\n",
    "- IO error checking\n",
    "  - exit with non-zero code\n",
    "- how to read input line-by-line"
   ]
  },
  {
   "cell_type": "markdown",
   "id": "82172562",
   "metadata": {
    "slideshow": {
     "slide_type": "slide"
    }
   },
   "source": [
    "## `add_numbers.cpp`\n",
    "\n",
    "### `numbers.txt`"
   ]
  },
  {
   "cell_type": "markdown",
   "id": "97893e9d",
   "metadata": {
    "slideshow": {
     "slide_type": "notes"
    }
   },
   "source": [
    "- `>>`\n",
    "  - observe how it isn't affected by newlines\n",
    "  - it parses the data type"
   ]
  },
  {
   "cell_type": "markdown",
   "id": "07f6b4c8",
   "metadata": {
    "slideshow": {
     "slide_type": "slide"
    }
   },
   "source": [
    "## `sum_lines.cpp`"
   ]
  },
  {
   "cell_type": "markdown",
   "id": "e7dddab5",
   "metadata": {
    "slideshow": {
     "slide_type": "notes"
    }
   },
   "source": [
    "- `<sstream>`, `istringstream`\n",
    "- how to tokenize a file line-by-line\n",
    "- what happens when you don't initialize `total`?\n",
    "  - `-Wall`\n",
    "- what happens when you don't pass enough arguments?\n",
    "- `debug.h` and macros\n"
   ]
  },
  {
   "cell_type": "markdown",
   "id": "1fb7119b",
   "metadata": {
    "cell_style": "center",
    "slideshow": {
     "slide_type": "slide"
    }
   },
   "source": [
    "## 👷🏽 `expand.cpp`\n",
    "\n",
    "### `expandable.txt`"
   ]
  },
  {
   "cell_type": "markdown",
   "id": "3ba30afd",
   "metadata": {
    "cell_style": "center"
   },
   "source": [
    "Write a program that takes an input file.\n",
    "\n",
    "The input file should follow the format of `expandable.txt`. On each line there is a word followed by a count.\n",
    "\n",
    "For each line in the input file, print out the given word the corresponding number of times.\n",
    "\n",
    "**Input**\n",
    "```\n",
    "word 3\n",
    "yep 2\n",
    "woot 4\n",
    "```\n",
    "\n",
    "**Output**\n",
    "```\n",
    "word word word\n",
    "yep yep\n",
    "woot woot woot woot\n",
    "```"
   ]
  }
 ],
 "metadata": {
  "celltoolbar": "Slideshow",
  "kernelspec": {
   "display_name": "C++17 (docker)",
   "language": "C++17",
   "name": "xeus-cling"
  },
  "language_info": {
   "codemirror_mode": "text/x-c++src",
   "file_extension": ".cpp",
   "mimetype": "text/x-c++src",
   "name": "c++",
   "version": "17"
  },
  "toc": {
   "base_numbering": 1,
   "nav_menu": {},
   "number_sections": false,
   "sideBar": true,
   "skip_h1_title": true,
   "title_cell": "Table of Contents",
   "title_sidebar": "Contents",
   "toc_cell": false,
   "toc_position": {
    "height": "calc(100% - 180px)",
    "left": "10px",
    "top": "150px",
    "width": "384px"
   },
   "toc_section_display": true,
   "toc_window_display": true
  }
 },
 "nbformat": 4,
 "nbformat_minor": 5
}
