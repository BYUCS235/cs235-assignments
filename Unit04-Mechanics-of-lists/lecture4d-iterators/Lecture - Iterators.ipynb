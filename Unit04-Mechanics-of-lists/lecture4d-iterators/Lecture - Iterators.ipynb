{
 "cells": [
  {
   "cell_type": "markdown",
   "id": "0acb2762",
   "metadata": {
    "slideshow": {
     "slide_type": "slide"
    }
   },
   "source": [
    "# Iterators"
   ]
  },
  {
   "cell_type": "markdown",
   "id": "230be9f3",
   "metadata": {
    "slideshow": {
     "slide_type": "notes"
    }
   },
   "source": [
    "- deques\n",
    "- sequential containers big-O\n",
    "- iterators"
   ]
  },
  {
   "cell_type": "code",
   "execution_count": null,
   "id": "3c4d2fb1",
   "metadata": {},
   "outputs": [],
   "source": [
    "#include <iostream>\n",
    "using std::cout, std::endl;"
   ]
  },
  {
   "cell_type": "markdown",
   "id": "c5e250eb",
   "metadata": {
    "slideshow": {
     "slide_type": "slide"
    }
   },
   "source": [
    "## Deques\n",
    "\n",
    "*Double-ended Queues*"
   ]
  },
  {
   "cell_type": "code",
   "execution_count": null,
   "id": "35ea038c",
   "metadata": {
    "slideshow": {
     "slide_type": "slide"
    }
   },
   "outputs": [],
   "source": [
    "#include <deque>\n",
    "using std::deque;"
   ]
  },
  {
   "cell_type": "code",
   "execution_count": 5,
   "id": "b3bd57f8",
   "metadata": {},
   "outputs": [
    {
     "name": "stdout",
     "output_type": "stream",
     "text": [
      "10\n",
      "8\n",
      "7\n",
      "9\n"
     ]
    }
   ],
   "source": [
    "deque<int> numbers;\n",
    "numbers.push_back(7);\n",
    "numbers.push_front(8);\n",
    "numbers.push_back(9);\n",
    "numbers.push_front(10);\n",
    "\n",
    "for (auto const& num : numbers) {\n",
    "    cout << num << endl;\n",
    "}"
   ]
  },
  {
   "cell_type": "code",
   "execution_count": 6,
   "id": "7e2e11ee",
   "metadata": {
    "slideshow": {
     "slide_type": "fragment"
    }
   },
   "outputs": [
    {
     "name": "stdout",
     "output_type": "stream",
     "text": [
      "7\n"
     ]
    }
   ],
   "source": [
    "cout << numbers[2] << endl;"
   ]
  },
  {
   "cell_type": "markdown",
   "id": "08f2555e",
   "metadata": {
    "slideshow": {
     "slide_type": "slide"
    }
   },
   "source": [
    "### Big Ideas for Deques\n",
    "\n",
    "- Supports adding/removing from front and back (like a `list`)\n",
    "- Supports random access!"
   ]
  },
  {
   "cell_type": "markdown",
   "id": "b9c5c9d9",
   "metadata": {
    "slideshow": {
     "slide_type": "slide"
    }
   },
   "source": [
    "## Big-O of Sequential Containers"
   ]
  },
  {
   "cell_type": "markdown",
   "id": "216b02e0",
   "metadata": {},
   "source": [
    "| Operation     | List | Vector | Deque |\n",
    "|---------------|------|--------|-------|\n",
    "| `push_back`   |      |        |       |\n",
    "| `pop_back`   |      |        |       |\n",
    "| `push_front`  |      |        |       |\n",
    "| `at`          |      |        |       |\n",
    "| `insert(pos)` |      |        |       |"
   ]
  },
  {
   "cell_type": "markdown",
   "id": "1aa3187f",
   "metadata": {
    "slideshow": {
     "slide_type": "fragment"
    }
   },
   "source": [
    "| Operation     | List | Vector | Deque |\n",
    "|---------------|------|--------|-------|\n",
    "| `push_back`   | O(1) or O(n)      |    O(1)    |    O(1)   |\n",
    "| `push_front`  |   O(1)   |    O(n)    |   O(1)    |\n",
    "| `at`          |  O(n)    |    O(1)    |   O(1)    |\n",
    "| `insert(pos)` |   O(n)   |   O(n)     |   O(n)    |"
   ]
  },
  {
   "cell_type": "markdown",
   "id": "9efbd406",
   "metadata": {
    "slideshow": {
     "slide_type": "slide"
    }
   },
   "source": [
    "### `sequential_timing.cpp`"
   ]
  },
  {
   "cell_type": "markdown",
   "id": "ec9bf1c1",
   "metadata": {
    "slideshow": {
     "slide_type": "slide"
    }
   },
   "source": [
    "## Iterators"
   ]
  },
  {
   "cell_type": "markdown",
   "id": "fa06270d",
   "metadata": {
    "slideshow": {
     "slide_type": "slide"
    }
   },
   "source": [
    "### `singly_linked.cpp`"
   ]
  },
  {
   "cell_type": "markdown",
   "id": "0c7ea626",
   "metadata": {
    "slideshow": {
     "slide_type": "slide"
    }
   },
   "source": [
    "## Generators"
   ]
  },
  {
   "cell_type": "markdown",
   "id": "7e249f29",
   "metadata": {
    "slideshow": {
     "slide_type": "slide"
    }
   },
   "source": [
    "```c++\n",
    "vector<int> numbers;\n",
    "for (int i : numbers) {\n",
    "    cout << i << endl;\n",
    "}\n",
    "```\n",
    "**is equivalent to**\n",
    "```c++\n",
    "vector<int> numbers;\n",
    "for (vector<int>::iterator iter = numbers.begin(); iter != numbers.end(); iter++) {\n",
    "   cout << *iter << endl; \n",
    "}\n",
    "```"
   ]
  },
  {
   "cell_type": "markdown",
   "id": "2d55e80d",
   "metadata": {
    "slideshow": {
     "slide_type": "fragment"
    }
   },
   "source": [
    "- `numbers.begin()` => get me a new iterator\n",
    "- `iter !=` => should I keep going?\n",
    "- `*iter` => give me the value\n",
    "- `iter++` => move to the next value\n"
   ]
  },
  {
   "cell_type": "markdown",
   "id": "d4d95e0d",
   "metadata": {
    "slideshow": {
     "slide_type": "slide"
    }
   },
   "source": [
    "### `range.cpp`"
   ]
  },
  {
   "cell_type": "markdown",
   "id": "d5c62b8c",
   "metadata": {
    "slideshow": {
     "slide_type": "slide"
    }
   },
   "source": [
    "## 👷🏼 N Random Numbers\n",
    "\n",
    "Write a generator that produces a sequence of `n` random numbers.\n",
    "\n",
    "### `n_random.cpp`"
   ]
  },
  {
   "cell_type": "markdown",
   "id": "d4e07060",
   "metadata": {
    "slideshow": {
     "slide_type": "slide"
    }
   },
   "source": [
    "## 👷🏼Collatz Generator\n",
    "\n",
    "Write a generator that produces the Collatz sequence for a given input.\n",
    "\n",
    "**Collatz Rules**\n",
    "- If the number is even, divide it by 2\n",
    "- If the number is odd, multiply by 3 and add 1\n",
    "\n",
    "### `collatz.cpp`"
   ]
  }
 ],
 "metadata": {
  "celltoolbar": "Slideshow",
  "kernelspec": {
   "display_name": "C++17 (docker)",
   "language": "C++17",
   "name": "xeus-cling"
  },
  "language_info": {
   "codemirror_mode": "text/x-c++src",
   "file_extension": ".cpp",
   "mimetype": "text/x-c++src",
   "name": "c++",
   "version": "17"
  },
  "toc": {
   "base_numbering": 1,
   "nav_menu": {},
   "number_sections": false,
   "sideBar": true,
   "skip_h1_title": true,
   "title_cell": "Table of Contents",
   "title_sidebar": "Contents",
   "toc_cell": false,
   "toc_position": {
    "height": "calc(100% - 180px)",
    "left": "10px",
    "top": "150px",
    "width": "384px"
   },
   "toc_section_display": true,
   "toc_window_display": true
  }
 },
 "nbformat": 4,
 "nbformat_minor": 5
}
