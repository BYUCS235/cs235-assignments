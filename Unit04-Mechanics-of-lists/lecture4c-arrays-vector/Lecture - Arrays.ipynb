{
 "cells": [
  {
   "cell_type": "markdown",
   "id": "2ebd04d6",
   "metadata": {
    "slideshow": {
     "slide_type": "slide"
    }
   },
   "source": [
    "## Free coding assignment!"
   ]
  },
  {
   "cell_type": "markdown",
   "id": "a09c8c5e",
   "metadata": {
    "slideshow": {
     "slide_type": "slide"
    }
   },
   "source": [
    "# Arrays"
   ]
  },
  {
   "cell_type": "code",
   "execution_count": 3,
   "id": "efc9ebe5",
   "metadata": {
    "slideshow": {
     "slide_type": "skip"
    }
   },
   "outputs": [],
   "source": [
    "#include <iostream>\n",
    "using std::cout, std::endl;"
   ]
  },
  {
   "cell_type": "code",
   "execution_count": 4,
   "id": "59dbe76e",
   "metadata": {
    "slideshow": {
     "slide_type": "skip"
    }
   },
   "outputs": [],
   "source": [
    "/*\n",
    "    This method prints the address of the data\n",
    "    i.e. where in memory does the \"thing\" reside\n",
    "*/\n",
    "template <class T>\n",
    "void where(T const& thing) {\n",
    "    printf(\"where: %p\\n\", &thing);\n",
    "}"
   ]
  },
  {
   "cell_type": "code",
   "execution_count": 5,
   "id": "d1bc9ed8",
   "metadata": {
    "slideshow": {
     "slide_type": "skip"
    }
   },
   "outputs": [],
   "source": [
    "/*\n",
    "  This method prints the bytes in RAM that a given variable has\n",
    "  i.e. what are the actual 1s and 0s that occupy the space given to \"thing\"\n",
    "  Prints the bytes in hexidecimal.\n",
    "*/\n",
    "template <class T>\n",
    "void bytes(T const& thing) {\n",
    "    unsigned char* addr = (unsigned char*)&thing;\n",
    "    printf(\"bytes: 0x\");\n",
    "    for (int i = sizeof(T) - 1; i >= 0; i--) {\n",
    "        printf(\"%02x\", addr[i]);\n",
    "    }\n",
    "    printf(\"\\n\");\n",
    "}"
   ]
  },
  {
   "cell_type": "code",
   "execution_count": 6,
   "id": "8f2a0f89",
   "metadata": {
    "slideshow": {
     "slide_type": "slide"
    }
   },
   "outputs": [],
   "source": [
    "int foo = 7;\n",
    "int bar = 4;"
   ]
  },
  {
   "cell_type": "code",
   "execution_count": 7,
   "id": "ef8f999e",
   "metadata": {},
   "outputs": [
    {
     "name": "stdout",
     "output_type": "stream",
     "text": [
      "where: 0x7ffff87d602c\n",
      "where: 0x7ffff87d6030\n"
     ]
    }
   ],
   "source": [
    "where(foo);\n",
    "where(bar);"
   ]
  },
  {
   "cell_type": "code",
   "execution_count": 8,
   "id": "533fda9b",
   "metadata": {},
   "outputs": [
    {
     "name": "stdout",
     "output_type": "stream",
     "text": [
      "bytes: 0x00000007\n"
     ]
    }
   ],
   "source": [
    "bytes(foo);"
   ]
  },
  {
   "cell_type": "code",
   "execution_count": 16,
   "id": "cde4165c",
   "metadata": {
    "slideshow": {
     "slide_type": "slide"
    }
   },
   "outputs": [
    {
     "name": "stdout",
     "output_type": "stream",
     "text": [
      "where: 0x7ffff87d602c\n",
      "bytes: 0x00007ffff87d602c\n"
     ]
    }
   ],
   "source": [
    "int* fooptr = &foo;\n",
    "where(foo);\n",
    "bytes(fooptr);"
   ]
  },
  {
   "cell_type": "code",
   "execution_count": 12,
   "id": "00c15c2b",
   "metadata": {
    "slideshow": {
     "slide_type": "slide"
    }
   },
   "outputs": [
    {
     "name": "stdout",
     "output_type": "stream",
     "text": [
      "bytes: 0x00000007\n"
     ]
    }
   ],
   "source": [
    "bytes(*fooptr);"
   ]
  },
  {
   "cell_type": "code",
   "execution_count": 13,
   "id": "2c447b78",
   "metadata": {
    "slideshow": {
     "slide_type": "fragment"
    }
   },
   "outputs": [
    {
     "name": "stdout",
     "output_type": "stream",
     "text": [
      "bytes: 0x00000004\n"
     ]
    }
   ],
   "source": [
    "bytes(*(fooptr + 1))"
   ]
  },
  {
   "cell_type": "code",
   "execution_count": 17,
   "id": "0c723dfa",
   "metadata": {
    "slideshow": {
     "slide_type": "slide"
    }
   },
   "outputs": [
    {
     "name": "stdout",
     "output_type": "stream",
     "text": [
      "bytes: 0x00007ffff87d602c\n",
      "bytes: 0x00000007\n",
      "fooptr++\n",
      "bytes: 0x00007ffff87d6030\n",
      "bytes: 0x00000004\n",
      "where: 0x7ffff87d6030\n"
     ]
    }
   ],
   "source": [
    "bytes(fooptr);\n",
    "bytes(*fooptr);\n",
    "\n",
    "fooptr++;  cout << \"fooptr++\" << endl;\n",
    "\n",
    "bytes(fooptr);\n",
    "bytes(*fooptr);\n",
    "where(bar);"
   ]
  },
  {
   "cell_type": "code",
   "execution_count": 18,
   "id": "0d2cd40f",
   "metadata": {
    "slideshow": {
     "slide_type": "slide"
    }
   },
   "outputs": [],
   "source": [
    "long long big_foo = 3;\n",
    "long long big_bar = 5;"
   ]
  },
  {
   "cell_type": "code",
   "execution_count": 19,
   "id": "d12a2c40",
   "metadata": {},
   "outputs": [
    {
     "name": "stdout",
     "output_type": "stream",
     "text": [
      "where: 0x7ffff87d6058\n",
      "where: 0x7ffff87d6060\n"
     ]
    }
   ],
   "source": [
    "where(big_foo);\n",
    "where(big_bar);"
   ]
  },
  {
   "cell_type": "code",
   "execution_count": 20,
   "id": "f0b7bcae",
   "metadata": {
    "slideshow": {
     "slide_type": "slide"
    }
   },
   "outputs": [
    {
     "name": "stdout",
     "output_type": "stream",
     "text": [
      "bytes: 0x00007ffff87d6058\n",
      "bytes: 0x0000000000000003\n",
      "big_foo_ptr++\n",
      "bytes: 0x00007ffff87d6060\n",
      "bytes: 0x0000000000000005\n"
     ]
    }
   ],
   "source": [
    "long long *big_foo_ptr = &big_foo;\n",
    "\n",
    "bytes(big_foo_ptr);\n",
    "bytes(*big_foo_ptr);\n",
    "\n",
    "big_foo_ptr++;  cout << \"big_foo_ptr++\" << endl;\n",
    "\n",
    "bytes(big_foo_ptr);\n",
    "bytes(*big_foo_ptr);"
   ]
  },
  {
   "cell_type": "markdown",
   "id": "79104577",
   "metadata": {
    "slideshow": {
     "slide_type": "slide"
    }
   },
   "source": [
    "When you \"add one\" to a pointer, you get a new memory address that is one type-width away from the first.\n",
    "\n",
    "So adding one to an `int*` moves 4 bytes.\n",
    "\n",
    "Adding one to a `long long*` moves 8 bytes."
   ]
  },
  {
   "cell_type": "code",
   "execution_count": 22,
   "id": "341e2679",
   "metadata": {
    "cell_style": "split",
    "slideshow": {
     "slide_type": "slide"
    }
   },
   "outputs": [
    {
     "name": "stdout",
     "output_type": "stream",
     "text": [
      "where: 0x7ffff87d6080\n",
      "where: 0x7ffff87d6084\n"
     ]
    }
   ],
   "source": [
    "int foo = 7;\n",
    "int* fooptr = &foo;\n",
    "\n",
    "where(*fooptr);\n",
    "where(*(fooptr + 1));"
   ]
  },
  {
   "cell_type": "code",
   "execution_count": 23,
   "id": "bb414d19",
   "metadata": {
    "cell_style": "split",
    "slideshow": {
     "slide_type": "fragment"
    }
   },
   "outputs": [
    {
     "name": "stdout",
     "output_type": "stream",
     "text": [
      "where: 0x7ffff87d6080\n",
      "where: 0x7ffff87d6084\n"
     ]
    }
   ],
   "source": [
    "where(fooptr[0]);\n",
    "where(fooptr[1]);"
   ]
  },
  {
   "cell_type": "code",
   "execution_count": 24,
   "id": "6bd74b8b",
   "metadata": {
    "slideshow": {
     "slide_type": "slide"
    }
   },
   "outputs": [
    {
     "name": "stdout",
     "output_type": "stream",
     "text": [
      "where: 0x7ffff87d6084\n",
      "where: 0x7ffff87d6084\n"
     ]
    }
   ],
   "source": [
    "where(fooptr[1]);\n",
    "\n",
    "/* is equivalent to */\n",
    "\n",
    "where(*(fooptr + 1));"
   ]
  },
  {
   "cell_type": "markdown",
   "id": "78fae7aa",
   "metadata": {
    "slideshow": {
     "slide_type": "fragment"
    }
   },
   "source": [
    "if\n",
    "```c++\n",
    "int* foo;\n",
    "```\n",
    "then\n",
    "\n",
    "```c++\n",
    "foo[1]\n",
    "```\n",
    "is the same as saying:\n",
    "\n",
    "> move 1 `int`s' worth of bytes from `foo` and get the value—i.e. `*(foo + 1)`"
   ]
  },
  {
   "cell_type": "markdown",
   "id": "4d957b41",
   "metadata": {
    "slideshow": {
     "slide_type": "slide"
    }
   },
   "source": [
    "So, if you new you had a sequence of values all of the same type, all right next to each other in memory, you could easily get to all of them if you new the address of the first one.\n",
    "\n",
    "<div style='font-size:200pt'>🤔</div>"
   ]
  },
  {
   "cell_type": "markdown",
   "id": "6174b0a7",
   "metadata": {
    "slideshow": {
     "slide_type": "skip"
    }
   },
   "source": [
    "## Array Allocation"
   ]
  },
  {
   "cell_type": "code",
   "execution_count": 25,
   "id": "d05f3634",
   "metadata": {
    "slideshow": {
     "slide_type": "slide"
    }
   },
   "outputs": [],
   "source": [
    "int* quux = new int[10];"
   ]
  },
  {
   "cell_type": "code",
   "execution_count": 26,
   "id": "b6d5e444",
   "metadata": {
    "slideshow": {
     "slide_type": "fragment"
    }
   },
   "outputs": [
    {
     "name": "stdout",
     "output_type": "stream",
     "text": [
      "where: 0x555558d14260\n"
     ]
    }
   ],
   "source": [
    "where(*quux)"
   ]
  },
  {
   "cell_type": "code",
   "execution_count": 27,
   "id": "68de5550",
   "metadata": {
    "slideshow": {
     "slide_type": "fragment"
    }
   },
   "outputs": [
    {
     "name": "stdout",
     "output_type": "stream",
     "text": [
      "where: 0x555558d14264\n"
     ]
    }
   ],
   "source": [
    "where(*(quux + 1))"
   ]
  },
  {
   "cell_type": "code",
   "execution_count": 28,
   "id": "e498ed0b",
   "metadata": {
    "slideshow": {
     "slide_type": "fragment"
    }
   },
   "outputs": [
    {
     "name": "stdout",
     "output_type": "stream",
     "text": [
      "where: 0x555558d14260\n"
     ]
    }
   ],
   "source": [
    "where(quux[0])"
   ]
  },
  {
   "cell_type": "code",
   "execution_count": 29,
   "id": "dd55af61",
   "metadata": {},
   "outputs": [
    {
     "name": "stdout",
     "output_type": "stream",
     "text": [
      "where: 0x555558d14264\n"
     ]
    }
   ],
   "source": [
    "where(quux[1])"
   ]
  },
  {
   "cell_type": "code",
   "execution_count": 30,
   "id": "d80c8c8a",
   "metadata": {},
   "outputs": [
    {
     "name": "stdout",
     "output_type": "stream",
     "text": [
      "where: 0x555558d14268\n"
     ]
    }
   ],
   "source": [
    "where(quux[2])"
   ]
  },
  {
   "cell_type": "markdown",
   "id": "2a53eb6a",
   "metadata": {
    "slideshow": {
     "slide_type": "notes"
    }
   },
   "source": [
    "- `new` array syntax\n",
    "- `[]` on arrays does pointer math"
   ]
  },
  {
   "cell_type": "code",
   "execution_count": 31,
   "id": "ba035538",
   "metadata": {
    "slideshow": {
     "slide_type": "slide"
    }
   },
   "outputs": [
    {
     "name": "stdout",
     "output_type": "stream",
     "text": [
      "bytes: 0x0deb9594\n"
     ]
    }
   ],
   "source": [
    "bytes(quux[0])"
   ]
  },
  {
   "cell_type": "code",
   "execution_count": 32,
   "id": "195ff7df",
   "metadata": {
    "slideshow": {
     "slide_type": "fragment"
    }
   },
   "outputs": [
    {
     "name": "stdout",
     "output_type": "stream",
     "text": [
      "bytes: 0x0deb9594\n",
      "bytes: 0x00005550\n",
      "bytes: 0x00000000\n",
      "bytes: 0x00000000\n",
      "bytes: 0xffffffff\n",
      "bytes: 0x00000000\n",
      "bytes: 0x00000000\n",
      "bytes: 0x00000000\n",
      "bytes: 0x00000000\n",
      "bytes: 0x00000000\n"
     ]
    }
   ],
   "source": [
    "for (int i = 0; i < 10; i++) {\n",
    "    bytes(quux[i]);\n",
    "}"
   ]
  },
  {
   "cell_type": "markdown",
   "id": "dfec2efd",
   "metadata": {
    "slideshow": {
     "slide_type": "notes"
    }
   },
   "source": [
    "- Calling `new T[n]` gives you space for `n` `T`s, but doesn't create any `T`s yet.\n",
    "- There are bytes there, but they are just weeds growing in the empty lot you just purchased"
   ]
  },
  {
   "cell_type": "code",
   "execution_count": 37,
   "id": "99342fcc",
   "metadata": {
    "slideshow": {
     "slide_type": "slide"
    }
   },
   "outputs": [],
   "source": [
    "for (int i = 0; i < 10; i++) {\n",
    "    quux[i] = i;\n",
    "}"
   ]
  },
  {
   "cell_type": "code",
   "execution_count": 40,
   "id": "f1edfab0",
   "metadata": {
    "cell_style": "split",
    "slideshow": {
     "slide_type": "fragment"
    }
   },
   "outputs": [
    {
     "name": "stdout",
     "output_type": "stream",
     "text": [
      "bytes: 0x00000000\n",
      "bytes: 0x00000001\n",
      "bytes: 0x00000002\n",
      "bytes: 0x00000003\n",
      "bytes: 0x00000004\n",
      "bytes: 0x00000005\n",
      "bytes: 0x00000006\n",
      "bytes: 0x00000007\n",
      "bytes: 0x00000008\n",
      "bytes: 0x00000009\n"
     ]
    }
   ],
   "source": [
    "for (int i = 0; i < 10; i++) {\n",
    "    bytes(quux[i]);\n",
    "}"
   ]
  },
  {
   "cell_type": "code",
   "execution_count": 41,
   "id": "1c4e92ef",
   "metadata": {
    "cell_style": "split",
    "slideshow": {
     "slide_type": "fragment"
    }
   },
   "outputs": [
    {
     "name": "stdout",
     "output_type": "stream",
     "text": [
      "bytes: 0x0000000a\n",
      "bytes: 0x0000000b\n",
      "bytes: 0x0000000c\n",
      "bytes: 0x0000000d\n",
      "bytes: 0x0000000e\n",
      "bytes: 0x0000000f\n",
      "bytes: 0x00000010\n",
      "bytes: 0x00000011\n",
      "bytes: 0x00000012\n",
      "bytes: 0x00000013\n"
     ]
    }
   ],
   "source": [
    "for (int i = 10; i < 20; i++) {\n",
    "    bytes(quux[i]);\n",
    "}"
   ]
  },
  {
   "cell_type": "markdown",
   "id": "8664552d",
   "metadata": {
    "slideshow": {
     "slide_type": "fragment"
    }
   },
   "source": [
    "Remember, the `[ ]` operator just does some pointer math and jumps to the specified slot in memory.\n",
    "\n",
    "It doesn't know whether that slot in memory is available, has useful data, etc. "
   ]
  },
  {
   "cell_type": "markdown",
   "id": "84738a7e",
   "metadata": {
    "slideshow": {
     "slide_type": "slide"
    }
   },
   "source": [
    "If you used an array to store items under-the-hood, how would you implement:\n",
    "\n",
    "- `push_back`\n",
    "- `pop_back`\n",
    "- `size`\n",
    "- `push_front`\n",
    "- `pop_front`\n"
   ]
  },
  {
   "cell_type": "markdown",
   "id": "251d1db4",
   "metadata": {
    "slideshow": {
     "slide_type": "fragment"
    }
   },
   "source": [
    "- preallocate an array that is \"big enough\"\n",
    "- keep track of how many items you have\n",
    "- add new items to the next available position in the array"
   ]
  },
  {
   "cell_type": "markdown",
   "id": "949bffe7",
   "metadata": {
    "slideshow": {
     "slide_type": "fragment"
    }
   },
   "source": [
    "**Issues**\n",
    "- what happens with \"big enough\" isn't big enough anymore (i.e. you run out of room)?\n",
    "  - do you stop adding items? (this is bad)\n",
    "  - do you run off the end of the array? (this is REALLY bad)\n",
    "- what happens if you loose track of how many items you have?\n"
   ]
  },
  {
   "cell_type": "markdown",
   "id": "e2dea122",
   "metadata": {
    "slideshow": {
     "slide_type": "slide"
    }
   },
   "source": [
    "### Pro-tip \n",
    "> The goal is not to write code that you can get to work  \n",
    "> The goal is to write code that you **can't get wrong**"
   ]
  },
  {
   "cell_type": "markdown",
   "id": "afbfb552",
   "metadata": {
    "slideshow": {
     "slide_type": "slide"
    }
   },
   "source": [
    "## Vector"
   ]
  },
  {
   "cell_type": "markdown",
   "id": "ba2037da",
   "metadata": {},
   "source": [
    "- Wrap an array\n",
    "- Keep track of how big the array is and how many items we've added\n",
    "- If we run out of room, we get a bigger array, copy the items over, and proceed\n",
    "- always add the next item to the correct spot"
   ]
  },
  {
   "cell_type": "markdown",
   "id": "b9c5c9d9",
   "metadata": {
    "slideshow": {
     "slide_type": "slide"
    }
   },
   "source": [
    "## Big-O of Sequential Containers"
   ]
  },
  {
   "cell_type": "markdown",
   "id": "216b02e0",
   "metadata": {
    "cell_style": "split"
   },
   "source": [
    "| Operation     | SL List | DL List | Vector |\n",
    "|---------------|------|--------|-------|\n",
    "| `push_back`   |      |        |       |\n",
    "| `pop_back`    |      |        |       |\n",
    "| `push_front`  |      |        |       |\n",
    "| `at`          |      |        |       |\n",
    "| `insert(pos)` |      |        |       |"
   ]
  },
  {
   "cell_type": "markdown",
   "id": "ff7ac16a",
   "metadata": {
    "cell_style": "split",
    "slideshow": {
     "slide_type": "fragment"
    }
   },
   "source": [
    "| Operation     | SL List | DL List | Vector |\n",
    "|---------------|------|--------|-------|\n",
    "| `push_back`   | O(n)     |   O(1)     | O(1)       |\n",
    "| `pop_back`    | O(n)     |   O(1)     | O(1)      |\n",
    "| `push_front`  | O(1)     |   O(1)     | O(n)      |\n",
    "| `at`          | O(n)     |   O(n)     | O(1)      |\n",
    "| `insert(pos)` | O(n)     |   O(n)     | O(n)      |\n",
    "\n",
    "**Note**: Lists have $O(n)$ insert because it takes $O(n)$ time to find the position, but only $O(1)$ time to do the insert. If you assume the position is already known, it is accurate to say Lists have $O(1)$ insertion time. **State your assumptions.**\n",
    "\n",
    "Vectors only take $O(1)$ time to find the position, but need $O(n)$ time to insert. "
   ]
  },
  {
   "cell_type": "markdown",
   "id": "93617fe0",
   "metadata": {
    "slideshow": {
     "slide_type": "slide"
    }
   },
   "source": [
    "What about space complexity?\n",
    "\n",
    "### `space.cpp`"
   ]
  },
  {
   "cell_type": "markdown",
   "id": "8fbeb64c",
   "metadata": {
    "slideshow": {
     "slide_type": "slide"
    }
   },
   "source": [
    "### `build_vector.cpp`"
   ]
  },
  {
   "cell_type": "markdown",
   "id": "1339ed50",
   "metadata": {
    "slideshow": {
     "slide_type": "notes"
    }
   },
   "source": [
    "Write and discuss:\n",
    "\n",
    "- Constructor and destructor\n",
    "- `push_back` + `grow`\n",
    "- `pop_back`\n",
    "- `size`\n",
    "- `operator []`\n",
    "\n",
    "Note:\n",
    "- `pop_back` just decrements size. Nothing is done to the memory.\n",
    "- what is the significance of returning by value from `operator[]`?"
   ]
  },
  {
   "cell_type": "markdown",
   "id": "1173f0b7",
   "metadata": {
    "slideshow": {
     "slide_type": "slide"
    }
   },
   "source": [
    "## Key Ideas\n",
    "- Arrays\n",
    "  - contiguous memory allocation\n",
    "- Vectors"
   ]
  }
 ],
 "metadata": {
  "celltoolbar": "Slideshow",
  "kernelspec": {
   "display_name": "C++17 (docker)",
   "language": "C++17",
   "name": "xeus-cling"
  },
  "language_info": {
   "codemirror_mode": "text/x-c++src",
   "file_extension": ".cpp",
   "mimetype": "text/x-c++src",
   "name": "c++",
   "version": "17"
  },
  "toc": {
   "base_numbering": 1,
   "nav_menu": {},
   "number_sections": false,
   "sideBar": true,
   "skip_h1_title": true,
   "title_cell": "Table of Contents",
   "title_sidebar": "Contents",
   "toc_cell": false,
   "toc_position": {
    "height": "calc(100% - 180px)",
    "left": "10px",
    "top": "150px",
    "width": "353.391px"
   },
   "toc_section_display": true,
   "toc_window_display": true
  }
 },
 "nbformat": 4,
 "nbformat_minor": 5
}
