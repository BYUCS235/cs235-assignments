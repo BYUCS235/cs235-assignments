{
 "cells": [
  {
   "cell_type": "markdown",
   "id": "a09c8c5e",
   "metadata": {
    "slideshow": {
     "slide_type": "slide"
    }
   },
   "source": [
    "# Arrays"
   ]
  },
  {
   "cell_type": "code",
   "execution_count": null,
   "id": "efc9ebe5",
   "metadata": {
    "slideshow": {
     "slide_type": "skip"
    }
   },
   "outputs": [],
   "source": [
    "#include <iostream>\n",
    "using std::cout, std::endl;"
   ]
  },
  {
   "cell_type": "code",
   "execution_count": null,
   "id": "59dbe76e",
   "metadata": {
    "slideshow": {
     "slide_type": "skip"
    }
   },
   "outputs": [],
   "source": [
    "/*\n",
    "    This method prints the address of the data\n",
    "    i.e. where in memory does the \"thing\" reside\n",
    "*/\n",
    "template <class T>\n",
    "void where(T const& thing) {\n",
    "    printf(\"where: %p\\n\", &thing);\n",
    "}"
   ]
  },
  {
   "cell_type": "code",
   "execution_count": null,
   "id": "d1bc9ed8",
   "metadata": {
    "slideshow": {
     "slide_type": "skip"
    }
   },
   "outputs": [],
   "source": [
    "/*\n",
    "  This method prints the bytes in RAM that a given variable has\n",
    "  i.e. what are the actual 1s and 0s that occupy the space given to \"thing\"\n",
    "  Prints the bytes in hexidecimal.\n",
    "*/\n",
    "template <class T>\n",
    "void bytes(T const& thing) {\n",
    "    unsigned char* addr = (unsigned char*)&thing;\n",
    "    printf(\"bytes: 0x\");\n",
    "    for (int i = sizeof(T) - 1; i >= 0; i--) {\n",
    "        printf(\"%02x\", addr[i]);\n",
    "    }\n",
    "    printf(\"\\n\");\n",
    "}"
   ]
  },
  {
   "cell_type": "code",
   "execution_count": 38,
   "id": "8f2a0f89",
   "metadata": {
    "slideshow": {
     "slide_type": "slide"
    }
   },
   "outputs": [],
   "source": [
    "int foo = 7;\n",
    "int bar = 4;"
   ]
  },
  {
   "cell_type": "code",
   "execution_count": 39,
   "id": "ef8f999e",
   "metadata": {},
   "outputs": [
    {
     "name": "stdout",
     "output_type": "stream",
     "text": [
      "where: 0x40091ce0b0\n",
      "where: 0x40091ce0b4\n"
     ]
    }
   ],
   "source": [
    "where(foo);\n",
    "where(bar);"
   ]
  },
  {
   "cell_type": "code",
   "execution_count": 40,
   "id": "533fda9b",
   "metadata": {},
   "outputs": [
    {
     "name": "stdout",
     "output_type": "stream",
     "text": [
      "bytes: 0x00000007\n"
     ]
    }
   ],
   "source": [
    "bytes(foo);"
   ]
  },
  {
   "cell_type": "code",
   "execution_count": 41,
   "id": "cde4165c",
   "metadata": {
    "slideshow": {
     "slide_type": "slide"
    }
   },
   "outputs": [
    {
     "name": "stdout",
     "output_type": "stream",
     "text": [
      "where: 0x40091ce0b0\n",
      "bytes: 0x00000040091ce0b0\n"
     ]
    }
   ],
   "source": [
    "int* fooptr = &foo;\n",
    "where(foo);\n",
    "bytes(fooptr);"
   ]
  },
  {
   "cell_type": "code",
   "execution_count": 42,
   "id": "00c15c2b",
   "metadata": {
    "slideshow": {
     "slide_type": "slide"
    }
   },
   "outputs": [
    {
     "name": "stdout",
     "output_type": "stream",
     "text": [
      "bytes: 0x00000007\n"
     ]
    }
   ],
   "source": [
    "bytes(*fooptr);"
   ]
  },
  {
   "cell_type": "code",
   "execution_count": 43,
   "id": "2c447b78",
   "metadata": {
    "slideshow": {
     "slide_type": "fragment"
    }
   },
   "outputs": [
    {
     "name": "stdout",
     "output_type": "stream",
     "text": [
      "bytes: 0x00000004\n"
     ]
    }
   ],
   "source": [
    "bytes(*(fooptr + 1))"
   ]
  },
  {
   "cell_type": "code",
   "execution_count": 44,
   "id": "0c723dfa",
   "metadata": {
    "slideshow": {
     "slide_type": "slide"
    }
   },
   "outputs": [
    {
     "name": "stdout",
     "output_type": "stream",
     "text": [
      "bytes: 0x00000040091ce0b0\n",
      "bytes: 0x00000007\n",
      "fooptr++\n",
      "bytes: 0x00000040091ce0b4\n",
      "bytes: 0x00000004\n"
     ]
    }
   ],
   "source": [
    "bytes(fooptr);\n",
    "bytes(*fooptr);\n",
    "\n",
    "fooptr++;  cout << \"fooptr++\" << endl;\n",
    "\n",
    "bytes(fooptr);\n",
    "bytes(*fooptr);"
   ]
  },
  {
   "cell_type": "code",
   "execution_count": 46,
   "id": "0d2cd40f",
   "metadata": {
    "slideshow": {
     "slide_type": "slide"
    }
   },
   "outputs": [],
   "source": [
    "long long big_foo = 3;\n",
    "long long big_bar = 5;"
   ]
  },
  {
   "cell_type": "code",
   "execution_count": 47,
   "id": "d12a2c40",
   "metadata": {},
   "outputs": [
    {
     "name": "stdout",
     "output_type": "stream",
     "text": [
      "where: 0x40091ce0c0\n",
      "where: 0x40091ce0c8\n"
     ]
    }
   ],
   "source": [
    "where(big_foo);\n",
    "where(big_bar);"
   ]
  },
  {
   "cell_type": "code",
   "execution_count": 48,
   "id": "f0b7bcae",
   "metadata": {
    "slideshow": {
     "slide_type": "slide"
    }
   },
   "outputs": [
    {
     "name": "stdout",
     "output_type": "stream",
     "text": [
      "bytes: 0x00000040091ce0c0\n",
      "bytes: 0x0000000000000003\n",
      "big_foo_ptr++\n",
      "bytes: 0x00000040091ce0c8\n",
      "bytes: 0x0000000000000005\n"
     ]
    }
   ],
   "source": [
    "long long *big_foo_ptr = &big_foo;\n",
    "\n",
    "bytes(big_foo_ptr);\n",
    "bytes(*big_foo_ptr);\n",
    "\n",
    "big_foo_ptr++;  cout << \"big_foo_ptr++\" << endl;\n",
    "\n",
    "bytes(big_foo_ptr);\n",
    "bytes(*big_foo_ptr);"
   ]
  },
  {
   "cell_type": "markdown",
   "id": "79104577",
   "metadata": {
    "slideshow": {
     "slide_type": "slide"
    }
   },
   "source": [
    "When you \"add one\" to a pointer, you get a new memory address that is one type-width away from the first.\n",
    "\n",
    "So adding one to an `int*` moves 4 bytes.\n",
    "\n",
    "Adding one to a `long long*` moves 8 bytes."
   ]
  },
  {
   "cell_type": "code",
   "execution_count": 49,
   "id": "341e2679",
   "metadata": {
    "slideshow": {
     "slide_type": "slide"
    }
   },
   "outputs": [
    {
     "name": "stdout",
     "output_type": "stream",
     "text": [
      "where: 0x40091ce0d8\n",
      "where: 0x40091ce0dc\n"
     ]
    }
   ],
   "source": [
    "int foo = 7;\n",
    "int* fooptr = &foo;\n",
    "\n",
    "where(*fooptr);\n",
    "where(*(fooptr + 1));"
   ]
  },
  {
   "cell_type": "code",
   "execution_count": 50,
   "id": "bb414d19",
   "metadata": {},
   "outputs": [
    {
     "name": "stdout",
     "output_type": "stream",
     "text": [
      "where: 0x40091ce0d8\n",
      "where: 0x40091ce0dc\n"
     ]
    }
   ],
   "source": [
    "where(fooptr[0]);\n",
    "where(fooptr[1]);"
   ]
  },
  {
   "cell_type": "code",
   "execution_count": 61,
   "id": "6bd74b8b",
   "metadata": {
    "slideshow": {
     "slide_type": "slide"
    }
   },
   "outputs": [
    {
     "name": "stdout",
     "output_type": "stream",
     "text": [
      "where: 0x400000000b\n",
      "where: 0x400000000b\n"
     ]
    }
   ],
   "source": [
    "where(fooptr[1]);\n",
    "\n",
    "/* is equivalent to */\n",
    "\n",
    "where(*(fooptr + 1));"
   ]
  },
  {
   "cell_type": "markdown",
   "id": "78fae7aa",
   "metadata": {
    "slideshow": {
     "slide_type": "fragment"
    }
   },
   "source": [
    "if\n",
    "```c++\n",
    "int* foo;\n",
    "```\n",
    "then\n",
    "\n",
    "```c++\n",
    "foo[1]\n",
    "```\n",
    "is the same as saying:\n",
    "\n",
    "> move 1 `int`s' worth of bytes from `foo` and get the value—i.e. `*(foo + 1)`"
   ]
  },
  {
   "cell_type": "markdown",
   "id": "4d957b41",
   "metadata": {
    "slideshow": {
     "slide_type": "slide"
    }
   },
   "source": [
    "So, if you new you had a sequence of values all of the same type, all right next to each other in memory, you could easily get to all of them if you new the address of the first one.\n",
    "\n",
    "<div style='font-size:200pt'>🤔</div>"
   ]
  },
  {
   "cell_type": "markdown",
   "id": "6174b0a7",
   "metadata": {
    "slideshow": {
     "slide_type": "skip"
    }
   },
   "source": [
    "## Array Allocation"
   ]
  },
  {
   "cell_type": "code",
   "execution_count": 62,
   "id": "d05f3634",
   "metadata": {
    "slideshow": {
     "slide_type": "slide"
    }
   },
   "outputs": [],
   "source": [
    "int* quux = new int[10];"
   ]
  },
  {
   "cell_type": "code",
   "execution_count": 63,
   "id": "b6d5e444",
   "metadata": {
    "slideshow": {
     "slide_type": "fragment"
    }
   },
   "outputs": [
    {
     "name": "stdout",
     "output_type": "stream",
     "text": [
      "where: 0x40282401e0\n"
     ]
    }
   ],
   "source": [
    "where(*quux)"
   ]
  },
  {
   "cell_type": "code",
   "execution_count": 64,
   "id": "68de5550",
   "metadata": {
    "slideshow": {
     "slide_type": "fragment"
    }
   },
   "outputs": [
    {
     "name": "stdout",
     "output_type": "stream",
     "text": [
      "where: 0x40282401e4\n"
     ]
    }
   ],
   "source": [
    "where(*(quux + 1))"
   ]
  },
  {
   "cell_type": "code",
   "execution_count": 65,
   "id": "e498ed0b",
   "metadata": {
    "slideshow": {
     "slide_type": "fragment"
    }
   },
   "outputs": [
    {
     "name": "stdout",
     "output_type": "stream",
     "text": [
      "where: 0x40282401e0\n"
     ]
    }
   ],
   "source": [
    "where(quux[0])"
   ]
  },
  {
   "cell_type": "code",
   "execution_count": 66,
   "id": "dd55af61",
   "metadata": {},
   "outputs": [
    {
     "name": "stdout",
     "output_type": "stream",
     "text": [
      "where: 0x40282401e4\n"
     ]
    }
   ],
   "source": [
    "where(quux[1])"
   ]
  },
  {
   "cell_type": "code",
   "execution_count": 67,
   "id": "d80c8c8a",
   "metadata": {},
   "outputs": [
    {
     "name": "stdout",
     "output_type": "stream",
     "text": [
      "where: 0x40282401e8\n"
     ]
    }
   ],
   "source": [
    "where(quux[2])"
   ]
  },
  {
   "cell_type": "markdown",
   "id": "2a53eb6a",
   "metadata": {
    "slideshow": {
     "slide_type": "notes"
    }
   },
   "source": [
    "- `new` array syntax\n",
    "- `[]` on arrays does pointer math"
   ]
  },
  {
   "cell_type": "code",
   "execution_count": 68,
   "id": "ba035538",
   "metadata": {
    "slideshow": {
     "slide_type": "slide"
    }
   },
   "outputs": [
    {
     "name": "stdout",
     "output_type": "stream",
     "text": [
      "bytes: 0x2c21d5c0\n"
     ]
    }
   ],
   "source": [
    "bytes(quux[0])"
   ]
  },
  {
   "cell_type": "code",
   "execution_count": 69,
   "id": "195ff7df",
   "metadata": {
    "slideshow": {
     "slide_type": "fragment"
    }
   },
   "outputs": [
    {
     "name": "stdout",
     "output_type": "stream",
     "text": [
      "bytes: 0x2c21d5c0\n",
      "bytes: 0x00000040\n",
      "bytes: 0x00000000\n",
      "bytes: 0x00000000\n",
      "bytes: 0x171e8300\n",
      "bytes: 0x00000040\n",
      "bytes: 0x28235780\n",
      "bytes: 0x00000040\n",
      "bytes: 0x9b4b1000\n",
      "bytes: 0x0000ffff\n"
     ]
    }
   ],
   "source": [
    "for (int i = 0; i < 10; i++) {\n",
    "    bytes(quux[i]);\n",
    "}"
   ]
  },
  {
   "cell_type": "markdown",
   "id": "dfec2efd",
   "metadata": {
    "slideshow": {
     "slide_type": "notes"
    }
   },
   "source": [
    "- Calling `new T[n]` gives you space for `n` `T`s, but doesn't create any `T`s yet.\n",
    "- There are bytes there, but they are just weeds growing in the empty lot you just purchased"
   ]
  },
  {
   "cell_type": "code",
   "execution_count": 70,
   "id": "99342fcc",
   "metadata": {
    "slideshow": {
     "slide_type": "slide"
    }
   },
   "outputs": [],
   "source": [
    "for (int i = 0; i < 10; i++) {\n",
    "    quux[i] = i;\n",
    "}"
   ]
  },
  {
   "cell_type": "code",
   "execution_count": 71,
   "id": "f1edfab0",
   "metadata": {
    "slideshow": {
     "slide_type": "fragment"
    }
   },
   "outputs": [
    {
     "name": "stdout",
     "output_type": "stream",
     "text": [
      "bytes: 0x00000000\n",
      "bytes: 0x00000001\n",
      "bytes: 0x00000002\n",
      "bytes: 0x00000003\n",
      "bytes: 0x00000004\n",
      "bytes: 0x00000005\n",
      "bytes: 0x00000006\n",
      "bytes: 0x00000007\n",
      "bytes: 0x00000008\n",
      "bytes: 0x00000009\n"
     ]
    }
   ],
   "source": [
    "for (int i = 0; i < 10; i++) {\n",
    "    bytes(quux[i]);\n",
    "}"
   ]
  },
  {
   "cell_type": "code",
   "execution_count": 72,
   "id": "1c4e92ef",
   "metadata": {
    "slideshow": {
     "slide_type": "fragment"
    }
   },
   "outputs": [
    {
     "name": "stdout",
     "output_type": "stream",
     "text": [
      "bytes: 0x00000041\n",
      "bytes: 0x00000000\n",
      "bytes: 0x00000026\n",
      "bytes: 0x00000000\n",
      "bytes: 0x9b4aa000\n",
      "bytes: 0x0000ffff\n",
      "bytes: 0x314e5a5f\n",
      "bytes: 0x635f5f32\n",
      "bytes: 0x676e696c\n",
      "bytes: 0x36354e5f\n"
     ]
    }
   ],
   "source": [
    "for (int i = 10; i < 20; i++) {\n",
    "    bytes(quux[i]);\n",
    "}"
   ]
  },
  {
   "cell_type": "markdown",
   "id": "8664552d",
   "metadata": {
    "slideshow": {
     "slide_type": "slide"
    }
   },
   "source": [
    "Remember, the `[ ]` operator just does some pointer math and jumps to the specified slot in memory.\n",
    "\n",
    "It doesn't know whether that slot in memory is available, has useful data, etc. "
   ]
  },
  {
   "cell_type": "markdown",
   "id": "84738a7e",
   "metadata": {
    "slideshow": {
     "slide_type": "slide"
    }
   },
   "source": [
    "How can you use an array to store items?"
   ]
  },
  {
   "cell_type": "markdown",
   "id": "251d1db4",
   "metadata": {
    "slideshow": {
     "slide_type": "fragment"
    }
   },
   "source": [
    "- preallocate an array that is \"big enough\"\n",
    "- keep track of how many items you have\n",
    "- add new items to the next available position in the array"
   ]
  },
  {
   "cell_type": "markdown",
   "id": "949bffe7",
   "metadata": {
    "slideshow": {
     "slide_type": "fragment"
    }
   },
   "source": [
    "**Issues**\n",
    "- what happens with \"big enough\" isn't big enough anymore (i.e. you run out of room)?\n",
    "  - do you stop adding items? (this is bad)\n",
    "  - do you run off the end of the array? (this is REALLY bad)\n",
    "- what happens if you loose track of how many items you have?\n"
   ]
  },
  {
   "cell_type": "markdown",
   "id": "e2dea122",
   "metadata": {
    "slideshow": {
     "slide_type": "slide"
    }
   },
   "source": [
    "### Pro-tip \n",
    "> The goal is not to write code that you can get to work  \n",
    "> The goal is to write code that you **can't get wrong**"
   ]
  },
  {
   "cell_type": "markdown",
   "id": "afbfb552",
   "metadata": {
    "slideshow": {
     "slide_type": "slide"
    }
   },
   "source": [
    "## Vector"
   ]
  },
  {
   "cell_type": "markdown",
   "id": "ba2037da",
   "metadata": {},
   "source": [
    "- Wrap an array\n",
    "- Keep track of how big the array is and how many items we've added\n",
    "- If we run out of room, we get a bigger array, copy the items over, and proceed\n",
    "- always add the next item to the correct spot"
   ]
  },
  {
   "cell_type": "markdown",
   "id": "8fbeb64c",
   "metadata": {
    "slideshow": {
     "slide_type": "-"
    }
   },
   "source": [
    "### `build_vector.cpp`"
   ]
  },
  {
   "cell_type": "markdown",
   "id": "1339ed50",
   "metadata": {
    "slideshow": {
     "slide_type": "notes"
    }
   },
   "source": [
    "Write and discuss:\n",
    "\n",
    "- Constructor and destructor\n",
    "- `push_back` + `grow`\n",
    "- `pop_back`\n",
    "- `size`\n",
    "- `operator []`\n",
    "\n",
    "Note:\n",
    "- `pop_back` just decrements size. Nothing is done to the memory.\n",
    "- what is the significance of returning by value from `operator[]`?"
   ]
  },
  {
   "cell_type": "markdown",
   "id": "1173f0b7",
   "metadata": {
    "slideshow": {
     "slide_type": "slide"
    }
   },
   "source": [
    "## Key Ideas\n",
    "- Arrays\n",
    "  - contiguous memory allocation\n",
    "- Vectors"
   ]
  }
 ],
 "metadata": {
  "celltoolbar": "Slideshow",
  "kernelspec": {
   "display_name": "C++17 (docker)",
   "language": "C++17",
   "name": "xeus-cling"
  },
  "language_info": {
   "codemirror_mode": "text/x-c++src",
   "file_extension": ".cpp",
   "mimetype": "text/x-c++src",
   "name": "c++",
   "version": "17"
  },
  "toc": {
   "base_numbering": 1,
   "nav_menu": {},
   "number_sections": false,
   "sideBar": true,
   "skip_h1_title": true,
   "title_cell": "Table of Contents",
   "title_sidebar": "Contents",
   "toc_cell": false,
   "toc_position": {
    "height": "calc(100% - 180px)",
    "left": "10px",
    "top": "150px",
    "width": "353.391px"
   },
   "toc_section_display": true,
   "toc_window_display": true
  }
 },
 "nbformat": 4,
 "nbformat_minor": 5
}
