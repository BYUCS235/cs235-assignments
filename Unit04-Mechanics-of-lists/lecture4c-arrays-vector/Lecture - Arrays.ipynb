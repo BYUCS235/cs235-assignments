{
 "cells": [
  {
   "cell_type": "markdown",
   "id": "a09c8c5e",
   "metadata": {
    "slideshow": {
     "slide_type": "slide"
    }
   },
   "source": [
    "# Arrays"
   ]
  },
  {
   "cell_type": "code",
   "execution_count": 1,
   "id": "814372d4",
   "metadata": {
    "slideshow": {
     "slide_type": "skip"
    }
   },
   "outputs": [],
   "source": [
    "#include <iostream>\n",
    "using std::cout, std::endl;"
   ]
  },
  {
   "cell_type": "code",
   "execution_count": 2,
   "id": "75ad61f0",
   "metadata": {
    "slideshow": {
     "slide_type": "skip"
    }
   },
   "outputs": [],
   "source": [
    "/*\n",
    "    This method prints the address of the data\n",
    "    i.e. where in memory does the \"thing\" reside\n",
    "*/\n",
    "template <class T>\n",
    "void where(T const& thing) {\n",
    "    printf(\"where: %p\\n\", &thing);\n",
    "}"
   ]
  },
  {
   "cell_type": "code",
   "execution_count": 3,
   "id": "a41877d1",
   "metadata": {
    "slideshow": {
     "slide_type": "skip"
    }
   },
   "outputs": [],
   "source": [
    "/*\n",
    "  This method prints the bytes in RAM that a given variable has\n",
    "  i.e. what are the actual 1s and 0s that occupy the space given to \"thing\"\n",
    "  Prints the bytes in hexidecimal.\n",
    "*/\n",
    "template <class T>\n",
    "void bytes(T const& thing) {\n",
    "    unsigned char* addr = (unsigned char*)&thing;\n",
    "    printf(\"bytes: 0x\");\n",
    "    for (int i = sizeof(T) - 1; i >= 0; i--) {\n",
    "        printf(\"%02x\", addr[i]);\n",
    "    }\n",
    "    printf(\"\\n\");\n",
    "}"
   ]
  },
  {
   "cell_type": "markdown",
   "id": "6174b0a7",
   "metadata": {
    "slideshow": {
     "slide_type": "skip"
    }
   },
   "source": [
    "## Array Allocation"
   ]
  },
  {
   "cell_type": "code",
   "execution_count": 4,
   "id": "d05f3634",
   "metadata": {
    "slideshow": {
     "slide_type": "slide"
    }
   },
   "outputs": [],
   "source": [
    "int* foo = new int[10];"
   ]
  },
  {
   "cell_type": "code",
   "execution_count": 5,
   "id": "b6d5e444",
   "metadata": {
    "slideshow": {
     "slide_type": "fragment"
    }
   },
   "outputs": [
    {
     "name": "stdout",
     "output_type": "stream",
     "text": [
      "where: 0x4015b84070\n"
     ]
    }
   ],
   "source": [
    "where(*foo)"
   ]
  },
  {
   "cell_type": "code",
   "execution_count": 6,
   "id": "e498ed0b",
   "metadata": {
    "slideshow": {
     "slide_type": "fragment"
    }
   },
   "outputs": [
    {
     "name": "stdout",
     "output_type": "stream",
     "text": [
      "where: 0x4015b84070\n"
     ]
    }
   ],
   "source": [
    "where(foo[0])"
   ]
  },
  {
   "cell_type": "code",
   "execution_count": 7,
   "id": "dd55af61",
   "metadata": {},
   "outputs": [
    {
     "name": "stdout",
     "output_type": "stream",
     "text": [
      "where: 0x4015b84074\n"
     ]
    }
   ],
   "source": [
    "where(foo[1])"
   ]
  },
  {
   "cell_type": "code",
   "execution_count": 8,
   "id": "d80c8c8a",
   "metadata": {},
   "outputs": [
    {
     "name": "stdout",
     "output_type": "stream",
     "text": [
      "where: 0x4015b84078\n"
     ]
    }
   ],
   "source": [
    "where(foo[2])"
   ]
  },
  {
   "cell_type": "markdown",
   "id": "2a53eb6a",
   "metadata": {
    "slideshow": {
     "slide_type": "notes"
    }
   },
   "source": [
    "- `new` array syntax\n",
    "- `[]` on arrays does pointer math"
   ]
  },
  {
   "cell_type": "code",
   "execution_count": 9,
   "id": "ba035538",
   "metadata": {
    "slideshow": {
     "slide_type": "slide"
    }
   },
   "outputs": [
    {
     "name": "stdout",
     "output_type": "stream",
     "text": [
      "bytes: 0x11e8b724\n"
     ]
    }
   ],
   "source": [
    "bytes(foo[0])"
   ]
  },
  {
   "cell_type": "code",
   "execution_count": 14,
   "id": "195ff7df",
   "metadata": {
    "slideshow": {
     "slide_type": "fragment"
    }
   },
   "outputs": [
    {
     "name": "stdout",
     "output_type": "stream",
     "text": [
      "bytes: 0x00000000\n",
      "bytes: 0x00000001\n",
      "bytes: 0x00000002\n",
      "bytes: 0x00000003\n",
      "bytes: 0x00000004\n",
      "bytes: 0x00000005\n",
      "bytes: 0x00000006\n",
      "bytes: 0x00000007\n",
      "bytes: 0x00000008\n",
      "bytes: 0x00000009\n"
     ]
    }
   ],
   "source": [
    "for (int i = 0; i < 10; i++) {\n",
    "    bytes(foo[i]);\n",
    "}"
   ]
  },
  {
   "cell_type": "markdown",
   "id": "dfec2efd",
   "metadata": {
    "slideshow": {
     "slide_type": "notes"
    }
   },
   "source": [
    "- Calling `new T[n]` gives you space for `n` `T`s, but doesn't create any `T`s yet.\n",
    "- There are bytes there, but they are just weeds growing in the empty lot you just purchased"
   ]
  },
  {
   "cell_type": "code",
   "execution_count": 12,
   "id": "99342fcc",
   "metadata": {
    "slideshow": {
     "slide_type": "slide"
    }
   },
   "outputs": [],
   "source": [
    "for (int i = 0; i < 10; i++) {\n",
    "    foo[i] = i;\n",
    "}"
   ]
  },
  {
   "cell_type": "code",
   "execution_count": 13,
   "id": "f1edfab0",
   "metadata": {
    "slideshow": {
     "slide_type": "fragment"
    }
   },
   "outputs": [
    {
     "name": "stdout",
     "output_type": "stream",
     "text": [
      "bytes: 0x00000000\n",
      "bytes: 0x00000001\n",
      "bytes: 0x00000002\n",
      "bytes: 0x00000003\n",
      "bytes: 0x00000004\n",
      "bytes: 0x00000005\n",
      "bytes: 0x00000006\n",
      "bytes: 0x00000007\n",
      "bytes: 0x00000008\n",
      "bytes: 0x00000009\n"
     ]
    }
   ],
   "source": [
    "for (int i = 0; i < 10; i++) {\n",
    "    bytes(foo[i]);\n",
    "}"
   ]
  },
  {
   "cell_type": "code",
   "execution_count": 20,
   "id": "fc72745a",
   "metadata": {
    "slideshow": {
     "slide_type": "fragment"
    }
   },
   "outputs": [
    {
     "name": "stdout",
     "output_type": "stream",
     "text": [
      "bytes: 0x00000091\n",
      "bytes: 0x00000000\n",
      "bytes: 0x00000000\n",
      "bytes: 0x00000000\n",
      "bytes: 0x00068030\n",
      "bytes: 0x00000040\n",
      "bytes: 0x00000000\n",
      "bytes: 0x00000000\n",
      "bytes: 0x00000000\n",
      "bytes: 0x60000000\n"
     ]
    }
   ],
   "source": [
    "for (int i = 10; i < 20; i++) {\n",
    "    bytes(foo[i]);\n",
    "}"
   ]
  },
  {
   "cell_type": "markdown",
   "id": "fcb92e2b",
   "metadata": {
    "slideshow": {
     "slide_type": "slide"
    }
   },
   "source": [
    "What are the advantages and disadvantages of an array vs a linked list?"
   ]
  },
  {
   "cell_type": "markdown",
   "id": "86c2dc22",
   "metadata": {
    "slideshow": {
     "slide_type": "notes"
    }
   },
   "source": [
    "- arrays don't protect you from going off the end\n",
    "- It's not: can you get it right? Go for: you can't get it wrong.\n",
    "- So wrap the array in a class -> Vector!"
   ]
  },
  {
   "cell_type": "markdown",
   "id": "afbfb552",
   "metadata": {
    "slideshow": {
     "slide_type": "slide"
    }
   },
   "source": [
    "## Vector"
   ]
  },
  {
   "cell_type": "markdown",
   "id": "8fbeb64c",
   "metadata": {
    "slideshow": {
     "slide_type": "slide"
    }
   },
   "source": [
    "The C++ STL `vector` uses an array to store it's values (instead of linked nodes).\n",
    "\n",
    "### `build_vector.cpp`"
   ]
  },
  {
   "cell_type": "markdown",
   "id": "1339ed50",
   "metadata": {
    "slideshow": {
     "slide_type": "notes"
    }
   },
   "source": [
    "Write and discuss:\n",
    "\n",
    "- Constructor and destructor\n",
    "- `push_back` + `grow`\n",
    "- `pop_back`\n",
    "- `size`\n",
    "- `operator []`\n",
    "\n",
    "Note:\n",
    "- `pop_back` just decrements size. Nothing is done to the memory.\n",
    "- what is the significance of returning by value from `operator[]`?"
   ]
  },
  {
   "cell_type": "markdown",
   "id": "1173f0b7",
   "metadata": {},
   "source": [
    "## Key Ideas\n",
    "- Arrays\n",
    "  - contiguous memory allocation\n",
    "- Vectors"
   ]
  }
 ],
 "metadata": {
  "celltoolbar": "Slideshow",
  "kernelspec": {
   "display_name": "C++17 (docker)",
   "language": "C++17",
   "name": "xeus-cling"
  },
  "language_info": {
   "codemirror_mode": "text/x-c++src",
   "file_extension": ".cpp",
   "mimetype": "text/x-c++src",
   "name": "c++",
   "version": "17"
  },
  "toc": {
   "base_numbering": 1,
   "nav_menu": {},
   "number_sections": false,
   "sideBar": true,
   "skip_h1_title": true,
   "title_cell": "Table of Contents",
   "title_sidebar": "Contents",
   "toc_cell": false,
   "toc_position": {
    "height": "calc(100% - 180px)",
    "left": "10px",
    "top": "150px",
    "width": "353.391px"
   },
   "toc_section_display": true,
   "toc_window_display": true
  }
 },
 "nbformat": 4,
 "nbformat_minor": 5
}
