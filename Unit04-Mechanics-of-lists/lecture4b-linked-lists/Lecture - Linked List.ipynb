{
 "cells": [
  {
   "cell_type": "markdown",
   "id": "df24b21c",
   "metadata": {
    "slideshow": {
     "slide_type": "slide"
    }
   },
   "source": [
    "# Linked List"
   ]
  },
  {
   "cell_type": "markdown",
   "id": "ac4f68d2",
   "metadata": {
    "slideshow": {
     "slide_type": "slide"
    }
   },
   "source": [
    "A double-linked list Node has both `prev` and `next` pointers.\n",
    "\n",
    "What advantages does a double-linked list have over a single-linked list?\n",
    "\n",
    "What disadvantages?"
   ]
  },
  {
   "cell_type": "markdown",
   "id": "b42a58e7",
   "metadata": {
    "slideshow": {
     "slide_type": "slide"
    }
   },
   "source": [
    "## `push_back`"
   ]
  },
  {
   "cell_type": "markdown",
   "id": "a4d09f72",
   "metadata": {
    "slideshow": {
     "slide_type": "slide"
    }
   },
   "source": [
    "## `push_front`"
   ]
  },
  {
   "cell_type": "markdown",
   "id": "9366a819",
   "metadata": {
    "slideshow": {
     "slide_type": "slide"
    }
   },
   "source": [
    "## `insert`"
   ]
  },
  {
   "cell_type": "markdown",
   "id": "c4aa4b79",
   "metadata": {
    "slideshow": {
     "slide_type": "slide"
    }
   },
   "source": [
    "## `remove`"
   ]
  },
  {
   "cell_type": "markdown",
   "id": "e8c4de8f",
   "metadata": {
    "slideshow": {
     "slide_type": "slide"
    }
   },
   "source": [
    "## `DLList.h`\n",
    "\n",
    "```\n",
    "cp ../homework4b-dllist/stubs/DLList.h ./\n",
    "```"
   ]
  },
  {
   "cell_type": "markdown",
   "id": "544fbed3",
   "metadata": {
    "slideshow": {
     "slide_type": "notes"
    }
   },
   "source": [
    "- Doubly-linked structure and algorithms\n",
    "  - push_back\n",
    "  - push_front\n",
    "  - insert\n",
    "  - remove\n",
    "- Implement doubly-linked list\n",
    "  - use HW spec as start"
   ]
  }
 ],
 "metadata": {
  "celltoolbar": "Slideshow",
  "kernelspec": {
   "display_name": "C++17 (docker)",
   "language": "C++17",
   "name": "xeus-cling"
  },
  "language_info": {
   "codemirror_mode": "text/x-c++src",
   "file_extension": ".cpp",
   "mimetype": "text/x-c++src",
   "name": "c++",
   "version": "17"
  },
  "toc": {
   "base_numbering": 1,
   "nav_menu": {},
   "number_sections": false,
   "sideBar": true,
   "skip_h1_title": true,
   "title_cell": "Table of Contents",
   "title_sidebar": "Contents",
   "toc_cell": false,
   "toc_position": {},
   "toc_section_display": true,
   "toc_window_display": false
  }
 },
 "nbformat": 4,
 "nbformat_minor": 5
}
