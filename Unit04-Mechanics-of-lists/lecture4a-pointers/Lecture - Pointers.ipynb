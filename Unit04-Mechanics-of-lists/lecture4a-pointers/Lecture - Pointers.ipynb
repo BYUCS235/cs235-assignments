{
 "cells": [
  {
   "cell_type": "markdown",
   "id": "ac2727a3",
   "metadata": {
    "slideshow": {
     "slide_type": "slide"
    }
   },
   "source": [
    "# Pointers"
   ]
  },
  {
   "cell_type": "markdown",
   "id": "00db2beb",
   "metadata": {},
   "source": [
    "- bytes and addresses\n",
    "- motivating the heap\n",
    "  - the stack has a fixed size based on the values identified at compile time\n",
    "    - what if you need a dynamic number of items (i.e. a data structure)?\n",
    "- motivating pointers\n",
    "  - when data is on the stack, the compiler knows which variables refer to which locations in memory\n",
    "  - if I have dynamic data, how do I create and refer to those slots?"
   ]
  },
  {
   "cell_type": "code",
   "execution_count": 1,
   "id": "743eee68",
   "metadata": {
    "slideshow": {
     "slide_type": "slide"
    }
   },
   "outputs": [],
   "source": [
    "#include <iostream>\n",
    "using std::cout, std::endl;"
   ]
  },
  {
   "cell_type": "code",
   "execution_count": 2,
   "id": "280ea539",
   "metadata": {
    "slideshow": {
     "slide_type": "slide"
    }
   },
   "outputs": [],
   "source": [
    "class HasInt {\n",
    "    int the_int;\n",
    "    public:\n",
    "    HasInt(int value) : the_int(value) {}\n",
    "    void set_int(int new_value) { the_int = new_value; }\n",
    "    int get_int() const { return the_int; }\n",
    "}"
   ]
  },
  {
   "cell_type": "code",
   "execution_count": 3,
   "id": "c94dd8f0",
   "metadata": {
    "slideshow": {
     "slide_type": "slide"
    }
   },
   "outputs": [
    {
     "name": "stdout",
     "output_type": "stream",
     "text": [
      "8\n"
     ]
    }
   ],
   "source": [
    "HasInt first(8);\n",
    "cout << first.get_int() << endl;"
   ]
  },
  {
   "cell_type": "code",
   "execution_count": 4,
   "id": "8753a7de",
   "metadata": {
    "slideshow": {
     "slide_type": "fragment"
    }
   },
   "outputs": [
    {
     "name": "stdout",
     "output_type": "stream",
     "text": [
      "8\n"
     ]
    }
   ],
   "source": [
    "HasInt second = first;\n",
    "cout << second.get_int() << endl;"
   ]
  },
  {
   "cell_type": "code",
   "execution_count": 5,
   "id": "c4b01b0f",
   "metadata": {
    "slideshow": {
     "slide_type": "fragment"
    }
   },
   "outputs": [
    {
     "name": "stdout",
     "output_type": "stream",
     "text": [
      "3\n"
     ]
    }
   ],
   "source": [
    "second.set_int(3);\n",
    "cout << second.get_int() << endl;"
   ]
  },
  {
   "cell_type": "code",
   "execution_count": 6,
   "id": "11060fff",
   "metadata": {
    "slideshow": {
     "slide_type": "fragment"
    }
   },
   "outputs": [
    {
     "name": "stdout",
     "output_type": "stream",
     "text": [
      "8\n"
     ]
    }
   ],
   "source": [
    "cout << first.get_int() << endl;"
   ]
  },
  {
   "cell_type": "code",
   "execution_count": null,
   "id": "8651ae8e",
   "metadata": {
    "slideshow": {
     "slide_type": "slide"
    }
   },
   "outputs": [],
   "source": [
    "/*\n",
    "    This method prints the address of the data\n",
    "*/\n",
    "template <class T>\n",
    "void where(T const& thing) {\n",
    "    printf(\"%p\\n\", &thing);\n",
    "}"
   ]
  },
  {
   "cell_type": "code",
   "execution_count": null,
   "id": "c514d1cd",
   "metadata": {
    "slideshow": {
     "slide_type": "slide"
    }
   },
   "outputs": [],
   "source": [
    "/*\n",
    "  This method prints the bytes in RAM that a given variable has\n",
    "*/\n",
    "template <class T>\n",
    "void bytes(T const& thing) {\n",
    "    unsigned char* addr = (unsigned char*)&thing;\n",
    "    printf(\"0x\");\n",
    "    for (int i = sizeof(T) - 1; i >= 0; i--) {\n",
    "        printf(\"%02x\", addr[i]);\n",
    "    }\n",
    "    printf(\"\\n\");\n",
    "}"
   ]
  },
  {
   "cell_type": "code",
   "execution_count": null,
   "id": "84b22e72",
   "metadata": {},
   "outputs": [],
   "source": [
    "where(first)"
   ]
  },
  {
   "cell_type": "code",
   "execution_count": null,
   "id": "76ff3618",
   "metadata": {},
   "outputs": [],
   "source": [
    "where(second)"
   ]
  },
  {
   "cell_type": "markdown",
   "id": "7966a682",
   "metadata": {
    "slideshow": {
     "slide_type": "slide"
    }
   },
   "source": [
    "## C++ Memory Model\n",
    "\n",
    "- When you declare a variable, you are declaring a chunk of RAM big enough for the variable type\n",
    "- When you assign a variable a new value, you change the bytes at that variable's location in RAM\n",
    "\n",
    "```c++\n",
    "HasInt second = first;\n",
    "```\n",
    "- Declares a new chunk of RAM big enough for an `HasInt`\n",
    "- **Copies** the bytes from the RAM for `first` to the RAM for `second`\n",
    "\n",
    "Python and Java are different. The same syntax as above:\n",
    "\n",
    "```python\n",
    "second = first\n",
    "```\n",
    "or \n",
    "```java\n",
    "HasInt second = first;\n",
    "``` \n",
    "make `first` and `second` refer to the same object; changes on that one object are reflected through either variable name."
   ]
  },
  {
   "cell_type": "markdown",
   "id": "fa050dbc",
   "metadata": {
    "slideshow": {
     "slide_type": "fragment"
    }
   },
   "source": [
    "In C++, you achieve similar behavior to Python or Java using **pointers**."
   ]
  },
  {
   "cell_type": "markdown",
   "id": "04a86a6a",
   "metadata": {
    "slideshow": {
     "slide_type": "slide"
    }
   },
   "source": [
    "## Pointers"
   ]
  },
  {
   "cell_type": "code",
   "execution_count": null,
   "id": "b3c97226",
   "metadata": {
    "slideshow": {
     "slide_type": "slide"
    }
   },
   "outputs": [],
   "source": [
    "HasInt* one = new HasInt(25);\n",
    "cout << one->get_int() << endl;"
   ]
  },
  {
   "cell_type": "markdown",
   "id": "0e3960cd",
   "metadata": {
    "slideshow": {
     "slide_type": "slide"
    }
   },
   "source": [
    "- `HasInt*` is the type for \"a pointer to a HasInt\"\n",
    "- `new` creates space for the `HasInt` on the heap, initializes the object, and returns a **pointer** to that space in memory\n",
    "- `->` is how you access information through a pointer to an object"
   ]
  },
  {
   "cell_type": "code",
   "execution_count": null,
   "id": "3f56ecd7",
   "metadata": {
    "slideshow": {
     "slide_type": "fragment"
    }
   },
   "outputs": [],
   "source": [
    "HasInt* two = one;\n",
    "cout << two->get_int() << endl;"
   ]
  },
  {
   "cell_type": "code",
   "execution_count": null,
   "id": "e24aa811",
   "metadata": {
    "slideshow": {
     "slide_type": "fragment"
    }
   },
   "outputs": [],
   "source": [
    "two->set_int(42);\n",
    "cout << two->get_int() << endl;"
   ]
  },
  {
   "cell_type": "code",
   "execution_count": null,
   "id": "053dd2d1",
   "metadata": {
    "slideshow": {
     "slide_type": "fragment"
    }
   },
   "outputs": [],
   "source": [
    "cout << one->get_int() << endl;"
   ]
  },
  {
   "cell_type": "code",
   "execution_count": null,
   "id": "dea2b054",
   "metadata": {
    "slideshow": {
     "slide_type": "slide"
    }
   },
   "outputs": [],
   "source": [
    "cout << (*one).get_int() << endl;"
   ]
  },
  {
   "cell_type": "markdown",
   "id": "5b259a48",
   "metadata": {
    "slideshow": {
     "slide_type": "fragment"
    }
   },
   "source": [
    "- you can also use the unary `*` operator to get the object a pointer points to"
   ]
  },
  {
   "cell_type": "markdown",
   "id": "4c6a53d5",
   "metadata": {
    "slideshow": {
     "slide_type": "slide"
    }
   },
   "source": [
    "So, if `one` and `two` point to the same object (i.e. the same chunk of RAM), then..."
   ]
  },
  {
   "cell_type": "code",
   "execution_count": null,
   "id": "ebc6555b",
   "metadata": {},
   "outputs": [],
   "source": [
    "where(*one)"
   ]
  },
  {
   "cell_type": "code",
   "execution_count": null,
   "id": "ad39495f",
   "metadata": {},
   "outputs": [],
   "source": [
    "where(*two)"
   ]
  },
  {
   "cell_type": "code",
   "execution_count": null,
   "id": "beb0208a",
   "metadata": {},
   "outputs": [],
   "source": [
    "bytes(first)"
   ]
  },
  {
   "cell_type": "code",
   "execution_count": null,
   "id": "cac91913",
   "metadata": {},
   "outputs": [],
   "source": [
    "bytes(second)"
   ]
  },
  {
   "cell_type": "code",
   "execution_count": null,
   "id": "96c576c1",
   "metadata": {
    "slideshow": {
     "slide_type": "slide"
    }
   },
   "outputs": [],
   "source": [
    "bytes(*one)"
   ]
  },
  {
   "cell_type": "code",
   "execution_count": null,
   "id": "350c106c",
   "metadata": {},
   "outputs": [],
   "source": [
    "bytes(*two)"
   ]
  },
  {
   "cell_type": "markdown",
   "id": "4c5a2215",
   "metadata": {
    "slideshow": {
     "slide_type": "fragment"
    }
   },
   "source": [
    "0x2A (hexidecimal) is the same as $2 * 16 + 10 = 42$"
   ]
  },
  {
   "cell_type": "code",
   "execution_count": null,
   "id": "d1d87faa",
   "metadata": {
    "slideshow": {
     "slide_type": "slide"
    }
   },
   "outputs": [],
   "source": [
    "HasInt* pointer = new HasInt(7);\n",
    "where(*pointer)  // i.e. where is the HasInt actually stored?"
   ]
  },
  {
   "cell_type": "code",
   "execution_count": null,
   "id": "848941b2",
   "metadata": {},
   "outputs": [],
   "source": [
    "bytes(pointer)  // i.e. what are the bytes in pointer?"
   ]
  },
  {
   "cell_type": "markdown",
   "id": "5db07c94",
   "metadata": {
    "slideshow": {
     "slide_type": "notes"
    }
   },
   "source": [
    "- Draw this out!\n",
    "- `pointer` exists somewhere. It's a `HasInt*`. It has information, encoded in bytes.\n",
    "- `pointer` is a pointer to a `HasInt`. That `HasInt` exists somewhere and has data. That somewhere has an address.\n",
    "- They bytes that `pointer` stores are the address to the `HasInt`!"
   ]
  },
  {
   "cell_type": "markdown",
   "id": "deceb0a7",
   "metadata": {
    "slideshow": {
     "slide_type": "slide"
    }
   },
   "source": [
    "All data are stored as bytes in RAM.\n",
    "\n",
    "Each byte has an address (or how would you find it?)\n",
    "\n",
    "That address is data, and all data are stored as bytes, so an address is also bytes.\n",
    "\n",
    "Variables are names for places in RAM. There is an address for every variable. \n",
    "\n",
    "Because addresses are data, you can store them in a variable.\n",
    "\n",
    "A variable that stores an address is called a **pointer**!"
   ]
  },
  {
   "cell_type": "code",
   "execution_count": null,
   "id": "7effb193",
   "metadata": {
    "slideshow": {
     "slide_type": "slide"
    }
   },
   "outputs": [],
   "source": [
    "int* number = new int(5);\n",
    "where(number);\n",
    "bytes(number);\n",
    "where(*number);\n",
    "bytes(*number);"
   ]
  },
  {
   "cell_type": "code",
   "execution_count": null,
   "id": "8991bca0",
   "metadata": {
    "slideshow": {
     "slide_type": "slide"
    }
   },
   "outputs": [],
   "source": [
    "HasInt* a = new HasInt(2);\n",
    "HasInt* b = new HasInt(1);\n",
    "HasInt* c = a;\n",
    "bytes(a);\n",
    "bytes(b);\n",
    "bytes(c);"
   ]
  },
  {
   "cell_type": "code",
   "execution_count": null,
   "id": "9a6b7923",
   "metadata": {
    "slideshow": {
     "slide_type": "fragment"
    }
   },
   "outputs": [],
   "source": [
    "c = b;\n",
    "bytes(a);\n",
    "bytes(b);\n",
    "bytes(c);"
   ]
  },
  {
   "cell_type": "markdown",
   "id": "2db9318c",
   "metadata": {
    "slideshow": {
     "slide_type": "slide"
    }
   },
   "source": [
    "- remember, what does `=` do in c++?\n",
    "  - it **copies** the bytes from one variable to another\n",
    "- so when you assign one pointer to another, you copy the bytes (i.e. an address) of one to the other"
   ]
  },
  {
   "cell_type": "markdown",
   "id": "4f4912d5",
   "metadata": {
    "slideshow": {
     "slide_type": "slide"
    }
   },
   "source": [
    "In C++, there are bytes stored in RAM. That's it.\n",
    "\n",
    "Every variable stores its own bytes.\n",
    "\n",
    "If you want to have two variables refer to the same bytes, you need pointers, i.e.:\n",
    "\n",
    "- Have two different variables that both store the address to the same object.\n",
    "\n",
    "Variables that store addresses are called **pointers**"
   ]
  },
  {
   "cell_type": "markdown",
   "id": "6a46d311",
   "metadata": {
    "slideshow": {
     "slide_type": "slide"
    }
   },
   "source": [
    "## `nullptr`"
   ]
  },
  {
   "cell_type": "code",
   "execution_count": null,
   "id": "9a7bfa11",
   "metadata": {},
   "outputs": [],
   "source": [
    "HasInt* foo = nullptr;  // Similar to None in Python or null in Java"
   ]
  },
  {
   "cell_type": "code",
   "execution_count": null,
   "id": "302900dd",
   "metadata": {
    "slideshow": {
     "slide_type": "fragment"
    }
   },
   "outputs": [],
   "source": [
    "bytes(foo)"
   ]
  },
  {
   "cell_type": "code",
   "execution_count": null,
   "id": "4299341c",
   "metadata": {
    "slideshow": {
     "slide_type": "fragment"
    }
   },
   "outputs": [],
   "source": [
    "bytes(nullptr)"
   ]
  },
  {
   "cell_type": "markdown",
   "id": "54119781",
   "metadata": {
    "slideshow": {
     "slide_type": "slide"
    }
   },
   "source": [
    "## `singly_linked.cpp`"
   ]
  },
  {
   "cell_type": "markdown",
   "id": "c0804647",
   "metadata": {
    "slideshow": {
     "slide_type": "slide"
    }
   },
   "source": [
    "- `struct`\n",
    "- nested class/struct `Node`\n",
    "  - existence of class if private to `SLList`\n",
    "  - is in scope of the outer `template`\n",
    "  - shouldn't expose `Node` in any of the public methods\n",
    "- pointer references `Node *&node`\n",
    "  - allows changes to the pointer\n",
    "  - you can pass in a pointer with value `nullptr` and make the value not be `nullptr` anymore\n",
    "  - Java and Python do not have an equivalent concept of passing by reference\n",
    "- deliberate choice of recursive implementation\n",
    "  - familiar to CS 111 students\n",
    "  - similar to encouraged BST/AVL implementation\n",
    "  - start the conversation on `Node *&node`\n",
    "  - understand both `_add` and `_clear`\n",
    "    - note the post-recursion logic in `_clear`\n",
    "- Destructor `~SSList`\n",
    "  - to clean up memory allocated by the class with `new`\n",
    "  - `delete`"
   ]
  }
 ],
 "metadata": {
  "celltoolbar": "Slideshow",
  "kernelspec": {
   "display_name": "C++17 (docker)",
   "language": "C++17",
   "name": "xeus-cling"
  },
  "language_info": {
   "codemirror_mode": "text/x-c++src",
   "file_extension": ".cpp",
   "mimetype": "text/x-c++src",
   "name": "c++",
   "version": "17"
  },
  "toc": {
   "base_numbering": 1,
   "nav_menu": {},
   "number_sections": false,
   "sideBar": true,
   "skip_h1_title": true,
   "title_cell": "Table of Contents",
   "title_sidebar": "Contents",
   "toc_cell": false,
   "toc_position": {
    "height": "calc(100% - 180px)",
    "left": "10px",
    "top": "150px",
    "width": "384px"
   },
   "toc_section_display": true,
   "toc_window_display": true
  }
 },
 "nbformat": 4,
 "nbformat_minor": 5
}
