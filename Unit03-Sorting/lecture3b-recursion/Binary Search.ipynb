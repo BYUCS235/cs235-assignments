{
 "cells": [
  {
   "cell_type": "markdown",
   "id": "f3e9d277",
   "metadata": {
    "slideshow": {
     "slide_type": "slide"
    }
   },
   "source": [
    "# Binary Search"
   ]
  },
  {
   "cell_type": "code",
   "execution_count": 1,
   "id": "f948a1bf",
   "metadata": {
    "slideshow": {
     "slide_type": "slide"
    }
   },
   "outputs": [],
   "source": [
    "#include <vector>\n",
    "using std::vector;\n",
    "\n",
    "#include <iostream>\n",
    "using std::cout, std::endl;\n",
    "\n",
    "#include <string>\n",
    "using std::string;"
   ]
  },
  {
   "cell_type": "code",
   "execution_count": 4,
   "id": "aee9a3ef",
   "metadata": {
    "slideshow": {
     "slide_type": "slide"
    }
   },
   "outputs": [],
   "source": [
    "template <class T>\n",
    "bool contains(vector<T> const& items, size_t start, size_t end, T item) {\n",
    "    cout << \"start: \" << start << \" end: \" << end;\n",
    "    \n",
    "    if (start >= end) {\n",
    "        return false;\n",
    "    }\n",
    "    \n",
    "    size_t mid = (end - start) / 2 + start;\n",
    "    cout << \" mid: \" << mid << endl;\n",
    "    \n",
    "    if (items[mid] == item) {\n",
    "        return true;\n",
    "        \n",
    "    } else if (items[mid] < item) {\n",
    "        return contains(items, mid+1, end, item);\n",
    "        \n",
    "    } else {\n",
    "        return contains(items, start, mid, item);\n",
    "    }\n",
    "}"
   ]
  },
  {
   "cell_type": "code",
   "execution_count": 5,
   "id": "f39310c6",
   "metadata": {
    "slideshow": {
     "slide_type": "slide"
    }
   },
   "outputs": [
    {
     "name": "stdout",
     "output_type": "stream",
     "text": [
      "start: 0 end: 10 mid: 5\n",
      "start: 0 end: 5 mid: 2\n",
      "start: 3 end: 5 mid: 4\n"
     ]
    },
    {
     "data": {
      "text/plain": [
       "true"
      ]
     },
     "execution_count": 5,
     "metadata": {},
     "output_type": "execute_result"
    }
   ],
   "source": [
    "vector<int> numbers = {1, 3, 5, 7, 9, 11, 13, 15, 17, 19};\n",
    "contains(numbers, 0, numbers.size(), 9)"
   ]
  },
  {
   "cell_type": "code",
   "execution_count": 6,
   "id": "9f8a11c9",
   "metadata": {},
   "outputs": [
    {
     "name": "stdout",
     "output_type": "stream",
     "text": [
      "start: 0 end: 10 mid: 5\n",
      "start: 0 end: 5 mid: 2\n",
      "start: 3 end: 5 mid: 4\n",
      "start: 3 end: 4 mid: 3\n",
      "start: 4 end: 4"
     ]
    },
    {
     "data": {
      "text/plain": [
       "false"
      ]
     },
     "execution_count": 6,
     "metadata": {},
     "output_type": "execute_result"
    }
   ],
   "source": [
    "vector<int> numbers = {1, 3, 5, 7, 9, 11, 13, 15, 17, 19};\n",
    "contains(numbers, 0, numbers.size(), 8)"
   ]
  }
 ],
 "metadata": {
  "celltoolbar": "Slideshow",
  "kernelspec": {
   "display_name": "C++17 (docker)",
   "language": "C++17",
   "name": "xeus-cling"
  },
  "language_info": {
   "codemirror_mode": "text/x-c++src",
   "file_extension": ".cpp",
   "mimetype": "text/x-c++src",
   "name": "c++",
   "version": "17"
  }
 },
 "nbformat": 4,
 "nbformat_minor": 5
}
