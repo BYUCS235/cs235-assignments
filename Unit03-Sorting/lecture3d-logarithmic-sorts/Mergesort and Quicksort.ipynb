{
 "cells": [
  {
   "cell_type": "markdown",
   "id": "1dd6ccec",
   "metadata": {
    "slideshow": {
     "slide_type": "slide"
    }
   },
   "source": [
    "> If I have seen further it is by standing on the shoulders of Giants.  \n",
    "> *Isaac Newton*"
   ]
  },
  {
   "cell_type": "markdown",
   "id": "68e3b84a",
   "metadata": {
    "slideshow": {
     "slide_type": "slide"
    }
   },
   "source": [
    "# Mergesort and Quicksort"
   ]
  },
  {
   "cell_type": "markdown",
   "id": "e2d645f5",
   "metadata": {
    "slideshow": {
     "slide_type": "slide"
    }
   },
   "source": [
    "Selection-sort and insertion-sort were $O(n^2)$ in the average case.\n",
    "\n",
    "As always in our quest for faster and better algorithms, we ask once again:\n",
    "\n",
    "> Can we do better?\n"
   ]
  },
  {
   "cell_type": "markdown",
   "id": "c10ebc9d",
   "metadata": {
    "slideshow": {
     "slide_type": "slide"
    }
   },
   "source": [
    "## Mergesort"
   ]
  },
  {
   "cell_type": "markdown",
   "id": "0e98ea98",
   "metadata": {
    "slideshow": {
     "slide_type": "slide"
    }
   },
   "source": [
    "```\n",
    "if the size of the List is at least 2    \n",
    "  split the List into the left half and the right half\n",
    "  recursively sort left\n",
    "  recursively sort right\n",
    "  merge left and right into one List\n",
    "end if\n",
    "```\n",
    "\n",
    "```\n",
    "1 3 5   2 4 6\n",
    "\n",
    "1 2 3 4 5 6\n",
    "```"
   ]
  },
  {
   "cell_type": "markdown",
   "id": "e8501bc6",
   "metadata": {
    "slideshow": {
     "slide_type": "slide"
    }
   },
   "source": [
    "What are the contents of `left` and `right` after each recursive call?\n",
    "\n",
    "```\n",
    "8 5 2 7 7 6 3 4\n",
    "```"
   ]
  },
  {
   "cell_type": "markdown",
   "id": "354ce459",
   "metadata": {
    "slideshow": {
     "slide_type": "fragment"
    }
   },
   "source": [
    "```\n",
    "list: 8 5 2 7 7 6 3 4\n",
    "left: 8 5 2 7 \n",
    "right:        7 6 3 4\n",
    "```"
   ]
  },
  {
   "cell_type": "markdown",
   "id": "94fd3713",
   "metadata": {
    "slideshow": {
     "slide_type": "fragment"
    }
   },
   "source": [
    "```\n",
    "list: 8 5 2 7 \n",
    "left: 8 5\n",
    "right:    2 7\n",
    "```"
   ]
  },
  {
   "cell_type": "markdown",
   "id": "88c5d86a",
   "metadata": {
    "slideshow": {
     "slide_type": "fragment"
    }
   },
   "source": [
    "```\n",
    "list: 8 5\n",
    "left: 8\n",
    "right:  5\n",
    "```"
   ]
  },
  {
   "cell_type": "markdown",
   "id": "1b35ccd3",
   "metadata": {
    "slideshow": {
     "slide_type": "slide"
    }
   },
   "source": [
    "We'll assume we divided the right side the same way."
   ]
  },
  {
   "cell_type": "markdown",
   "id": "3c689320",
   "metadata": {
    "slideshow": {
     "slide_type": "slide"
    }
   },
   "source": [
    "#### How do you merge two sorted halves?\n",
    "\n",
    "```\n",
    "left: 8\n",
    "right: 5\n",
    "merged: 5 8\n",
    "```"
   ]
  },
  {
   "cell_type": "markdown",
   "id": "72c9bbfb",
   "metadata": {
    "slideshow": {
     "slide_type": "fragment"
    }
   },
   "source": [
    "```\n",
    "left: 5 8\n",
    "right: 2 7\n",
    "merged: 2 5 7 8 \n",
    "```"
   ]
  },
  {
   "cell_type": "markdown",
   "id": "da6d056b",
   "metadata": {
    "slideshow": {
     "slide_type": "fragment"
    }
   },
   "source": [
    "```\n",
    "left: 2 5 7 8\n",
    "right: 3 4 6 7\n",
    "merged: 2 3 4 5 6 7 7 8\n",
    "```"
   ]
  },
  {
   "cell_type": "markdown",
   "id": "d4f3c019",
   "metadata": {
    "slideshow": {
     "slide_type": "slide"
    }
   },
   "source": [
    "### Activity\n",
    "\n",
    "Work with a partner. Show each step of mergesort on the following list:\n",
    "\n",
    "```\n",
    "8 5 4 6 2 3 4 1\n",
    "```"
   ]
  },
  {
   "cell_type": "markdown",
   "id": "237370a6",
   "metadata": {
    "slideshow": {
     "slide_type": "fragment"
    }
   },
   "source": [
    "```\n",
    "8 5 4 6 | 2 3 4 1\n",
    "\n",
    "8 5 | 4 6 | 2 3 | 4 1\n",
    "\n",
    "8 | 5 | 4 | 6 | 2 | 3 | 4 | 1\n",
    "\n",
    "5 8 | 4 6 | 2 3 | 1 4\n",
    "\n",
    "4 5 6 8 | 1 2 3 4\n",
    "\n",
    "1 2 3 4 4 5 6 8\n",
    "\n",
    "```"
   ]
  },
  {
   "cell_type": "markdown",
   "id": "c6f4bcf4",
   "metadata": {
    "slideshow": {
     "slide_type": "slide"
    }
   },
   "source": [
    "### Mergesort Pseudo-code\n",
    "\n",
    "```\n",
    "mergeSort ( list ) {\n",
    "  if ( list.size > 1 ) {\n",
    "    split( list, left, right );\n",
    "    mergeSort( left );\n",
    "    mergeSort( right );\n",
    "    merge( left, right, list );\n",
    "  }\n",
    "}\n",
    "```\n",
    "```\n",
    "split ( list, left, right ) {\n",
    "  for each item in the left half of list\n",
    "    add the item to left\n",
    "  for each item in the right half of list\n",
    "    add the item to right\n",
    "}\n",
    "```\n",
    "```\n",
    "merge( left, right, list ) {\n",
    "  while both left and right have more items\n",
    "    if the left item is less than the right item\n",
    "      add the left item to list\n",
    "    else\n",
    "      add the right item to list\n",
    "  while left has more items\n",
    "    add the left item to list\n",
    "  while right has more items\n",
    "    add the right item to list\n",
    "}\n",
    "```"
   ]
  },
  {
   "cell_type": "markdown",
   "id": "def5b51b",
   "metadata": {
    "slideshow": {
     "slide_type": "slide"
    }
   },
   "source": [
    "- What is the base case?\n",
    "- What is the running time for `split`?\n",
    "- What is the running time for `merge`?\n",
    "- How many times do `split` and `merge` get called?\n",
    "- What is the runtime complexity of `mergeSort`?"
   ]
  },
  {
   "cell_type": "markdown",
   "id": "707f94e8",
   "metadata": {
    "slideshow": {
     "slide_type": "slide"
    }
   },
   "source": [
    "- Does the running time of mergesort depend on the kind of input you give it?\n",
    "  - Sorted?\n",
    "  - Reversed?\n",
    "  - Random?"
   ]
  },
  {
   "cell_type": "markdown",
   "id": "dc601cd4",
   "metadata": {
    "slideshow": {
     "slide_type": "slide"
    }
   },
   "source": [
    "- How much space does mergesort need?"
   ]
  },
  {
   "cell_type": "markdown",
   "id": "b9c3522e",
   "metadata": {
    "slideshow": {
     "slide_type": "slide"
    }
   },
   "source": [
    "### Visualizing Mergesort\n",
    "\n",
    "```\n",
    "5 4 2 3 6 1\n",
    "5 4 2|3 6 1\n",
    "5|4 2|3|6 1\n",
    "5|4|2|3|6|1\n",
    "4 5|2|3 6|1\n",
    "2 4 5|1 3 6\n",
    "1 2 3 4 5 6\n",
    "```\n",
    "\n",
    "- At each layer, how much work does mergesort do to split?\n",
    "  - Copy each item into its respective `left` or `right` list. $O(n)$\n",
    "- At each layer, how much work does mergesort do to merge?\n",
    "  - Copy each item from its respective `left` or `right` list into the respective merged list. $O(n)$\n",
    "- How many layers are there?\n",
    "  - How many times can I halve the list? $O(\\log n)$\n",
    "- Total runtime: $O(n) \\cdot O(\\log n) = O(n \\log n)$"
   ]
  },
  {
   "cell_type": "markdown",
   "id": "5474bbd2",
   "metadata": {
    "slideshow": {
     "slide_type": "slide"
    }
   },
   "source": [
    "### Mergesort\n",
    "\n",
    "- $O(n \\log n)$ running time\n",
    "  - Even if the input is sorted, reversed, or random\n",
    "- $O(n)$ space, but needs to store the left and right copies\n"
   ]
  },
  {
   "cell_type": "code",
   "execution_count": 3,
   "id": "8661085b",
   "metadata": {
    "slideshow": {
     "slide_type": "slide"
    }
   },
   "outputs": [],
   "source": [
    "#include <vector>\n",
    "#include <iostream>\n",
    "using namespace std;"
   ]
  },
  {
   "cell_type": "code",
   "execution_count": 4,
   "id": "62acffa7",
   "metadata": {
    "slideshow": {
     "slide_type": "-"
    }
   },
   "outputs": [],
   "source": [
    "template<class T>\n",
    "void print(T list) {\n",
    "    for (auto item : list) {\n",
    "        cout << item << \" \";\n",
    "    }\n",
    "    cout << endl;\n",
    "}\n",
    "\n",
    "template<class T>\n",
    "void merge(vector<T> const& A, vector<T> const& B, vector<T>& AB) {\n",
    "    // Iterate through both lists, \n",
    "    // adding the minimum between each lists' items\n",
    "    // to the combined list\n",
    "    auto a_it = A.begin();\n",
    "    auto b_it = B.begin();\n",
    "    while (a_it != A.end() && b_it != B.end()) {\n",
    "        if (*a_it < *b_it) {\n",
    "            AB.push_back(*a_it);\n",
    "            a_it++;\n",
    "        } else {\n",
    "            AB.push_back(*b_it);\n",
    "            b_it++;\n",
    "        }\n",
    "    }\n",
    "    //     v     v\n",
    "    // 1 2 5 | 4 6 9\n",
    "    // 1 2 4\n",
    "    \n",
    "    // Which list still has un-added items?\n",
    "    // One of these two loops will run 0 times\n",
    "    //  and the other will copy the remaining items\n",
    "    while (a_it != A.end()) {\n",
    "        AB.push_back(*a_it);\n",
    "        a_it++;\n",
    "    }        \n",
    "    while (b_it != B.end()) {\n",
    "        AB.push_back(*b_it);\n",
    "        b_it++;\n",
    "    }        \n",
    "\n",
    "    cout << \"merge:\" << endl;\n",
    "    print(A);\n",
    "    print(B);\n",
    "    print(AB);\n",
    "    cout << endl;\n",
    "\n",
    "}\n",
    "\n",
    "template<class T>\n",
    "void split(vector<T> const& source, vector<T>& left, vector<T>& right) {\n",
    "    int split = source.size() / 2;\n",
    "    for (int i = 0; i < split; i++) {\n",
    "        left.push_back(source.at(i));\n",
    "    }\n",
    "    for (int i = split; i < source.size(); i++) {\n",
    "        right.push_back(source.at(i));\n",
    "    }\n",
    "    cout << \"split:\" << endl;\n",
    "    print(source);\n",
    "    print(left);\n",
    "    print(right);\n",
    "    cout << endl;\n",
    "}\n",
    "\n",
    "template<class T>\n",
    "void merge_sort(vector<T>& things) {\n",
    "    \n",
    "    if (things.size() == 1) {\n",
    "        return;\n",
    "    }\n",
    "    \n",
    "    vector<T> left;\n",
    "    vector<T> right;\n",
    "    \n",
    "    split(things, left, right);\n",
    "    \n",
    "    merge_sort(left);\n",
    "    merge_sort(right);\n",
    "    \n",
    "    things.clear();\n",
    "    merge(left, right, things);\n",
    "}"
   ]
  },
  {
   "cell_type": "code",
   "execution_count": 5,
   "id": "7bcab495",
   "metadata": {
    "slideshow": {
     "slide_type": "slide"
    }
   },
   "outputs": [],
   "source": [
    "vector<int> numbers = {1, 3, 4, 2, 7, 9, 5, 0, 8, 6};"
   ]
  },
  {
   "cell_type": "code",
   "execution_count": 6,
   "id": "cf1bf9b0",
   "metadata": {},
   "outputs": [
    {
     "name": "stdout",
     "output_type": "stream",
     "text": [
      "split:\n",
      "1 3 4 2 7 9 5 0 8 6 \n",
      "1 3 4 2 7 \n",
      "9 5 0 8 6 \n",
      "\n",
      "split:\n",
      "1 3 4 2 7 \n",
      "1 3 \n",
      "4 2 7 \n",
      "\n",
      "split:\n",
      "1 3 \n",
      "1 \n",
      "3 \n",
      "\n",
      "merge:\n",
      "1 \n",
      "3 \n",
      "1 3 \n",
      "\n",
      "split:\n",
      "4 2 7 \n",
      "4 \n",
      "2 7 \n",
      "\n",
      "split:\n",
      "2 7 \n",
      "2 \n",
      "7 \n",
      "\n",
      "merge:\n",
      "2 \n",
      "7 \n",
      "2 7 \n",
      "\n",
      "merge:\n",
      "4 \n",
      "2 7 \n",
      "2 4 7 \n",
      "\n",
      "merge:\n",
      "1 3 \n",
      "2 4 7 \n",
      "1 2 3 4 7 \n",
      "\n",
      "split:\n",
      "9 5 0 8 6 \n",
      "9 5 \n",
      "0 8 6 \n",
      "\n",
      "split:\n",
      "9 5 \n",
      "9 \n",
      "5 \n",
      "\n",
      "merge:\n",
      "9 \n",
      "5 \n",
      "5 9 \n",
      "\n",
      "split:\n",
      "0 8 6 \n",
      "0 \n",
      "8 6 \n",
      "\n",
      "split:\n",
      "8 6 \n",
      "8 \n",
      "6 \n",
      "\n",
      "merge:\n",
      "8 \n",
      "6 \n",
      "6 8 \n",
      "\n",
      "merge:\n",
      "0 \n",
      "6 8 \n",
      "0 6 8 \n",
      "\n",
      "merge:\n",
      "5 9 \n",
      "0 6 8 \n",
      "0 5 6 8 9 \n",
      "\n",
      "merge:\n",
      "1 2 3 4 7 \n",
      "0 5 6 8 9 \n",
      "0 1 2 3 4 5 6 7 8 9 \n",
      "\n"
     ]
    }
   ],
   "source": [
    "merge_sort(numbers)"
   ]
  },
  {
   "cell_type": "markdown",
   "id": "14e02033",
   "metadata": {
    "slideshow": {
     "slide_type": "slide"
    }
   },
   "source": [
    "## Quicksort"
   ]
  },
  {
   "cell_type": "markdown",
   "id": "83dbf71c",
   "metadata": {
    "slideshow": {
     "slide_type": "slide"
    }
   },
   "source": [
    "- Pick a pivot\n",
    "  - This is a value in the list\n",
    "  - There are many ways to do this, for now just pick the value in the \"middle\" location\n",
    "  - Get the pivot out of the way (swap it to the first position in the partition).\n",
    "- Partition the data\n",
    "  - Values bigger than the pivot go on the right\n",
    "  - Values smaller than the pivot go on the left\n",
    "  - The pivot value goes inbetween\n",
    "- Now sort the values on the right and on the left (recursion!)"
   ]
  },
  {
   "cell_type": "markdown",
   "id": "28aacfa4",
   "metadata": {
    "slideshow": {
     "slide_type": "slide"
    }
   },
   "source": [
    "Let `x` be the pivot.\n",
    "\n",
    "`O` denotes \"big\" values.\n",
    "`o` denotes \"small\" values.\n",
    "\n",
    "After one round of partitioning, \n",
    "\n",
    "<div style='font-size: 60pt'><pre>\n",
    "    OOoOxoOOo\n",
    "</pre></div>\n",
    "\n",
    "should become\n",
    "\n",
    "<div style='font-size: 60pt'><pre>\n",
    "    oooxOOOOO\n",
    "</pre></div>"
   ]
  },
  {
   "cell_type": "markdown",
   "id": "3fab72eb",
   "metadata": {
    "slideshow": {
     "slide_type": "slide"
    }
   },
   "source": [
    "### Strategy\n",
    "\n",
    "If I find a \"big\" value on the left, then find a \"small\" value on the right and swap them!\n",
    "\n",
    "Once my left and right pointers cross, I've found the middle, so put the pivot there."
   ]
  },
  {
   "cell_type": "markdown",
   "id": "1d1899a4",
   "metadata": {
    "slideshow": {
     "slide_type": "slide"
    }
   },
   "source": [
    "```\n",
    "oOOoxOoOo\n",
    "```"
   ]
  },
  {
   "cell_type": "markdown",
   "id": "5df394dd",
   "metadata": {
    "slideshow": {
     "slide_type": "fragment"
    }
   },
   "source": [
    "Swap the pivot to the front:\n",
    "\n",
    "```\n",
    "xOOooOoOo\n",
    "```"
   ]
  },
  {
   "cell_type": "markdown",
   "id": "c1badec1",
   "metadata": {
    "slideshow": {
     "slide_type": "slide"
    }
   },
   "source": [
    "Find a large value on the left...\n",
    "\n",
    "```\n",
    "xOOooOoOo\n",
    " ^\n",
    "```"
   ]
  },
  {
   "cell_type": "markdown",
   "id": "fbd993a1",
   "metadata": {
    "slideshow": {
     "slide_type": "fragment"
    }
   },
   "source": [
    "...then find a small value on the right...\n",
    "\n",
    "```\n",
    "xOOooOoOo\n",
    " ^      |\n",
    "```"
   ]
  },
  {
   "cell_type": "markdown",
   "id": "cad95ea8",
   "metadata": {
    "slideshow": {
     "slide_type": "fragment"
    }
   },
   "source": [
    "...and swap them!\n",
    "\n",
    "```\n",
    "xoOooOoOO\n",
    " ^      |\n",
    "```"
   ]
  },
  {
   "cell_type": "markdown",
   "id": "17268741",
   "metadata": {
    "slideshow": {
     "slide_type": "slide"
    }
   },
   "source": [
    "Find a large value on the left...\n",
    "\n",
    "```\n",
    "xoOooOoOO\n",
    "  ^     |\n",
    "```"
   ]
  },
  {
   "cell_type": "markdown",
   "id": "2b9f1ee5",
   "metadata": {
    "slideshow": {
     "slide_type": "fragment"
    }
   },
   "source": [
    "...then find a small value on the right...\n",
    "\n",
    "```\n",
    "xoOooOoOO\n",
    "  ^   |\n",
    "```"
   ]
  },
  {
   "cell_type": "markdown",
   "id": "45869163",
   "metadata": {
    "slideshow": {
     "slide_type": "fragment"
    }
   },
   "source": [
    "...and swap them!\n",
    "\n",
    "```\n",
    "xooooOOOO\n",
    "  ^   |\n",
    "```"
   ]
  },
  {
   "cell_type": "markdown",
   "id": "82a7bff6",
   "metadata": {
    "slideshow": {
     "slide_type": "slide"
    }
   },
   "source": [
    "Find a large value on the left...\n",
    "\n",
    "```\n",
    "xooooOOOO\n",
    "     ^|\n",
    "```"
   ]
  },
  {
   "cell_type": "markdown",
   "id": "5531012f",
   "metadata": {
    "slideshow": {
     "slide_type": "fragment"
    }
   },
   "source": [
    "...then find a small value on the right...\n",
    "\n",
    "```\n",
    "xooooOOOO\n",
    "    |^\n",
    "```"
   ]
  },
  {
   "cell_type": "markdown",
   "id": "baa06df1",
   "metadata": {
    "cell_style": "split",
    "slideshow": {
     "slide_type": "fragment"
    }
   },
   "source": [
    "...but now the \"right\" side has crossed the \"left\" side.\n",
    "\n",
    "The \"right\" side pointer is now pointing at the last position occupied by a \"small\" item—i.e. the boundary between small and large. "
   ]
  },
  {
   "cell_type": "markdown",
   "id": "810cfd86",
   "metadata": {
    "cell_style": "split",
    "slideshow": {
     "slide_type": "fragment"
    }
   },
   "source": [
    "So swap the pivot into position!\n",
    "\n",
    "```\n",
    "ooooxOOOO\n",
    "    |^\n",
    "```"
   ]
  },
  {
   "cell_type": "markdown",
   "id": "bdc6cabb",
   "metadata": {
    "slideshow": {
     "slide_type": "slide"
    }
   },
   "source": [
    "### Activity"
   ]
  },
  {
   "cell_type": "markdown",
   "id": "db13b36c",
   "metadata": {
    "slideshow": {
     "slide_type": "-"
    }
   },
   "source": [
    "Partition the following using the quicksort algorithm:\n",
    "\n",
    "```\n",
    "9 8 1 6 4 3 7 5 2\n",
    "```"
   ]
  },
  {
   "cell_type": "markdown",
   "id": "dcb18005",
   "metadata": {
    "slideshow": {
     "slide_type": "slide"
    }
   },
   "source": [
    "### Complexity of quicksort"
   ]
  },
  {
   "cell_type": "markdown",
   "id": "084f4af7",
   "metadata": {
    "slideshow": {
     "slide_type": "-"
    }
   },
   "source": [
    "- Does the running time depend on the kind of input?"
   ]
  },
  {
   "cell_type": "markdown",
   "id": "b59d979d",
   "metadata": {
    "cell_style": "split",
    "slideshow": {
     "slide_type": "-"
    }
   },
   "source": [
    "  - Random:\n",
    "  - Sorted:\n",
    "  - Reversed:\n",
    "  "
   ]
  },
  {
   "cell_type": "markdown",
   "id": "fbbb8d98",
   "metadata": {
    "cell_style": "split",
    "slideshow": {
     "slide_type": "fragment"
    }
   },
   "source": [
    "  - $O(n \\log n)$\n",
    "  - $O(n \\log n)$\n",
    "  - $O(n \\log n)$\n",
    "  "
   ]
  },
  {
   "cell_type": "markdown",
   "id": "5fdb2bdd",
   "metadata": {
    "cell_style": "split",
    "slideshow": {
     "slide_type": "fragment"
    }
   },
   "source": [
    "  - Pathological?"
   ]
  },
  {
   "cell_type": "markdown",
   "id": "fd3a4819",
   "metadata": {
    "cell_style": "split",
    "slideshow": {
     "slide_type": "fragment"
    }
   },
   "source": [
    "<div class='big center' style='font-size: 100pt'> 🤨</div>"
   ]
  },
  {
   "cell_type": "markdown",
   "id": "019dc6c7",
   "metadata": {
    "slideshow": {
     "slide_type": "slide"
    }
   },
   "source": [
    "### Picking the Pivot"
   ]
  },
  {
   "cell_type": "markdown",
   "id": "7b3d9230",
   "metadata": {
    "slideshow": {
     "slide_type": "slide"
    }
   },
   "source": [
    "```\n",
    "7 5 3 1 9 4 6\n",
    "pivot: 1\n",
    "small:\n",
    "large: 7 5 3 9 4 6\n",
    "\n",
    "pivot: 3\n",
    "small:\n",
    "large: 7 5 9 4 6\n",
    "\n",
    "pivot: 9\n",
    "small: 7 5 4 6\n",
    "large: \n",
    "\n",
    "...\n",
    "```"
   ]
  },
  {
   "cell_type": "markdown",
   "id": "838bb49d",
   "metadata": {
    "slideshow": {
     "slide_type": "slide"
    }
   },
   "source": [
    "- $O(n)$ steps to partion the values\n",
    "- $O(n)$ total iterations until I reached the only base-case.\n",
    "- $O(n^2)$ total complexity!"
   ]
  },
  {
   "cell_type": "markdown",
   "id": "27f711bc",
   "metadata": {
    "slideshow": {
     "slide_type": "fragment"
    }
   },
   "source": [
    "<div class=\"big centered\" style='font-size: 100pt'> 😱 </div>"
   ]
  },
  {
   "cell_type": "markdown",
   "id": "c42db231",
   "metadata": {
    "slideshow": {
     "slide_type": "fragment"
    }
   },
   "source": [
    "<div class=\"big centered\" style='font-size: 50pt'> 🤨 😧 😫 😶‍🌫️ 😴 </div>"
   ]
  },
  {
   "cell_type": "markdown",
   "id": "ae89849a",
   "metadata": {
    "slideshow": {
     "slide_type": "slide"
    }
   },
   "source": [
    "Do we care?\n",
    "\n",
    "Well, kind of.\n",
    "\n",
    "Quicksort has been demonstrated repeatably to perform faster than mergesort in real-world data.\n",
    "\n",
    "BUT, you should always remember that $O(n^2)$ is lurking.\n",
    "\n",
    "What is it that triggers $O(n^2)$ performance?"
   ]
  },
  {
   "cell_type": "markdown",
   "id": "47315e7d",
   "metadata": {
    "slideshow": {
     "slide_type": "fragment"
    }
   },
   "source": [
    "**The selection of the pivot**\n",
    "\n",
    "So, if you can be smart about your pivot, then it will be very unlikely that you run into $O(n^2)$."
   ]
  },
  {
   "cell_type": "markdown",
   "id": "59653224",
   "metadata": {
    "slideshow": {
     "slide_type": "slide"
    }
   },
   "source": [
    "- What if you use the first item as your pivot? What scenario would trigger $O(n^2)$?\n",
    "- What if you use the last item as your pivot? What scenario would trigger $O(n^2)$?\n",
    "- What if you use the middle item?\n",
    "- So...is there a better way?"
   ]
  },
  {
   "cell_type": "markdown",
   "id": "2143481f",
   "metadata": {
    "slideshow": {
     "slide_type": "slide"
    }
   },
   "source": [
    "### Median-of-three\n",
    "\n",
    "What is the median of a list of numbers?\n",
    "\n",
    "Could you estimate the median of the list to pick for the pivot?\n",
    "\n",
    "What would be the time complexity of getting the median..."
   ]
  },
  {
   "cell_type": "markdown",
   "id": "f477152e",
   "metadata": {
    "slideshow": {
     "slide_type": "slide"
    }
   },
   "source": [
    "How about just taking the median of the first, middle, and last items.\n",
    "\n",
    "Not as robust as the actual median, but works just fine in practice. "
   ]
  },
  {
   "cell_type": "markdown",
   "id": "4747d19a",
   "metadata": {
    "slideshow": {
     "slide_type": "slide"
    }
   },
   "source": [
    "Find the median-of-three for each list:\n",
    "\n",
    "```\n",
    "8 5 4 6 2 3 1\n",
    "4 9 3 5 7 6 2\n",
    "```"
   ]
  },
  {
   "cell_type": "markdown",
   "id": "43faad8d",
   "metadata": {
    "slideshow": {
     "slide_type": "fragment"
    }
   },
   "source": [
    "median(8, 6, 1) = 6\n",
    "\n",
    "median(4, 5, 2) = 4"
   ]
  },
  {
   "cell_type": "markdown",
   "id": "d3f2a62b",
   "metadata": {
    "slideshow": {
     "slide_type": "slide"
    }
   },
   "source": [
    "### Quicksort (Details)"
   ]
  },
  {
   "cell_type": "markdown",
   "id": "9fc309fe",
   "metadata": {
    "slideshow": {
     "slide_type": "slide"
    }
   },
   "source": [
    "Notes: \n",
    "- `first` will be the index of the beginning of the partition.\n",
    "- `last` will be the index just outside the end of the partition.\n",
    "  - For example, for the very first iteration in the algorithm, `last` will be `table.size()`\n",
    "- `middle` will be `(first + last) / 2`"
   ]
  },
  {
   "cell_type": "markdown",
   "id": "efb1cb0c",
   "metadata": {
    "slideshow": {
     "slide_type": "slide"
    }
   },
   "source": [
    "0. Pick a pivot\n",
    "  1. Sort the values at `first`, `middle`, and `last` - `pivot = middle`\n",
    "1. Swap `table[pivot]` with `table[first]`\n",
    "  1. `pivot = first`\n",
    "2. Initialize `up = first - 1` and `down = last-1`\n",
    "3. While `up < down`:\n",
    "  1. Increment `up` until `table[up] > table[pivot]` or `up == last-1`\n",
    "  2. Decrement `down` until `table[down] <= table[pivot]` or `down == first`\n",
    "  3. If `up < down`\n",
    "    1. Swap `table[up]` and `table[down]`\n",
    "4. Swap `table[first]` and `table[down]`\n",
    "5. Return `down`"
   ]
  },
  {
   "cell_type": "markdown",
   "id": "1606be37",
   "metadata": {
    "slideshow": {
     "slide_type": "fragment"
    }
   },
   "source": [
    "<div class='big centered' style='font-size: 100pt'> 😵 </div>"
   ]
  },
  {
   "cell_type": "markdown",
   "id": "abf26aae",
   "metadata": {
    "slideshow": {
     "slide_type": "slide"
    }
   },
   "source": [
    "```\n",
    "5 8 4 9 6 3 7 2 1\n",
    "```\n",
    "\n",
    "```\n",
    "first = 0\n",
    "last = 9\n",
    "middle = 4\n",
    "```\n",
    "\n",
    "Sort `table[first]`, `table[middle]`, and `table[last-1]`. Return `middle` as the pivot index.\n",
    "```\n",
    "F       M         L    \n",
    "5 8 4 9 6 3 7 2 1\n",
    "\n",
    "F       M         L    \n",
    "1 8 4 9 5 3 7 2 6\n",
    "0 1 2 3 4\n",
    "\n",
    "pivot index = 4\n",
    "```\n",
    "\n",
    "Swap `table[pivot]` with `table[first]`\n",
    "```\n",
    "1 8 4 9 5 3 7 2 6\n",
    "f       p\n",
    "\n",
    "5 8 4 9 1 3 7 2 6\n",
    "```\n",
    "\n",
    "Initialize `up = first + 1` and `down = last-1`\n",
    "```\n",
    "5 8 4 9 1 3 7 2 6\n",
    "  u             d\n",
    "```\n",
    "\n",
    "While `up < down`:\n",
    "\n",
    "1. Increment `up` until `table[up]` > `table[pivot]` (or `up == last - 1`)\n",
    "    ```\n",
    "    5 8 4 9 1 3 7 2 6\n",
    "      u             d\n",
    "    ```\n",
    "\n",
    "2. Decrement `down` until `table[down] <= table[pivot]` (or `down == first`)\n",
    "    ```\n",
    "    5 8 4 9 1 3 7 2 6\n",
    "      u           d  \n",
    "    ```\n",
    "\n",
    "3. If `up < down`, swap `table[up]` and `table[down]`\n",
    "    ```\n",
    "    5 2 4 9 1 3 7 8 6\n",
    "      u           d  \n",
    "    ```\n",
    "\n",
    "While `up < down`:\n",
    "\n",
    "1. Increment `up` until `table[up]` > `table[pivot]` (or `up == last - 1`)\n",
    "    ```\n",
    "    5 2 4 9 1 3 7 8 6\n",
    "          u       d  \n",
    "    ```\n",
    "    \n",
    "2. Decrement `down` until `table[down] <= table[pivot]` (or `down == first`)\n",
    "    ```\n",
    "    5 2 4 9 1 3 7 8 6\n",
    "          u   d      \n",
    "    ```\n",
    "\n",
    "3. If `up < down`, swap `table[up]` and `table[down]`\n",
    "    ```\n",
    "    5 2 4 3 1 9 7 8 6\n",
    "          u   d      \n",
    "    ```\n",
    "\n",
    "While `up < down`:\n",
    "\n",
    "1. Increment `up` until `table[up]` > `table[pivot]` (or `up == last - 1`)\n",
    "    ```\n",
    "    5 2 4 3 1 9 7 8 6\n",
    "              ud      \n",
    "    ```\n",
    "    \n",
    "2. Decrement `down` until `table[down] <= table[pivot]` (or `down == first`)\n",
    "    ```\n",
    "    5 2 4 3 1 9 7 8 6\n",
    "            d u      \n",
    "    ```\n",
    "\n",
    "3. If `up < down`...false. So don't swap and exit `while` loop.\n",
    "\n",
    "\n",
    "Swap `table[first]` and `table[down]`\n",
    "```\n",
    "5 2 4 3 1 9 7 8 6\n",
    "F       d u\n",
    "\n",
    "1 2 4 3 5 9 7 8 6\n",
    "        d u\n",
    "```\n",
    "\n",
    "Return `down`\n",
    "```\n",
    "down -> 4\n",
    "```\n"
   ]
  },
  {
   "cell_type": "markdown",
   "id": "0a7e3970",
   "metadata": {
    "slideshow": {
     "slide_type": "slide"
    }
   },
   "source": [
    "```\n",
    "1 9 4 4 6 7 2 4\n",
    "```\n",
    "\n",
    "```\n",
    "first = 0\n",
    "last = 8\n",
    "middle = 4\n",
    "```\n",
    "\n",
    "Sort `table[first]`, `table[middle]`, and `table[last-1]`. Return `middle` as the pivot index.\n",
    "```\n",
    "F       M       L    \n",
    "1 9 4 4 6 7 2 4\n",
    "\n",
    "F       M       L    \n",
    "1 9 4 4 4 7 2 6\n",
    "\n",
    "pivot index = 4\n",
    "```\n",
    "\n",
    "Swap `table[pivot]` with `table[first]`\n",
    "```\n",
    "1 9 4 4 4 7 2 6\n",
    "f       p\n",
    "\n",
    "4 9 4 4 1 7 2 6\n",
    "```\n",
    "\n",
    "Initialize `up = first + 1` and `down = last-1`\n",
    "```\n",
    "4 9 4 4 1 7 2 6\n",
    "  u           d\n",
    "```\n",
    "\n",
    "While `up < down`:\n",
    "\n",
    "1. Increment `up` until `table[up]` > `table[pivot]` (or `up == last - 1`)\n",
    "    ```\n",
    "    4 9 4 4 1 7 2 6\n",
    "      u           d\n",
    "    ```\n",
    "\n",
    "2. Decrement `down` until `table[down] <= table[pivot]` (or `down == first`)\n",
    "    ```\n",
    "    4 9 4 4 1 7 2 6\n",
    "      u         d  \n",
    "    ```\n",
    "\n",
    "3. If `up < down`, swap `table[up]` and `table[down]`\n",
    "    ```\n",
    "    4 2 4 4 1 7 9 6\n",
    "      u         d \n",
    "    ```\n",
    "\n",
    "While `up < down`:\n",
    "\n",
    "1. Increment `up` until `table[up]` > `table[pivot]` (or `up == last - 1`)\n",
    "    ```\n",
    "    4 2 4 4 1 7 9 6\n",
    "              u d \n",
    "    ```\n",
    "\n",
    "2. Decrement `down` until `table[down] <= table[pivot]` (or `down == first`)\n",
    "    ```\n",
    "    4 2 4 4 1 7 9 6\n",
    "            d u   \n",
    "    ```\n",
    "\n",
    "3. If `up < down`...false! So don't swap, and exit the `while` loop.\n",
    "    ```\n",
    "    4 2 4 4 1 7 9 6\n",
    "            d u   \n",
    "    ```\n",
    "\n",
    "Swap `table[first]` and `table[down]`\n",
    "```\n",
    "4 2 4 4 1 7 9 6\n",
    "F       d u   \n",
    "\n",
    "1 2 4 4 4 7 9 6\n",
    "F       d u\n",
    "---------------\n",
    "0 1 2 3 4 5 6 7\n",
    "```\n",
    "\n",
    "Return `down` (the index, not `table[down]`)\n",
    "```\n",
    "down -> 4\n",
    "```"
   ]
  },
  {
   "cell_type": "markdown",
   "id": "973bcefe",
   "metadata": {
    "slideshow": {
     "slide_type": "slide"
    }
   },
   "source": [
    "### Activity\n",
    "\n",
    "Work with a partner. Partition the follow list using the quicksort partition algorithm:\n",
    "\n",
    "```\n",
    "2 7 2 5 8 9 1 2 3\n",
    "```\n"
   ]
  },
  {
   "cell_type": "markdown",
   "id": "259ef832",
   "metadata": {},
   "source": [
    "0. Sort `table[first]`, `table[middle]`, and `table[last-1]`, `pivot = middle`\n",
    "1. Swap `table[pivot]` with `table[first]`\n",
    "2. Initialize `up = first` and `down = last-1`\n",
    "3. While `up < down`:\n",
    "  1. Increment `up` until `table[up] > table[pivot]` or `up == last-1`\n",
    "  2. Decrement `down` until `table[down] <= table[pivot]` or `down == first`\n",
    "  3. If `up < down`\n",
    "    1. Swap `table[up]` and `table[down]`\n",
    "4. Swap `table[first]` and `table[down]`\n",
    "5. Return `down`"
   ]
  },
  {
   "cell_type": "markdown",
   "id": "e0b2fcfd",
   "metadata": {
    "slideshow": {
     "slide_type": "slide"
    }
   },
   "source": [
    "```\n",
    "2 7 2 5 8 9 1 2 3\n",
    "\n",
    "2 7 2 5 3 9 1 2 8\n",
    "\n",
    "3 7 2 5 2 9 1 2 8\n",
    "\n",
    "3 2 2 5 2 9 1 7 8\n",
    "\n",
    "3 2 2 1 2 9 5 7 8\n",
    "\n",
    "2 2 2 1 3 9 5 7 8\n",
    "\n",
    "return 4\n",
    "```"
   ]
  },
  {
   "cell_type": "markdown",
   "id": "d6f74414",
   "metadata": {
    "slideshow": {
     "slide_type": "slide"
    }
   },
   "source": [
    "### Quicksort Algorithm Gist\n",
    "\n",
    "- Concept: at each iteration, get the current pivots into place\n",
    "  - After sufficient iterations, all the values will have been a pivot and will now be in place\n",
    "- Partition:\n",
    "    - Goal: get the pivot value into its final position\n",
    "      - The final position for a value means that:\n",
    "        - All values to the left are smaller\n",
    "        - All values to the right are greater or equal\n",
    "        - The values to the left and right don't have to be sorted (yet) for the pivot to be in the correct position\n",
    "      - So: get all values smaller than pivot on the left, and all values greater or equal to the right\n",
    "    - Strategy:\n",
    "      - Swap larger values on the left side with small values on the right side\n",
    "        - This gets small values on the left, where they belong\n",
    "        - This gets large values on the right, where they belong\n",
    "        - The middle, where the pivot goes, is where the left and right sides meet.\n",
    "      - We don't know where the middle is until we've pushed small values left and large values right.\n",
    "        - So we get the pivot out of the way (stick it at the front) while we figure out the boundary between small and large values\n",
    "        - Then we swap the pivot with the last small value to put it into place as the boundary between small and large\n",
    "- Outcome:\n",
    "  - Iteration 1: 1 value (the pivot) gets put in place, and the list is a little more sorted than before\n",
    "    - `xxxxxxxPxxxxxxx`\n",
    "  - Iteration 2: 2 values (the pivots from each side) get put in place, and each half is a little more sorted\n",
    "    - `xxxPxxxPxxxPxxx`\n",
    "  - Iteration 3: 4 values (the pivots from each quarter) get put in place, and each quarter is a little more sorted\n",
    "    - `xPxPxPxPxPxPxPx`\n",
    "  - Iteration 4: 8 values get put in place...etc.\n",
    "    - `PPPPPPPPPPPPPPP`\n",
    "  - How many times can you double $1$ before all $N$ values are put in place?\n",
    "    - $O(\\log n)$\n",
    "  - How many items do you touch in each iteration?\n",
    "    - $O(n)$\n",
    "  - Total runtime: $O(n \\log n)$"
   ]
  },
  {
   "cell_type": "markdown",
   "id": "af7f25c2",
   "metadata": {
    "slideshow": {
     "slide_type": "slide"
    }
   },
   "source": [
    "## Code for Quicksort"
   ]
  },
  {
   "cell_type": "markdown",
   "id": "ee11c049",
   "metadata": {
    "slideshow": {
     "slide_type": "fragment"
    }
   },
   "source": [
    "*__You__ get to write!*\n",
    "\n",
    "Lab 5 is now assigned. 😁"
   ]
  },
  {
   "cell_type": "markdown",
   "id": "a15147d2",
   "metadata": {
    "slideshow": {
     "slide_type": "slide"
    }
   },
   "source": [
    "## Mergesort vs Quicksort\n",
    "\n",
    "- Both are $O(n \\log n)$, but quicksort has smaller overhead than mergesort, so it's typically faster.\n",
    "- Quicksort does work in-place, while mergesort needs $2n$ space. \n",
    "- Quicksort does have $O(n^2)$ worst-case performance, while mergesort is always $O(n \\log n)$\n",
    "  - However, careful selection of the pivot, such as median-of-three, makes this outcome very unlikely\n"
   ]
  },
  {
   "cell_type": "markdown",
   "id": "025d48f8",
   "metadata": {
    "slideshow": {
     "slide_type": "slide"
    }
   },
   "source": [
    "> Insert is quick.  \n",
    "> Merging is quicker.  \n",
    "> But quicksort is quickest.  \n",
    "> So it gets the sticker. ⭐️"
   ]
  },
  {
   "cell_type": "markdown",
   "id": "003a7087",
   "metadata": {
    "slideshow": {
     "slide_type": "slide"
    }
   },
   "source": [
    "## Key Ideas\n",
    " \n",
    "- Quicksort uses a pivot\n",
    "- The partition step guarantees that the pivot is in its final position\n",
    "  - all items to the left are smaller\n",
    "  - all items to the right are larger\n",
    "- You the recurse to sort right and left\n",
    "- No extra storage is necessary—**the sorting happens in place**\n",
    "- $O(n \\log n)$ performance\n",
    "  - Unless the pivot is pathological, in which case you can get $O(n^2)$\n",
    "    - But if you pick a smart pivot (e.g. \"median-of-three\"), getting a bad pivot will be rare."
   ]
  },
  {
   "cell_type": "markdown",
   "id": "6f359f44",
   "metadata": {
    "slideshow": {
     "slide_type": "slide"
    }
   },
   "source": [
    "Can you do better than quicksort...?"
   ]
  },
  {
   "cell_type": "markdown",
   "id": "0c0049d6",
   "metadata": {
    "slideshow": {
     "slide_type": "fragment"
    }
   },
   "source": [
    "https://en.wikipedia.org/wiki/Timsort"
   ]
  }
 ],
 "metadata": {
  "celltoolbar": "Slideshow",
  "kernelspec": {
   "display_name": "C++11",
   "language": "C++11",
   "name": "xcpp11"
  },
  "language_info": {
   "codemirror_mode": "text/x-c++src",
   "file_extension": ".cpp",
   "mimetype": "text/x-c++src",
   "name": "c++",
   "version": "11"
  },
  "toc": {
   "base_numbering": 1,
   "nav_menu": {},
   "number_sections": true,
   "sideBar": true,
   "skip_h1_title": false,
   "title_cell": "Table of Contents",
   "title_sidebar": "Contents",
   "toc_cell": false,
   "toc_position": {
    "height": "calc(100% - 180px)",
    "left": "10px",
    "top": "150px",
    "width": "384px"
   },
   "toc_section_display": true,
   "toc_window_display": false
  }
 },
 "nbformat": 4,
 "nbformat_minor": 5
}
