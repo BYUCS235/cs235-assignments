{
 "cells": [
  {
   "cell_type": "markdown",
   "id": "cd4d3703",
   "metadata": {
    "slideshow": {
     "slide_type": "slide"
    }
   },
   "source": [
    "# Big O"
   ]
  },
  {
   "cell_type": "code",
   "execution_count": 17,
   "id": "ac4d85ce",
   "metadata": {
    "slideshow": {
     "slide_type": "slide"
    }
   },
   "outputs": [],
   "source": [
    "#include <iostream>\n",
    "using std::cout, std::endl;"
   ]
  },
  {
   "cell_type": "markdown",
   "id": "82d024d7",
   "metadata": {
    "slideshow": {
     "slide_type": "slide"
    }
   },
   "source": [
    "There are often many ways to solve a problem. \n",
    "\n",
    "How do you decide which algorithm to use?\n",
    "\n",
    "- Fastest?\n",
    "- Smallest? (uses least memory)\n",
    "- Simplest? (easiest for humans to understand, modify, fix, etc.)"
   ]
  },
  {
   "cell_type": "markdown",
   "id": "f5cdb7c6",
   "metadata": {
    "slideshow": {
     "slide_type": "slide"
    }
   },
   "source": [
    "## How do you know how much time/space an algorithm will use?\n",
    "\n",
    "- Empirical measurement\n",
    "  - e.g. `time ./my_program` \n",
    "\n",
    "- Analysis\n",
    "  - e.g. look at the code and do some math"
   ]
  },
  {
   "cell_type": "markdown",
   "id": "a41cf3ee",
   "metadata": {
    "slideshow": {
     "slide_type": "slide"
    }
   },
   "source": [
    "```c++\n",
    "double compute_average(int n, double a[]) {\n",
    "    double sum = 0;\n",
    "    for (int i = 0; i < n; i++) {\n",
    "        sum += a[i];\n",
    "    }\n",
    "    double mean = sum / n;\n",
    "    return mean;\n",
    "}\n",
    "```\n",
    "\n",
    "Assume each statement takes one unit of time. \n",
    "\n",
    "Define a function $T(n)$ that describes how many units of time this function takes."
   ]
  },
  {
   "cell_type": "markdown",
   "id": "83e7dd04",
   "metadata": {
    "slideshow": {
     "slide_type": "slide"
    }
   },
   "source": [
    "$T(n) = 3n + 5$"
   ]
  },
  {
   "cell_type": "markdown",
   "id": "4dcd64ba",
   "metadata": {},
   "source": [
    "As $n$ gets bigger, the total runtime gets bigger. \n",
    "\n",
    "In this example, the total runtime scales **linearly**. "
   ]
  },
  {
   "cell_type": "markdown",
   "id": "69c17a8c",
   "metadata": {
    "slideshow": {
     "slide_type": "slide"
    }
   },
   "source": [
    "If $n$ where REALLY large, would you care about the $5$?"
   ]
  },
  {
   "cell_type": "code",
   "execution_count": 18,
   "id": "acaca51f",
   "metadata": {
    "slideshow": {
     "slide_type": "slide"
    }
   },
   "outputs": [],
   "source": [
    "#include <cmath>  // gives us pow"
   ]
  },
  {
   "cell_type": "code",
   "execution_count": 19,
   "id": "954f8763",
   "metadata": {},
   "outputs": [],
   "source": [
    "#include <iomanip>\n",
    "using std::setprecision;"
   ]
  },
  {
   "cell_type": "code",
   "execution_count": 20,
   "id": "0e44d0e8",
   "metadata": {
    "slideshow": {
     "slide_type": "fragment"
    }
   },
   "outputs": [
    {
     "name": "stdout",
     "output_type": "stream",
     "text": [
      "35\n"
     ]
    }
   ],
   "source": [
    "double n = 10;\n",
    "cout << 3*n + 5 << endl;"
   ]
  },
  {
   "cell_type": "code",
   "execution_count": 21,
   "id": "e92d100a",
   "metadata": {
    "slideshow": {
     "slide_type": "fragment"
    }
   },
   "outputs": [
    {
     "name": "stdout",
     "output_type": "stream",
     "text": [
      "30000005\n"
     ]
    }
   ],
   "source": [
    "n = 10000000;\n",
    "cout << 3*n + 5 << endl;"
   ]
  },
  {
   "cell_type": "code",
   "execution_count": 22,
   "id": "bcdfbccf",
   "metadata": {
    "slideshow": {
     "slide_type": "fragment"
    }
   },
   "outputs": [
    {
     "name": "stdout",
     "output_type": "stream",
     "text": [
      "30000005\n"
     ]
    }
   ],
   "source": [
    "n = 10000000;\n",
    "cout << setprecision(9) << 3*n + 5 << endl;"
   ]
  },
  {
   "cell_type": "markdown",
   "id": "c07a1865",
   "metadata": {
    "slideshow": {
     "slide_type": "slide"
    }
   },
   "source": [
    "$T(n) = n^2 + 5n + 2$\n",
    "\n",
    "In this example, the runtime of the algorithm scales **quadratically**.\n",
    "\n",
    "If $n$ were REALLY large, would you care about the $5n + 2$?"
   ]
  },
  {
   "cell_type": "code",
   "execution_count": 23,
   "id": "b8909f6a",
   "metadata": {},
   "outputs": [
    {
     "name": "stdout",
     "output_type": "stream",
     "text": [
      "152\n"
     ]
    }
   ],
   "source": [
    "double n = 10;\n",
    "cout << pow(n, 2) + 5*n + 2 << endl;"
   ]
  },
  {
   "cell_type": "code",
   "execution_count": 24,
   "id": "5705552f",
   "metadata": {},
   "outputs": [
    {
     "name": "stdout",
     "output_type": "stream",
     "text": [
      "1.0000005e+14\n"
     ]
    }
   ],
   "source": [
    "double n = 10000000;\n",
    "cout << pow(n, 2) + 5*n + 2 << endl;"
   ]
  },
  {
   "cell_type": "markdown",
   "id": "981cf9e0",
   "metadata": {
    "slideshow": {
     "slide_type": "slide"
    }
   },
   "source": [
    "$T(n) = 2^n + 5n^3 + 2n^2$\n",
    "\n",
    "In this example, the runtime of the algorithm scales **exponentially**. \n",
    "\n",
    "If $n$ were REALLY large, would you care about the $5n^3 + 2n^2$?"
   ]
  },
  {
   "cell_type": "code",
   "execution_count": 25,
   "id": "f4da7662",
   "metadata": {},
   "outputs": [
    {
     "name": "stdout",
     "output_type": "stream",
     "text": [
      "5200\n"
     ]
    }
   ],
   "source": [
    "double n = 10;\n",
    "cout << 5*pow(n,3) + 2*pow(n,2) << endl;"
   ]
  },
  {
   "cell_type": "code",
   "execution_count": 26,
   "id": "b2f509d1",
   "metadata": {},
   "outputs": [
    {
     "name": "stdout",
     "output_type": "stream",
     "text": [
      "5.0000002e+21\n"
     ]
    }
   ],
   "source": [
    "double n = 10000000;\n",
    "cout << 5*pow(n,3) + 2*pow(n,2) << endl;"
   ]
  },
  {
   "cell_type": "markdown",
   "id": "b695cef2",
   "metadata": {
    "slideshow": {
     "slide_type": "slide"
    }
   },
   "source": [
    "## Key idea\n",
    "\n",
    "> **When considering the performance of an algorithm, the largest term dominates**"
   ]
  },
  {
   "cell_type": "markdown",
   "id": "19216bf2",
   "metadata": {
    "slideshow": {
     "slide_type": "slide"
    }
   },
   "source": [
    "## Big O Notation\n",
    "\n",
    "In computer science, we talk about the \"order\" of an algorithm as describing the dominating term in the algorithm's performance.\n",
    "\n",
    "$T(n) = n^2 + n + 5$\n",
    "\n",
    "We would say that this algorithm is $O(n^2)$ because it is dominated by the $n^2$ term."
   ]
  },
  {
   "cell_type": "markdown",
   "id": "cfc7e75c",
   "metadata": {
    "slideshow": {
     "slide_type": "slide"
    }
   },
   "source": [
    "$T_1(n) = n + 1000$\n",
    "\n",
    "$T_2(n) = n^2 + 1$\n",
    "\n",
    "Which algorithm has better runtime performance?"
   ]
  },
  {
   "cell_type": "markdown",
   "id": "1ed1e5b1",
   "metadata": {
    "slideshow": {
     "slide_type": "fragment"
    }
   },
   "source": [
    "When $n$ is BIG, which algorithm is better?"
   ]
  },
  {
   "cell_type": "markdown",
   "id": "0a2009a0",
   "metadata": {
    "slideshow": {
     "slide_type": "slide"
    }
   },
   "source": [
    "$T_1(n) = n + 1000$\n",
    "\n",
    "$T_2(n) = n^2 + 1$\n",
    "\n",
    "What is the order of $T_1$?\n",
    "\n",
    "What is the order of $T_2$?"
   ]
  },
  {
   "cell_type": "markdown",
   "id": "6129f5a1",
   "metadata": {
    "slideshow": {
     "slide_type": "fragment"
    }
   },
   "source": [
    "$O(T_1) = O(n)$\n",
    "\n",
    "$O(T_2) = O(n^2)$"
   ]
  },
  {
   "cell_type": "markdown",
   "id": "164a8f02",
   "metadata": {
    "slideshow": {
     "slide_type": "slide"
    }
   },
   "source": [
    "Another way of thinking about big-O is that it describes the rate of growth.\n",
    "\n",
    "As $n$ grows, how quickly does the algorith runtime grow?\n",
    "\n",
    "$O(1)$ has **constant** runtime (no matter how big the input is, the result is computed in constant time).\n",
    "\n",
    "$O(\\log n)$ grows **logarithmically** or \"order **log n**\".\n",
    "\n",
    "$O(n)$ grows **linearly** or \"order **n**\". \n",
    "\n",
    "$O(n \\log n)$ we say \"order **n log n**\".\n",
    "\n",
    "$O(n^2)$ grows **quadratically** or \"order **n squared**\".\n",
    "\n",
    "$O(n^2)$, $O(n^3)$, and $O(n^6)$ have **polynomial** growth. \n",
    "\n",
    "$O(2^n)$ has **exponential** growth. \n",
    "\n",
    "$O(n!)$ has **factorial** growth."
   ]
  },
  {
   "cell_type": "markdown",
   "id": "4116cf51",
   "metadata": {
    "slideshow": {
     "slide_type": "slide"
    }
   },
   "source": [
    "```c++\n",
    "void foo(int n, int numbers[]) {\n",
    "    // Brilliant algorithm implemented here...\n",
    "}\n",
    "```\n",
    "\n",
    "Assume `foo(numbers)` takes 10 seconds for $n = 10$:\n",
    "\n",
    "- If `foo` is $O(n)$, about how long will `foo` take for $n = 11$ (i.e. $n + 1$)? For $n = 20$ (i.e. $2 n$)?"
   ]
  },
  {
   "cell_type": "markdown",
   "id": "12833c3c",
   "metadata": {
    "slideshow": {
     "slide_type": "fragment"
    }
   },
   "source": [
    "- $n = 11 \\rightarrow 11$\n",
    "- $n = 20 \\rightarrow 20$\n",
    "\n",
    "$O(n)$ means $T(n) \\approx kn$\n",
    "\n",
    "so if $k\\cdot(10) = 10$ then\n",
    "\n",
    "$k(2 \\cdot 10) = 2 \\cdot k \\cdot (10) = 2 \\cdot 10 = 20$"
   ]
  },
  {
   "cell_type": "markdown",
   "id": "a4bfc79e",
   "metadata": {
    "slideshow": {
     "slide_type": "slide"
    }
   },
   "source": [
    "- If `foo` is $O(n^2)$, about how long will `foo` take for $n = 11$? For $n = 20$?"
   ]
  },
  {
   "cell_type": "markdown",
   "id": "be428313",
   "metadata": {
    "slideshow": {
     "slide_type": "fragment"
    }
   },
   "source": [
    "- $n = 11 \\rightarrow 12.1$\n",
    "- $n = 20 \\rightarrow 40$\n",
    "\n",
    "$O(n^2)$ means $T(n) \\approx kn^2$\n",
    "\n",
    "so if $T(10) = k{10}^2 = 10$ then\n",
    "\n",
    "$k(2 \\cdot 10)^2 = 4 \\cdot k{10}^2 = 4 \\cdot 10 = 40$"
   ]
  },
  {
   "cell_type": "markdown",
   "id": "125afd42",
   "metadata": {
    "slideshow": {
     "slide_type": "slide"
    }
   },
   "source": [
    "- If `foo` is $O(2^n)$, about how long will `foo` take for $n = 11$? For $n = 20$?"
   ]
  },
  {
   "cell_type": "markdown",
   "id": "80f47c61",
   "metadata": {
    "slideshow": {
     "slide_type": "fragment"
    }
   },
   "source": [
    "- $n = 11 \\rightarrow 20$\n",
    "- $n = 20 \\rightarrow 10240$\n",
    "\n",
    "$O(2^n)$ means $T(n) \\approx k2^n$\n",
    "\n",
    "so if $k2^{10} = 10$ then\n",
    "\n",
    "$k2^{10 + 1} = k2^{10} \\cdot 2^1 = 10 \\cdot 2 = 20$\n",
    "\n",
    "and\n",
    "\n",
    "$k2^{(2 \\cdot 10)} = k(2^{10})(2^{10}) = 10 \\cdot 2^{10} = 10240$"
   ]
  },
  {
   "cell_type": "markdown",
   "id": "083e2e40",
   "metadata": {
    "slideshow": {
     "slide_type": "slide"
    }
   },
   "source": [
    "- If `foo` is $O(\\log n)$, about how long will `foo` take for $n = 11$? For $n = 20$?"
   ]
  },
  {
   "cell_type": "markdown",
   "id": "9925ec45",
   "metadata": {
    "slideshow": {
     "slide_type": "fragment"
    }
   },
   "source": [
    "- $n = 11 \\rightarrow 10.4$\n",
    "- $n = 20 \\rightarrow 13$\n",
    "\n",
    "$O(\\log n)$ means $T(n) \\approx k\\log n$\n",
    "\n",
    "so if $k\\log 10 = 10$ then $k \\cdot 1 = 10 \\rightarrow k=10$\n",
    "\n",
    "and \n",
    "\n",
    "$k \\log (10 + 1) = k \\log 11 \\approx 10 * 1.04 = 10.4$\n",
    "\n",
    "and\n",
    "\n",
    "$k \\log (10 \\cdot 2) = k (\\log 10 + \\log 2) \\approx 10 \\cdot(1 + 0.3) = 13$\n",
    "\n",
    "**think**: just a little more than before"
   ]
  },
  {
   "cell_type": "markdown",
   "id": "1d32b70b",
   "metadata": {
    "slideshow": {
     "slide_type": "slide"
    }
   },
   "source": [
    "- If `foo` is $O(n\\log n )$, about how long will `foo` take for $n = 11$? For $n = 20$?"
   ]
  },
  {
   "cell_type": "markdown",
   "id": "5861b0da",
   "metadata": {
    "slideshow": {
     "slide_type": "fragment"
    }
   },
   "source": [
    "- $n = 11 \\rightarrow 11.5$\n",
    "- $n = 20 \\rightarrow 26$\n",
    "\n",
    "$O(n \\log n)$ means $T(n) \\approx kn \\log n$\n",
    "\n",
    "so if $k 10 \\log 10 = 10$ then $k \\cdot 10 \\cdot 1 = 10 \\rightarrow k=1$\n",
    "\n",
    "and \n",
    "\n",
    "$k (10 + 1) \\log (10 + 1) = 11 \\log 11 \\approx 11 * 1.04 = 11.5$\n",
    "\n",
    "and\n",
    "\n",
    "$k (10 \\cdot 2) \\log (10 \\cdot 2) = 20 \\cdot (\\log 10 + \\log 2) \\approx 20 \\cdot(1 + 0.3) = 26$\n",
    "\n",
    "**think**: linear plus a little more"
   ]
  },
  {
   "cell_type": "markdown",
   "id": "30e22046",
   "metadata": {
    "slideshow": {
     "slide_type": "slide"
    }
   },
   "source": [
    "- If `foo` is $O(n!)$, about how long will `foo` take for $n = 11$? For $n = 20$?"
   ]
  },
  {
   "cell_type": "markdown",
   "id": "fa720ce2",
   "metadata": {
    "cell_style": "split",
    "slideshow": {
     "slide_type": "fragment"
    }
   },
   "source": [
    "- $n = 11 \\rightarrow 110$\n",
    "- $n = 20 \\rightarrow 6.7e12$\n",
    "  - Yes, that's 6.7 TRILLION\n",
    "  \n",
    "$O(n!)$ means $T(n) \\approx kn!$\n",
    "\n",
    "so if $k 10! = 10$ then\n",
    "\n",
    "$k (10 + 1)! = 11 \\cdot k10! = 11 \\cdot 10 = 110$\n",
    "\n",
    "and\n",
    "\n",
    "$k (2\\cdot 10)! = 20 \\cdot 19 \\cdot \\cdots \\cdot 11 \\cdot k10! = 670442572800 \\cdot 10 = 6{\\small ,}704{\\small ,}425{\\small ,}728{\\small ,}000$\n",
    "\n",
    "**think**: YIKES!"
   ]
  },
  {
   "cell_type": "markdown",
   "id": "6e181cd8",
   "metadata": {
    "cell_style": "split",
    "slideshow": {
     "slide_type": "fragment"
    }
   },
   "source": [
    "<div style=\"font-size: 200px\"> 😱 </div>"
   ]
  },
  {
   "cell_type": "markdown",
   "id": "561284fa",
   "metadata": {
    "slideshow": {
     "slide_type": "skip"
    }
   },
   "source": [
    "#### How did I compute those numbers?\n",
    "\n",
    "*Content not discussed in class. You can safely skip this section.*"
   ]
  },
  {
   "cell_type": "markdown",
   "id": "65891f11",
   "metadata": {
    "slideshow": {
     "slide_type": "skip"
    }
   },
   "source": [
    "#### $n^2$"
   ]
  },
  {
   "cell_type": "code",
   "execution_count": null,
   "id": "374e7c6a",
   "metadata": {
    "slideshow": {
     "slide_type": "skip"
    }
   },
   "outputs": [],
   "source": [
    "(10 / pow(10,2)) * pow(11, 2)"
   ]
  },
  {
   "cell_type": "code",
   "execution_count": null,
   "id": "2c920676",
   "metadata": {
    "slideshow": {
     "slide_type": "skip"
    }
   },
   "outputs": [],
   "source": [
    "(10 / pow(10,2)) * pow(20, 2)"
   ]
  },
  {
   "cell_type": "markdown",
   "id": "549b6bf6",
   "metadata": {
    "slideshow": {
     "slide_type": "skip"
    }
   },
   "source": [
    "#### $2^n$"
   ]
  },
  {
   "cell_type": "code",
   "execution_count": null,
   "id": "cd2e9032",
   "metadata": {
    "slideshow": {
     "slide_type": "skip"
    }
   },
   "outputs": [],
   "source": [
    "(10 / pow(2,10)) * pow(2,11)"
   ]
  },
  {
   "cell_type": "code",
   "execution_count": null,
   "id": "5c5a8d72",
   "metadata": {
    "slideshow": {
     "slide_type": "skip"
    }
   },
   "outputs": [],
   "source": [
    "(10 / pow(2,10)) * pow(2,20)"
   ]
  },
  {
   "cell_type": "markdown",
   "id": "9958dcac",
   "metadata": {
    "slideshow": {
     "slide_type": "skip"
    }
   },
   "source": [
    "#### $\\log n$"
   ]
  },
  {
   "cell_type": "code",
   "execution_count": null,
   "id": "0beca587",
   "metadata": {
    "slideshow": {
     "slide_type": "skip"
    }
   },
   "outputs": [],
   "source": [
    "(10 / log2(10)) * log2(11)"
   ]
  },
  {
   "cell_type": "code",
   "execution_count": null,
   "id": "66019ad1",
   "metadata": {
    "slideshow": {
     "slide_type": "skip"
    }
   },
   "outputs": [],
   "source": [
    "(10 / log2(10)) * log2(20)"
   ]
  },
  {
   "cell_type": "markdown",
   "id": "ff93c166",
   "metadata": {
    "slideshow": {
     "slide_type": "skip"
    }
   },
   "source": [
    "#### $n \\log n$"
   ]
  },
  {
   "cell_type": "code",
   "execution_count": null,
   "id": "3a5ca346",
   "metadata": {
    "slideshow": {
     "slide_type": "skip"
    }
   },
   "outputs": [],
   "source": [
    "(10 / (10 * log2(10))) * 11 * log2(11)"
   ]
  },
  {
   "cell_type": "code",
   "execution_count": null,
   "id": "2ee331a6",
   "metadata": {
    "slideshow": {
     "slide_type": "skip"
    }
   },
   "outputs": [],
   "source": [
    "(10 / (10 * log2(10))) * 20 * log2(20)"
   ]
  },
  {
   "cell_type": "markdown",
   "id": "a9f281c9",
   "metadata": {
    "slideshow": {
     "slide_type": "skip"
    }
   },
   "source": [
    "#### $n!$"
   ]
  },
  {
   "cell_type": "code",
   "execution_count": null,
   "id": "78807db7",
   "metadata": {
    "slideshow": {
     "slide_type": "skip"
    }
   },
   "outputs": [],
   "source": [
    "double factorial(double n) {\n",
    "    double result = 2;\n",
    "    for (int i = 3; i <= n; i++) {\n",
    "        result *= i;\n",
    "    }\n",
    "    return result;\n",
    "}"
   ]
  },
  {
   "cell_type": "code",
   "execution_count": null,
   "id": "72ea8bef",
   "metadata": {
    "slideshow": {
     "slide_type": "skip"
    }
   },
   "outputs": [],
   "source": [
    "(10 / (factorial(10))) * factorial(11)"
   ]
  },
  {
   "cell_type": "code",
   "execution_count": null,
   "id": "22f5f19d",
   "metadata": {
    "slideshow": {
     "slide_type": "skip"
    }
   },
   "outputs": [],
   "source": [
    "(10 / (factorial(10))) * factorial(20)"
   ]
  },
  {
   "cell_type": "markdown",
   "id": "fc83a138",
   "metadata": {
    "slideshow": {
     "slide_type": "slide"
    }
   },
   "source": [
    "## Key Ideas\n",
    "\n",
    "> **If your algorithm runs in exponential time...you lose.**\n",
    "\n",
    "> **If your algorithm runs in factorial time... ... ... ... ... ... ... .........**"
   ]
  },
  {
   "cell_type": "markdown",
   "id": "f8ae2fbc",
   "metadata": {
    "slideshow": {
     "slide_type": "slide"
    }
   },
   "source": [
    "## Key Ideas\n",
    "\n",
    "> **$O(1)$ is unstoppable! (but typically rare).**\n",
    "\n",
    "> **$O(\\log n)$ is FANTASTIC.**\n",
    "\n",
    "> **$O(n)$ is very good.**\n",
    "\n",
    "> **$O(n \\log n)$ is pretty decent (especially when compared to alternate algorithms).**\n",
    "\n",
    "> **$O(polynomial)$ is...better than exponential. 😬**"
   ]
  },
  {
   "cell_type": "markdown",
   "id": "7c2dca16",
   "metadata": {
    "slideshow": {
     "slide_type": "slide"
    }
   },
   "source": [
    "## Definition of $O$"
   ]
  },
  {
   "cell_type": "markdown",
   "id": "1f6c9583",
   "metadata": {},
   "source": [
    "$T(n)$ is $O(f(n))$ if there exists two constants $c$ and $n_o$ such that:\n",
    "\n",
    "$$\n",
    "T(n) \\le c \\cdot f(n) \\;\\; \\forall n \\ge n_o\n",
    "$$"
   ]
  },
  {
   "cell_type": "markdown",
   "id": "1d564052",
   "metadata": {
    "slideshow": {
     "slide_type": "fragment"
    }
   },
   "source": [
    "... more on this in CS 312"
   ]
  },
  {
   "cell_type": "markdown",
   "id": "248cd289",
   "metadata": {
    "slideshow": {
     "slide_type": "slide"
    }
   },
   "source": [
    "## How do I determine the big-O from $T(n)$"
   ]
  },
  {
   "cell_type": "markdown",
   "id": "f3c34887",
   "metadata": {
    "slideshow": {
     "slide_type": "fragment"
    }
   },
   "source": [
    "Essentially:\n",
    "\n",
    "1. Keep the dominant term/drop low-order terms\n",
    "2. Drop the constants\n",
    "\n",
    "$5n^3 + 2n^2 + 7n + 1000$ => $O(n^3)$ "
   ]
  },
  {
   "cell_type": "markdown",
   "id": "ade917e4",
   "metadata": {
    "slideshow": {
     "slide_type": "slide"
    }
   },
   "source": [
    "### Bad big-O styles\n",
    "- $O(n+2)$\n",
    "- $O(n^2 + n)$\n",
    "- $O(2n)$"
   ]
  },
  {
   "cell_type": "markdown",
   "id": "be0c78e7",
   "metadata": {
    "slideshow": {
     "slide_type": "fragment"
    }
   },
   "source": [
    "Should be:\n",
    "\n",
    "- $O(n)$\n",
    "- $O(n^2)$\n",
    "- $O(n)$"
   ]
  },
  {
   "cell_type": "markdown",
   "id": "34f80b9a",
   "metadata": {
    "slideshow": {
     "slide_type": "slide"
    }
   },
   "source": [
    "## How do you determine the Big O of an algorithm?"
   ]
  },
  {
   "cell_type": "markdown",
   "id": "35d81b9a",
   "metadata": {
    "slideshow": {
     "slide_type": "slide"
    }
   },
   "source": [
    "Simple statements have constant time.\n",
    "\n",
    "```c++\n",
    "int small = 1 + 1;\n",
    "```"
   ]
  },
  {
   "cell_type": "markdown",
   "id": "64b1882e",
   "metadata": {
    "slideshow": {
     "slide_type": "fragment"
    }
   },
   "source": [
    "$O(1)$"
   ]
  },
  {
   "cell_type": "markdown",
   "id": "997d849b",
   "metadata": {
    "slideshow": {
     "slide_type": "slide"
    }
   },
   "source": [
    "To calculate the big-O of a loop:\n",
    "\n",
    "- Determine the big-O of the loop body\n",
    "- Multiply that by the number of times the loop runs"
   ]
  },
  {
   "cell_type": "markdown",
   "id": "e55bce82",
   "metadata": {
    "slideshow": {
     "slide_type": "fragment"
    }
   },
   "source": [
    "```c++\n",
    "for (int i = 0; i < n; i++) {\n",
    "    a = a + i;\n",
    "}\n",
    "```"
   ]
  },
  {
   "cell_type": "markdown",
   "id": "21c6745f",
   "metadata": {
    "slideshow": {
     "slide_type": "fragment"
    }
   },
   "source": [
    "- Constant time body => $O(1)$\n",
    "- $n$ times through the loop\n",
    "  - $O(1) \\cdot n = O(n)$ "
   ]
  },
  {
   "cell_type": "markdown",
   "id": "192983f6",
   "metadata": {
    "slideshow": {
     "slide_type": "slide"
    }
   },
   "source": [
    "```c++\n",
    "for (int i = 0; i < n; i++) {\n",
    "    for (int j = 0; j < n; j++) {\n",
    "        a = a + i*j;\n",
    "    }\n",
    "}\n",
    "```"
   ]
  },
  {
   "cell_type": "markdown",
   "id": "da2b4307",
   "metadata": {
    "slideshow": {
     "slide_type": "fragment"
    }
   },
   "source": [
    "- Constant time body => $O(1)$\n",
    "- $n$ times through $j$ loop\n",
    "  - $O(1) \\cdot n = O(n)$\n",
    "- $n$ times through $i$ loop\n",
    "  - $O(n) \\cdot n = O(n^2)$"
   ]
  },
  {
   "cell_type": "markdown",
   "id": "d4c0d9ec",
   "metadata": {
    "slideshow": {
     "slide_type": "slide"
    }
   },
   "source": [
    "```c++\n",
    "for (int i = 0; i < 76; i++) {\n",
    "    a = a + i;\n",
    "}\n",
    "```"
   ]
  },
  {
   "cell_type": "markdown",
   "id": "c4e5bc02",
   "metadata": {
    "slideshow": {
     "slide_type": "fragment"
    }
   },
   "source": [
    "- Constant time body => $O(1)$\n",
    "- 76 times through the loop\n",
    "  - $O(1) \\cdot 76 = O(76) = O(1)$"
   ]
  },
  {
   "cell_type": "markdown",
   "id": "3f55163d",
   "metadata": {
    "slideshow": {
     "slide_type": "slide"
    }
   },
   "source": [
    "The complexity of sequential statements is the sum of each statement's complexity."
   ]
  },
  {
   "cell_type": "markdown",
   "id": "689d4ea2",
   "metadata": {
    "slideshow": {
     "slide_type": "fragment"
    }
   },
   "source": [
    "```c++\n",
    "int a = 1;\n",
    "int b = 2;\n",
    "int c = a + b;\n",
    "```"
   ]
  },
  {
   "cell_type": "markdown",
   "id": "ab4fbaff",
   "metadata": {
    "slideshow": {
     "slide_type": "fragment"
    }
   },
   "source": [
    "$O(1) + O(1) + O(1) = O(1)$"
   ]
  },
  {
   "cell_type": "markdown",
   "id": "815f89a3",
   "metadata": {
    "slideshow": {
     "slide_type": "slide"
    }
   },
   "source": [
    "```c++\n",
    "for (int i = 0; i < n; i++) {\n",
    "    a = a + i;\n",
    "}\n",
    "for (int i = 0; i < n; i++) {\n",
    "    a = a + i;\n",
    "}\n",
    "```"
   ]
  },
  {
   "cell_type": "markdown",
   "id": "a3969229",
   "metadata": {
    "slideshow": {
     "slide_type": "fragment"
    }
   },
   "source": [
    "$O(n) + O(n) = O(2n) = O(n)$"
   ]
  },
  {
   "cell_type": "markdown",
   "id": "2565b833",
   "metadata": {
    "slideshow": {
     "slide_type": "slide"
    }
   },
   "source": [
    "What is the runtime of conditional statements?\n",
    "\n",
    "```c++\n",
    "if (x == 0) {\n",
    "    for (int i = 0; i < n; i++) {\n",
    "        a = a + x*i;\n",
    "    }\n",
    "} else {\n",
    "    for (int i = 0; i < n; i++) {\n",
    "        for (int j = 0; i < n; i++) {\n",
    "            a = a + x*i*j;\n",
    "        }\n",
    "    }\n",
    "}\n",
    "```"
   ]
  },
  {
   "cell_type": "markdown",
   "id": "e2204317",
   "metadata": {
    "slideshow": {
     "slide_type": "fragment"
    }
   },
   "source": [
    "- Find the big-O of each branch => $O(n)$, $O(n^2)$\n",
    "- Take the larger of the two => $O(n^2)$"
   ]
  },
  {
   "cell_type": "markdown",
   "id": "54cfe1c5",
   "metadata": {
    "cell_style": "split",
    "slideshow": {
     "slide_type": "slide"
    }
   },
   "source": [
    "## Find the big-O for each set of statements\n",
    "\n",
    "1.\n",
    "```c++\n",
    "for ( int i = 0; i < n; i++ )\n",
    "  sum++;\n",
    "```\n",
    "\n",
    "\n",
    "2.\n",
    "```c++\n",
    "for ( int i = 0; i < n; i += 2 )\n",
    "  sum++;\n",
    "```\n",
    "\n",
    "\n",
    "3.\n",
    "```c++\n",
    "for ( int i = 0; i < n; i++ )\n",
    "  for ( int j = 0; j < n; j++ )\n",
    "    sum++;\n",
    "  for ( int j = 0; j < n; j++ )\n",
    "    sum++;\n",
    "```\n",
    "\n",
    "\n"
   ]
  },
  {
   "cell_type": "markdown",
   "id": "13c7745d",
   "metadata": {
    "cell_style": "split",
    "slideshow": {
     "slide_type": "-"
    }
   },
   "source": [
    "4.\n",
    "```c++\n",
    "for ( int i = 0; i < n; i++ )\n",
    "  sum++;\n",
    "for ( int j = 0; j < n; j++ )\n",
    "  sum++;\n",
    "```\n",
    "\n",
    "5.\n",
    "```c++\n",
    "for ( int i = 0; i < n; i++ )\n",
    "  for ( int j = 0; j < n*n; j++ )\n",
    "    sum++;\n",
    "```\n",
    "\n",
    "\n",
    "6.\n",
    "```c++\n",
    "for ( int i = 0; i < n; i++ )\n",
    "  for ( int j = 0; j < i; j++ )\n",
    "    sum++;\n",
    "```\n",
    "\n",
    "\n",
    "7.\n",
    "```c++\n",
    "for ( int i = 0; i < n; i++ )\n",
    "  for ( int j = 0; j < n*n; j++ )\n",
    "    for ( int k = 0; k < j; k++ )\n",
    "      sum++;\n",
    "```"
   ]
  },
  {
   "cell_type": "markdown",
   "id": "64154010",
   "metadata": {
    "slideshow": {
     "slide_type": "slide"
    }
   },
   "source": [
    "1. $O(n)$\n",
    "2. $O(n)$\n",
    "3. $O(n^2)$\n",
    "4. $O(n)$\n",
    "5. $O(n^3)$\n",
    "6. $O(n^2)$\n",
    "7. $O(n^5)$"
   ]
  },
  {
   "cell_type": "markdown",
   "id": "148273e0",
   "metadata": {
    "slideshow": {
     "slide_type": "slide"
    }
   },
   "source": [
    "```c++\n",
    "for ( int i = 0; i < n; i++ )\n",
    "  for ( int j = 0; j < i; j++ )\n",
    "    sum++;\n",
    "```\n",
    "\n",
    "The inner loop doesn't repeat $n$ times. However, as $n$ increases, the number of times that loop runs increases.\n",
    "\n",
    "```\n",
    "   I\n",
    "   |\n",
    "   v\n",
    "    -\n",
    "    --\n",
    "    ---\n",
    "    ----\n",
    "    -----\n",
    " J->------\n",
    "```\n",
    "\n",
    "The actual number of statements (i.e. $T(n)$) is $\\approx \\frac{n^2}{2}$.\n",
    "\n",
    "So the big-O is $O(n^2)$."
   ]
  },
  {
   "cell_type": "markdown",
   "id": "9eab48ba",
   "metadata": {
    "cell_style": "split",
    "slideshow": {
     "slide_type": "slide"
    }
   },
   "source": [
    "What is the big-O of this algorithm?\n",
    "\n",
    "```c++\n",
    "for (i = 0; i < n-1; i++) {\n",
    "  small = 1;\n",
    "  for (j = i+1; j < n; j++)\n",
    "    if (A[j] < A[small])\n",
    "      small = j;\n",
    "  temp = A[small];\n",
    "  A[small] = A[i];\n",
    "  A[i] = temp;\n",
    "}\n",
    "```\n",
    "\n",
    "```\n",
    "------\n",
    " -----\n",
    "  ----\n",
    "   ---\n",
    "    --\n",
    "     -\n",
    "```"
   ]
  },
  {
   "cell_type": "markdown",
   "id": "f46b3c36",
   "metadata": {
    "cell_style": "split",
    "slideshow": {
     "slide_type": "fragment"
    }
   },
   "source": [
    "$O(n^2)$"
   ]
  },
  {
   "cell_type": "markdown",
   "id": "bef85d87",
   "metadata": {
    "slideshow": {
     "slide_type": "slide"
    }
   },
   "source": [
    " "
   ]
  },
  {
   "cell_type": "markdown",
   "id": "ac68a6ee",
   "metadata": {
    "cell_style": "split",
    "slideshow": {
     "slide_type": "-"
    }
   },
   "source": [
    "What is the big-O of this algorithm?\n",
    "\n",
    "```c++\n",
    "int maxSum = 0;\n",
    "\n",
    "for( int i = 0; i < n; i++ )\n",
    "  for( int j = 0; j < n; j++ ) {\n",
    "    int thisSum = 0;\n",
    "    for( int k = i; k <= j; k++ )\n",
    "      thisSum += a[ k ];\n",
    "    for( int k = i; k <= j; k++ )\n",
    "      thisSum += 10 + a[ k ];\n",
    "```\n",
    "```c++\n",
    "    if( thisSum > maxSum ) {\n",
    "      maxSum = thisSum;\n",
    "      seqStart = i;\n",
    "      seqEnd = j;\n",
    "    }\n",
    "  }\n",
    "\n",
    "return maxSum;\n",
    "```"
   ]
  },
  {
   "cell_type": "markdown",
   "id": "79f1837d",
   "metadata": {
    "cell_style": "split",
    "slideshow": {
     "slide_type": "fragment"
    }
   },
   "source": [
    "$O(n^3)$"
   ]
  },
  {
   "cell_type": "markdown",
   "id": "b4f041a9",
   "metadata": {
    "slideshow": {
     "slide_type": "slide"
    }
   },
   "source": [
    "## Logarithms"
   ]
  },
  {
   "cell_type": "markdown",
   "id": "136bad61",
   "metadata": {
    "slideshow": {
     "slide_type": "fragment"
    }
   },
   "source": [
    "If \n",
    "\n",
    "$b^x = k$\n",
    "\n",
    "then \n",
    "\n",
    "$log_b k = x$"
   ]
  },
  {
   "cell_type": "markdown",
   "id": "848c6f6f",
   "metadata": {},
   "source": [
    "So $10^3 = 1000$, and $\\log_{10} 1000 = 3$"
   ]
  },
  {
   "cell_type": "markdown",
   "id": "4348a356",
   "metadata": {},
   "source": [
    "So $2^5 = 32$, and $\\log_{2} 32 = 5$"
   ]
  },
  {
   "cell_type": "markdown",
   "id": "11899ab4",
   "metadata": {
    "slideshow": {
     "slide_type": "slide"
    }
   },
   "source": [
    "What are the following values?\n",
    "\n",
    "$\\log_{10} 10000$\n",
    "\n",
    "$\\log_2 16 $"
   ]
  },
  {
   "cell_type": "markdown",
   "id": "445a6d98",
   "metadata": {
    "slideshow": {
     "slide_type": "fragment"
    }
   },
   "source": [
    "What is the *base* of each logarithm?"
   ]
  },
  {
   "cell_type": "markdown",
   "id": "7898d9ae",
   "metadata": {
    "slideshow": {
     "slide_type": "slide"
    }
   },
   "source": [
    "What is an easy way to estimate the $\\log_{10}$?\n",
    "\n",
    "- Count the number of digits minus 1\n",
    "\n",
    "What is an easy way to estimate the $\\log_{2}$?\n",
    "\n",
    "- Count the number of bits (i.e. binary digits)\n",
    "- Count the number of digits minus 1 and multiply by 3"
   ]
  },
  {
   "cell_type": "markdown",
   "id": "1643d3aa",
   "metadata": {
    "slideshow": {
     "slide_type": "slide"
    }
   },
   "source": [
    "Remember: $\\log(a \\cdot b) = \\log(a) + \\log(b)$"
   ]
  },
  {
   "cell_type": "markdown",
   "id": "54ad6c9b",
   "metadata": {
    "slideshow": {
     "slide_type": "slide"
    }
   },
   "source": [
    "How does $\\log n$ compare to $n$ for large values of $n$?"
   ]
  },
  {
   "cell_type": "code",
   "execution_count": 27,
   "id": "c817ee39",
   "metadata": {},
   "outputs": [
    {
     "name": "stdout",
     "output_type": "stream",
     "text": [
      "16.6096405\n"
     ]
    }
   ],
   "source": [
    "cout << log2(100000) << endl;"
   ]
  },
  {
   "cell_type": "code",
   "execution_count": 28,
   "id": "17625e8e",
   "metadata": {},
   "outputs": [
    {
     "name": "stdout",
     "output_type": "stream",
     "text": [
      "5\n"
     ]
    }
   ],
   "source": [
    "cout << log10(100000) << endl;"
   ]
  },
  {
   "cell_type": "code",
   "execution_count": 29,
   "id": "38cd7e49",
   "metadata": {},
   "outputs": [
    {
     "name": "stdout",
     "output_type": "stream",
     "text": [
      "3.32192809\n"
     ]
    }
   ],
   "source": [
    "cout << log2(100000) / log10(100000) << endl;"
   ]
  },
  {
   "cell_type": "code",
   "execution_count": 30,
   "id": "862b601c",
   "metadata": {},
   "outputs": [
    {
     "name": "stdout",
     "output_type": "stream",
     "text": [
      "9.96578428\n"
     ]
    }
   ],
   "source": [
    "cout << log2(1000) << endl;"
   ]
  },
  {
   "cell_type": "code",
   "execution_count": 31,
   "id": "43f514e7",
   "metadata": {},
   "outputs": [
    {
     "name": "stdout",
     "output_type": "stream",
     "text": [
      "3\n"
     ]
    }
   ],
   "source": [
    "cout << log10(1000) << endl;"
   ]
  },
  {
   "cell_type": "code",
   "execution_count": 32,
   "id": "63d5a78c",
   "metadata": {},
   "outputs": [
    {
     "name": "stdout",
     "output_type": "stream",
     "text": [
      "3.32192809\n"
     ]
    }
   ],
   "source": [
    "cout << log2(1000) / log10(1000) << endl;"
   ]
  },
  {
   "cell_type": "markdown",
   "id": "d51675da",
   "metadata": {
    "slideshow": {
     "slide_type": "slide"
    }
   },
   "source": [
    "Changing the logarithm base only scales the result by a constant factor.\n",
    "\n",
    "So...does the base matter in big-O notation?"
   ]
  },
  {
   "cell_type": "markdown",
   "id": "cf1fe7da",
   "metadata": {
    "slideshow": {
     "slide_type": "fragment"
    }
   },
   "source": [
    "Nope!"
   ]
  },
  {
   "cell_type": "markdown",
   "id": "0f2125b0",
   "metadata": {
    "slideshow": {
     "slide_type": "slide"
    }
   },
   "source": [
    "## Logs in Big-O"
   ]
  },
  {
   "cell_type": "markdown",
   "id": "81b1393d",
   "metadata": {},
   "source": [
    "If you start with $X = 1$, how many times you can double $X$\n",
    "before $X$ becomes greater than or equal to $N$?"
   ]
  },
  {
   "cell_type": "markdown",
   "id": "66d8978b",
   "metadata": {},
   "source": [
    "If you start with $X = N$, how many times you can cut $X$ in half\n",
    "before $X$ becomes less than or equal to $1$?"
   ]
  },
  {
   "cell_type": "markdown",
   "id": "c8eb64de",
   "metadata": {},
   "source": [
    "When you are analyzing code to find the Big-Oh,\n",
    "when do you use a logarithm in the Big-Oh formula?"
   ]
  },
  {
   "cell_type": "markdown",
   "id": "9b27b081",
   "metadata": {
    "cell_style": "split",
    "slideshow": {
     "slide_type": "slide"
    }
   },
   "source": [
    "1.\n",
    "```c++\n",
    "for ( int x = 1; x < n; x *= 2 )\n",
    "  sum++;\n",
    "```\n",
    "\n",
    "2.\n",
    "```c++\n",
    "for ( int i = 0; i < n; i++ )\n",
    "  for ( int x = n; x > 1; x /= 2 )\n",
    "    sum++;\n",
    "```\n",
    "\n",
    "3.\n",
    "```c++\n",
    "for ( int x = n; x > 1; x /= 10 )\n",
    "  sum++;\n",
    "```\n",
    "\n",
    "4.\n",
    "```c++\n",
    "for ( int x = 1; x < n; x *= 10 )\n",
    "  for ( int i = 0; i < n; i++ )\n",
    "    sum++;\n",
    "```"
   ]
  },
  {
   "cell_type": "markdown",
   "id": "7af0e239",
   "metadata": {
    "cell_style": "split",
    "slideshow": {
     "slide_type": "fragment"
    }
   },
   "source": [
    "1. $O(\\log n)$\n",
    "2. $O(n \\log n)$\n",
    "3. $O(\\log n)$\n",
    "4. $O(n \\log n)$"
   ]
  },
  {
   "cell_type": "markdown",
   "id": "ec0db41b",
   "metadata": {
    "slideshow": {
     "slide_type": "slide"
    }
   },
   "source": [
    "### What is the time-complexity (big-O) of the binary search algorithm?"
   ]
  },
  {
   "cell_type": "markdown",
   "id": "1c941451",
   "metadata": {
    "slideshow": {
     "slide_type": "fragment"
    }
   },
   "source": [
    "- In each iteration I compute an index, retrieve a value, compare it, and compute new min/max indexes (all $O(1)$)\n",
    "- How many times do I perform an iteration?\n",
    "  - Each time I iterate, the range decreases by a factor of $\\frac{1}{2}$\n",
    "  - How many times can I halve the range before I reach 1?\n",
    "    - $\\log n$\n",
    "- so total work is $O(1) \\cdot O(\\log n) \\rightarrow O(\\log n)$"
   ]
  },
  {
   "cell_type": "markdown",
   "id": "8b9737f9",
   "metadata": {
    "slideshow": {
     "slide_type": "slide"
    }
   },
   "source": [
    "## Logarithm and Big-O Key Ideas\n",
    "\n",
    "- $O(\\log n)$ is WAY better than $O(n)$\n",
    "- $O(n \\log n)$ is slower than $O(n)$, but WAY better than polynomial performance.\n",
    "- Logarithms show up in big-O when you half the problem space with each iteration\n",
    "  - Each iteration through a loop deals with half as many as before\n",
    "  - Each recursive function call gets half the current collection\n",
    "  - The ratio doesn't really matter (half, third, fourth, etc.)"
   ]
  },
  {
   "cell_type": "markdown",
   "id": "722ad9d6",
   "metadata": {
    "slideshow": {
     "slide_type": "skip"
    }
   },
   "source": [
    "#### Material for Unit 4\n",
    "\n",
    "|         | Vector  | SLL (no tail) | DLL (w/ tail) |\n",
    "|---------|---------|-------------|---|\n",
    "|pop_back | $O(1)$  | $O(n)$| $O(1)$ |\n",
    "|push_back| $O(1)$  | $O(n)$ | $O(1)$ |\n",
    "|insert front | $O(n)$ | $O(1)$ | $O(1)$ |\n",
    "|insert middle | $O(n)$ | $O(1)$ or $O(n)$ if you have to find it| $O(n)$ go find it|\n",
    "| at | $O(1)$ | $O(n)$ | $O(n)$ |"
   ]
  }
 ],
 "metadata": {
  "celltoolbar": "Slideshow",
  "kernelspec": {
   "display_name": "C++17 (docker)",
   "language": "C++17",
   "name": "xeus-cling"
  },
  "language_info": {
   "codemirror_mode": "text/x-c++src",
   "file_extension": ".cpp",
   "mimetype": "text/x-c++src",
   "name": "c++",
   "version": "17"
  }
 },
 "nbformat": 4,
 "nbformat_minor": 5
}
