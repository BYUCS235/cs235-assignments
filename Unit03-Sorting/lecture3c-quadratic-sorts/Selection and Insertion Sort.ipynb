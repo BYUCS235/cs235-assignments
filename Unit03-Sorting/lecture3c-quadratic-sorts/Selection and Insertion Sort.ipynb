{
 "cells": [
  {
   "cell_type": "code",
   "execution_count": null,
   "id": "b1bd07f1",
   "metadata": {},
   "outputs": [],
   "source": []
  },
  {
   "cell_type": "markdown",
   "id": "1fb02cee",
   "metadata": {
    "slideshow": {
     "slide_type": "slide"
    }
   },
   "source": [
    "# Sorting"
   ]
  },
  {
   "cell_type": "markdown",
   "id": "0861900c",
   "metadata": {
    "slideshow": {
     "slide_type": "slide"
    }
   },
   "source": [
    "> I have some items\n",
    ">\n",
    "> With a defined ordering\n",
    ">\n",
    "> So I will sort them."
   ]
  },
  {
   "cell_type": "markdown",
   "id": "cc4c1310",
   "metadata": {
    "slideshow": {
     "slide_type": "slide"
    }
   },
   "source": [
    "## To sort, or not to sort?\n",
    "\n",
    "Why do we want sorted data?"
   ]
  },
  {
   "cell_type": "markdown",
   "id": "afe1ae32",
   "metadata": {
    "slideshow": {
     "slide_type": "fragment"
    }
   },
   "source": [
    "- Improved searching\n",
    "- Better human experience"
   ]
  },
  {
   "cell_type": "markdown",
   "id": "c6f51af7",
   "metadata": {
    "slideshow": {
     "slide_type": "slide"
    }
   },
   "source": [
    "## Bubble Sort 🫧"
   ]
  },
  {
   "cell_type": "markdown",
   "id": "c0b145f6",
   "metadata": {
    "slideshow": {
     "slide_type": "slide"
    }
   },
   "source": [
    "### Algorithm\n",
    "\n",
    "Given a list of items:\n",
    "\n",
    "- scan through the items from left to right\n",
    "- if an item is larger than the item to its right, swap them (putting the larger item on the right)\n",
    "- if no swaps are made in a given pass through the items, the items are sorted\n",
    "\n",
    "\n",
    "### `bubble.h`"
   ]
  },
  {
   "cell_type": "markdown",
   "id": "5575925f",
   "metadata": {
    "slideshow": {
     "slide_type": "slide"
    }
   },
   "source": [
    "### What is the complexity of Bubble Sort?"
   ]
  },
  {
   "cell_type": "markdown",
   "id": "18446079",
   "metadata": {
    "slideshow": {
     "slide_type": "fragment"
    }
   },
   "source": [
    "#### On Average\n",
    "- Each iteration performs $O(n)$ comparisons\n",
    "- In each iteration, the largest \"unsorted\" item in the list is moved into place\n",
    "  - so after $n$ iterations, all the items will be in place\n",
    "  - so $O(n)$ iterations\n",
    "- $O(n) \\cdot O(n) = O(n^2)$\n",
    "\n",
    "#### Reverse Sorted\n",
    "- Same\n",
    "\n",
    "#### Pre-sorted\n",
    "- No swaps are performed, so after a single pass through the data it's done!\n",
    "- $O(n)$ performance on pre-sorted data 😎\n",
    "  - but as soon as a single small value ends up at the back, we get $O(n^2)$ again. 😛"
   ]
  },
  {
   "cell_type": "markdown",
   "id": "48717b75",
   "metadata": {
    "slideshow": {
     "slide_type": "slide"
    }
   },
   "source": [
    "## Selection Sort 👇🏻"
   ]
  },
  {
   "cell_type": "markdown",
   "id": "fbae1eab",
   "metadata": {
    "slideshow": {
     "slide_type": "fragment"
    }
   },
   "source": [
    "### Algorithm\n",
    "\n",
    "Given a list of items:\n",
    "- Partition the list into \"sorted\" and \"unsorted\"\n",
    "  - the \"sorted\" part starts empty\n",
    "- Until the \"unsorted\" part is empty:\n",
    "  - Find the **smallest** item in the \"unsorted\" list\n",
    "  - Swap it with the **first** item in the \"unsorted\" list\n",
    "  - The \"sorted\" list now includes the swapped item"
   ]
  },
  {
   "cell_type": "markdown",
   "id": "8df8c3fc",
   "metadata": {
    "slideshow": {
     "slide_type": "slide"
    }
   },
   "source": [
    "Use selection-sort to sort: \n",
    "\n",
    "5 2 7 3 4\n",
    "\n",
    "We'll use $p$ to describe the first index of the unsorted list."
   ]
  },
  {
   "cell_type": "markdown",
   "id": "d7c37f74",
   "metadata": {
    "slideshow": {
     "slide_type": "slide"
    }
   },
   "source": [
    "$p = 0$\n",
    "\n",
    "```\n",
    "5 2 7 3 5\n",
    "|--------\n",
    "```\n",
    "\n",
    "Smallest is 2 => swap with 5:\n",
    "\n",
    "```\n",
    "2 5 7 3 5\n",
    "|--------\n",
    "```"
   ]
  },
  {
   "cell_type": "markdown",
   "id": "0a0c2429",
   "metadata": {
    "slideshow": {
     "slide_type": "slide"
    }
   },
   "source": [
    "$p = 1$\n",
    "\n",
    "```\n",
    "2 5 7 3 5\n",
    "  |------\n",
    "```\n",
    "\n",
    "Smallest is 3 => swap with 5\n",
    "\n",
    "```\n",
    "2 3 7 5 5\n",
    "  |------\n",
    "```"
   ]
  },
  {
   "cell_type": "markdown",
   "id": "56e6ec9b",
   "metadata": {
    "slideshow": {
     "slide_type": "slide"
    }
   },
   "source": [
    "$p = 2$\n",
    "\n",
    "```\n",
    "2 3 7 5 5\n",
    "    |----\n",
    "```\n",
    "\n",
    "Smallest is 5 => swap with 7\n",
    "\n",
    "```\n",
    "2 3 5 7 5\n",
    "    |----\n",
    "```"
   ]
  },
  {
   "cell_type": "markdown",
   "id": "2312eaa0",
   "metadata": {
    "slideshow": {
     "slide_type": "slide"
    }
   },
   "source": [
    "$p = 3$\n",
    "\n",
    "```\n",
    "2 3 5 7 5\n",
    "      |--\n",
    "```\n",
    "\n",
    "Smallest is 5 => swap with 7\n",
    "\n",
    "```\n",
    "2 3 5 5 7\n",
    "      |--\n",
    "```"
   ]
  },
  {
   "cell_type": "markdown",
   "id": "a758fb72",
   "metadata": {
    "slideshow": {
     "slide_type": "slide"
    }
   },
   "source": [
    "$p = 4$\n",
    "\n",
    "```\n",
    "2 3 5 5 7\n",
    "        |\n",
    "```\n",
    "Smallest is 7 => swap with 7\n",
    "\n",
    "```\n",
    "2 3 5 5 7\n",
    "        |\n",
    "```"
   ]
  },
  {
   "cell_type": "markdown",
   "id": "1e6cfe36",
   "metadata": {
    "slideshow": {
     "slide_type": "slide"
    }
   },
   "source": [
    "$p = 5$ means we've finished!\n",
    "\n",
    "```\n",
    "2 3 5 5 7\n",
    "          ^\n",
    "```\n",
    "\n",
    "(Yes, we could stop once $p = length(list)-1$)"
   ]
  },
  {
   "cell_type": "markdown",
   "id": "2a213fd3",
   "metadata": {
    "slideshow": {
     "slide_type": "slide"
    }
   },
   "source": [
    "### 👷🏼‍♀️ Activity"
   ]
  },
  {
   "cell_type": "markdown",
   "id": "831ada21",
   "metadata": {
    "cell_style": "split"
   },
   "source": [
    "#### Selection Sort Algorithm\n",
    "\n",
    "Given a list of items:\n",
    "- Partition the list into \"sorted\" and \"unsorted\"\n",
    "  - the \"sorted\" part starts empty\n",
    "- Until the \"unsorted\" part is empty:\n",
    "  - Find the **smallest** item in the \"unsorted\" list\n",
    "  - Swap it with the **first** item in the \"unsorted\" list\n",
    "  - The \"sorted\" list now includes the swapped item"
   ]
  },
  {
   "cell_type": "markdown",
   "id": "0c83570c",
   "metadata": {
    "cell_style": "split",
    "slideshow": {
     "slide_type": "-"
    }
   },
   "source": [
    "Show each step of selection sort on:"
   ]
  },
  {
   "cell_type": "markdown",
   "id": "849d5aa0",
   "metadata": {
    "cell_style": "split",
    "slideshow": {
     "slide_type": "-"
    }
   },
   "source": [
    "```\n",
    "5 2 7 3 4\n",
    "```"
   ]
  },
  {
   "cell_type": "markdown",
   "id": "96a32308",
   "metadata": {
    "slideshow": {
     "slide_type": "slide"
    }
   },
   "source": [
    "```\n",
    "5 2 7 3 4\n",
    "```\n",
    "\n",
    "```\n",
    "5 2 7 3 4\n",
    "|--------\n",
    "\n",
    "2 5 7 3 4\n",
    "  |------\n",
    "  \n",
    "2 3 7 5 4\n",
    "    |----\n",
    "```\n",
    "```\n",
    "2 3 4 5 7\n",
    "      |--\n",
    "      \n",
    "2 3 4 5 7\n",
    "        |\n",
    "```"
   ]
  },
  {
   "cell_type": "markdown",
   "id": "1f4ca1aa",
   "metadata": {
    "slideshow": {
     "slide_type": "slide"
    }
   },
   "source": [
    "### Complexity of Selection Sort"
   ]
  },
  {
   "cell_type": "markdown",
   "id": "585a874e",
   "metadata": {
    "cell_style": "split"
   },
   "source": [
    "```\n",
    "for each i from 0 to size-1\n",
    "  min = i\n",
    "  for each j from i+1 to size\n",
    "    if list[j] < list[min]\n",
    "      min = j\n",
    "  swap list[i] and list[min]\n",
    "\n",
    "```"
   ]
  },
  {
   "cell_type": "markdown",
   "id": "7422fa42",
   "metadata": {
    "cell_style": "split",
    "slideshow": {
     "slide_type": "-"
    }
   },
   "source": [
    "What is the time complexity (big-O) of selection sort?\n",
    "\n",
    "Does the running time depend on what kind of input you give it?\n",
    "\n",
    "- Random input?\n",
    "- Sorted input?\n",
    "- Reverse-sorted input?"
   ]
  },
  {
   "cell_type": "markdown",
   "id": "0a1c4bc0",
   "metadata": {
    "slideshow": {
     "slide_type": "slide"
    }
   },
   "source": [
    "#### Sorted data\n",
    "\n",
    "```\n",
    "1 2 3 4\n",
    "```\n",
    "\n",
    "- Find min (search 1 2 3 4) => 1\n",
    "  - swap with self\n",
    "- Find min (search 2 3 4) => 2\n",
    "  - swap with self\n",
    "- Find min (search 3 4) => 3\n",
    "  - swap with self\n",
    "- Find min (search 4) => 4\n",
    "  - swap with self"
   ]
  },
  {
   "cell_type": "markdown",
   "id": "ff1fb24d",
   "metadata": {
    "slideshow": {
     "slide_type": "fragment"
    }
   },
   "source": [
    "Selection sort does $O(n^2)$ for sorted data."
   ]
  },
  {
   "cell_type": "markdown",
   "id": "7ed9aec7",
   "metadata": {
    "slideshow": {
     "slide_type": "slide"
    }
   },
   "source": [
    "#### Reversed data\n",
    "\n",
    "4 3 2 1\n",
    "\n",
    "- Find min (search 4 3 2 1) => 1\n",
    "  - swap with 4 => 1 3 2 4\n",
    "- Find min (search 3 2 4) => 2\n",
    "  - swap with 3 => 1 2 3 4\n",
    "- Find min (search 3 4) => 3\n",
    "  - swap with self\n",
    "- Find min (search 4) => 4\n",
    "  - swap with self"
   ]
  },
  {
   "cell_type": "markdown",
   "id": "c935b7fa",
   "metadata": {
    "slideshow": {
     "slide_type": "fragment"
    }
   },
   "source": [
    "Selection sort does $O(n^2)$ on reversed data."
   ]
  },
  {
   "cell_type": "markdown",
   "id": "29111155",
   "metadata": {
    "slideshow": {
     "slide_type": "slide"
    }
   },
   "source": [
    "What is the **space** complexity (big-O) of selection sort?"
   ]
  },
  {
   "cell_type": "markdown",
   "id": "d320eb12",
   "metadata": {
    "slideshow": {
     "slide_type": "fragment"
    }
   },
   "source": [
    "Makes no copy of the data; only stores space for swapping items: $O(1)$\n",
    "\n",
    "This assumes we aren't counting the space to store the original data. If we were to count that, the space complexity would be $O(n)$\n",
    "\n",
    "State and justify your assumptions!"
   ]
  },
  {
   "cell_type": "markdown",
   "id": "93723a3c",
   "metadata": {
    "slideshow": {
     "slide_type": "slide"
    }
   },
   "source": [
    "### Selection sort\n",
    "\n",
    "- Runtime: $O(n^2)$\n",
    "  - Best case, worst case, average case\n",
    "  - Doesn't matter if the input is sorted, reversed, random\n",
    "- Space: $O(1)$\n",
    "  - Doesn't use any more space than the original container\n"
   ]
  },
  {
   "cell_type": "markdown",
   "id": "44f22761",
   "metadata": {
    "slideshow": {
     "slide_type": "slide"
    }
   },
   "source": [
    "### `selection.h`"
   ]
  },
  {
   "cell_type": "markdown",
   "id": "3b76eb0f",
   "metadata": {
    "slideshow": {
     "slide_type": "slide"
    }
   },
   "source": [
    "## Insertion sort"
   ]
  },
  {
   "cell_type": "markdown",
   "id": "2aaffac2",
   "metadata": {
    "slideshow": {
     "slide_type": "fragment"
    }
   },
   "source": [
    "### Algorithm\n",
    "\n",
    "- Partition the collection into sorted and unsorted parts\n",
    "  - The sorted part starts with the **first** item\n",
    "- While the unsorted part is not empty\n",
    "  - Take the first item in the unsorted part and **insert** it into it's place in the sorted list\n",
    "  - Increment the partition"
   ]
  },
  {
   "cell_type": "markdown",
   "id": "ad1431ad",
   "metadata": {
    "slideshow": {
     "slide_type": "slide"
    }
   },
   "source": [
    "Use insertion sort to sort:\n",
    "\n",
    "```\n",
    "5 2 7 3 4\n",
    "```"
   ]
  },
  {
   "cell_type": "markdown",
   "id": "ec92dcdf",
   "metadata": {
    "slideshow": {
     "slide_type": "slide"
    }
   },
   "source": [
    "$p = 1$\n",
    "\n",
    "```\n",
    "5 2 7 3 4\n",
    "| ^\n",
    "```\n",
    "\n",
    "Item $p$ is 2. Insert after the start:\n",
    "\n",
    "```\n",
    "2 5 7 3 4\n",
    "--|\n",
    "```"
   ]
  },
  {
   "cell_type": "markdown",
   "id": "b6547512",
   "metadata": {
    "slideshow": {
     "slide_type": "slide"
    }
   },
   "source": [
    "$p = 2$\n",
    "\n",
    "```\n",
    "2 5 7 3 4\n",
    "--| ^\n",
    "```\n",
    "\n",
    "Item $p$ is 7. Insert after the 5:\n",
    "\n",
    "```\n",
    "2 5 7 3 4\n",
    "----|\n",
    "```"
   ]
  },
  {
   "cell_type": "markdown",
   "id": "a6c914b1",
   "metadata": {
    "slideshow": {
     "slide_type": "slide"
    }
   },
   "source": [
    "$p = 3$\n",
    "\n",
    "```\n",
    "2 5 7 3 4\n",
    "----| ^\n",
    "```\n",
    "\n",
    "Item $p$ is 3. Insert after the 2:\n",
    "\n",
    "```\n",
    "2 3 5 7 4\n",
    "------|\n",
    "```"
   ]
  },
  {
   "cell_type": "markdown",
   "id": "4245663b",
   "metadata": {
    "slideshow": {
     "slide_type": "slide"
    }
   },
   "source": [
    "$p = 4$\n",
    "\n",
    "```\n",
    "2 3 5 7 4\n",
    "------| ^\n",
    "```\n",
    "Item $p$ is 4. Insert after the 3:\n",
    "\n",
    "```\n",
    "2 3 4 5 7\n",
    "--------|\n",
    "```"
   ]
  },
  {
   "cell_type": "markdown",
   "id": "69e02384",
   "metadata": {
    "slideshow": {
     "slide_type": "slide"
    }
   },
   "source": [
    "<div style='font-size: 40pt'>😴 🥱 😶‍🌫️ 🙃 😃</div>"
   ]
  },
  {
   "cell_type": "markdown",
   "id": "bebb8309",
   "metadata": {
    "slideshow": {
     "slide_type": "slide"
    }
   },
   "source": [
    "### 👷🏽‍♀️ Activity"
   ]
  },
  {
   "cell_type": "markdown",
   "id": "14d7d78e",
   "metadata": {
    "cell_style": "split",
    "slideshow": {
     "slide_type": "-"
    }
   },
   "source": [
    "#### Algorithm\n",
    "\n",
    "- Partition the collection into sorted and unsorted parts\n",
    "  - The sorted part starts with the **first** item\n",
    "- While the unsorted part is not empty\n",
    "  - Take the first item in the unsorted part and **insert** it into it's place in the sorted list\n",
    "  - Increment the partition\n",
    "  "
   ]
  },
  {
   "cell_type": "markdown",
   "id": "e474cdcb",
   "metadata": {
    "cell_style": "split",
    "slideshow": {
     "slide_type": "-"
    }
   },
   "source": [
    "Use insertion sort to sort:"
   ]
  },
  {
   "cell_type": "markdown",
   "id": "759b7d67",
   "metadata": {
    "cell_style": "split",
    "slideshow": {
     "slide_type": "-"
    }
   },
   "source": [
    "```\n",
    "8 5 2 7 3\n",
    "```"
   ]
  },
  {
   "cell_type": "markdown",
   "id": "46f67ddc",
   "metadata": {
    "slideshow": {
     "slide_type": "slide"
    }
   },
   "source": [
    "```\n",
    "8 5 2 7 3\n",
    "| ^\n",
    " \n",
    "5 8 2 7 3\n",
    "--| ^\n",
    "  \n",
    "2 5 8 7 3\n",
    "----| ^\n",
    "```\n",
    "```\n",
    "2 5 7 8 3\n",
    "------| ^\n",
    "        \n",
    "2 3 5 8 7\n",
    "--------|\n",
    "```"
   ]
  },
  {
   "cell_type": "markdown",
   "id": "e217caa2",
   "metadata": {
    "cell_style": "split",
    "slideshow": {
     "slide_type": "slide"
    }
   },
   "source": [
    "### Insert Sort Pseudo-code\n",
    "```\n",
    "for each i from 1 to size\n",
    "  j = i\n",
    "  item = list[j]\n",
    "\n",
    "  while j > 0 and list[j-1] > item\n",
    "    list[j] = list[j-1];\n",
    "    j--;\n",
    "  end while\n",
    "  list[j] = item\n",
    "end for\n",
    "\n",
    "```"
   ]
  },
  {
   "cell_type": "markdown",
   "id": "215f8834",
   "metadata": {
    "cell_style": "split"
   },
   "source": [
    "- For each position, starting at 1 (i.e. the partition index)\n",
    "- Grab the item at position i and save it\n",
    "- Shift all values greater than that item to the right\n",
    "- Put the item in where it goes"
   ]
  },
  {
   "cell_type": "markdown",
   "id": "ae6eda0c",
   "metadata": {
    "slideshow": {
     "slide_type": "slide"
    }
   },
   "source": [
    "- What is the time and space complexity of insertion sort?\n",
    "- Does the performance matter on the kind of input?\n",
    "  - Random?\n",
    "  - Sorted?\n",
    "  - Reversed?"
   ]
  },
  {
   "cell_type": "markdown",
   "id": "92a354fa",
   "metadata": {
    "slideshow": {
     "slide_type": "slide"
    }
   },
   "source": [
    "#### Sorted Input\n",
    "\n",
    "```\n",
    "1 2 3 4\n",
    "```\n",
    "\n",
    "- Grab 2, how many do I need to shift?\n",
    "  - Nothing\n",
    "- Grab 3, how many do I need to shift?\n",
    "  - Nothing\n",
    "- etc."
   ]
  },
  {
   "cell_type": "markdown",
   "id": "58372746",
   "metadata": {
    "slideshow": {
     "slide_type": "fragment"
    }
   },
   "source": [
    "Insertion sort handles sorted data very nicely: $O(n)$! 😎"
   ]
  },
  {
   "cell_type": "markdown",
   "id": "4b800a2f",
   "metadata": {
    "slideshow": {
     "slide_type": "slide"
    }
   },
   "source": [
    "#### Reversed Input\n",
    "\n",
    "4 3 2 1\n",
    "\n",
    "- Grab 3, shift 4 => 3 4 2 1\n",
    "- Grab 2, shift 3,4 => 2 3 4 1\n",
    "- Grab 1, shift 2,3,4 => 1 2 3 4"
   ]
  },
  {
   "cell_type": "markdown",
   "id": "44cb7679",
   "metadata": {
    "slideshow": {
     "slide_type": "fragment"
    }
   },
   "source": [
    "Insertion sort has a full $O(n^2)$ behavior for reversed data."
   ]
  },
  {
   "cell_type": "markdown",
   "id": "bfd3d324",
   "metadata": {
    "slideshow": {
     "slide_type": "slide"
    }
   },
   "source": [
    "Insertion sort is still $O(n^2)$ for random data, but the constant factors will be smaller than for reversed data."
   ]
  },
  {
   "cell_type": "markdown",
   "id": "098d3311",
   "metadata": {
    "slideshow": {
     "slide_type": "slide"
    }
   },
   "source": [
    "### Insertion sort\n",
    "\n",
    "- Time\n",
    "  - Generally $O(n^2)$\n",
    "  - Already-sorted $O(n)$ 👍🏻\n",
    "  - Worst-case $O(n^2)$\n",
    "\n",
    "- Space complexity is $O(1)$"
   ]
  },
  {
   "cell_type": "markdown",
   "id": "6de199e8",
   "metadata": {
    "slideshow": {
     "slide_type": "slide"
    }
   },
   "source": [
    "## Key ideas\n",
    "\n",
    "- Bubble, Selection, and Insertion sorts are all $O(n^2)$ for time and $O(1)$ for space\n",
    "  - Bubble sort is slowest, but is simple and has $O(n)$ on pre-sorted data\n",
    "  - Selection sort is always $O(n^2)$\n",
    "  - Insertion sort is $O(n)$ for pre-sorted data and has a faster $O(n^2)$ than the other two\n",
    "    - Fewer checks and swaps in each iteration"
   ]
  },
  {
   "cell_type": "markdown",
   "id": "490bd9b9",
   "metadata": {
    "slideshow": {
     "slide_type": "slide"
    }
   },
   "source": [
    "## Appendix"
   ]
  },
  {
   "cell_type": "markdown",
   "id": "293335cc",
   "metadata": {
    "slideshow": {
     "slide_type": "slide"
    }
   },
   "source": [
    "### Can you sort bread? 🍞"
   ]
  },
  {
   "cell_type": "code",
   "execution_count": null,
   "id": "8e933ed9",
   "metadata": {
    "slideshow": {
     "slide_type": "slide"
    }
   },
   "outputs": [],
   "source": [
    "#include <string>\n",
    "#include <iostream>\n",
    "#include <vector>\n",
    "#include <algorithm>\n",
    "using namespace std;"
   ]
  },
  {
   "cell_type": "code",
   "execution_count": 9,
   "id": "a9e39734",
   "metadata": {},
   "outputs": [],
   "source": [
    "vector<string> bread = {\"🥯\",\"🍞\",\"🥖\",\"🥨\",\"🥐\",\"🫓\",\"🥪\",\"🥙\",\"🍩\"};"
   ]
  },
  {
   "cell_type": "code",
   "execution_count": 10,
   "id": "631423d5",
   "metadata": {},
   "outputs": [
    {
     "data": {
      "text/plain": [
       "{ \"🥯\", \"🍞\", \"🥖\", \"🥨\", \"🥐\", \"🫓\", \"🥪\", \"🥙\", \"🍩\" }"
      ]
     },
     "execution_count": 10,
     "metadata": {},
     "output_type": "execute_result"
    }
   ],
   "source": [
    "bread"
   ]
  },
  {
   "cell_type": "code",
   "execution_count": 11,
   "id": "2e907d41",
   "metadata": {},
   "outputs": [],
   "source": [
    "sort(bread.begin(), bread.end())"
   ]
  },
  {
   "cell_type": "code",
   "execution_count": 12,
   "id": "3f99ccac",
   "metadata": {},
   "outputs": [
    {
     "data": {
      "text/plain": [
       "{ \"🍞\", \"🍩\", \"🥐\", \"🥖\", \"🥙\", \"🥨\", \"🥪\", \"🥯\", \"🫓\" }"
      ]
     },
     "execution_count": 12,
     "metadata": {},
     "output_type": "execute_result"
    }
   ],
   "source": [
    "bread"
   ]
  },
  {
   "cell_type": "markdown",
   "id": "f11ba48b",
   "metadata": {
    "slideshow": {
     "slide_type": "fragment"
    }
   },
   "source": [
    "Yes. Yes you can.\n",
    "\n",
    "<div class='big centered'> 🍞 </div>"
   ]
  }
 ],
 "metadata": {
  "celltoolbar": "Slideshow",
  "kernelspec": {
   "display_name": "C++17 (docker)",
   "language": "C++17",
   "name": "xeus-cling"
  },
  "language_info": {
   "codemirror_mode": "text/x-c++src",
   "file_extension": ".cpp",
   "mimetype": "text/x-c++src",
   "name": "c++",
   "version": "17"
  }
 },
 "nbformat": 4,
 "nbformat_minor": 5
}
