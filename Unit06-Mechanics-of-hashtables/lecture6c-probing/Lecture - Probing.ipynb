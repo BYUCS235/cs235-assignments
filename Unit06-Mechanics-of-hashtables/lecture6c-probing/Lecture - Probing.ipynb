{
 "cells": [
  {
   "cell_type": "markdown",
   "id": "6bed283b",
   "metadata": {
    "slideshow": {
     "slide_type": "slide"
    }
   },
   "source": [
    "# Probing"
   ]
  },
  {
   "cell_type": "markdown",
   "id": "431b8e35",
   "metadata": {
    "slideshow": {
     "slide_type": "skip"
    }
   },
   "source": [
    "- explain linear probing\n",
    "- what about default values?\n",
    "  - what if I want to store a 0, or an \"\"?\n",
    "  - store a bit for \"occupied\"\n",
    "- what about deleting an item from a chain?\n",
    "  - store a bit for \"deleted\"\n",
    "  - this gets cleared on grow\n",
    "- explain quadratic probing (briefly)\n",
    "- explain pseudorandom probing\n",
    "\n",
    "- Implement ordered dictionary\n",
    "  - Use `unordered_map` and `vector`"
   ]
  },
  {
   "cell_type": "markdown",
   "id": "d03778d2",
   "metadata": {
    "slideshow": {
     "slide_type": "skip"
    }
   },
   "source": [
    "- bar: 5\n",
    "- foobar: 5\n",
    "- foo: 6\n",
    "- quux: 7\n",
    "- quux2: 7\n",
    "- abc: 3\n",
    "- abcde: 3"
   ]
  },
  {
   "cell_type": "markdown",
   "id": "ffbf7d57",
   "metadata": {
    "slideshow": {
     "slide_type": "skip"
    }
   },
   "source": [
    "**Outline**\n",
    "\n",
    "- Collisions: probing\n",
    "  - look for another empty spot\n",
    "- Store in array of items instead of lists\n",
    "  - Now we need a default value for our item -> store a struct\n",
    "- How do we find an empty slot?\n",
    "  - linear probing - find the next empty slot\n",
    "- Problem: what happens when you delete an item?\n",
    "  - now the chain is broken and later items no longer \"exist\" in the table\n",
    "  - store an `is_deleted` flag\n",
    "  - new items can go in an `is_deleted` slot (and flag is clear), but chains continue over them even when empty\n",
    "- Discussion on performance\n",
    "  - As the matrix gets full, the performance degrades\n",
    "  - How long is each chain?\n",
    "- Grow\n",
    "  - usually grow at 0.5 or 0.8 capacity\n",
    "  - re-add the items to the new array (sets all the `is_deleted` flags back to empty)\n",
    "- Problem: Linear probing makes large blocks -> creates the worse-case performance\n",
    "  - quadratic probing helps\n",
    "  - pseudorandom probing is best"
   ]
  },
  {
   "cell_type": "code",
   "execution_count": null,
   "id": "7c269a66",
   "metadata": {
    "slideshow": {
     "slide_type": "skip"
    }
   },
   "outputs": [],
   "source": [
    "#include <string>\n",
    "using std::string;\n",
    "\n",
    "#include <functional>  // std::hash"
   ]
  },
  {
   "cell_type": "code",
   "execution_count": null,
   "id": "52b41630",
   "metadata": {
    "slideshow": {
     "slide_type": "skip"
    }
   },
   "outputs": [],
   "source": [
    "std::hash<string> sh;"
   ]
  },
  {
   "cell_type": "code",
   "execution_count": null,
   "id": "961d6b47",
   "metadata": {
    "slideshow": {
     "slide_type": "skip"
    }
   },
   "outputs": [],
   "source": [
    "cout << \"foo: \" <<  sh(\"foo\") % 8 << endl;\n",
    "cout << \"foobar: \" <<  sh(\"foobar\") % 8 << endl;\n",
    "cout << \"bar: \" << sh(\"bar\") % 8 << endl;\n",
    "cout << \"baz: \" << sh(\"baz\") % 8 << endl;\n",
    "cout << \"quux: \" << sh(\"quux\") % 8 << endl;\n",
    "cout << \"abc: \" << sh(\"abc\") % 8 << endl;\n",
    "cout << \"xyz: \" << sh(\"xyz\") % 8 << endl;\n",
    "cout << \"123: \" << sh(\"123\") % 8 << endl;\n",
    "cout << \"bazquux: \" << sh(\"bazquux\") % 8 << endl;\n",
    "cout << \"321: \" << sh(\"321\") % 8 << endl;\n",
    "cout << \"?: \" << sh(\"?\") % 8 << endl;\n",
    "cout << \"!: \" << sh(\"!\") % 8 << endl;\n",
    "cout << \":): \" << sh(\":)\") % 8 << endl;\n",
    "cout << \":-): \" << sh(\":-)\") % 8 << endl;\n",
    "cout << \":P: \" << sh(\":P\") % 8 << endl;\n",
    "cout << \":(: \" << sh(\":(\") % 8 << endl;\n"
   ]
  },
  {
   "cell_type": "code",
   "execution_count": 66,
   "id": "6b1c6a99",
   "metadata": {
    "slideshow": {
     "slide_type": "slide"
    }
   },
   "outputs": [],
   "source": [
    "#include \"table1.h\""
   ]
  },
  {
   "cell_type": "code",
   "execution_count": 67,
   "id": "a19918ef",
   "metadata": {
    "cell_style": "split",
    "slideshow": {
     "slide_type": "fragment"
    }
   },
   "outputs": [
    {
     "name": "stdout",
     "output_type": "stream",
     "text": [
      "0:  \n",
      "1:  \n",
      "2:  \n",
      "3:  \n",
      "4:  \n",
      "5:  \n",
      "6:  \n",
      "7:  \n"
     ]
    }
   ],
   "source": [
    "Table1 table;\n",
    "table.print();"
   ]
  },
  {
   "cell_type": "code",
   "execution_count": 68,
   "id": "f790cdc6",
   "metadata": {
    "cell_style": "split",
    "slideshow": {
     "slide_type": "fragment"
    }
   },
   "outputs": [
    {
     "name": "stdout",
     "output_type": "stream",
     "text": [
      "0:  \n",
      "1:  \n",
      "2:  foo\n",
      "3:  bar\n",
      "4:  \n",
      "5:  \n",
      "6:  \n",
      "7:  \n"
     ]
    }
   ],
   "source": [
    "table.insert(\"foo\");\n",
    "table.insert(\"bar\");\n",
    "table.print();"
   ]
  },
  {
   "cell_type": "code",
   "execution_count": 69,
   "id": "545222ad",
   "metadata": {
    "slideshow": {
     "slide_type": "fragment"
    }
   },
   "outputs": [
    {
     "name": "stdout",
     "output_type": "stream",
     "text": [
      "1\n"
     ]
    }
   ],
   "source": [
    "cout << table.contains(\"\") << endl;"
   ]
  },
  {
   "cell_type": "code",
   "execution_count": 70,
   "id": "20a7c28f",
   "metadata": {
    "slideshow": {
     "slide_type": "slide"
    }
   },
   "outputs": [],
   "source": [
    "#include \"table2.h\""
   ]
  },
  {
   "cell_type": "code",
   "execution_count": 71,
   "id": "922b1edf",
   "metadata": {
    "cell_style": "split",
    "slideshow": {
     "slide_type": "fragment"
    }
   },
   "outputs": [
    {
     "name": "stdout",
     "output_type": "stream",
     "text": [
      "0(0):  \n",
      "1(0):  \n",
      "2(0):  \n",
      "3(0):  \n",
      "4(0):  \n",
      "5(0):  \n",
      "6(0):  \n",
      "7(0):  \n"
     ]
    }
   ],
   "source": [
    "Table2 table;\n",
    "table.print();"
   ]
  },
  {
   "cell_type": "code",
   "execution_count": 72,
   "id": "a0f06edb",
   "metadata": {
    "cell_style": "split",
    "slideshow": {
     "slide_type": "fragment"
    }
   },
   "outputs": [
    {
     "name": "stdout",
     "output_type": "stream",
     "text": [
      "0\n"
     ]
    }
   ],
   "source": [
    "cout << table.contains(\"\") << endl;"
   ]
  },
  {
   "cell_type": "code",
   "execution_count": 73,
   "id": "7685be1d",
   "metadata": {
    "cell_style": "center",
    "slideshow": {
     "slide_type": "fragment"
    }
   },
   "outputs": [
    {
     "name": "stdout",
     "output_type": "stream",
     "text": [
      "0(0):  \n",
      "1(0):  \n",
      "2(1):  foo\n",
      "3(0):  \n",
      "4(0):  \n",
      "5(0):  \n",
      "6(1):  \n",
      "7(0):  \n",
      "1\n"
     ]
    }
   ],
   "source": [
    "table.insert(\"\");\n",
    "table.insert(\"foo\");\n",
    "table.print();\n",
    "cout << table.contains(\"\") << endl;\n"
   ]
  },
  {
   "cell_type": "code",
   "execution_count": 74,
   "id": "d1b292d3",
   "metadata": {
    "cell_style": "split",
    "slideshow": {
     "slide_type": "slide"
    }
   },
   "outputs": [
    {
     "name": "stdout",
     "output_type": "stream",
     "text": [
      "0(0):  \n",
      "1(0):  \n",
      "2(1):  foo\n",
      "3(1):  bar\n",
      "4(0):  \n",
      "5(0):  \n",
      "6(1):  \n",
      "7(0):  \n"
     ]
    }
   ],
   "source": [
    "table.insert(\"bar\");\n",
    "table.print();"
   ]
  },
  {
   "cell_type": "code",
   "execution_count": 75,
   "id": "ab1e8e8f",
   "metadata": {
    "cell_style": "split",
    "slideshow": {
     "slide_type": "fragment"
    }
   },
   "outputs": [
    {
     "name": "stdout",
     "output_type": "stream",
     "text": [
      "0(0):  \n",
      "1(0):  \n",
      "2(1):  foo\n",
      "3(1):  foobar\n",
      "4(0):  \n",
      "5(0):  \n",
      "6(1):  \n",
      "7(0):  \n"
     ]
    }
   ],
   "source": [
    "table.insert(\"foobar\");\n",
    "table.print();"
   ]
  },
  {
   "cell_type": "code",
   "execution_count": 76,
   "id": "fabba1a7",
   "metadata": {
    "slideshow": {
     "slide_type": "slide"
    }
   },
   "outputs": [],
   "source": [
    "#include \"table3.h\""
   ]
  },
  {
   "cell_type": "code",
   "execution_count": 77,
   "id": "6bead14c",
   "metadata": {
    "slideshow": {
     "slide_type": "-"
    }
   },
   "outputs": [],
   "source": [
    "Table3 table;"
   ]
  },
  {
   "cell_type": "code",
   "execution_count": 78,
   "id": "69062bd1",
   "metadata": {
    "cell_style": "split",
    "slideshow": {
     "slide_type": "fragment"
    }
   },
   "outputs": [
    {
     "name": "stdout",
     "output_type": "stream",
     "text": [
      "0(0):  \n",
      "1(0):  \n",
      "2(1):  foo\n",
      "3(1):  bar\n",
      "4(0):  \n",
      "5(0):  \n",
      "6(0):  \n",
      "7(0):  \n"
     ]
    }
   ],
   "source": [
    "table.insert(\"foo\");\n",
    "table.insert(\"bar\");\n",
    "table.print();"
   ]
  },
  {
   "cell_type": "code",
   "execution_count": 79,
   "id": "33c3a26b",
   "metadata": {
    "cell_style": "split",
    "slideshow": {
     "slide_type": "fragment"
    }
   },
   "outputs": [
    {
     "name": "stdout",
     "output_type": "stream",
     "text": [
      "0(0):  \n",
      "1(0):  \n",
      "2(1):  foo\n",
      "3(1):  bar\n",
      "4(1):  foobar\n",
      "5(0):  \n",
      "6(0):  \n",
      "7(0):  \n"
     ]
    }
   ],
   "source": [
    "table.insert(\"foobar\");\n",
    "table.print();"
   ]
  },
  {
   "cell_type": "code",
   "execution_count": 80,
   "id": "933e784d",
   "metadata": {
    "slideshow": {
     "slide_type": "fragment"
    }
   },
   "outputs": [
    {
     "name": "stdout",
     "output_type": "stream",
     "text": [
      "1\n",
      "1\n"
     ]
    }
   ],
   "source": [
    "cout << table.contains(\"bar\") << endl;\n",
    "cout << table.contains(\"foobar\") << endl;"
   ]
  },
  {
   "cell_type": "code",
   "execution_count": 81,
   "id": "c910d2b3",
   "metadata": {
    "cell_style": "split",
    "slideshow": {
     "slide_type": "slide"
    }
   },
   "outputs": [
    {
     "name": "stdout",
     "output_type": "stream",
     "text": [
      "0(0):  \n",
      "1(0):  \n",
      "2(1):  :)\n",
      "3(0):  \n",
      "4(0):  \n",
      "5(0):  \n",
      "6(0):  \n",
      "7(0):  \n"
     ]
    }
   ],
   "source": [
    "table.reset();\n",
    "table.insert(\":)\");  // takes foo's preferred spot\n",
    "table.print();"
   ]
  },
  {
   "cell_type": "code",
   "execution_count": 82,
   "id": "9f55f001",
   "metadata": {
    "cell_style": "split",
    "slideshow": {
     "slide_type": "fragment"
    }
   },
   "outputs": [
    {
     "name": "stdout",
     "output_type": "stream",
     "text": [
      "0(0):  \n",
      "1(0):  \n",
      "2(1):  :)\n",
      "3(1):  bar\n",
      "4(1):  foo\n",
      "5(0):  \n",
      "6(0):  \n",
      "7(0):  \n"
     ]
    }
   ],
   "source": [
    "table.insert(\"bar\");  // right after foo's spot\n",
    "table.insert(\"foo\");  // take a hike!\n",
    "table.print();"
   ]
  },
  {
   "cell_type": "markdown",
   "id": "5ad89ee4",
   "metadata": {
    "slideshow": {
     "slide_type": "slide"
    }
   },
   "source": [
    "   "
   ]
  },
  {
   "cell_type": "code",
   "execution_count": 83,
   "id": "f0f0019d",
   "metadata": {
    "cell_style": "split",
    "slideshow": {
     "slide_type": "-"
    }
   },
   "outputs": [
    {
     "name": "stdout",
     "output_type": "stream",
     "text": [
      "1\n",
      "0(0):  \n",
      "1(0):  \n",
      "2(1):  :)\n",
      "3(0):  bar\n",
      "4(1):  foo\n",
      "5(0):  \n",
      "6(0):  \n",
      "7(0):  \n"
     ]
    }
   ],
   "source": [
    "cout << table.remove(\"bar\") << endl;\n",
    "table.print();"
   ]
  },
  {
   "cell_type": "code",
   "execution_count": 84,
   "id": "d4f387ae",
   "metadata": {
    "cell_style": "split",
    "slideshow": {
     "slide_type": "fragment"
    }
   },
   "outputs": [
    {
     "name": "stdout",
     "output_type": "stream",
     "text": [
      "0\n"
     ]
    }
   ],
   "source": [
    "cout << table.contains(\"foo\") << endl;"
   ]
  },
  {
   "cell_type": "code",
   "execution_count": 85,
   "id": "a9dd4339",
   "metadata": {
    "slideshow": {
     "slide_type": "slide"
    }
   },
   "outputs": [],
   "source": [
    "#include \"table4.h\""
   ]
  },
  {
   "cell_type": "code",
   "execution_count": 86,
   "id": "08df37d7",
   "metadata": {
    "slideshow": {
     "slide_type": "-"
    }
   },
   "outputs": [],
   "source": [
    "Table4 table;"
   ]
  },
  {
   "cell_type": "code",
   "execution_count": 87,
   "id": "73156352",
   "metadata": {
    "cell_style": "split"
   },
   "outputs": [
    {
     "name": "stdout",
     "output_type": "stream",
     "text": [
      "0(0)[0]:  \n",
      "1(0)[0]:  \n",
      "2(1)[0]:  :)\n",
      "3(1)[0]:  bar\n",
      "4(0)[0]:  \n",
      "5(0)[0]:  \n",
      "6(0)[0]:  \n",
      "7(0)[0]:  \n"
     ]
    }
   ],
   "source": [
    "table.insert(\":)\");\n",
    "table.insert(\"bar\");\n",
    "table.print();"
   ]
  },
  {
   "cell_type": "code",
   "execution_count": 88,
   "id": "b1a4751f",
   "metadata": {
    "cell_style": "split",
    "slideshow": {
     "slide_type": "fragment"
    }
   },
   "outputs": [
    {
     "name": "stdout",
     "output_type": "stream",
     "text": [
      "0(0)[0]:  \n",
      "1(0)[0]:  \n",
      "2(1)[0]:  :)\n",
      "3(1)[0]:  bar\n",
      "4(1)[0]:  foo\n",
      "5(0)[0]:  \n",
      "6(0)[0]:  \n",
      "7(0)[0]:  \n"
     ]
    }
   ],
   "source": [
    "table.insert(\"foo\");\n",
    "table.print();"
   ]
  },
  {
   "cell_type": "markdown",
   "id": "03dee302",
   "metadata": {
    "slideshow": {
     "slide_type": "slide"
    }
   },
   "source": [
    "   "
   ]
  },
  {
   "cell_type": "code",
   "execution_count": 89,
   "id": "2e9abe18",
   "metadata": {
    "cell_style": "split",
    "slideshow": {
     "slide_type": "-"
    }
   },
   "outputs": [
    {
     "name": "stdout",
     "output_type": "stream",
     "text": [
      "1\n",
      "0(0)[0]:  \n",
      "1(0)[0]:  \n",
      "2(1)[0]:  :)\n",
      "3(0)[1]:  bar\n",
      "4(1)[0]:  foo\n",
      "5(0)[0]:  \n",
      "6(0)[0]:  \n",
      "7(0)[0]:  \n"
     ]
    }
   ],
   "source": [
    "cout << table.remove(\"bar\") << endl;\n",
    "table.print();"
   ]
  },
  {
   "cell_type": "code",
   "execution_count": 90,
   "id": "23ef147e",
   "metadata": {
    "cell_style": "split",
    "slideshow": {
     "slide_type": "fragment"
    }
   },
   "outputs": [
    {
     "name": "stdout",
     "output_type": "stream",
     "text": [
      "1\n"
     ]
    }
   ],
   "source": [
    "cout << table.contains(\"foo\") << endl;"
   ]
  },
  {
   "cell_type": "markdown",
   "id": "01838277",
   "metadata": {
    "slideshow": {
     "slide_type": "slide"
    }
   },
   "source": [
    "## Big O?"
   ]
  },
  {
   "cell_type": "markdown",
   "id": "b8686574",
   "metadata": {
    "slideshow": {
     "slide_type": "fragment"
    }
   },
   "source": [
    "- As long as the chains stay short, the performance stays near $O(1)$\n",
    "- If the density is capped at 2/3, then the probability of finding an empty slot is 1/3\n",
    "  - The expected number of hops of probability 1/3 each is 1 / (1/3) = 3. \n",
    "  - So at worst, each chain will be an average of 3 steps each."
   ]
  },
  {
   "cell_type": "code",
   "execution_count": 92,
   "id": "be330c0c",
   "metadata": {
    "cell_style": "split",
    "slideshow": {
     "slide_type": "slide"
    }
   },
   "outputs": [
    {
     "name": "stdout",
     "output_type": "stream",
     "text": [
      "0(0)[0]:  \n",
      "1(0)[0]:  \n",
      "2(1)[0]:  :)\n",
      "3(1)[0]:  foo\n",
      "4(1)[0]:  bar\n",
      "5(1)[0]:  123\n",
      "6(0)[0]:  \n",
      "7(0)[0]:  \n"
     ]
    }
   ],
   "source": [
    "table.reset();\n",
    "table.insert(\":)\");\n",
    "table.insert(\"foo\");\n",
    "table.insert(\"bar\");\n",
    "table.insert(\"123\");\n",
    "table.print();"
   ]
  },
  {
   "cell_type": "markdown",
   "id": "4b3a6ad9",
   "metadata": {
    "cell_style": "split",
    "slideshow": {
     "slide_type": "fragment"
    }
   },
   "source": [
    "- What is the probability the next item ends in slot 6?"
   ]
  },
  {
   "cell_type": "markdown",
   "id": "1ae5003a",
   "metadata": {
    "cell_style": "split",
    "slideshow": {
     "slide_type": "fragment"
    }
   },
   "source": [
    "<div style=\"font-size: 100px\">$\\frac{5}{8}$ 😱</div>"
   ]
  },
  {
   "cell_type": "markdown",
   "id": "73d5c133",
   "metadata": {
    "slideshow": {
     "slide_type": "slide"
    }
   },
   "source": [
    "The big problem with *linear probing* is that chains increase the likelihood of items getting added to the chain, which increase the likelihood the chain gets longer..."
   ]
  },
  {
   "cell_type": "markdown",
   "id": "292b0835",
   "metadata": {
    "slideshow": {
     "slide_type": "fragment"
    }
   },
   "source": [
    "**Quadratic** probing uses steps of 1, 4, 9, 16, etc.\n",
    "\n",
    "This helps, but what you really want is that each item added has uniform probability it could end up in any spot at each step..."
   ]
  },
  {
   "cell_type": "code",
   "execution_count": 93,
   "id": "3d81ed2c",
   "metadata": {
    "slideshow": {
     "slide_type": "slide"
    }
   },
   "outputs": [],
   "source": [
    "#include \"table5.h\""
   ]
  },
  {
   "cell_type": "code",
   "execution_count": 94,
   "id": "7ed26d23",
   "metadata": {},
   "outputs": [],
   "source": [
    "Table5 table;"
   ]
  },
  {
   "cell_type": "code",
   "execution_count": 95,
   "id": "7740e65b",
   "metadata": {
    "cell_style": "split",
    "slideshow": {
     "slide_type": "fragment"
    }
   },
   "outputs": [
    {
     "name": "stdout",
     "output_type": "stream",
     "text": [
      "0(0)[0]:  \n",
      "1(0)[0]:  \n",
      "2(1)[0]:  :)\n",
      "3(1)[0]:  bar\n",
      "4(0)[0]:  \n",
      "5(1)[0]:  foo\n",
      "6(0)[0]:  \n",
      "7(0)[0]:  \n"
     ]
    }
   ],
   "source": [
    "table.reset();\n",
    "table.insert(\":)\");\n",
    "table.insert(\"bar\");\n",
    "table.insert(\"foo\");\n",
    "table.print();"
   ]
  },
  {
   "cell_type": "code",
   "execution_count": 96,
   "id": "0ecf4ae8",
   "metadata": {
    "cell_style": "split",
    "slideshow": {
     "slide_type": "fragment"
    }
   },
   "outputs": [
    {
     "name": "stdout",
     "output_type": "stream",
     "text": [
      "0(0)[0]:  \n",
      "1(1)[0]:  xyz\n",
      "2(1)[0]:  :)\n",
      "3(1)[0]:  bar\n",
      "4(1)[0]:  foobar\n",
      "5(1)[0]:  foo\n",
      "6(0)[0]:  \n",
      "7(1)[0]:  123\n"
     ]
    }
   ],
   "source": [
    "table.insert(\"123\");\n",
    "table.insert(\"xyz\");\n",
    "table.insert(\"foobar\");\n",
    "table.print();"
   ]
  },
  {
   "cell_type": "markdown",
   "id": "66b82c23",
   "metadata": {
    "slideshow": {
     "slide_type": "slide"
    }
   },
   "source": [
    "## Other details\n",
    "\n",
    "- When you reach some portion of capacity (e.g. 66%) then grow the array\n",
    "  - deleted items count towards capacity\n",
    "  - re-insert all items into new array"
   ]
  },
  {
   "cell_type": "markdown",
   "id": "07490be4",
   "metadata": {
    "slideshow": {
     "slide_type": "slide"
    }
   },
   "source": [
    "### Python's Implementation\n",
    "\n",
    "- https://github.com/python/cpython/blob/main/Objects/dictobject.c#L261\n",
    "- https://github.com/python/cpython/blob/main/Objects/dictobject.c#L995\n"
   ]
  },
  {
   "cell_type": "markdown",
   "id": "88e8bd4a",
   "metadata": {
    "slideshow": {
     "slide_type": "slide"
    }
   },
   "source": [
    "## Key Ideas\n",
    "\n",
    "- Store everything in a single array\n",
    "  - wrap the items in a struct with entry and deleted flags\n",
    "  - grow when you run out of room\n",
    "- use probing (also called *open addressing*) to find an alternate slot when the preferred slot is already taken\n",
    "  - linear probing tends to create islands that degrade performance\n",
    "  - pseudo-random probing keeps the chains smaller "
   ]
  }
 ],
 "metadata": {
  "celltoolbar": "Slideshow",
  "kernelspec": {
   "display_name": "C++17 (docker)",
   "language": "C++17",
   "name": "xeus-cling"
  },
  "language_info": {
   "codemirror_mode": "text/x-c++src",
   "file_extension": ".cpp",
   "mimetype": "text/x-c++src",
   "name": "c++",
   "version": "17"
  }
 },
 "nbformat": 4,
 "nbformat_minor": 5
}
