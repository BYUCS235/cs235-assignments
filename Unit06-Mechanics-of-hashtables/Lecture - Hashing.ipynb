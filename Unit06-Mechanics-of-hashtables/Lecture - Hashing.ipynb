{
 "cells": [
  {
   "cell_type": "markdown",
   "id": "93c09fde",
   "metadata": {},
   "source": [
    "# Hashing"
   ]
  },
  {
   "cell_type": "markdown",
   "id": "8bd4df64",
   "metadata": {},
   "source": [
    "## TODO - Updates"
   ]
  },
  {
   "cell_type": "code",
   "execution_count": 1,
   "id": "50aa8137",
   "metadata": {
    "slideshow": {
     "slide_type": "slide"
    }
   },
   "outputs": [],
   "source": [
    "#include <string>\n",
    "#include <sstream>\n",
    "#include <iostream>\n",
    "#include <vector>\n",
    "#include <list>\n",
    "#include <algorithm>  // find\n",
    "using namespace std;"
   ]
  },
  {
   "cell_type": "markdown",
   "id": "bdf88a51",
   "metadata": {
    "slideshow": {
     "slide_type": "slide"
    }
   },
   "source": [
    "## The Table"
   ]
  },
  {
   "cell_type": "code",
   "execution_count": 2,
   "id": "20452ab4",
   "metadata": {
    "slideshow": {
     "slide_type": "slide"
    }
   },
   "outputs": [],
   "source": [
    "string table[10];"
   ]
  },
  {
   "cell_type": "code",
   "execution_count": 3,
   "id": "5717b42d",
   "metadata": {
    "slideshow": {
     "slide_type": "-"
    }
   },
   "outputs": [],
   "source": [
    "void reset_table() {\n",
    "    for (int i = 0; i < 10; i++) {\n",
    "        table[i] = \"\";\n",
    "    }    \n",
    "}"
   ]
  },
  {
   "cell_type": "code",
   "execution_count": 4,
   "id": "73d7e31b",
   "metadata": {},
   "outputs": [],
   "source": [
    "void print_table() {\n",
    "    for (int i = 0; i < 10; i++) {\n",
    "        cout << i << \": \" << table[i] << endl;\n",
    "    }\n",
    "}"
   ]
  },
  {
   "cell_type": "code",
   "execution_count": 5,
   "id": "b28701eb",
   "metadata": {
    "slideshow": {
     "slide_type": "slide"
    }
   },
   "outputs": [
    {
     "name": "stdout",
     "output_type": "stream",
     "text": [
      "0: \n",
      "1: \n",
      "2: \n",
      "3: \n",
      "4: \n",
      "5: \n",
      "6: \n",
      "7: \n",
      "8: \n",
      "9: \n"
     ]
    }
   ],
   "source": [
    "reset_table();\n",
    "print_table()"
   ]
  },
  {
   "cell_type": "markdown",
   "id": "abe4ed83",
   "metadata": {
    "slideshow": {
     "slide_type": "slide"
    }
   },
   "source": [
    "## The Hash Function"
   ]
  },
  {
   "cell_type": "code",
   "execution_count": 6,
   "id": "d88ae11e",
   "metadata": {
    "slideshow": {
     "slide_type": "slide"
    }
   },
   "outputs": [],
   "source": [
    "int string_hash(string const& value) {\n",
    "    int result = 0;\n",
    "    for (auto c : value) {\n",
    "        result += (int)c;\n",
    "    }\n",
    "    return result;\n",
    "}"
   ]
  },
  {
   "cell_type": "code",
   "execution_count": 7,
   "id": "0d732be1",
   "metadata": {
    "slideshow": {
     "slide_type": "slide"
    }
   },
   "outputs": [],
   "source": [
    "int another_hash(string const& item) {\n",
    "    return int(item[0]);\n",
    "}"
   ]
  },
  {
   "cell_type": "code",
   "execution_count": 8,
   "id": "591f1131",
   "metadata": {
    "slideshow": {
     "slide_type": "slide"
    }
   },
   "outputs": [
    {
     "data": {
      "text/plain": [
       "633"
      ]
     },
     "execution_count": 8,
     "metadata": {},
     "output_type": "execute_result"
    }
   ],
   "source": [
    "string_hash(\"foobar\")"
   ]
  },
  {
   "cell_type": "code",
   "execution_count": 9,
   "id": "53d947d0",
   "metadata": {},
   "outputs": [
    {
     "data": {
      "text/plain": [
       "102"
      ]
     },
     "execution_count": 9,
     "metadata": {},
     "output_type": "execute_result"
    }
   ],
   "source": [
    "another_hash(\"foobar\")"
   ]
  },
  {
   "cell_type": "code",
   "execution_count": 10,
   "id": "05384569",
   "metadata": {},
   "outputs": [
    {
     "data": {
      "text/plain": [
       "976"
      ]
     },
     "execution_count": 10,
     "metadata": {},
     "output_type": "execute_result"
    }
   ],
   "source": [
    "string_hash(\"I love cs235!\")"
   ]
  },
  {
   "cell_type": "code",
   "execution_count": 11,
   "id": "c6e1f6e7",
   "metadata": {},
   "outputs": [
    {
     "data": {
      "text/plain": [
       "73"
      ]
     },
     "execution_count": 11,
     "metadata": {},
     "output_type": "execute_result"
    }
   ],
   "source": [
    "another_hash(\"I love cs235!\")"
   ]
  },
  {
   "cell_type": "markdown",
   "id": "0bc9f1da",
   "metadata": {
    "slideshow": {
     "slide_type": "slide"
    }
   },
   "source": [
    "## Table + Hash Function"
   ]
  },
  {
   "cell_type": "code",
   "execution_count": 12,
   "id": "e3082bd2",
   "metadata": {
    "slideshow": {
     "slide_type": "slide"
    }
   },
   "outputs": [],
   "source": [
    "void add_item(string const& item, int (*hash)(string const&)) {\n",
    "    int pos = hash(item) % 10;\n",
    "    table[pos] = item;\n",
    "}"
   ]
  },
  {
   "cell_type": "code",
   "execution_count": 13,
   "id": "b37da284",
   "metadata": {
    "slideshow": {
     "slide_type": "slide"
    }
   },
   "outputs": [
    {
     "name": "stdout",
     "output_type": "stream",
     "text": [
      "0: \n",
      "1: \n",
      "2: foobar\n",
      "3: \n",
      "4: \n",
      "5: \n",
      "6: \n",
      "7: \n",
      "8: bazquux\n",
      "9: win!\n"
     ]
    }
   ],
   "source": [
    "reset_table();\n",
    "add_item(\"foobar\", &another_hash);\n",
    "add_item(\"bazquux\", &another_hash);\n",
    "add_item(\"win!\", &another_hash);\n",
    "print_table()"
   ]
  },
  {
   "cell_type": "code",
   "execution_count": 14,
   "id": "79e74b73",
   "metadata": {
    "slideshow": {
     "slide_type": "slide"
    }
   },
   "outputs": [
    {
     "name": "stdout",
     "output_type": "stream",
     "text": [
      "0: \n",
      "1: \n",
      "2: \n",
      "3: foobar\n",
      "4: bazquux\n",
      "5: \n",
      "6: \n",
      "7: win!\n",
      "8: \n",
      "9: \n"
     ]
    }
   ],
   "source": [
    "reset_table();\n",
    "add_item(\"foobar\", &string_hash);\n",
    "add_item(\"foobar\", &string_hash);\n",
    "add_item(\"bazquux\", &string_hash);\n",
    "add_item(\"win!\", &string_hash);\n",
    "print_table()"
   ]
  },
  {
   "cell_type": "code",
   "execution_count": 15,
   "id": "751a5de6",
   "metadata": {
    "slideshow": {
     "slide_type": "slide"
    }
   },
   "outputs": [],
   "source": [
    "bool has_item(string const& item, int (*hash)(string const&)) {\n",
    "    return table[hash(item) % 10] == item;\n",
    "}"
   ]
  },
  {
   "cell_type": "code",
   "execution_count": 16,
   "id": "91ae7f34",
   "metadata": {},
   "outputs": [
    {
     "data": {
      "text/plain": [
       "true"
      ]
     },
     "execution_count": 16,
     "metadata": {},
     "output_type": "execute_result"
    }
   ],
   "source": [
    "has_item(\"foobar\", &string_hash)"
   ]
  },
  {
   "cell_type": "code",
   "execution_count": 17,
   "id": "e8339eb9",
   "metadata": {},
   "outputs": [
    {
     "data": {
      "text/plain": [
       "false"
      ]
     },
     "execution_count": 17,
     "metadata": {},
     "output_type": "execute_result"
    }
   ],
   "source": [
    "has_item(\"frobnicate\", &string_hash)"
   ]
  },
  {
   "cell_type": "code",
   "execution_count": 18,
   "id": "a27640d3",
   "metadata": {
    "slideshow": {
     "slide_type": "slide"
    }
   },
   "outputs": [],
   "source": [
    "void remove_item(string const& item, int (*hash)(string const&)) {\n",
    "    table[hash(item) % 10] = \"\";\n",
    "}"
   ]
  },
  {
   "cell_type": "code",
   "execution_count": 19,
   "id": "629098eb",
   "metadata": {},
   "outputs": [
    {
     "name": "stdout",
     "output_type": "stream",
     "text": [
      "0: \n",
      "1: \n",
      "2: \n",
      "3: \n",
      "4: bazquux\n",
      "5: \n",
      "6: \n",
      "7: win!\n",
      "8: \n",
      "9: \n"
     ]
    }
   ],
   "source": [
    "remove_item(\"foobar\", &string_hash);\n",
    "print_table()"
   ]
  },
  {
   "cell_type": "markdown",
   "id": "16741fbf",
   "metadata": {
    "slideshow": {
     "slide_type": "slide"
    }
   },
   "source": [
    "## Introducing: The HashTable"
   ]
  },
  {
   "cell_type": "markdown",
   "id": "f5395e95",
   "metadata": {},
   "source": [
    "- A **hash function** converts a value into an integer\n",
    "- A **hash table** uses a hash function to determine the location in which to store the value"
   ]
  },
  {
   "cell_type": "markdown",
   "id": "7d377817",
   "metadata": {
    "slideshow": {
     "slide_type": "slide"
    }
   },
   "source": [
    "What is the big-O complexity to add, remove, or lookup a value?"
   ]
  },
  {
   "cell_type": "markdown",
   "id": "ad3ba7ad",
   "metadata": {
    "slideshow": {
     "slide_type": "fragment"
    }
   },
   "source": [
    "- The time it takes to convert a value into an index is $O(1)$\n",
    "- Add, remove, or lookup are just additional constant operations.\n",
    "\n",
    "$O(1)$!"
   ]
  },
  {
   "cell_type": "markdown",
   "id": "5cffd0c9",
   "metadata": {
    "slideshow": {
     "slide_type": "fragment"
    }
   },
   "source": [
    "<div style='font-size: 200pt'> 💪🏻 </div>"
   ]
  },
  {
   "cell_type": "markdown",
   "id": "9a1c3dde",
   "metadata": {
    "slideshow": {
     "slide_type": "slide"
    }
   },
   "source": [
    "## Hash Functions: *Revisited*"
   ]
  },
  {
   "cell_type": "code",
   "execution_count": 20,
   "id": "1b61e761",
   "metadata": {
    "slideshow": {
     "slide_type": "slide"
    }
   },
   "outputs": [],
   "source": [
    "int hash_7(string const& value) {\n",
    "    return 7;\n",
    "}"
   ]
  },
  {
   "cell_type": "code",
   "execution_count": 21,
   "id": "86cf52b4",
   "metadata": {},
   "outputs": [
    {
     "data": {
      "text/plain": [
       "7"
      ]
     },
     "execution_count": 21,
     "metadata": {},
     "output_type": "execute_result"
    }
   ],
   "source": [
    "hash_7(\"foo\")"
   ]
  },
  {
   "cell_type": "code",
   "execution_count": 22,
   "id": "0d35f1b5",
   "metadata": {},
   "outputs": [
    {
     "data": {
      "text/plain": [
       "7"
      ]
     },
     "execution_count": 22,
     "metadata": {},
     "output_type": "execute_result"
    }
   ],
   "source": [
    "hash_7(\"bar\")"
   ]
  },
  {
   "cell_type": "code",
   "execution_count": 23,
   "id": "997b9827",
   "metadata": {
    "slideshow": {
     "slide_type": "slide"
    }
   },
   "outputs": [],
   "source": [
    "int rand_hash(string const& value) {\n",
    "    return rand();\n",
    "}"
   ]
  },
  {
   "cell_type": "code",
   "execution_count": 24,
   "id": "01a1b5da",
   "metadata": {},
   "outputs": [
    {
     "data": {
      "text/plain": [
       "1721727823"
      ]
     },
     "execution_count": 24,
     "metadata": {},
     "output_type": "execute_result"
    }
   ],
   "source": [
    "rand_hash(\"bar\")"
   ]
  },
  {
   "cell_type": "code",
   "execution_count": 30,
   "id": "26947f06",
   "metadata": {},
   "outputs": [
    {
     "data": {
      "text/plain": [
       "231436237"
      ]
     },
     "execution_count": 30,
     "metadata": {},
     "output_type": "execute_result"
    }
   ],
   "source": [
    "rand_hash(\"bar\")"
   ]
  },
  {
   "cell_type": "markdown",
   "id": "859a1645",
   "metadata": {
    "slideshow": {
     "slide_type": "slide"
    }
   },
   "source": [
    "### Hash Function Qualities\n",
    "\n",
    "The choice of hash function matters. What kind of function do we want?"
   ]
  },
  {
   "cell_type": "markdown",
   "id": "52b92dc8",
   "metadata": {
    "slideshow": {
     "slide_type": "fragment"
    }
   },
   "source": [
    "- **Determinism**: the same value will ALWAYS yield the same hashcode\n",
    "  - No `rand` in the hash function!"
   ]
  },
  {
   "cell_type": "markdown",
   "id": "4357fefc",
   "metadata": {
    "slideshow": {
     "slide_type": "fragment"
    }
   },
   "source": [
    "- **Efficiency**: the hashcode can be computed quickly.\n",
    "  - If it takes longer to compute the hashcode than to insert into a BST, that's no good."
   ]
  },
  {
   "cell_type": "markdown",
   "id": "c5bd07f5",
   "metadata": {
    "slideshow": {
     "slide_type": "fragment"
    }
   },
   "source": [
    "- **Defined range**: the distribution covers the full defined range\n",
    "  - If my array is 1000 slots long, but my hash function only produces values between 0..10, that's no good."
   ]
  },
  {
   "cell_type": "markdown",
   "id": "eb7ebd75",
   "metadata": {
    "slideshow": {
     "slide_type": "fragment"
    }
   },
   "source": [
    "- **Uniformity**: the hashcodes are uniformly distributed across the full possible space\n",
    "  - If my hash function tends to output even numbers but not odd numbers, that's no good."
   ]
  },
  {
   "cell_type": "markdown",
   "id": "5dd128c0",
   "metadata": {
    "slideshow": {
     "slide_type": "slide"
    }
   },
   "source": [
    "## Hash Tables: *Revisited*"
   ]
  },
  {
   "cell_type": "code",
   "execution_count": 31,
   "id": "1bdc0257",
   "metadata": {
    "slideshow": {
     "slide_type": "slide"
    }
   },
   "outputs": [
    {
     "name": "stdout",
     "output_type": "stream",
     "text": [
      "0: \n",
      "1: \n",
      "2: \n",
      "3: \n",
      "4: \n",
      "5: \n",
      "6: \n",
      "7: \n",
      "8: \n",
      "9: \n"
     ]
    }
   ],
   "source": [
    "reset_table();\n",
    "print_table();"
   ]
  },
  {
   "cell_type": "code",
   "execution_count": 32,
   "id": "6d90d338",
   "metadata": {
    "slideshow": {
     "slide_type": "slide"
    }
   },
   "outputs": [
    {
     "name": "stdout",
     "output_type": "stream",
     "text": [
      "0: \n",
      "1: \n",
      "2: \n",
      "3: \n",
      "4: oof\n",
      "5: \n",
      "6: \n",
      "7: \n",
      "8: \n",
      "9: \n"
     ]
    }
   ],
   "source": [
    "add_item(\"foo\", &string_hash);\n",
    "add_item(\"oof\", &string_hash);\n",
    "print_table();"
   ]
  },
  {
   "cell_type": "markdown",
   "id": "8164d32e",
   "metadata": {
    "slideshow": {
     "slide_type": "slide"
    }
   },
   "source": [
    "Is it possible to build a hash function that will never produce collisions?"
   ]
  },
  {
   "cell_type": "markdown",
   "id": "1e6f696c",
   "metadata": {
    "slideshow": {
     "slide_type": "fragment"
    }
   },
   "source": [
    "We will always need to handle collisions. \n",
    "\n",
    "How should we do it?"
   ]
  },
  {
   "cell_type": "markdown",
   "id": "4f2f0635",
   "metadata": {
    "slideshow": {
     "slide_type": "slide"
    }
   },
   "source": [
    "## HashTable Collisions"
   ]
  },
  {
   "cell_type": "markdown",
   "id": "a0fe9e4c",
   "metadata": {
    "slideshow": {
     "slide_type": "slide"
    }
   },
   "source": [
    "One strategy is to use \"probing\".\n",
    "\n",
    "If the slot an item is assigned is occupied, you follow a deterministic algorithm to find another (hopefully empty) slot. "
   ]
  },
  {
   "cell_type": "markdown",
   "id": "55180e30",
   "metadata": {
    "slideshow": {
     "slide_type": "fragment"
    }
   },
   "source": [
    "This gets complicated. Don't use probing."
   ]
  },
  {
   "cell_type": "markdown",
   "id": "a73f2d66",
   "metadata": {
    "slideshow": {
     "slide_type": "slide"
    }
   },
   "source": [
    "### Chaining"
   ]
  },
  {
   "cell_type": "markdown",
   "id": "19e64dae",
   "metadata": {
    "slideshow": {
     "slide_type": "slide"
    }
   },
   "source": [
    "Instead of storing the items directly, each slot stores a list of items. \n",
    "\n",
    "First determine the slot an item should go in, then search the list in that slot. \n",
    "\n",
    "As long as the number of items assigned to the same slot stays small, the performance doesn't degrade.\n",
    "\n",
    "When the number of items gets closer to the capacity of the array, it's time to grow the array."
   ]
  },
  {
   "cell_type": "markdown",
   "id": "7b5666ae",
   "metadata": {},
   "source": [
    "```\n",
    "0: foo, quux\n",
    "1:\n",
    "2: bar\n",
    "3: baz, zip\n",
    "4: \n",
    "5:\n",
    "6: win\n",
    "7: win!\n",
    "8: cs235\n",
    "9: abc\n",
    "```"
   ]
  },
  {
   "cell_type": "markdown",
   "id": "e6752031",
   "metadata": {
    "slideshow": {
     "slide_type": "slide"
    }
   },
   "source": [
    "### Growing"
   ]
  },
  {
   "cell_type": "markdown",
   "id": "91dea9f5",
   "metadata": {},
   "source": [
    "- Create a new array\n",
    "- Re-add each item to the table"
   ]
  },
  {
   "cell_type": "markdown",
   "id": "cdaf79d4",
   "metadata": {
    "slideshow": {
     "slide_type": "fragment"
    }
   },
   "source": [
    "Why not simply copy the lists over to the new array? Why do we need to re-add each item individually?"
   ]
  },
  {
   "cell_type": "markdown",
   "id": "42a5d61a",
   "metadata": {
    "slideshow": {
     "slide_type": "slide"
    }
   },
   "source": [
    "Assume an array size of 10. The hashcodes `1812` and `7502` will end up in the same slot:"
   ]
  },
  {
   "cell_type": "code",
   "execution_count": 33,
   "id": "77934351",
   "metadata": {},
   "outputs": [
    {
     "data": {
      "text/plain": [
       "2"
      ]
     },
     "execution_count": 33,
     "metadata": {},
     "output_type": "execute_result"
    }
   ],
   "source": [
    "1812 % 10"
   ]
  },
  {
   "cell_type": "code",
   "execution_count": 34,
   "id": "66d39200",
   "metadata": {},
   "outputs": [
    {
     "data": {
      "text/plain": [
       "2"
      ]
     },
     "execution_count": 34,
     "metadata": {},
     "output_type": "execute_result"
    }
   ],
   "source": [
    "7502 % 10"
   ]
  },
  {
   "cell_type": "markdown",
   "id": "e1b0e2d0",
   "metadata": {
    "slideshow": {
     "slide_type": "fragment"
    }
   },
   "source": [
    "But when I increase the array size to 20, these same hashcodes now fall in different slots:"
   ]
  },
  {
   "cell_type": "code",
   "execution_count": 35,
   "id": "9ec316b9",
   "metadata": {},
   "outputs": [
    {
     "data": {
      "text/plain": [
       "12"
      ]
     },
     "execution_count": 35,
     "metadata": {},
     "output_type": "execute_result"
    }
   ],
   "source": [
    "1812 % 20"
   ]
  },
  {
   "cell_type": "code",
   "execution_count": 36,
   "id": "60ca7329",
   "metadata": {},
   "outputs": [
    {
     "data": {
      "text/plain": [
       "2"
      ]
     },
     "execution_count": 36,
     "metadata": {},
     "output_type": "execute_result"
    }
   ],
   "source": [
    "7502 % 20"
   ]
  },
  {
   "cell_type": "markdown",
   "id": "a7fe1600",
   "metadata": {
    "slideshow": {
     "slide_type": "slide"
    }
   },
   "source": [
    "## Big O"
   ]
  },
  {
   "cell_type": "markdown",
   "id": "88103d6d",
   "metadata": {},
   "source": [
    "What is the big-O for add, remove, and contains?"
   ]
  },
  {
   "cell_type": "markdown",
   "id": "b47ea492",
   "metadata": {
    "slideshow": {
     "slide_type": "fragment"
    }
   },
   "source": [
    "- Computing the position is $O(1)$\n",
    "- Finding the bucket is $O(1)$\n",
    "- Assuming the hash function uniformly distributes the data, then the probability that there is a collision will be small\n",
    "  - You can tune the grow parameter to improve performance\n",
    "- Growing adds $n$ items over again, but it only happens once every $n$ items, so the amortized complexity is $O(1)$\n",
    "- All together: $O(1)$"
   ]
  },
  {
   "cell_type": "markdown",
   "id": "5e4352a8",
   "metadata": {
    "slideshow": {
     "slide_type": "fragment"
    }
   },
   "source": [
    "What are the pathological cases for a hashtable?"
   ]
  },
  {
   "cell_type": "markdown",
   "id": "b1c5f061",
   "metadata": {
    "slideshow": {
     "slide_type": "fragment"
    }
   },
   "source": [
    "- All the items end up in the same bucket: $O(n)$"
   ]
  },
  {
   "cell_type": "markdown",
   "id": "0d30b47e",
   "metadata": {
    "slideshow": {
     "slide_type": "slide"
    }
   },
   "source": [
    "## Iteration order"
   ]
  },
  {
   "cell_type": "markdown",
   "id": "36ebec72",
   "metadata": {},
   "source": [
    "When you iterate through the values of a hash table, what order to they come out?"
   ]
  },
  {
   "cell_type": "markdown",
   "id": "a6f1a293",
   "metadata": {
    "slideshow": {
     "slide_type": "slide"
    }
   },
   "source": [
    "## Hash Maps"
   ]
  },
  {
   "cell_type": "markdown",
   "id": "de56651a",
   "metadata": {},
   "source": [
    "To turn a set into a map, you store key-value-pairs instead of just values.\n",
    "\n",
    "```c++\n",
    "template<class K, class V>\n",
    "class HashMap {\n",
    "    list<pair<K,V>>* _table;\n",
    "    public:\n",
    "    bool insert(K const& key, V const& value) {\n",
    "        // Use only the key to find the bucket\n",
    "        auto& bucket = _get_bucket(key);\n",
    "        \n",
    "        // if pair with key not in bucket then add to bucket\n",
    "        bucket.push_back(Pair<K,V>(key, value));\n",
    "    }\n",
    "    \n",
    "    V& operator[](K const& key) {\n",
    "        auto& bucket = _get_bucket(key);\n",
    "        for (auto& pair : bucket) {\n",
    "            if (pair.first == key) { return pair.second; }\n",
    "        }\n",
    "        // Didn't find it. Make new pair with default value;\n",
    "        bucket.push_back(Pair<K,V>(key, V());\n",
    "        return bucket.back().second;\n",
    "    }\n",
    "}\n",
    "```"
   ]
  },
  {
   "cell_type": "markdown",
   "id": "03760cc1",
   "metadata": {
    "slideshow": {
     "slide_type": "notes"
    }
   },
   "source": [
    "- are all the references necessary?\n",
    "  - What happens if the bucket is not a reference?\n",
    "  - What happens if the pair is not a reference?"
   ]
  },
  {
   "cell_type": "markdown",
   "id": "9553af54",
   "metadata": {
    "slideshow": {
     "slide_type": "slide"
    }
   },
   "source": [
    "## How to Hash Anything"
   ]
  },
  {
   "cell_type": "markdown",
   "id": "5de3bc82",
   "metadata": {
    "slideshow": {
     "slide_type": "fragment"
    }
   },
   "source": [
    "- https://en.cppreference.com/w/cpp/utility/hash"
   ]
  },
  {
   "cell_type": "code",
   "execution_count": 1,
   "id": "e9beaf58",
   "metadata": {
    "slideshow": {
     "slide_type": "slide"
    }
   },
   "outputs": [],
   "source": [
    "#include <functional>"
   ]
  },
  {
   "cell_type": "code",
   "execution_count": 3,
   "id": "87d26613",
   "metadata": {
    "slideshow": {
     "slide_type": "fragment"
    }
   },
   "outputs": [
    {
     "data": {
      "text/plain": [
       "6594337730806245023"
      ]
     },
     "execution_count": 3,
     "metadata": {},
     "output_type": "execute_result"
    }
   ],
   "source": [
    "std::hash<std::string>{}(\"hello world!\")"
   ]
  },
  {
   "cell_type": "code",
   "execution_count": 4,
   "id": "5cc00601",
   "metadata": {},
   "outputs": [
    {
     "data": {
      "text/plain": [
       "11656130126939175289"
      ]
     },
     "execution_count": 4,
     "metadata": {},
     "output_type": "execute_result"
    }
   ],
   "source": [
    "std::hash<std::string>{}(\"hello world?\")"
   ]
  },
  {
   "cell_type": "code",
   "execution_count": 5,
   "id": "b86cbd13",
   "metadata": {
    "slideshow": {
     "slide_type": "fragment"
    }
   },
   "outputs": [
    {
     "data": {
      "text/plain": [
       "1234567"
      ]
     },
     "execution_count": 5,
     "metadata": {},
     "output_type": "execute_result"
    }
   ],
   "source": [
    "std::hash<int>{}(1234567)"
   ]
  },
  {
   "cell_type": "markdown",
   "id": "3438d363",
   "metadata": {
    "slideshow": {
     "slide_type": "slide"
    }
   },
   "source": [
    "## Python Dictionaries\n",
    "\n",
    "Python uses the term *dictionary* to mean *hashmap*.\n",
    "\n",
    "However, Python dictionaries have a few additional qualities to note:\n",
    "- they iterate in **insertion** order\n",
    "- they use open-addressing (with pseudo-random probing) instead of chaining\n",
    "\n",
    "How is the insertion order preserved?"
   ]
  },
  {
   "cell_type": "markdown",
   "id": "d1007971",
   "metadata": {
    "slideshow": {
     "slide_type": "slide"
    }
   },
   "source": [
    "## Key Ideas\n",
    "\n",
    "- Hash functions convert a value into an integer\n",
    "- Hash tables use hash functions to store values in $O(1)$ time\n",
    "- Hash maps use hash tables to store key-value pairs. "
   ]
  }
 ],
 "metadata": {
  "celltoolbar": "Slideshow",
  "kernelspec": {
   "display_name": "C++17",
   "language": "C++17",
   "name": "xcpp17"
  },
  "language_info": {
   "codemirror_mode": "text/x-c++src",
   "file_extension": ".cpp",
   "mimetype": "text/x-c++src",
   "name": "c++",
   "version": "17"
  },
  "toc": {
   "base_numbering": 1,
   "nav_menu": {},
   "number_sections": false,
   "sideBar": true,
   "skip_h1_title": true,
   "title_cell": "Table of Contents",
   "title_sidebar": "Contents",
   "toc_cell": false,
   "toc_position": {},
   "toc_section_display": true,
   "toc_window_display": false
  }
 },
 "nbformat": 4,
 "nbformat_minor": 5
}
