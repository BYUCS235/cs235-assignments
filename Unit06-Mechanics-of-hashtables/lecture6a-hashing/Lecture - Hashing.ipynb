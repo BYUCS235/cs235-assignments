{
 "cells": [
  {
   "cell_type": "markdown",
   "id": "93c09fde",
   "metadata": {
    "slideshow": {
     "slide_type": "slide"
    }
   },
   "source": [
    "# Hashing"
   ]
  },
  {
   "cell_type": "code",
   "execution_count": 1,
   "id": "f40d1d4e",
   "metadata": {
    "slideshow": {
     "slide_type": "slide"
    }
   },
   "outputs": [],
   "source": [
    "#include <string>\n",
    "using std::string;\n",
    "\n",
    "#include <sstream>\n",
    "using std::stringstream;\n",
    "\n",
    "#include <iostream>\n",
    "using std::cout, std::endl;\n",
    "cout << std::boolalpha;  // print booleans as \"true\" and \"false\" instead of 1 and 0\n",
    "\n",
    "#include <vector>\n",
    "using std::vector;\n",
    "\n",
    "#include <list>\n",
    "using std::list;\n",
    "\n",
    "#include <algorithm>\n",
    "using std::find;\n",
    "\n",
    "#include <unordered_set>\n",
    "using std::unordered_set;\n",
    "\n",
    "#include <functional>\n",
    "// using std::hash;"
   ]
  },
  {
   "cell_type": "markdown",
   "id": "bdf88a51",
   "metadata": {
    "slideshow": {
     "slide_type": "slide"
    }
   },
   "source": [
    "## The Table"
   ]
  },
  {
   "cell_type": "code",
   "execution_count": 2,
   "id": "20452ab4",
   "metadata": {
    "slideshow": {
     "slide_type": "slide"
    }
   },
   "outputs": [],
   "source": [
    "string table[10];"
   ]
  },
  {
   "cell_type": "code",
   "execution_count": 3,
   "id": "5717b42d",
   "metadata": {
    "slideshow": {
     "slide_type": "-"
    }
   },
   "outputs": [],
   "source": [
    "void reset_table() {\n",
    "    for (size_t i = 0; i < 10; i++) {\n",
    "        table[i] = \"\";\n",
    "    }    \n",
    "}"
   ]
  },
  {
   "cell_type": "code",
   "execution_count": 4,
   "id": "73d7e31b",
   "metadata": {},
   "outputs": [],
   "source": [
    "void print_table() {\n",
    "    for (size_t i = 0; i < 10; i++) {\n",
    "        cout << i << \": \" << table[i] << endl;\n",
    "    }\n",
    "}"
   ]
  },
  {
   "cell_type": "code",
   "execution_count": 5,
   "id": "b28701eb",
   "metadata": {
    "slideshow": {
     "slide_type": "slide"
    }
   },
   "outputs": [
    {
     "name": "stdout",
     "output_type": "stream",
     "text": [
      "0: \n",
      "1: \n",
      "2: \n",
      "3: \n",
      "4: \n",
      "5: \n",
      "6: \n",
      "7: \n",
      "8: \n",
      "9: \n"
     ]
    }
   ],
   "source": [
    "reset_table();\n",
    "print_table()"
   ]
  },
  {
   "cell_type": "markdown",
   "id": "abe4ed83",
   "metadata": {
    "slideshow": {
     "slide_type": "slide"
    }
   },
   "source": [
    "## The Hash Function"
   ]
  },
  {
   "cell_type": "markdown",
   "id": "8420b7f4",
   "metadata": {},
   "source": [
    "A **hash function** is any method that turns the input item into an unsigned int (i.e. `size_t`)."
   ]
  },
  {
   "cell_type": "code",
   "execution_count": 6,
   "id": "d88ae11e",
   "metadata": {
    "slideshow": {
     "slide_type": "slide"
    }
   },
   "outputs": [],
   "source": [
    "size_t string_hash(string const& item) {\n",
    "    return item[0];    \n",
    "}"
   ]
  },
  {
   "cell_type": "code",
   "execution_count": 7,
   "id": "591f1131",
   "metadata": {
    "slideshow": {
     "slide_type": "slide"
    }
   },
   "outputs": [
    {
     "name": "stdout",
     "output_type": "stream",
     "text": [
      "102\n"
     ]
    }
   ],
   "source": [
    "cout << string_hash(\"foobar\") << endl;"
   ]
  },
  {
   "cell_type": "code",
   "execution_count": 8,
   "id": "05384569",
   "metadata": {
    "slideshow": {
     "slide_type": "fragment"
    }
   },
   "outputs": [
    {
     "name": "stdout",
     "output_type": "stream",
     "text": [
      "73\n"
     ]
    }
   ],
   "source": [
    "cout << string_hash(\"I love cs235!\") << endl;"
   ]
  },
  {
   "cell_type": "code",
   "execution_count": 9,
   "id": "fa39c883",
   "metadata": {
    "slideshow": {
     "slide_type": "fragment"
    }
   },
   "outputs": [
    {
     "name": "stdout",
     "output_type": "stream",
     "text": [
      "73\n"
     ]
    }
   ],
   "source": [
    "cout << string_hash(\"I love BYU!\") << endl;"
   ]
  },
  {
   "cell_type": "markdown",
   "id": "0bc9f1da",
   "metadata": {
    "slideshow": {
     "slide_type": "slide"
    }
   },
   "source": [
    "## Table + Hash Function"
   ]
  },
  {
   "cell_type": "code",
   "execution_count": null,
   "id": "e3082bd2",
   "metadata": {
    "slideshow": {
     "slide_type": "slide"
    }
   },
   "outputs": [],
   "source": [
    "void add_item(string const& item, size_t (*hash)(string const&)) {\n",
    "    int pos = hash(item) % 10;\n",
    "    table[pos] = item;\n",
    "}"
   ]
  },
  {
   "cell_type": "markdown",
   "id": "ea3ff021",
   "metadata": {
    "slideshow": {
     "slide_type": "fragment"
    }
   },
   "source": [
    "<div style='font-size: 150px'>🤔 🤪 🤨 🤓 🫣 😶‍🌫️ 😵‍💫 </div>"
   ]
  },
  {
   "cell_type": "code",
   "execution_count": 10,
   "id": "7d70aab4",
   "metadata": {
    "slideshow": {
     "slide_type": "slide"
    }
   },
   "outputs": [],
   "source": [
    "typedef size_t (*hasher)(string const&);"
   ]
  },
  {
   "cell_type": "code",
   "execution_count": 11,
   "id": "369e0422",
   "metadata": {
    "cell_style": "center",
    "slideshow": {
     "slide_type": "fragment"
    }
   },
   "outputs": [],
   "source": [
    "void add_item(string const& item, hasher hash) {\n",
    "    size_t pos = hash(item) % 10;\n",
    "    table[pos] = item;\n",
    "}"
   ]
  },
  {
   "cell_type": "code",
   "execution_count": 12,
   "id": "b37da284",
   "metadata": {
    "cell_style": "split",
    "slideshow": {
     "slide_type": "fragment"
    }
   },
   "outputs": [
    {
     "name": "stdout",
     "output_type": "stream",
     "text": [
      "hash(foobar): 102\n",
      "hash(bazquux): 98\n",
      "hash(win!): 119\n"
     ]
    }
   ],
   "source": [
    "cout << \"hash(foobar): \" \n",
    "     <<  string_hash(\"foobar\") << endl;\n",
    "\n",
    "cout << \"hash(bazquux): \" \n",
    "     << string_hash(\"bazquux\") << endl;\n",
    "\n",
    "cout << \"hash(win!): \" \n",
    "     << string_hash(\"win!\") << endl;\n"
   ]
  },
  {
   "cell_type": "code",
   "execution_count": 13,
   "id": "5ce964fe",
   "metadata": {
    "cell_style": "split",
    "slideshow": {
     "slide_type": "fragment"
    }
   },
   "outputs": [
    {
     "name": "stdout",
     "output_type": "stream",
     "text": [
      "0: \n",
      "1: \n",
      "2: foobar\n",
      "3: \n",
      "4: \n",
      "5: \n",
      "6: \n",
      "7: \n",
      "8: bazquux\n",
      "9: win!\n"
     ]
    }
   ],
   "source": [
    "reset_table();\n",
    "add_item(\"foobar\", string_hash);\n",
    "add_item(\"bazquux\", string_hash);\n",
    "add_item(\"win!\", string_hash);\n",
    "\n",
    "print_table()"
   ]
  },
  {
   "cell_type": "markdown",
   "id": "c6641564",
   "metadata": {},
   "source": [
    "  "
   ]
  },
  {
   "cell_type": "code",
   "execution_count": 14,
   "id": "751a5de6",
   "metadata": {
    "cell_style": "split",
    "slideshow": {
     "slide_type": "slide"
    }
   },
   "outputs": [],
   "source": [
    "bool has_item(string const& item, hasher hash) {\n",
    "    return table[hash(item) % 10] == item;\n",
    "}"
   ]
  },
  {
   "cell_type": "code",
   "execution_count": 15,
   "id": "91ae7f34",
   "metadata": {
    "cell_style": "split"
   },
   "outputs": [
    {
     "name": "stdout",
     "output_type": "stream",
     "text": [
      "true\n"
     ]
    }
   ],
   "source": [
    "cout << has_item(\"foobar\", string_hash) << endl;"
   ]
  },
  {
   "cell_type": "markdown",
   "id": "3f7922b6",
   "metadata": {},
   "source": [
    "  "
   ]
  },
  {
   "cell_type": "code",
   "execution_count": 16,
   "id": "a27640d3",
   "metadata": {
    "cell_style": "split",
    "slideshow": {
     "slide_type": "slide"
    }
   },
   "outputs": [],
   "source": [
    "void remove_item(string const& item, hasher hash) {\n",
    "    table[hash(item) % 10] = \"\";\n",
    "}"
   ]
  },
  {
   "cell_type": "code",
   "execution_count": 17,
   "id": "629098eb",
   "metadata": {
    "cell_style": "split"
   },
   "outputs": [
    {
     "name": "stdout",
     "output_type": "stream",
     "text": [
      "0: \n",
      "1: \n",
      "2: \n",
      "3: \n",
      "4: \n",
      "5: \n",
      "6: \n",
      "7: \n",
      "8: bazquux\n",
      "9: win!\n"
     ]
    }
   ],
   "source": [
    "remove_item(\"foobar\", string_hash);\n",
    "print_table();"
   ]
  },
  {
   "cell_type": "markdown",
   "id": "16741fbf",
   "metadata": {
    "slideshow": {
     "slide_type": "slide"
    }
   },
   "source": [
    "## Introducing: The HashTable"
   ]
  },
  {
   "cell_type": "markdown",
   "id": "f5395e95",
   "metadata": {},
   "source": [
    "- A **hash function** converts a value into an integer\n",
    "- A **hash table** uses a hash function to determine the location in which to store the value"
   ]
  },
  {
   "cell_type": "markdown",
   "id": "7d377817",
   "metadata": {
    "slideshow": {
     "slide_type": "slide"
    }
   },
   "source": [
    "What is the big-O complexity to add, remove, or lookup a value?"
   ]
  },
  {
   "cell_type": "markdown",
   "id": "ad3ba7ad",
   "metadata": {
    "slideshow": {
     "slide_type": "fragment"
    }
   },
   "source": [
    "- The time it takes to convert a value into an index is $O(1)$\n",
    "- Add, remove, or lookup are just additional constant operations.\n",
    "\n",
    "$O(1)$!"
   ]
  },
  {
   "cell_type": "markdown",
   "id": "5cffd0c9",
   "metadata": {
    "slideshow": {
     "slide_type": "fragment"
    }
   },
   "source": [
    "<div style='font-size: 200pt'> 💪🏻 </div>"
   ]
  },
  {
   "cell_type": "markdown",
   "id": "9a1c3dde",
   "metadata": {
    "slideshow": {
     "slide_type": "slide"
    }
   },
   "source": [
    "## Hash Tables: *Revisited*"
   ]
  },
  {
   "cell_type": "code",
   "execution_count": 18,
   "id": "7a68953f",
   "metadata": {
    "slideshow": {
     "slide_type": "slide"
    }
   },
   "outputs": [
    {
     "name": "stdout",
     "output_type": "stream",
     "text": [
      "0: \n",
      "1: \n",
      "2: \n",
      "3: \n",
      "4: \n",
      "5: \n",
      "6: \n",
      "7: \n",
      "8: \n",
      "9: \n"
     ]
    }
   ],
   "source": [
    "reset_table();\n",
    "print_table();"
   ]
  },
  {
   "cell_type": "code",
   "execution_count": 19,
   "id": "34974769",
   "metadata": {
    "cell_style": "split",
    "slideshow": {
     "slide_type": "slide"
    }
   },
   "outputs": [
    {
     "name": "stdout",
     "output_type": "stream",
     "text": [
      "0: \n",
      "1: \n",
      "2: foo\n",
      "3: \n",
      "4: \n",
      "5: \n",
      "6: \n",
      "7: \n",
      "8: \n",
      "9: \n"
     ]
    }
   ],
   "source": [
    "add_item(\"foo\", string_hash);\n",
    "print_table();"
   ]
  },
  {
   "cell_type": "code",
   "execution_count": 20,
   "id": "ebb8541b",
   "metadata": {
    "cell_style": "split",
    "slideshow": {
     "slide_type": "fragment"
    }
   },
   "outputs": [
    {
     "name": "stdout",
     "output_type": "stream",
     "text": [
      "0: \n",
      "1: \n",
      "2: foobar\n",
      "3: \n",
      "4: \n",
      "5: \n",
      "6: \n",
      "7: \n",
      "8: \n",
      "9: \n"
     ]
    }
   ],
   "source": [
    "add_item(\"foobar\", string_hash);\n",
    "print_table();"
   ]
  },
  {
   "cell_type": "markdown",
   "id": "ea20afa3",
   "metadata": {
    "slideshow": {
     "slide_type": "fragment"
    }
   },
   "source": [
    "A **collision** is when two values have the same hash code."
   ]
  },
  {
   "cell_type": "code",
   "execution_count": 21,
   "id": "9d4db874",
   "metadata": {
    "slideshow": {
     "slide_type": "slide"
    }
   },
   "outputs": [],
   "source": [
    "size_t a_better_hash(string const& item) {\n",
    "    size_t result = 0;\n",
    "    for (auto c : item) {\n",
    "        result += c;\n",
    "    }\n",
    "    return result;\n",
    "}"
   ]
  },
  {
   "cell_type": "code",
   "execution_count": 22,
   "id": "efddfa69",
   "metadata": {
    "cell_style": "split",
    "slideshow": {
     "slide_type": "slide"
    }
   },
   "outputs": [
    {
     "name": "stdout",
     "output_type": "stream",
     "text": [
      "0: \n",
      "1: \n",
      "2: \n",
      "3: \n",
      "4: foo\n",
      "5: \n",
      "6: \n",
      "7: \n",
      "8: \n",
      "9: \n"
     ]
    }
   ],
   "source": [
    "reset_table();\n",
    "add_item(\"foo\", a_better_hash);\n",
    "print_table();"
   ]
  },
  {
   "cell_type": "code",
   "execution_count": 23,
   "id": "a798091b",
   "metadata": {
    "cell_style": "split",
    "slideshow": {
     "slide_type": "fragment"
    }
   },
   "outputs": [
    {
     "name": "stdout",
     "output_type": "stream",
     "text": [
      "0: \n",
      "1: \n",
      "2: \n",
      "3: foobar\n",
      "4: foo\n",
      "5: \n",
      "6: \n",
      "7: \n",
      "8: \n",
      "9: \n"
     ]
    }
   ],
   "source": [
    "add_item(\"foobar\", a_better_hash);\n",
    "print_table();"
   ]
  },
  {
   "cell_type": "markdown",
   "id": "7011c834",
   "metadata": {
    "slideshow": {
     "slide_type": "fragment"
    }
   },
   "source": [
    "   "
   ]
  },
  {
   "cell_type": "code",
   "execution_count": 24,
   "id": "fa534435",
   "metadata": {
    "cell_style": "split",
    "slideshow": {
     "slide_type": "-"
    }
   },
   "outputs": [
    {
     "name": "stdout",
     "output_type": "stream",
     "text": [
      "0: \n",
      "1: \n",
      "2: \n",
      "3: foobar\n",
      "4: oof\n",
      "5: \n",
      "6: \n",
      "7: \n",
      "8: \n",
      "9: \n"
     ]
    }
   ],
   "source": [
    "add_item(\"oof\", a_better_hash);\n",
    "print_table();"
   ]
  },
  {
   "cell_type": "markdown",
   "id": "46ba872c",
   "metadata": {
    "cell_style": "split",
    "slideshow": {
     "slide_type": "fragment"
    }
   },
   "source": [
    "<div style=\"font-size: 200px\"> &nbsp;&nbsp;&nbsp;&nbsp;&nbsp; 🤦🏻‍♂️ </div>"
   ]
  },
  {
   "cell_type": "markdown",
   "id": "51404d7a",
   "metadata": {
    "slideshow": {
     "slide_type": "slide"
    }
   },
   "source": [
    "Can you create a hash function that is guaranteed not to create collisions?"
   ]
  },
  {
   "cell_type": "markdown",
   "id": "92c43542",
   "metadata": {
    "slideshow": {
     "slide_type": "fragment"
    }
   },
   "source": [
    "You'll always have to deal with collisions, but the fewer collisions a hash function creates, the better."
   ]
  },
  {
   "cell_type": "markdown",
   "id": "3dfa7852",
   "metadata": {
    "slideshow": {
     "slide_type": "slide"
    }
   },
   "source": [
    "## HashTable Collisions"
   ]
  },
  {
   "cell_type": "markdown",
   "id": "36c4b610",
   "metadata": {},
   "source": [
    "There are two approaches to handling collisions: **probing** and **chaining**.\n",
    "\n",
    "We'll discuss *chaining* today."
   ]
  },
  {
   "cell_type": "markdown",
   "id": "507abd19",
   "metadata": {
    "slideshow": {
     "slide_type": "slide"
    }
   },
   "source": [
    "### Chaining"
   ]
  },
  {
   "cell_type": "markdown",
   "id": "a8dcf167",
   "metadata": {
    "cell_style": "split",
    "slideshow": {
     "slide_type": "-"
    }
   },
   "source": [
    "Instead of storing the items directly, each slot stores a **list** of items. \n",
    "\n",
    "First determine the slot an item should go in, then search the list in that slot. \n",
    "\n",
    "As long as the number of items assigned to the same slot stays small, the performance doesn't degrade.\n",
    "\n",
    "When the number of items gets closer to the capacity of the array, it's time to grow the array."
   ]
  },
  {
   "cell_type": "markdown",
   "id": "e5165203",
   "metadata": {
    "cell_style": "split"
   },
   "source": [
    "```\n",
    "0: foo, quux\n",
    "1:\n",
    "2: bar\n",
    "3: baz, zip\n",
    "4: \n",
    "5:\n",
    "6: win\n",
    "7: win!\n",
    "8: cs235\n",
    "9: abc\n",
    "```"
   ]
  },
  {
   "cell_type": "markdown",
   "id": "de0313c6",
   "metadata": {
    "slideshow": {
     "slide_type": "slide"
    }
   },
   "source": [
    "### Growing"
   ]
  },
  {
   "cell_type": "markdown",
   "id": "14e2da10",
   "metadata": {},
   "source": [
    "- Create a new array\n",
    "- **Re-add** each item to the table"
   ]
  },
  {
   "cell_type": "markdown",
   "id": "80680516",
   "metadata": {
    "slideshow": {
     "slide_type": "fragment"
    }
   },
   "source": [
    "Why not simply copy the lists over to the new array? Why do we need to re-add each item individually?"
   ]
  },
  {
   "cell_type": "markdown",
   "id": "52305e95",
   "metadata": {
    "slideshow": {
     "slide_type": "slide"
    }
   },
   "source": [
    "Assume an array size of 10. The hashcodes `1812` and `7502` will end up in the **same** slot:"
   ]
  },
  {
   "cell_type": "code",
   "execution_count": 25,
   "id": "38f108f1",
   "metadata": {},
   "outputs": [
    {
     "name": "stdout",
     "output_type": "stream",
     "text": [
      "2\n"
     ]
    }
   ],
   "source": [
    "cout << 1812 % 10 << endl;"
   ]
  },
  {
   "cell_type": "code",
   "execution_count": 26,
   "id": "2e6aa15b",
   "metadata": {},
   "outputs": [
    {
     "name": "stdout",
     "output_type": "stream",
     "text": [
      "2\n"
     ]
    }
   ],
   "source": [
    "cout << 7502 % 10 << endl;"
   ]
  },
  {
   "cell_type": "markdown",
   "id": "ff435247",
   "metadata": {
    "slideshow": {
     "slide_type": "fragment"
    }
   },
   "source": [
    "But when I increase the array size to 20, these same hashcodes now fall in **different** slots:"
   ]
  },
  {
   "cell_type": "code",
   "execution_count": 27,
   "id": "2e3492be",
   "metadata": {},
   "outputs": [
    {
     "name": "stdout",
     "output_type": "stream",
     "text": [
      "12\n"
     ]
    }
   ],
   "source": [
    "cout << 1812 % 20 << endl;"
   ]
  },
  {
   "cell_type": "code",
   "execution_count": 28,
   "id": "50bebce4",
   "metadata": {},
   "outputs": [
    {
     "name": "stdout",
     "output_type": "stream",
     "text": [
      "2\n"
     ]
    }
   ],
   "source": [
    "cout << 7502 % 20 << endl;"
   ]
  },
  {
   "cell_type": "markdown",
   "id": "fd5719a1",
   "metadata": {
    "slideshow": {
     "slide_type": "slide"
    }
   },
   "source": [
    "## Big O"
   ]
  },
  {
   "cell_type": "markdown",
   "id": "887e9e0a",
   "metadata": {},
   "source": [
    "What is the big-O for add, remove, and contains?"
   ]
  },
  {
   "cell_type": "markdown",
   "id": "9e2b0842",
   "metadata": {
    "slideshow": {
     "slide_type": "fragment"
    }
   },
   "source": [
    "- Computing the position is $O(1)$\n",
    "- Finding the bucket is $O(1)$\n",
    "- Assuming the hash function uniformly distributes the data, then the probability that there is a collision will be small\n",
    "  - You can tune the grow parameter to improve performance\n",
    "- Growing adds $n$ items over again, but it only happens once every $n$ items, so the amortized complexity is $O(1)$\n",
    "- All together: $O(1)$"
   ]
  },
  {
   "cell_type": "markdown",
   "id": "ee4dd22b",
   "metadata": {
    "slideshow": {
     "slide_type": "slide"
    }
   },
   "source": [
    "What are the pathological cases for a hashtable?"
   ]
  },
  {
   "cell_type": "markdown",
   "id": "69b09290",
   "metadata": {
    "slideshow": {
     "slide_type": "fragment"
    }
   },
   "source": [
    "- All the items end up in the same bucket: $O(n)$"
   ]
  },
  {
   "cell_type": "markdown",
   "id": "572e18a1",
   "metadata": {
    "slideshow": {
     "slide_type": "slide"
    }
   },
   "source": [
    "## Iteration order"
   ]
  },
  {
   "cell_type": "markdown",
   "id": "ac90d2b2",
   "metadata": {},
   "source": [
    "When you iterate through the values of a hash table, what order to they come out?"
   ]
  },
  {
   "cell_type": "markdown",
   "id": "bc30eca2",
   "metadata": {
    "slideshow": {
     "slide_type": "fragment"
    }
   },
   "source": [
    "https://stackoverflow.com/a/78240361/2288986"
   ]
  },
  {
   "cell_type": "markdown",
   "id": "81cae241",
   "metadata": {
    "slideshow": {
     "slide_type": "slide"
    }
   },
   "source": [
    "## Hash Functions: *Revisited*"
   ]
  },
  {
   "cell_type": "code",
   "execution_count": 32,
   "id": "94687d39",
   "metadata": {
    "slideshow": {
     "slide_type": "slide"
    }
   },
   "outputs": [],
   "source": [
    "size_t hash_7(string const& value) {\n",
    "    return 2;\n",
    "}"
   ]
  },
  {
   "cell_type": "code",
   "execution_count": 33,
   "id": "86cf52b4",
   "metadata": {},
   "outputs": [
    {
     "name": "stdout",
     "output_type": "stream",
     "text": [
      "2\n"
     ]
    }
   ],
   "source": [
    "cout << hash_7(\"foo\") << endl;"
   ]
  },
  {
   "cell_type": "code",
   "execution_count": 34,
   "id": "0d35f1b5",
   "metadata": {},
   "outputs": [
    {
     "name": "stdout",
     "output_type": "stream",
     "text": [
      "2\n"
     ]
    }
   ],
   "source": [
    "cout << hash_7(\"bar\") << endl;"
   ]
  },
  {
   "cell_type": "code",
   "execution_count": 35,
   "id": "997b9827",
   "metadata": {
    "slideshow": {
     "slide_type": "slide"
    }
   },
   "outputs": [],
   "source": [
    "size_t rand_hash(string const& value) {\n",
    "    return rand();\n",
    "}"
   ]
  },
  {
   "cell_type": "code",
   "execution_count": 36,
   "id": "fa052ef5",
   "metadata": {
    "cell_style": "split",
    "slideshow": {
     "slide_type": "fragment"
    }
   },
   "outputs": [],
   "source": [
    "reset_table();"
   ]
  },
  {
   "cell_type": "code",
   "execution_count": 70,
   "id": "027de9d8",
   "metadata": {
    "cell_style": "split"
   },
   "outputs": [
    {
     "name": "stdout",
     "output_type": "stream",
     "text": [
      "0: \n",
      "1: bar\n",
      "2: \n",
      "3: bar\n",
      "4: bar\n",
      "5: \n",
      "6: bar\n",
      "7: bar\n",
      "8: bar\n",
      "9: \n"
     ]
    }
   ],
   "source": [
    "add_item(\"bar\", rand_hash);\n",
    "print_table();"
   ]
  },
  {
   "cell_type": "code",
   "execution_count": 77,
   "id": "363e56de",
   "metadata": {
    "cell_style": "split"
   },
   "outputs": [
    {
     "name": "stdout",
     "output_type": "stream",
     "text": [
      "false\n"
     ]
    }
   ],
   "source": [
    "cout << has_item(\"bar\", rand_hash) << endl;"
   ]
  },
  {
   "cell_type": "markdown",
   "id": "859a1645",
   "metadata": {
    "slideshow": {
     "slide_type": "slide"
    }
   },
   "source": [
    "### Hash Function Qualities\n",
    "\n",
    "The choice of hash function matters. The goal is to make collisions as rare as possible, but still be able to find the items.\n",
    "\n",
    "What kind of function do we want?"
   ]
  },
  {
   "cell_type": "markdown",
   "id": "52b92dc8",
   "metadata": {
    "slideshow": {
     "slide_type": "fragment"
    }
   },
   "source": [
    "- **Determinism**: the same value will ALWAYS yield the same hashcode\n",
    "  - No `rand` in the hash function!"
   ]
  },
  {
   "cell_type": "markdown",
   "id": "4357fefc",
   "metadata": {
    "slideshow": {
     "slide_type": "fragment"
    }
   },
   "source": [
    "- **Efficiency**: the hashcode can be computed quickly.\n",
    "  - If it takes longer to compute the hashcode than to insert into a BST, that's no good."
   ]
  },
  {
   "cell_type": "markdown",
   "id": "c5bd07f5",
   "metadata": {
    "slideshow": {
     "slide_type": "fragment"
    }
   },
   "source": [
    "- **Defined range**: the distribution covers the full defined range\n",
    "  - If my array is 1000 slots long, but my hash function only produces values between 0..10, that's no good."
   ]
  },
  {
   "cell_type": "markdown",
   "id": "eb7ebd75",
   "metadata": {
    "slideshow": {
     "slide_type": "fragment"
    }
   },
   "source": [
    "- **Uniformity**: the hashcodes are uniformly distributed across the full possible space\n",
    "  - If my hash function tends to output even numbers but not odd numbers, that's no good."
   ]
  },
  {
   "cell_type": "markdown",
   "id": "9553af54",
   "metadata": {
    "slideshow": {
     "slide_type": "slide"
    }
   },
   "source": [
    "## How to Hash Anything"
   ]
  },
  {
   "cell_type": "markdown",
   "id": "5de3bc82",
   "metadata": {
    "slideshow": {
     "slide_type": "fragment"
    }
   },
   "source": [
    "- https://en.cppreference.com/w/cpp/utility/hash"
   ]
  },
  {
   "cell_type": "code",
   "execution_count": 78,
   "id": "08d6d4dc",
   "metadata": {
    "slideshow": {
     "slide_type": "fragment"
    }
   },
   "outputs": [],
   "source": [
    "// hash comes from <functional>\n",
    "std::hash<string> hashfun;"
   ]
  },
  {
   "cell_type": "code",
   "execution_count": 79,
   "id": "87d26613",
   "metadata": {
    "slideshow": {
     "slide_type": "-"
    }
   },
   "outputs": [
    {
     "name": "stdout",
     "output_type": "stream",
     "text": [
      "6594337730806245023\n"
     ]
    }
   ],
   "source": [
    "cout << hashfun(\"hello world!\") << endl;"
   ]
  },
  {
   "cell_type": "code",
   "execution_count": 80,
   "id": "5cc00601",
   "metadata": {},
   "outputs": [
    {
     "name": "stdout",
     "output_type": "stream",
     "text": [
      "11656130126939175289\n"
     ]
    }
   ],
   "source": [
    "cout << hashfun(\"hello world?\") << endl;"
   ]
  },
  {
   "cell_type": "code",
   "execution_count": 81,
   "id": "b86cbd13",
   "metadata": {
    "slideshow": {
     "slide_type": "fragment"
    }
   },
   "outputs": [
    {
     "name": "stdout",
     "output_type": "stream",
     "text": [
      "1234567\n"
     ]
    }
   ],
   "source": [
    "std::hash<int> inthash;\n",
    "cout << inthash(1234567) << endl;"
   ]
  },
  {
   "cell_type": "markdown",
   "id": "3438d363",
   "metadata": {
    "slideshow": {
     "slide_type": "slide"
    }
   },
   "source": [
    "## Python Dictionaries\n",
    "\n",
    "Python uses the term *dictionary* to mean *hashmap*.\n",
    "\n",
    "However, Python dictionaries have a few additional qualities to note:\n",
    "- they iterate in **insertion** order\n",
    "- they use open-addressing (with pseudo-random probing) instead of chaining\n",
    "\n",
    "How is the insertion order preserved?"
   ]
  },
  {
   "cell_type": "markdown",
   "id": "d1007971",
   "metadata": {
    "slideshow": {
     "slide_type": "slide"
    }
   },
   "source": [
    "## Key Ideas\n",
    "\n",
    "- Hash functions convert a value into an integer\n",
    "- Hash tables use hash functions to store values in $O(1)$ time\n",
    "- Hash maps use hash tables to store key-value pairs. "
   ]
  }
 ],
 "metadata": {
  "celltoolbar": "Slideshow",
  "kernelspec": {
   "display_name": "C++17 (docker)",
   "language": "C++17",
   "name": "xeus-cling"
  },
  "language_info": {
   "codemirror_mode": "text/x-c++src",
   "file_extension": ".cpp",
   "mimetype": "text/x-c++src",
   "name": "c++",
   "version": "17"
  },
  "toc": {
   "base_numbering": 1,
   "nav_menu": {},
   "number_sections": false,
   "sideBar": true,
   "skip_h1_title": true,
   "title_cell": "Table of Contents",
   "title_sidebar": "Contents",
   "toc_cell": false,
   "toc_position": {},
   "toc_section_display": true,
   "toc_window_display": false
  }
 },
 "nbformat": 4,
 "nbformat_minor": 5
}
