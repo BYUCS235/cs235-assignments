{
 "cells": [
  {
   "cell_type": "code",
   "execution_count": 88,
   "id": "19ed08b2",
   "metadata": {
    "slideshow": {
     "slide_type": "skip"
    }
   },
   "outputs": [
    {
     "name": "stdout",
     "output_type": "stream",
     "text": [
      "[NbConvertApp] Converting notebook AVL Trees.ipynb to html_embed\n",
      "[NbConvertApp] Writing 1450270 bytes to AVL Trees.html\n"
     ]
    }
   ],
   "source": [
    "! jupyter nbconvert \"AVL Trees.ipynb\" --Exporter.preprocessors jupybeans.RemoveSkip --to html_embed "
   ]
  },
  {
   "cell_type": "markdown",
   "id": "a6f4f386",
   "metadata": {
    "slideshow": {
     "slide_type": "slide"
    }
   },
   "source": [
    "# AVL Trees\n",
    "\n",
    "_Named after the inventors **A**delson-**V**elsky and **L**andis_"
   ]
  },
  {
   "cell_type": "markdown",
   "id": "c15e300b",
   "metadata": {
    "slideshow": {
     "slide_type": "skip"
    }
   },
   "source": [
    "- Example of imbalance\n",
    "  - 1..9\n",
    "  - 1, 9, 2, 8, 3, 7, 4, 6, 5\n",
    "- In order to maintain $O(\\log n)$, we need to ensure that the difference in height between two children is less than 2\n",
    "  - Examples of balance and imbalance"
   ]
  },
  {
   "cell_type": "markdown",
   "id": "8a4c0343",
   "metadata": {
    "slideshow": {
     "slide_type": "slide"
    }
   },
   "source": [
    "## BST Performance Review\n",
    "\n",
    "- The $O(\\log n)$ performance of a BST depends on the balance of the tree\n",
    "- When the difference in the number of children on either side of a node gets large, the performance degrades."
   ]
  },
  {
   "cell_type": "code",
   "execution_count": 1,
   "id": "f877b862",
   "metadata": {
    "slideshow": {
     "slide_type": "skip"
    }
   },
   "outputs": [
    {
     "name": "stdout",
     "output_type": "stream",
     "text": [
      "Writing build_linear.sh\n"
     ]
    }
   ],
   "source": [
    "%%file build_linear.sh\n",
    "cat << EOF > linear.txt\n",
    "1 < 2\n",
    "2 < 3\n",
    "3 < 4\n",
    "4 < 5\n",
    "5 < 6\n",
    "6 < 7\n",
    "EOF\n",
    "python3 ~/projects/btrees/btrees.py linear.txt"
   ]
  },
  {
   "cell_type": "markdown",
   "id": "973568a8",
   "metadata": {
    "slideshow": {
     "slide_type": "slide"
    }
   },
   "source": [
    "## Examples of imbalance"
   ]
  },
  {
   "cell_type": "markdown",
   "id": "fe16bb39",
   "metadata": {
    "slideshow": {
     "slide_type": "slide"
    }
   },
   "source": [
    "<img src=\"linear.png\" />"
   ]
  },
  {
   "cell_type": "code",
   "execution_count": 2,
   "id": "b72173bb",
   "metadata": {
    "slideshow": {
     "slide_type": "skip"
    }
   },
   "outputs": [
    {
     "name": "stdout",
     "output_type": "stream",
     "text": [
      "Writing build_spiral.sh\n"
     ]
    }
   ],
   "source": [
    "%%file build_spiral.sh\n",
    "cat << EOF > spiral.txt\n",
    "1 < 7\n",
    "7 > 2\n",
    "2 < 6\n",
    "6 > 3\n",
    "3 < 5\n",
    "5 > 4\n",
    "EOF\n",
    "python3 ~/projects/btrees/btrees.py spiral.txt"
   ]
  },
  {
   "cell_type": "markdown",
   "id": "de0642b0",
   "metadata": {
    "slideshow": {
     "slide_type": "slide"
    }
   },
   "source": [
    "<img src=\"spiral.png\" />"
   ]
  },
  {
   "cell_type": "markdown",
   "id": "0367677f",
   "metadata": {
    "cell_style": "split",
    "slideshow": {
     "slide_type": "slide"
    }
   },
   "source": [
    "## Defining Balance\n",
    "\n",
    "We'll define \"balance\" to mean that the difference in height between the children of a node.\n",
    "\n",
    "We can score the balance of a node with $height(right) - height(left)$\n",
    "\n",
    "The height of `nullptr` is **0**."
   ]
  },
  {
   "cell_type": "markdown",
   "id": "f0e18777",
   "metadata": {
    "cell_style": "split",
    "slideshow": {
     "slide_type": "fragment"
    }
   },
   "source": [
    "</br>\n",
    "</br>\n",
    "</br>\n",
    "</br>\n",
    "<img src=\"spiral.png\" />"
   ]
  },
  {
   "cell_type": "markdown",
   "id": "ce33b737",
   "metadata": {
    "cell_style": "split",
    "slideshow": {
     "slide_type": "fragment"
    }
   },
   "source": [
    "What is the balance of node 3?\n",
    "\n",
    "$height(5) - height(nullptr) = 2 - 0 = 2$"
   ]
  },
  {
   "cell_type": "markdown",
   "id": "d41737ee",
   "metadata": {
    "cell_style": "split",
    "slideshow": {
     "slide_type": "fragment"
    }
   },
   "source": [
    "What is the balance of node 7?\n",
    "\n",
    "$height(nullptr) - height(2) = 0 - 5 = -5$"
   ]
  },
  {
   "cell_type": "code",
   "execution_count": 3,
   "id": "586f4d87",
   "metadata": {
    "slideshow": {
     "slide_type": "skip"
    }
   },
   "outputs": [
    {
     "name": "stdout",
     "output_type": "stream",
     "text": [
      "Writing build_imbalanced.sh\n"
     ]
    }
   ],
   "source": [
    "%%file build_imbalanced.sh\n",
    "cat << EOF > imbalanced.txt\n",
    "H > E\n",
    "H < T\n",
    "T < W\n",
    "T > S\n",
    "W < X\n",
    "X < Y\n",
    "Y < Z\n",
    "W > M\n",
    "M > L\n",
    "M < P\n",
    "P < Q\n",
    "\n",
    "E > C\n",
    "C > B\n",
    "C < D\n",
    "B > A\n",
    "EOF\n",
    "python3 ~/projects/btrees/btrees.py imbalanced.txt"
   ]
  },
  {
   "cell_type": "markdown",
   "id": "9d8cc989",
   "metadata": {
    "slideshow": {
     "slide_type": "slide"
    }
   },
   "source": [
    "<img src=\"imbalanced.png\" />"
   ]
  },
  {
   "cell_type": "markdown",
   "id": "682445ad",
   "metadata": {},
   "source": [
    "Work with a partner:\n",
    "\n",
    "\n",
    "What is the balance of **C**, **E**, **W**, and **T**?"
   ]
  },
  {
   "cell_type": "markdown",
   "id": "2227215d",
   "metadata": {
    "slideshow": {
     "slide_type": "fragment"
    }
   },
   "source": [
    "- What is the balance of C?\n",
    "  - $height(D) - height(B) = 1 - 2 = -1$\n",
    "  \n",
    "  \n",
    "- What is the balance of E?\n",
    "  - $height(nullptr) - height(C) = 0 - 3 = -3$\n",
    "  \n",
    "  \n",
    "- What is the balance of W?\n",
    "  - $height(X) - height(M) = 3 - 3 = 0$\n",
    "  \n",
    "  \n",
    "- What is the blance of T?\n",
    "  - $height(W) - height(S) = 4 - 1 = 3$"
   ]
  },
  {
   "cell_type": "markdown",
   "id": "be77656f",
   "metadata": {
    "slideshow": {
     "slide_type": "slide"
    }
   },
   "source": [
    "## Rebalance\n",
    "\n",
    "An **imbalanced** node has a balance > 1 or < -1."
   ]
  },
  {
   "cell_type": "markdown",
   "id": "b72e4eab",
   "metadata": {
    "slideshow": {
     "slide_type": "slide"
    }
   },
   "source": [
    "### Left-Left and Right-Right\n",
    "\n",
    "Remember, the balance of a node is $height(right) - height(left)$.\n",
    "\n",
    "\n",
    "When you have a node with negative balance <= -2 (i.e. a heavy left branch) whose left node also has negative balance, we have a **left-left** imbalance.\n",
    "\n",
    "When you have a node with positive balance >= 2 (i.e. a heavy right branch) whose right node also has positive balance, we have a **right-right** imbalance.\n",
    "\n",
    "These two cases are symmetric and are handled with the same strategy."
   ]
  },
  {
   "cell_type": "code",
   "execution_count": 6,
   "id": "fc1f8178",
   "metadata": {
    "slideshow": {
     "slide_type": "skip"
    }
   },
   "outputs": [
    {
     "name": "stdout",
     "output_type": "stream",
     "text": [
      "Overwriting build_simple.sh\n"
     ]
    }
   ],
   "source": [
    "%%file build_simple.sh\n",
    "cat << EOF > simple.txt\n",
    "Z > Y\n",
    "Y > X\n",
    "\n",
    "Z [label=<Z <br/><font point-size=\"10\">(h:3, b:<font color=\"red\">-2</font>)</font>>]\n",
    "Y [label=<Y <br/><font point-size=\"10\">(h:2, b:-1)</font>>]\n",
    "X [label=<X <br/><font point-size=\"10\">(h:1, b:0)</font>>]\n",
    "EOF\n",
    "python3 ~/projects/btrees/btrees.py --w-scale 0.7 simple.txt"
   ]
  },
  {
   "cell_type": "markdown",
   "id": "ba46add7",
   "metadata": {
    "slideshow": {
     "slide_type": "slide"
    }
   },
   "source": [
    "## A simple example"
   ]
  },
  {
   "cell_type": "markdown",
   "id": "5d4693cc",
   "metadata": {
    "cell_style": "split"
   },
   "source": [
    "<img src=\"simple.png\" />"
   ]
  },
  {
   "cell_type": "markdown",
   "id": "0de0bb14",
   "metadata": {
    "cell_style": "split",
    "slideshow": {
     "slide_type": "-"
    }
   },
   "source": [
    "####  Reblance Intuition\n",
    "\n",
    "- The left side of Z is taller than the right side of Z (which is empty).\n",
    "  - This means the left side reaches deeper than the right.\n",
    "- If we promote the left side (move it closer to the root), and make the right side a child of the left (move it further from the root), then the left side won't reach as deep (good!) and the right side will reach deeper (good!)"
   ]
  },
  {
   "cell_type": "code",
   "execution_count": 7,
   "id": "48b3bec7",
   "metadata": {
    "slideshow": {
     "slide_type": "skip"
    }
   },
   "outputs": [
    {
     "name": "stdout",
     "output_type": "stream",
     "text": [
      "Overwriting build_simple_rebal.sh\n"
     ]
    }
   ],
   "source": [
    "%%file build_simple_rebal.sh\n",
    "cat << EOF > simple_rebal.txt\n",
    "Y > X\n",
    "Y < Z\n",
    "\n",
    "Z [label=<Z <br/><font point-size=\"10\">(h:<font color=\"darkgreen\">1</font>, b:<font color=\"darkgreen\">0</font>)</font>>]\n",
    "Y [label=<Y <br/><font point-size=\"10\">(h:2, b:<font color=\"darkgreen\">0</font>)</font>>]\n",
    "X [label=<X <br/><font point-size=\"10\">(h:1, b:0)</font>>]\n",
    "EOF\n",
    "python3 ~/projects/btrees/btrees.py --w-scale 0.7 simple_rebal.txt"
   ]
  },
  {
   "cell_type": "markdown",
   "id": "11a30974",
   "metadata": {
    "cell_style": "split",
    "slideshow": {
     "slide_type": "slide"
    }
   },
   "source": [
    "<img src=\"simple.png\" />"
   ]
  },
  {
   "cell_type": "markdown",
   "id": "da713fb9",
   "metadata": {
    "cell_style": "split",
    "slideshow": {
     "slide_type": "-"
    }
   },
   "source": [
    "<img src=\"simple_rebal.png\" />"
   ]
  },
  {
   "cell_type": "markdown",
   "id": "03b7d151",
   "metadata": {
    "slideshow": {
     "slide_type": "slide"
    }
   },
   "source": [
    "Work with a partner.\n",
    "\n",
    "Annotate each node with its height and balance.\n",
    "\n",
    "Which node is imbalanced? What kind of imbalance is it?\n",
    "\n",
    "What will this tree look like after performing a rebalance?"
   ]
  },
  {
   "cell_type": "code",
   "execution_count": 8,
   "id": "adc2d83b",
   "metadata": {
    "slideshow": {
     "slide_type": "skip"
    }
   },
   "outputs": [
    {
     "name": "stdout",
     "output_type": "stream",
     "text": [
      "Writing build_abc.sh\n"
     ]
    }
   ],
   "source": [
    "%%file build_abc.sh\n",
    "cat << EOF > abc.txt\n",
    "A < B\n",
    "B < C\n",
    "EOF\n",
    "python3 ~/projects/btrees/btrees.py --w-scale 0.4 abc.txt"
   ]
  },
  {
   "cell_type": "markdown",
   "id": "54c1e76e",
   "metadata": {},
   "source": [
    "<img src=\"abc.png\" />"
   ]
  },
  {
   "cell_type": "code",
   "execution_count": 9,
   "id": "0ef4bfd6",
   "metadata": {
    "slideshow": {
     "slide_type": "skip"
    }
   },
   "outputs": [
    {
     "name": "stdout",
     "output_type": "stream",
     "text": [
      "Writing build_abc_annot.sh\n"
     ]
    }
   ],
   "source": [
    "%%file build_abc_annot.sh\n",
    "cat << EOF > abc_annot.txt\n",
    "A < B\n",
    "B < C\n",
    "\n",
    "A [label=<A <br/><font point-size=\"10\">(h:3, b:2)</font>>]\n",
    "B [label=<B <br/><font point-size=\"10\">(h:2, b:1)</font>>]\n",
    "C [label=<C <br/><font point-size=\"10\">(h:1, b:0)</font>>]\n",
    "EOF\n",
    "python3 ~/projects/btrees/btrees.py --w-scale 0.4 abc_annot.txt"
   ]
  },
  {
   "cell_type": "code",
   "execution_count": 10,
   "id": "ec00a519",
   "metadata": {
    "slideshow": {
     "slide_type": "skip"
    }
   },
   "outputs": [
    {
     "name": "stdout",
     "output_type": "stream",
     "text": [
      "Writing build_abc_rebal.sh\n"
     ]
    }
   ],
   "source": [
    "%%file build_abc_rebal.sh\n",
    "cat << EOF > abc_rebal.txt\n",
    "B > A\n",
    "B < C\n",
    "\n",
    "A [label=<A <br/><font point-size=\"10\">(h:1, b:0)</font>>]\n",
    "B [label=<B <br/><font point-size=\"10\">(h:2, b:0)</font>>]\n",
    "C [label=<C <br/><font point-size=\"10\">(h:1, b:0)</font>>]\n",
    "EOF\n",
    "python3 ~/projects/btrees/btrees.py --w-scale 0.7 abc_rebal.txt"
   ]
  },
  {
   "cell_type": "markdown",
   "id": "65cbfd30",
   "metadata": {
    "slideshow": {
     "slide_type": "fragment"
    }
   },
   "source": [
    "<img src=\"abc_annot.png\" style=\"float:left\"/>\n",
    "<img src=\"abc_rebal.png\"/>"
   ]
  },
  {
   "cell_type": "markdown",
   "id": "8178382f",
   "metadata": {
    "slideshow": {
     "slide_type": "slide"
    }
   },
   "source": [
    "## A more complex example"
   ]
  },
  {
   "cell_type": "markdown",
   "id": "0a965893",
   "metadata": {
    "slideshow": {
     "slide_type": "-"
    }
   },
   "source": [
    "Let's add B, A, and D to an empty AVL tree:"
   ]
  },
  {
   "cell_type": "code",
   "execution_count": 11,
   "id": "56c7d864",
   "metadata": {
    "slideshow": {
     "slide_type": "skip"
    }
   },
   "outputs": [
    {
     "name": "stdout",
     "output_type": "stream",
     "text": [
      "Writing build_abd.sh\n"
     ]
    }
   ],
   "source": [
    "%%file build_abd.sh\n",
    "cat << EOF > abd.txt\n",
    "B > A\n",
    "B < D\n",
    "B [label=<B <br/><font point-size=\"10\">(h:2, b:0)</font>>]\n",
    "A [label=<A <br/><font point-size=\"10\">(h:1, b:0)</font>>]\n",
    "D [label=<D <br/><font point-size=\"10\">(h:1, b:0)</font>>]\n",
    "EOF\n",
    "python3 ~/projects/btrees/btrees.py --w-scale 0.7 abd.txt"
   ]
  },
  {
   "cell_type": "markdown",
   "id": "cb5920b1",
   "metadata": {},
   "source": [
    "<img src=\"abd.png\" />"
   ]
  },
  {
   "cell_type": "markdown",
   "id": "c2640c45",
   "metadata": {
    "slideshow": {
     "slide_type": "slide"
    }
   },
   "source": [
    "Now let's insert C and E:"
   ]
  },
  {
   "cell_type": "code",
   "execution_count": 12,
   "id": "6820e368",
   "metadata": {
    "slideshow": {
     "slide_type": "skip"
    }
   },
   "outputs": [
    {
     "name": "stdout",
     "output_type": "stream",
     "text": [
      "Writing build_abdce.sh\n"
     ]
    }
   ],
   "source": [
    "%%file build_abdce.sh\n",
    "cat << EOF > abdce.txt\n",
    "B > A\n",
    "B < D\n",
    "B [label=<B <br/><font point-size=\"10\">(h:<font color=\"green\">3</font>, b:<font color=\"green\">1</font>)</font>>]\n",
    "A [label=<A <br/><font point-size=\"10\">(h:1, b:0)</font>>]\n",
    "D [label=<D <br/><font point-size=\"10\">(h:<font color=\"green\">2</font>, b:0)</font>>]\n",
    "\n",
    "D > C\n",
    "D < E\n",
    "C [label=<C <br/><font point-size=\"10\">(h:1, b:0)</font>>]\n",
    "E [label=<E <br/><font point-size=\"10\">(h:1, b:0)</font>>]\n",
    "EOF\n",
    "python3 ~/projects/btrees/btrees.py --w-scale 0.7 abdce.txt"
   ]
  },
  {
   "cell_type": "markdown",
   "id": "11ead3a3",
   "metadata": {},
   "source": [
    "<img src=\"abdce.png\"/>"
   ]
  },
  {
   "cell_type": "markdown",
   "id": "af51614e",
   "metadata": {
    "slideshow": {
     "slide_type": "slide"
    }
   },
   "source": [
    "And now for the punchline!\n",
    "\n",
    "Let's insert F into our tree:"
   ]
  },
  {
   "cell_type": "code",
   "execution_count": 13,
   "id": "1cae5011",
   "metadata": {
    "slideshow": {
     "slide_type": "skip"
    }
   },
   "outputs": [
    {
     "name": "stdout",
     "output_type": "stream",
     "text": [
      "Writing build_abdcef.sh\n"
     ]
    }
   ],
   "source": [
    "%%file build_abdcef.sh\n",
    "cat << EOF > abdcef.txt\n",
    "B > A\n",
    "B < D\n",
    "B [label=<B <br/><font point-size=\"10\">(h:<font color=\"green\">4</font>, b:<font color=\"red\">2</font>)</font>>]\n",
    "A [label=<A <br/><font point-size=\"10\">(h:1, b:0)</font>>]\n",
    "D [label=<D <br/><font point-size=\"10\">(h:<font color=\"green\">3</font>, b:<font color=\"green\">1</font>)</font>>]\n",
    "\n",
    "D > C\n",
    "D < E\n",
    "C [label=<C <br/><font point-size=\"10\">(h:1, b:0)</font>>]\n",
    "E [label=<E <br/><font point-size=\"10\">(h:<font color=\"green\">2</font>, b:<font color=\"green\">1</font>)</font>>]\n",
    "\n",
    "E < F\n",
    "F [label=<F <br/><font point-size=\"10\">(h:1, b:0)</font>>]\n",
    "EOF\n",
    "python3 ~/projects/btrees/btrees.py --w-scale 0.7 abdcef.txt"
   ]
  },
  {
   "cell_type": "markdown",
   "id": "a9f77806",
   "metadata": {},
   "source": [
    "<img src=\"abdcef.png\" />"
   ]
  },
  {
   "cell_type": "markdown",
   "id": "b555c0b8",
   "metadata": {
    "slideshow": {
     "slide_type": "fragment"
    }
   },
   "source": [
    "Time for a rebalance!"
   ]
  },
  {
   "cell_type": "markdown",
   "id": "48d64526",
   "metadata": {
    "slideshow": {
     "slide_type": "slide"
    }
   },
   "source": [
    "- B has balance >= 2, meaning it is heavy on the right, so we check the right child\n",
    "- D has balance > 0, meaning it is also heavy on the right\n",
    "- So we have **right-right**"
   ]
  },
  {
   "cell_type": "markdown",
   "id": "a66333a0",
   "metadata": {
    "slideshow": {
     "slide_type": "fragment"
    }
   },
   "source": [
    "If C didn't exist, this would a little more like our simple example and B could just become the right child of D.\n",
    "\n",
    "But D already has a right child..."
   ]
  },
  {
   "cell_type": "markdown",
   "id": "7c03824c",
   "metadata": {
    "slideshow": {
     "slide_type": "fragment"
    }
   },
   "source": [
    "In this scenario, C becomes the new right child of B."
   ]
  },
  {
   "cell_type": "code",
   "execution_count": 15,
   "id": "6c39f0fd",
   "metadata": {
    "slideshow": {
     "slide_type": "skip"
    }
   },
   "outputs": [
    {
     "name": "stdout",
     "output_type": "stream",
     "text": [
      "Writing build_abdcef_pre.sh\n"
     ]
    }
   ],
   "source": [
    "%%file build_abdcef_pre.sh\n",
    "cat << EOF > abdcef_pre.txt\n",
    "B > A\n",
    "B < D\n",
    "B [label=<B <br/><font point-size=\"10\">(h:<font color=\"darkgreen\">4</font>, b:<font color=\"red\">2</font>)</font>>]\n",
    "A [label=<A <br/><font point-size=\"10\">(h:1, b:0)</font>>]\n",
    "D [color=\"blue\" label=<D <br/><font point-size=\"10\">(h:<font color=\"darkgreen\">3</font>, b:<font color=\"darkgreen\">1</font>)</font>>]\n",
    "\n",
    "D > C\n",
    "D < E\n",
    "C [label=<C <br/><font point-size=\"10\">(h:1, b:0)</font>>]\n",
    "E [label=<E <br/><font point-size=\"10\">(h:<font color=\"darkgreen\">2</font>, b:<font color=\"darkgreen\">1</font>)</font>>]\n",
    "\n",
    "E < F\n",
    "F [label=<F <br/><font point-size=\"10\">(h:1, b:0)</font>>]\n",
    "\n",
    "B -> C [color=\"blue\" style=\"dotted\"]\n",
    "D -> B [color=\"blue\" style=\"dotted\"]\n",
    "EOF\n",
    "python3 ~/projects/btrees/btrees.py --w-scale 0.7 abdcef_pre.txt"
   ]
  },
  {
   "cell_type": "markdown",
   "id": "fb76ffba",
   "metadata": {
    "slideshow": {
     "slide_type": "slide"
    }
   },
   "source": [
    "So:\n",
    "\n",
    "- The new (local) root will be D\n",
    "- B's right child will be C\n",
    "- D's left child will be B"
   ]
  },
  {
   "cell_type": "markdown",
   "id": "e292496e",
   "metadata": {
    "slideshow": {
     "slide_type": "-"
    }
   },
   "source": [
    "<img src=\"abdcef_pre.png\"/>"
   ]
  },
  {
   "cell_type": "code",
   "execution_count": 16,
   "id": "b618bc6f",
   "metadata": {
    "slideshow": {
     "slide_type": "skip"
    }
   },
   "outputs": [
    {
     "name": "stdout",
     "output_type": "stream",
     "text": [
      "Writing build_abdcef_rebal.sh\n"
     ]
    }
   ],
   "source": [
    "%%file build_abdcef_rebal.sh\n",
    "cat << EOF > abdcef_rebal.txt\n",
    "D < E\n",
    "E < F\n",
    "D > B [color=\"darkgreen\"]\n",
    "B > A\n",
    "B < C [color=\"darkgreen\"]\n",
    "\n",
    "D [color=\"darkgreen\" label=<D <br/><font point-size=\"10\">(h:3, b:<font color=\"darkgreen\">0</font>)</font>>]\n",
    "\n",
    "B [label=<B <br/><font point-size=\"10\">(h:<font color=\"darkgreen\">2</font>, b:<font color=\"darkgreen\">0</font>)</font>>]\n",
    "A [label=<A <br/><font point-size=\"10\">(h:1, b:0)</font>>]\n",
    "\n",
    "C [label=<C <br/><font point-size=\"10\">(h:1, b:0)</font>>]\n",
    "E [label=<E <br/><font point-size=\"10\">(h:2, b:1)</font>>]\n",
    "\n",
    "F [label=<F <br/><font point-size=\"10\">(h:1, b:0)</font>>]\n",
    "EOF\n",
    "python3 ~/projects/btrees/btrees.py --w-scale 0.7 abdcef_rebal.txt"
   ]
  },
  {
   "cell_type": "markdown",
   "id": "224d3130",
   "metadata": {
    "slideshow": {
     "slide_type": "fragment"
    }
   },
   "source": [
    "<img src=\"abdcef_rebal.png\"/>"
   ]
  },
  {
   "cell_type": "code",
   "execution_count": 29,
   "id": "65974b47",
   "metadata": {
    "slideshow": {
     "slide_type": "skip"
    }
   },
   "outputs": [
    {
     "name": "stdout",
     "output_type": "stream",
     "text": [
      "Overwriting build_efc_pre.sh\n"
     ]
    }
   ],
   "source": [
    "%%file build_efc_pre.sh\n",
    "cat << EOF > efc_pre.txt\n",
    "E < F\n",
    "E > C\n",
    "C < D\n",
    "C > B\n",
    "B > A\n",
    "EOF \n",
    "python3 ~/projects/btrees/btrees.py --w-scale 0.2 efc_pre.txt"
   ]
  },
  {
   "cell_type": "markdown",
   "id": "32510c58",
   "metadata": {
    "slideshow": {
     "slide_type": "slide"
    }
   },
   "source": [
    "Work with a partner.\n",
    "\n",
    "Annotate each node with its height and balance.\n",
    "\n",
    "Which node is imbalanced? What kind of imbalance is it?\n",
    "\n",
    "What will this tree look like after performing a rebalance?"
   ]
  },
  {
   "cell_type": "markdown",
   "id": "4edbc840",
   "metadata": {},
   "source": [
    "<img src=\"efc_pre.png\" />"
   ]
  },
  {
   "cell_type": "code",
   "execution_count": 18,
   "id": "c0ec2817",
   "metadata": {
    "slideshow": {
     "slide_type": "skip"
    }
   },
   "outputs": [
    {
     "name": "stdout",
     "output_type": "stream",
     "text": [
      "Writing build_efc_pre_annot.sh\n"
     ]
    }
   ],
   "source": [
    "%%file build_efc_pre_annot.sh\n",
    "cat << EOF > efc_pre_annot.txt\n",
    "E < F\n",
    "E > C\n",
    "C < D\n",
    "C > B\n",
    "B > A\n",
    "\n",
    "A [label=<A <br/><font point-size=\"10\">(h:1, b:0)</font>>]\n",
    "B [label=<B <br/><font point-size=\"10\">(h:2, b:-1)</font>>]\n",
    "C [label=<C <br/><font point-size=\"10\">(h:3, b:-1)</font>>]\n",
    "D [label=<D <br/><font point-size=\"10\">(h:1, b:0)</font>>]\n",
    "E [label=<E <br/><font point-size=\"10\">(h:4, b:-2)</font>>]\n",
    "F [label=<F <br/><font point-size=\"10\">(h:1, b:0)</font>>]\n",
    "\n",
    "E -> D [color=\"blue\" style=\"dotted\"]\n",
    "C -> E [color=\"blue\" style=\"dotted\"]\n",
    "EOF\n",
    "python3 ~/projects/btrees/btrees.py --w-scale 0.4 efc_pre_annot.txt"
   ]
  },
  {
   "cell_type": "markdown",
   "id": "f1aef8d6",
   "metadata": {
    "slideshow": {
     "slide_type": "slide"
    }
   },
   "source": [
    "<img src=\"efc_pre_annot.png\"/>"
   ]
  },
  {
   "cell_type": "code",
   "execution_count": 19,
   "id": "1be32b6d",
   "metadata": {
    "slideshow": {
     "slide_type": "skip"
    }
   },
   "outputs": [
    {
     "name": "stdout",
     "output_type": "stream",
     "text": [
      "Writing build_efc_rebal.sh\n"
     ]
    }
   ],
   "source": [
    "%%file build_efc_rebal.sh\n",
    "cat << EOF > efc_rebal.txt\n",
    "C < E\n",
    "E < F\n",
    "E > D\n",
    "C > B\n",
    "B > A\n",
    "EOF\n",
    "python3 ~/projects/btrees/btrees.py --w-scale 0.4 efc_rebal.txt"
   ]
  },
  {
   "cell_type": "markdown",
   "id": "831f24bc",
   "metadata": {
    "slideshow": {
     "slide_type": "fragment"
    }
   },
   "source": [
    "<img src=\"efc_rebal.png\" />"
   ]
  },
  {
   "cell_type": "markdown",
   "id": "6abc7139",
   "metadata": {
    "slideshow": {
     "slide_type": "slide"
    }
   },
   "source": [
    "### Key Ideas: left-left and right-right\n",
    "\n",
    "- When the imbalanced node and the child on the heavier side have the same imbalance sign (i.e. both positive or both negative), a simple left-left or right-right rotation will rebalance the tree\n",
    "- To rebalance left-left:\n",
    "  ```c++\n",
    "  void promote_left_child(Node*& node) {\n",
    "      auto new_root = node->left;\n",
    "      node->left = node->left->right;\n",
    "      new_root->right = node;\n",
    "      node = new_root;\n",
    "  }\n",
    "  ```"
   ]
  },
  {
   "cell_type": "markdown",
   "id": "0aad7355",
   "metadata": {},
   "source": [
    "<img src=\"efc_pre.png\" style=\"float:left\"/> \n",
    "<img src=\"efc_rebal.png\" />"
   ]
  },
  {
   "cell_type": "markdown",
   "id": "fdf3980c",
   "metadata": {
    "slideshow": {
     "slide_type": "slide"
    }
   },
   "source": [
    "### Rebalance: Left-right and Right-left"
   ]
  },
  {
   "cell_type": "markdown",
   "id": "5579bb1f",
   "metadata": {},
   "source": [
    "- When the sign of the balance of the heavier child does **not** match the sign of the balance of the parent, we have a **left-right** or **right-left** imbalance.\n"
   ]
  },
  {
   "cell_type": "code",
   "execution_count": 20,
   "id": "d95c7ee0",
   "metadata": {
    "slideshow": {
     "slide_type": "skip"
    }
   },
   "outputs": [
    {
     "name": "stdout",
     "output_type": "stream",
     "text": [
      "Writing build_rl.sh\n"
     ]
    }
   ],
   "source": [
    "%%file build_rl.sh\n",
    "cat << EOF > rl.txt\n",
    "D < E\n",
    "D > C\n",
    "C > A\n",
    "\n",
    "A [label=<A <br/><font point-size=\"10\">(h:1, b:0)</font>>]\n",
    "C [label=<C <br/><font point-size=\"10\">(h:2, b:-1)</font>>]\n",
    "D [label=<D <br/><font point-size=\"10\">(h:3, b:-1)</font>>]\n",
    "E [label=<E <br/><font point-size=\"10\">(h:1, b:0)</font>>]\n",
    "EOF\n",
    "python3 ~/projects/btrees/btrees.py --w-scale 0.4 rl.txt"
   ]
  },
  {
   "cell_type": "code",
   "execution_count": 21,
   "id": "9466721e",
   "metadata": {
    "slideshow": {
     "slide_type": "skip"
    }
   },
   "outputs": [
    {
     "name": "stdout",
     "output_type": "stream",
     "text": [
      "Writing build_rl_annot.sh\n"
     ]
    }
   ],
   "source": [
    "%%file build_rl_annot.sh\n",
    "cat << EOF > rl_annot.txt\n",
    "D < E\n",
    "D > C\n",
    "C > A\n",
    "A < B\n",
    "\n",
    "A [label=<A <br/><font point-size=\"10\">(h:<font color=\"darkgreen\">2</font>, b:<font color=\"darkgreen\">1</font>)</font>>]\n",
    "B [label=<B <br/><font point-size=\"10\">(h:1, b:0)</font>>]\n",
    "C [label=<C <br/><font point-size=\"10\">(h:<font color=\"darkgreen\">3</font>, b:<font color=\"red\">-2</font>)</font>>]\n",
    "D [label=<D <br/><font point-size=\"10\">(h:<font color=\"darkgreen\">4</font>, b:<font color=\"red\">-2</font>)</font>>]\n",
    "E [label=<E <br/><font point-size=\"10\">(h:1, b:0)</font>>]\n",
    "EOF\n",
    "python3 ~/projects/btrees/btrees.py --w-scale 0.4 rl_annot.txt"
   ]
  },
  {
   "cell_type": "markdown",
   "id": "f37ed528",
   "metadata": {
    "slideshow": {
     "slide_type": "fragment"
    }
   },
   "source": [
    "<img src=\"rl.png\" style=\"float:left\"/>\n",
    "<img src=\"rl_annot.png\" />"
   ]
  },
  {
   "cell_type": "markdown",
   "id": "2abe5e8d",
   "metadata": {
    "slideshow": {
     "slide_type": "slide"
    }
   },
   "source": [
    "You solve a **left-right** or **right-left** imbalance in two steps:\n",
    "\n",
    "1. Rotate the heavy child to create a **left-left** or **right-right** imbalance\n",
    "2. Rotate the original node"
   ]
  },
  {
   "cell_type": "code",
   "execution_count": 22,
   "id": "651b865a",
   "metadata": {
    "slideshow": {
     "slide_type": "skip"
    }
   },
   "outputs": [
    {
     "name": "stdout",
     "output_type": "stream",
     "text": [
      "Writing build_rl_first.sh\n"
     ]
    }
   ],
   "source": [
    "%%file build_rl_first.sh\n",
    "cat << EOF > rl_first.txt\n",
    "D < E\n",
    "D > C\n",
    "C > B\n",
    "B > A\n",
    "\n",
    "A [color=\"darkgreen\" label=<A <br/><font point-size=\"10\">(h:<font color=\"darkgreen\">1</font>, b:<font color=\"darkgreen\">0</font>)</font>>]\n",
    "B [color=\"darkgreen\" label=<B <br/><font point-size=\"10\">(h:<font color=\"darkgreen\">2</font>, b:<font color=\"darkgreen\">-1</font>)</font>>]\n",
    "C [label=<C <br/><font point-size=\"10\">(h:3, b:<font color=\"red\">-2</font>)</font>>]\n",
    "D [label=<D <br/><font point-size=\"10\">(h:4, b:<font color=\"red\">-2</font>)</font>>]\n",
    "E [label=<E <br/><font point-size=\"10\">(h:1, b:0)</font>>]\n",
    "EOF\n",
    "python3 ~/projects/btrees/btrees.py --w-scale 0.4 rl_first.txt"
   ]
  },
  {
   "cell_type": "code",
   "execution_count": 23,
   "id": "8740deeb",
   "metadata": {
    "slideshow": {
     "slide_type": "skip"
    }
   },
   "outputs": [
    {
     "name": "stdout",
     "output_type": "stream",
     "text": [
      "Writing build_rl_second.sh\n"
     ]
    }
   ],
   "source": [
    "%%file build_rl_second.sh\n",
    "cat << EOF > rl_second.txt\n",
    "D < E\n",
    "D > B\n",
    "B > A\n",
    "B < C\n",
    "\n",
    "A [label=<A <br/><font point-size=\"10\">(h:1, b:0)</font>>]\n",
    "B [color=\"darkgreen\" label=<B <br/><font point-size=\"10\">(h:2, b:<font color=\"darkgreen\">0</font>)</font>>]\n",
    "C [color=\"darkgreen\" label=<C <br/><font point-size=\"10\">(h:<font color=\"darkgreen\">1</font>, b:<font color=\"darkgreen\">0</font>)</font>>]\n",
    "D [label=<D <br/><font point-size=\"10\">(h:<font color=\"darkgreen\">3</font>, b:<font color=\"darkgreen\">-1</font>)</font>>]\n",
    "E [label=<E <br/><font point-size=\"10\">(h:1, b:0)</font>>]\n",
    "EOF\n",
    "python3 ~/projects/btrees/btrees.py --w-scale 1 rl_second.txt"
   ]
  },
  {
   "cell_type": "markdown",
   "id": "63a29020",
   "metadata": {
    "slideshow": {
     "slide_type": "fragment"
    }
   },
   "source": [
    "<img src=\"rl_annot.png\" />"
   ]
  },
  {
   "cell_type": "markdown",
   "id": "d1a7747d",
   "metadata": {
    "slideshow": {
     "slide_type": "fragment"
    }
   },
   "source": [
    "<img src=\"rl_first.png\"/>"
   ]
  },
  {
   "cell_type": "markdown",
   "id": "263d9310",
   "metadata": {
    "slideshow": {
     "slide_type": "fragment"
    }
   },
   "source": [
    "<img src=\"rl_second.png\" />"
   ]
  },
  {
   "cell_type": "code",
   "execution_count": 24,
   "id": "246cf5db",
   "metadata": {
    "slideshow": {
     "slide_type": "skip"
    }
   },
   "outputs": [
    {
     "name": "stdout",
     "output_type": "stream",
     "text": [
      "Writing build_lr.sh\n"
     ]
    }
   ],
   "source": [
    "%%file build_lr.sh\n",
    "cat << EOF > lr.txt\n",
    "B < C\n",
    "B > A\n",
    "C < E\n",
    "E > D\n",
    "\n",
    "A [label=<A <br/><font point-size=\"10\">(h:1, b:0)</font>>]\n",
    "B [label=<B <br/><font point-size=\"10\">(h:<font color=\"darkgreen\">4</font>, b:<font color=\"red\">2</font>)</font>>]\n",
    "C [label=<C <br/><font point-size=\"10\">(h:<font color=\"darkgreen\">3</font>, b:<font color=\"red\">2</font>)</font>>]\n",
    "D [color=\"darkgreen\" label=<D <br/><font point-size=\"10\">(h:1, b:0)</font>>]\n",
    "E [label=<E <br/><font point-size=\"10\">(h:<font color=\"darkgreen\">2</font>, b:<font color=\"darkgreen\">-1</font>)</font>>]\n",
    "EOF\n",
    "python3 ~/projects/btrees/btrees.py --w-scale 1 lr.txt"
   ]
  },
  {
   "cell_type": "code",
   "execution_count": 25,
   "id": "f0aca715",
   "metadata": {
    "slideshow": {
     "slide_type": "skip"
    }
   },
   "outputs": [
    {
     "name": "stdout",
     "output_type": "stream",
     "text": [
      "Writing build_lr_noD.sh\n"
     ]
    }
   ],
   "source": [
    "%%file build_lr_noD.sh\n",
    "cat << EOF > lr_noD.txt\n",
    "B < C\n",
    "B > A\n",
    "C < E\n",
    "\n",
    "A [label=<A <br/><font point-size=\"10\">(h:1, b:0)</font>>]\n",
    "B [label=<B <br/><font point-size=\"10\">(h:3, b:1)</font>>]\n",
    "C [label=<C <br/><font point-size=\"10\">(h:2, b:1)</font>>]\n",
    "E [label=<E <br/><font point-size=\"10\">(h:1, b:0)</font>>]\n",
    "EOF\n",
    "python3 ~/projects/btrees/btrees.py --w-scale 1 lr_noD.txt"
   ]
  },
  {
   "cell_type": "markdown",
   "id": "00e0e0a1",
   "metadata": {
    "slideshow": {
     "slide_type": "slide"
    }
   },
   "source": [
    "Work with a partner.\n",
    "\n",
    "What is the outcome of adding D?\n",
    "\n",
    "- First, add D and update the height and balance of each node\n",
    "- Then show the rotation steps needed to balance the tree"
   ]
  },
  {
   "cell_type": "markdown",
   "id": "0db1a5c0",
   "metadata": {},
   "source": [
    "<img src=\"lr_noD.png\" />"
   ]
  },
  {
   "cell_type": "markdown",
   "id": "67113ab2",
   "metadata": {
    "slideshow": {
     "slide_type": "slide"
    }
   },
   "source": [
    "Add D and update the heights and balances"
   ]
  },
  {
   "cell_type": "markdown",
   "id": "dfe58267",
   "metadata": {
    "slideshow": {
     "slide_type": "-"
    }
   },
   "source": [
    "<img src=\"lr.png\" />"
   ]
  },
  {
   "cell_type": "markdown",
   "id": "9bf4805b",
   "metadata": {
    "slideshow": {
     "slide_type": "fragment"
    }
   },
   "source": [
    "C has a balance > 2, so it needs rebalance on the right side.\n",
    "\n",
    "The right node has a balance < 0, so we need two rotations.\n",
    "\n",
    "First we will rotate E to have the same balance as C.\n",
    "\n",
    "Then we can rotate C to fix the imbalance. "
   ]
  },
  {
   "cell_type": "code",
   "execution_count": 26,
   "id": "29dae566",
   "metadata": {
    "slideshow": {
     "slide_type": "skip"
    }
   },
   "outputs": [
    {
     "name": "stdout",
     "output_type": "stream",
     "text": [
      "Writing build_lr_first.sh\n"
     ]
    }
   ],
   "source": [
    "%%file build_lr_first.sh\n",
    "cat << EOF > lr_first.txt\n",
    "B < C\n",
    "B > A\n",
    "C < D\n",
    "D < E\n",
    "\n",
    "A [label=<A <br/><font point-size=\"10\">(h:1, b:0)</font>>]\n",
    "B [label=<B <br/><font point-size=\"10\">(h:4, b:<font color=\"red\">2</font>)</font>>]\n",
    "C [label=<C <br/><font point-size=\"10\">(h:3, b:<font color=\"red\">2</font>)</font>>]\n",
    "D [color=\"darkgreen\" label=<D <br/><font point-size=\"10\">(h:<font color=\"darkgreen\">2</font>, b:<font color=\"darkgreen\">1</font>)</font>>]\n",
    "E [color=\"darkgreen\" label=<E <br/><font point-size=\"10\">(h:<font color=\"darkgreen\">1</font>, b:<font color=\"darkgreen\">0</font>)</font>>]\n",
    "EOF\n",
    "python3 ~/projects/btrees/btrees.py --w-scale 1 lr_first.txt"
   ]
  },
  {
   "cell_type": "markdown",
   "id": "9a39998b",
   "metadata": {
    "slideshow": {
     "slide_type": "slide"
    }
   },
   "source": [
    "Rotate E"
   ]
  },
  {
   "cell_type": "markdown",
   "id": "7a7174d7",
   "metadata": {
    "slideshow": {
     "slide_type": "-"
    }
   },
   "source": [
    "<img src=\"lr_first.png\" />"
   ]
  },
  {
   "cell_type": "code",
   "execution_count": 27,
   "id": "0712cec5",
   "metadata": {
    "slideshow": {
     "slide_type": "skip"
    }
   },
   "outputs": [
    {
     "name": "stdout",
     "output_type": "stream",
     "text": [
      "Writing build_lr_second.sh\n"
     ]
    }
   ],
   "source": [
    "%%file build_lr_second.sh\n",
    "cat << EOF > lr_second.txt\n",
    "B < D\n",
    "B > A\n",
    "D > C\n",
    "D < E\n",
    "\n",
    "A [label=<A <br/><font point-size=\"10\">(h:1, b:0)</font>>]\n",
    "B [label=<B <br/><font point-size=\"10\">(h:<font color=\"darkgreen\">3</font>, b:<font color=\"darkgreen\">1</font>)</font>>]\n",
    "C [color=\"darkgreen\" label=<C <br/><font point-size=\"10\">(h:<font color=\"darkgreen\">1</font>, b:<font color=\"darkgreen\">0</font>)</font>>]\n",
    "D [color=\"darkgreen\" label=<D <br/><font point-size=\"10\">(h:<font color=\"darkgreen\">2</font>, b:<font color=\"darkgreen\">0</font>)</font>>]\n",
    "E [color=\"darkgreen\" label=<E <br/><font point-size=\"10\">(h:<font color=\"darkgreen\">1</font>, b:<font color=\"darkgreen\">0</font>)</font>>]\n",
    "EOF\n",
    "python3 ~/projects/btrees/btrees.py --w-scale 1 lr_second.txt"
   ]
  },
  {
   "cell_type": "markdown",
   "id": "b480713c",
   "metadata": {
    "slideshow": {
     "slide_type": "slide"
    }
   },
   "source": [
    "Rotate C"
   ]
  },
  {
   "cell_type": "markdown",
   "id": "aaa28b74",
   "metadata": {
    "slideshow": {
     "slide_type": "-"
    }
   },
   "source": [
    "<img src=\"lr_second.png\" />"
   ]
  },
  {
   "cell_type": "markdown",
   "id": "bbbf00ed",
   "metadata": {
    "slideshow": {
     "slide_type": "slide"
    }
   },
   "source": [
    "## Rotate Algorithm"
   ]
  },
  {
   "cell_type": "markdown",
   "id": "183f5784",
   "metadata": {},
   "source": [
    "- Detect imbalance\n",
    "    - If a node has a balance > 1, we need to rotate on the right.\n",
    "    - If a node has a balance < -1, we need to rotate on the left.\n",
    "- If the child on the heavy side has balance of opposite sign, rotate it.\n",
    "  - Now the node will have a heavy child with balance in the same sign\n",
    "- Now rotate the node to correct the imbalance"
   ]
  },
  {
   "cell_type": "markdown",
   "id": "b228be5f",
   "metadata": {
    "slideshow": {
     "slide_type": "slide"
    }
   },
   "source": [
    "```c++\n",
    "void promote_left_child(Node*& node) {\n",
    "    auto new_root = node->left;\n",
    "    node->left = node->left->right;\n",
    "    new_root->right = node;\n",
    "    node = new_root;\n",
    "}\n",
    "```\n",
    "\n",
    "```c++\n",
    "void promote_right_child(Node*& node) {\n",
    "    auto new_root = node->right;\n",
    "    node->right = node->right->left;\n",
    "    new_root->left = node;\n",
    "    node = new_root;\n",
    "}\n",
    "```\n",
    "\n",
    "```c++ \n",
    "void rebalance_negative(Node*& node) {\n",
    "    // Is the sign of the left child positive?\n",
    "    if (balance(node->left) > 0) {\n",
    "        // Promote left's right child\n",
    "        promote_right_child(node->left);        \n",
    "    }\n",
    "    \n",
    "    // Now rotate left\n",
    "    promote_left_child(node);\n",
    "}\n",
    "```\n",
    "\n",
    "```c++ \n",
    "void rebalance_positive(Node*& node) {\n",
    "    // Is the sign of the left child negative?\n",
    "    if (balance(node->left) < 0) {\n",
    "        // Promote right's left child\n",
    "        promote_left_child(node->right);        \n",
    "    }\n",
    "    \n",
    "    // Now rotate right\n",
    "    promote_right_child(node);\n",
    "}\n",
    "```\n"
   ]
  },
  {
   "cell_type": "markdown",
   "id": "bb7c5be9",
   "metadata": {
    "slideshow": {
     "slide_type": "slide"
    }
   },
   "source": [
    "## Big-O complexity of rotate\n",
    "\n",
    "What is the big-O complexity of rotating during insert?"
   ]
  },
  {
   "cell_type": "markdown",
   "id": "c7200e20",
   "metadata": {
    "slideshow": {
     "slide_type": "fragment"
    }
   },
   "source": [
    "- Performing the actual insert is unchanged: $O(\\log n)$\n",
    "- As the recursion unwinds, we do basic updates to height and balance: $O(1)$\n",
    "- If we find a need to rebalance, I need to change a constant number of pointers and update height and balacne: $O(1)$\n",
    "- So total complexity is still bounded by the insert: $O(\\log n)$"
   ]
  },
  {
   "cell_type": "markdown",
   "id": "3867ce0c",
   "metadata": {
    "slideshow": {
     "slide_type": "slide"
    }
   },
   "source": [
    "## HW Tips\n",
    "\n",
    "- Implement `add` and `remove` recursively\n",
    "- As you unwind the recursion:\n",
    "  - Check your node's balance\n",
    "    - If it is imbalanced, rebalance.\n",
    "  - Update your node's height (store this value on the node struct)\n",
    "  "
   ]
  },
  {
   "cell_type": "markdown",
   "id": "64587dc0",
   "metadata": {
    "slideshow": {
     "slide_type": "slide"
    }
   },
   "source": [
    "## Key Ideas\n",
    "\n",
    "- Imbalanced search trees have poor performance\n",
    "- We can keep a tree balanced by immediately correcting an imbalance > 1 or < -1. \n",
    "  - The rebalance work is $O(1)$\n",
    "  - Rebalancing requires one or two rotation steps\n",
    "    - If the sign of the balance of the imbalanced node and its heavy child do not agree,\n",
    "      rotate the heavy child so the sign of the balance agrees\n",
    "    - Rotate the imbalanced node"
   ]
  }
 ],
 "metadata": {
  "celltoolbar": "Slideshow",
  "kernelspec": {
   "display_name": "C++17 (docker)",
   "language": "C++17",
   "name": "xeus-cling"
  },
  "language_info": {
   "codemirror_mode": "text/x-c++src",
   "file_extension": ".cpp",
   "mimetype": "text/x-c++src",
   "name": "c++",
   "version": "17"
  },
  "toc": {
   "base_numbering": 1,
   "nav_menu": {},
   "number_sections": false,
   "sideBar": true,
   "skip_h1_title": false,
   "title_cell": "Table of Contents",
   "title_sidebar": "Contents",
   "toc_cell": false,
   "toc_position": {},
   "toc_section_display": true,
   "toc_window_display": false
  }
 },
 "nbformat": 4,
 "nbformat_minor": 5
}
