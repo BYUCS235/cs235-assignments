{
 "cells": [
  {
   "cell_type": "markdown",
   "id": "c1eac83a",
   "metadata": {
    "slideshow": {
     "slide_type": "slide"
    }
   },
   "source": [
    "# Trees 🌲 🌴 🌳"
   ]
  },
  {
   "cell_type": "markdown",
   "id": "c3c79086",
   "metadata": {
    "slideshow": {
     "slide_type": "skip"
    }
   },
   "source": [
    "- What is a tree?\n",
    "  - Parent\n",
    "  - Children\n",
    "  - Root\n",
    "  - Leaf\n",
    "- Traversal\n",
    "  - pre-order\n",
    "  - post-order\n",
    "  - DFS\n",
    "  - BFS\n",
    "- Binary Search Trees\n",
    "  - Only two children, specific meaning\n",
    "  - Inorder traversal\n",
    "  - Searching for a value\n",
    "  - Big O for search\n",
    "  \n",
    "## Next time\n",
    "- Adding to a BST\n",
    "- Removing from a BST\n",
    "- Big O for add/remove\n",
    "- Best case/worst case for BST?\n",
    "\n",
    "## AVL\n",
    "- Balancing trees"
   ]
  },
  {
   "cell_type": "markdown",
   "id": "6b7205a5",
   "metadata": {
    "slideshow": {
     "slide_type": "slide"
    }
   },
   "source": [
    "## What is a tree?\n",
    "\n",
    "- It's like a linked list, but each node can have more than one child.\n",
    "- Each node can have only one parent"
   ]
  },
  {
   "cell_type": "code",
   "execution_count": null,
   "id": "793f7270",
   "metadata": {
    "slideshow": {
     "slide_type": "skip"
    }
   },
   "outputs": [],
   "source": [
    "%%file tree.txt\n",
    "digraph {\n",
    "    A->B\n",
    "    A->C\n",
    "    A->D\n",
    "    B->E\n",
    "    C->F\n",
    "    C->G\n",
    "    C->H\n",
    "}"
   ]
  },
  {
   "cell_type": "code",
   "execution_count": null,
   "id": "7989cd38",
   "metadata": {
    "slideshow": {
     "slide_type": "skip"
    }
   },
   "outputs": [],
   "source": [
    "!dot -Tdot tree.txt > tree.dot"
   ]
  },
  {
   "cell_type": "code",
   "execution_count": null,
   "id": "ebbfb27d",
   "metadata": {
    "slideshow": {
     "slide_type": "skip"
    }
   },
   "outputs": [],
   "source": [
    "!dot -Tpng tree.dot > tree.png"
   ]
  },
  {
   "cell_type": "markdown",
   "id": "823ef897",
   "metadata": {},
   "source": [
    "<img src=\"tree.png\"/>"
   ]
  },
  {
   "cell_type": "markdown",
   "id": "3e0f16ac",
   "metadata": {
    "slideshow": {
     "slide_type": "slide"
    }
   },
   "source": [
    "## Examples of Trees"
   ]
  },
  {
   "cell_type": "markdown",
   "id": "26292e78",
   "metadata": {
    "slideshow": {
     "slide_type": "fragment"
    }
   },
   "source": [
    "- Folders and files on your computer\n",
    "- Management hierarchy in an organization\n",
    "- Church unit organization (classes, wards, stakes, areas)"
   ]
  },
  {
   "cell_type": "markdown",
   "id": "e5158f79",
   "metadata": {
    "slideshow": {
     "slide_type": "slide"
    }
   },
   "source": [
    "## How to Talk About Trees\n",
    "*A Beginners Guide*"
   ]
  },
  {
   "cell_type": "markdown",
   "id": "6b31921a",
   "metadata": {
    "slideshow": {
     "slide_type": "slide"
    }
   },
   "source": [
    "<img src=\"tree.png\"/>"
   ]
  },
  {
   "cell_type": "markdown",
   "id": "2a6045f3",
   "metadata": {
    "slideshow": {
     "slide_type": "fragment"
    }
   },
   "source": [
    "- The node with no parent is called the **root**.\n",
    "- A node with no children is called a **leaf**."
   ]
  },
  {
   "cell_type": "markdown",
   "id": "b5380484",
   "metadata": {
    "slideshow": {
     "slide_type": "fragment"
    }
   },
   "source": [
    "Which nodes in the tree above are leaves?\n",
    "\n",
    "Which node is the root?"
   ]
  },
  {
   "cell_type": "markdown",
   "id": "1ca633f1",
   "metadata": {
    "cell_style": "split",
    "slideshow": {
     "slide_type": "slide"
    }
   },
   "source": [
    "<img src=\"tree.png\"/>"
   ]
  },
  {
   "cell_type": "markdown",
   "id": "e6e7034d",
   "metadata": {
    "cell_style": "split"
   },
   "source": [
    "- The distance of a node to the root is the node's **depth**\n",
    "- The distance of a node to its lowest leaf is the node's **height**\n",
    "- The height of a tree is the height of its root."
   ]
  },
  {
   "cell_type": "markdown",
   "id": "56d60a6d",
   "metadata": {
    "cell_style": "split",
    "slideshow": {
     "slide_type": "fragment"
    }
   },
   "source": [
    "What is the height of this tree?\n",
    "\n",
    "What is the height of D?\n",
    "\n",
    "What is the height of C?\n",
    "\n",
    "What is the depth of A?\n",
    "\n",
    "What is the depth of H?\n",
    "\n",
    "Do all leaves have the same depth?\n",
    "\n",
    "Do all leaves have the same height?"
   ]
  },
  {
   "cell_type": "markdown",
   "id": "e434e739",
   "metadata": {
    "slideshow": {
     "slide_type": "slide"
    }
   },
   "source": [
    "## Trees and Recursion\n",
    "\n",
    "Trees are recursive in nature. \n",
    "\n",
    "Every child represents a subtree. That subtree may have 1 or more members. \n",
    "\n",
    "As you remember, recursive algorithms are good for data structures with a recursive structure. "
   ]
  },
  {
   "cell_type": "markdown",
   "id": "4943caee",
   "metadata": {
    "slideshow": {
     "slide_type": "fragment"
    }
   },
   "source": [
    "<div class='big centered' style='font-size: 100pt'> 🌲 ❤️ RECURSION </div>"
   ]
  },
  {
   "cell_type": "code",
   "execution_count": 1,
   "id": "ef173a39",
   "metadata": {
    "slideshow": {
     "slide_type": "slide"
    }
   },
   "outputs": [],
   "source": [
    "#include <vector>\n",
    "#include <string>\n",
    "#include <map>\n",
    "#include <iostream>\n",
    "using namespace std;"
   ]
  },
  {
   "cell_type": "code",
   "execution_count": 2,
   "id": "5cd2ecfe",
   "metadata": {
    "slideshow": {
     "slide_type": "slide"
    }
   },
   "outputs": [],
   "source": [
    "template<class T>\n",
    "struct Node {\n",
    "    T value;\n",
    "    vector<Node*> children;\n",
    "    \n",
    "    explicit Node(T value) : value(value), children() {}\n",
    "    \n",
    "    Node<T>* add(T item) {\n",
    "        auto node = new Node<T>(item);\n",
    "        children.push_back(node);\n",
    "        return node;\n",
    "    }\n",
    "};"
   ]
  },
  {
   "cell_type": "code",
   "execution_count": 3,
   "id": "62218755",
   "metadata": {
    "slideshow": {
     "slide_type": "slide"
    }
   },
   "outputs": [],
   "source": [
    "template<class T>\n",
    "void print(Node<T>* const& node, string const& prefix) {\n",
    "    \n",
    "    cout << prefix << node->value << endl;\n",
    "    \n",
    "    for (auto child : node->children) {\n",
    "        print(child, prefix + \"  \");\n",
    "    }\n",
    "}"
   ]
  },
  {
   "cell_type": "code",
   "execution_count": 4,
   "id": "06ecbc52",
   "metadata": {
    "slideshow": {
     "slide_type": "slide"
    }
   },
   "outputs": [],
   "source": [
    "Node<string>* home = new Node<string>(\"Home/\");\n",
    "auto docs = home->add(\"Documents/\");\n",
    "docs->add(\"cs235/\");\n",
    "docs->add(\"personal/\");\n",
    "auto down = home->add(\"Downloads/\");\n",
    "down->add(\"cat videos/\");\n",
    "down->add(\"tree-info.pdf\");"
   ]
  },
  {
   "cell_type": "code",
   "execution_count": 5,
   "id": "d08e78ed",
   "metadata": {},
   "outputs": [
    {
     "name": "stdout",
     "output_type": "stream",
     "text": [
      "Home/\n",
      "  Documents/\n",
      "    cs235/\n",
      "    personal/\n",
      "  Downloads/\n",
      "    cat videos/\n",
      "    tree-info.pdf\n"
     ]
    }
   ],
   "source": [
    "print(home, \"\")"
   ]
  },
  {
   "cell_type": "markdown",
   "id": "43a00e72",
   "metadata": {
    "slideshow": {
     "slide_type": "slide"
    }
   },
   "source": [
    "<img src=\"tree.png\"/>"
   ]
  },
  {
   "cell_type": "code",
   "execution_count": 6,
   "id": "566ed8ab",
   "metadata": {
    "slideshow": {
     "slide_type": "-"
    }
   },
   "outputs": [],
   "source": [
    "auto A = new Node<string>(\"A\");\n",
    "\n",
    "auto B = A->add(\"B\");\n",
    "auto C = A->add(\"C\");\n",
    "A->add(\"D\");\n",
    "\n",
    "B->add(\"E\");\n",
    "\n",
    "C->add(\"F\");\n",
    "C->add(\"G\");\n",
    "C->add(\"H\");"
   ]
  },
  {
   "cell_type": "code",
   "execution_count": 7,
   "id": "1c07caac",
   "metadata": {},
   "outputs": [
    {
     "name": "stdout",
     "output_type": "stream",
     "text": [
      "A\n",
      "  B\n",
      "    E\n",
      "  C\n",
      "    F\n",
      "    G\n",
      "    H\n",
      "  D\n"
     ]
    }
   ],
   "source": [
    "print(A, \"\")"
   ]
  },
  {
   "cell_type": "markdown",
   "id": "6cd41e7d",
   "metadata": {
    "slideshow": {
     "slide_type": "slide"
    }
   },
   "source": [
    "## Searching a Tree\n",
    "\n",
    "There are two general approaches for searching a tree—i.e. navigating through all the nodes.\n",
    "\n",
    "- **Depth-first-search (DFS)**\n",
    "- **Breadth-first-search (BFS)**"
   ]
  },
  {
   "cell_type": "markdown",
   "id": "5921018a",
   "metadata": {
    "slideshow": {
     "slide_type": "slide"
    }
   },
   "source": [
    "## Depth-First-Search (DFS)\n",
    "\n",
    "Depth-first means that before moving on to the second child, you explore the children of the first child.\n",
    "\n",
    "You go deep before you go broad. \n",
    "\n",
    "So, in our example tree, you explore B before you explore C, but in the process of exploring B you explore E, etc."
   ]
  },
  {
   "cell_type": "markdown",
   "id": "89f369a4",
   "metadata": {
    "slideshow": {
     "slide_type": "slide"
    }
   },
   "source": [
    "What is the node ordering using DFS on this tree?\n",
    "\n",
    "<img src=\"tree.png\"/>"
   ]
  },
  {
   "cell_type": "code",
   "execution_count": null,
   "id": "09a4a546",
   "metadata": {
    "cell_style": "split",
    "slideshow": {
     "slide_type": "skip"
    }
   },
   "outputs": [],
   "source": [
    "%%file tree-dfs.extra\n",
    "    A->B [color=\"red\"]\n",
    "    B->E [color=\"red\"]\n",
    "    E->B [color=\"blue\"]\n",
    "    B->A [color=\"blue\"]\n",
    "    A->C [color=\"red\"]\n",
    "    C->F [color=\"red\"]\n",
    "    F->C [color=\"blue\"]\n",
    "    C->G [color=\"red\"]\n",
    "    G->C [color=\"blue\"]\n",
    "    C->H [color=\"red\"]\n",
    "    H->C [color=\"blue\"]\n",
    "    C->A [color=\"blue\"]\n",
    "    A->D [color=\"red\"]\n",
    "}"
   ]
  },
  {
   "cell_type": "code",
   "execution_count": null,
   "id": "84b30007",
   "metadata": {
    "cell_style": "split",
    "slideshow": {
     "slide_type": "skip"
    }
   },
   "outputs": [],
   "source": [
    "%%file tree-dfs.extra\n",
    "    A->B [color=\"red\"]\n",
    "    B->E [color=\"red\"]\n",
    "    E->C [color=\"red\"]\n",
    "    C->F [color=\"red\"]\n",
    "    F->G [color=\"red\"]\n",
    "    G->H [color=\"red\"]\n",
    "    H->D [color=\"red\"]\n",
    "}"
   ]
  },
  {
   "cell_type": "code",
   "execution_count": null,
   "id": "2f2cd171",
   "metadata": {
    "slideshow": {
     "slide_type": "skip"
    }
   },
   "outputs": [],
   "source": [
    "! { head -n -1 tree.dot; cat tree-dfs.extra; } | neato -n -Tpng > tree-dfs.png"
   ]
  },
  {
   "cell_type": "markdown",
   "id": "b5a72375",
   "metadata": {
    "slideshow": {
     "slide_type": "slide"
    }
   },
   "source": [
    "<img src='tree-dfs.png'/>"
   ]
  },
  {
   "cell_type": "markdown",
   "id": "45670bcc",
   "metadata": {
    "slideshow": {
     "slide_type": "-"
    }
   },
   "source": [
    "A, B, E, C, F, G, H, D"
   ]
  },
  {
   "cell_type": "markdown",
   "id": "5a107613",
   "metadata": {
    "slideshow": {
     "slide_type": "slide"
    }
   },
   "source": [
    "DFS has the property that before a node is fully searched, all of its decendents must be searched.\n",
    "\n",
    "This means that the last nodes to be found are the first nodes to be finished."
   ]
  },
  {
   "cell_type": "markdown",
   "id": "3bd2361b",
   "metadata": {
    "slideshow": {
     "slide_type": "fragment"
    }
   },
   "source": [
    "What data structure do you think of when you hear **last in first out**?"
   ]
  },
  {
   "cell_type": "markdown",
   "id": "6dfee786",
   "metadata": {
    "slideshow": {
     "slide_type": "fragment"
    }
   },
   "source": [
    "A stack!"
   ]
  },
  {
   "cell_type": "code",
   "execution_count": 8,
   "id": "31743419",
   "metadata": {
    "slideshow": {
     "slide_type": "slide"
    }
   },
   "outputs": [],
   "source": [
    "#include <stack>"
   ]
  },
  {
   "cell_type": "code",
   "execution_count": 9,
   "id": "5b2a169c",
   "metadata": {},
   "outputs": [],
   "source": [
    "template<class T>\n",
    "void dfs_stack(Node<T>* const& node) {\n",
    "    stack<Node<T>*> nodes;\n",
    "    nodes.push(node);\n",
    "    while (!nodes.empty()) {\n",
    "        Node<T>* current = nodes.top();\n",
    "        nodes.pop();\n",
    "        cout << current->value << endl;\n",
    "        for (auto child : current->children) {\n",
    "            nodes.push(child);\n",
    "        }\n",
    "    }\n",
    "}"
   ]
  },
  {
   "cell_type": "code",
   "execution_count": 10,
   "id": "7dfb57f3",
   "metadata": {},
   "outputs": [
    {
     "name": "stdout",
     "output_type": "stream",
     "text": [
      "A\n",
      "D\n",
      "C\n",
      "H\n",
      "G\n",
      "F\n",
      "B\n",
      "E\n"
     ]
    }
   ],
   "source": [
    "dfs_stack(A)"
   ]
  },
  {
   "cell_type": "markdown",
   "id": "2af0560f",
   "metadata": {
    "slideshow": {
     "slide_type": "slide"
    }
   },
   "source": [
    "If you can do it with a stack you can probably do it with the call stack."
   ]
  },
  {
   "cell_type": "code",
   "execution_count": 11,
   "id": "80536ddf",
   "metadata": {
    "slideshow": {
     "slide_type": "fragment"
    }
   },
   "outputs": [],
   "source": [
    "template<class T>\n",
    "void dfs_recurse(Node<T>*& node) {\n",
    "    cout << node->value << endl;\n",
    "    for (auto child : node->children) {\n",
    "        dfs_recurse(child);\n",
    "    }\n",
    "}"
   ]
  },
  {
   "cell_type": "code",
   "execution_count": 12,
   "id": "b8b5be4d",
   "metadata": {},
   "outputs": [
    {
     "name": "stdout",
     "output_type": "stream",
     "text": [
      "A\n",
      "B\n",
      "E\n",
      "C\n",
      "F\n",
      "G\n",
      "H\n",
      "D\n"
     ]
    }
   ],
   "source": [
    "dfs_recurse(A)"
   ]
  },
  {
   "cell_type": "markdown",
   "id": "ed680f3c",
   "metadata": {
    "slideshow": {
     "slide_type": "slide"
    }
   },
   "source": [
    "For trees in general, it doesn't matter in which order we visit the children.\n",
    "\n",
    "- In our stack example, we visited the children in reverse order.\n",
    "- In our recursion example, we visited the children in inserted order. \n",
    "\n",
    "However, for some types of trees there may be an order that makes more sense, or is even required.\n",
    "- Stay tuned!"
   ]
  },
  {
   "cell_type": "markdown",
   "id": "3acf3f5f",
   "metadata": {
    "slideshow": {
     "slide_type": "slide"
    }
   },
   "source": [
    "## Breadth-First-Search (BFS)\n",
    "\n",
    "Sometimes you may choose to use a **breadth-first-search**. \n",
    "\n",
    "This means that visit all children of a node before visiting any of the childrens' children."
   ]
  },
  {
   "cell_type": "markdown",
   "id": "a6572c76",
   "metadata": {
    "slideshow": {
     "slide_type": "slide"
    }
   },
   "source": [
    "What is the node ordering you get using BFS on the following tree?\n",
    "\n",
    "<img src=\"tree.png\"/>"
   ]
  },
  {
   "cell_type": "code",
   "execution_count": null,
   "id": "756dcf27",
   "metadata": {
    "slideshow": {
     "slide_type": "skip"
    }
   },
   "outputs": [],
   "source": [
    "%%file tree-bfs.extra\n",
    "    A->B [color=\"red\"]\n",
    "    B->C [color=\"red\"]\n",
    "    C->D [color=\"red\"]\n",
    "    D->E [color=\"red\"]\n",
    "    E->F [color=\"red\"]\n",
    "    F->G [color=\"red\"]\n",
    "    G->H [color=\"red\"]\n",
    "}"
   ]
  },
  {
   "cell_type": "code",
   "execution_count": null,
   "id": "fea250ea",
   "metadata": {
    "slideshow": {
     "slide_type": "skip"
    }
   },
   "outputs": [],
   "source": [
    "! { head -n -1 tree.dot; cat tree-bfs.extra; } | neato -n -Tpng > tree-bfs.png"
   ]
  },
  {
   "cell_type": "markdown",
   "id": "6bd48f39",
   "metadata": {
    "slideshow": {
     "slide_type": "slide"
    }
   },
   "source": [
    "<img src=\"tree-bfs.png\"/>"
   ]
  },
  {
   "cell_type": "markdown",
   "id": "821ca7c6",
   "metadata": {},
   "source": [
    "A, B, C, D, E, F, G, H"
   ]
  },
  {
   "cell_type": "markdown",
   "id": "47258a7a",
   "metadata": {
    "slideshow": {
     "slide_type": "slide"
    }
   },
   "source": [
    "Breadth-first-search has the quality that nodes that are visited first are finished first.\n",
    "\n",
    "What data structure comes to mind when you hear **first in first out**?"
   ]
  },
  {
   "cell_type": "markdown",
   "id": "3382d8a8",
   "metadata": {
    "slideshow": {
     "slide_type": "fragment"
    }
   },
   "source": [
    "A queue!"
   ]
  },
  {
   "cell_type": "code",
   "execution_count": 13,
   "id": "5c2a27e6",
   "metadata": {
    "slideshow": {
     "slide_type": "slide"
    }
   },
   "outputs": [],
   "source": [
    "#include <queue>"
   ]
  },
  {
   "cell_type": "code",
   "execution_count": 14,
   "id": "b4786397",
   "metadata": {},
   "outputs": [],
   "source": [
    "template<class T>\n",
    "void bfs(Node<T>* const& node) {\n",
    "    queue<Node<T>*> nodes;\n",
    "    nodes.push(node);\n",
    "    \n",
    "    while (!nodes.empty()) {\n",
    "        auto & current = nodes.front();\n",
    "        nodes.pop();\n",
    "    \n",
    "        cout << current->value << endl;\n",
    "        for (auto child : current->children) {\n",
    "            nodes.push(child);\n",
    "        }\n",
    "    }\n",
    "}"
   ]
  },
  {
   "cell_type": "code",
   "execution_count": 15,
   "id": "0cb00e7a",
   "metadata": {},
   "outputs": [
    {
     "name": "stdout",
     "output_type": "stream",
     "text": [
      "A\n",
      "B\n",
      "C\n",
      "D\n",
      "E\n",
      "F\n",
      "G\n",
      "H\n"
     ]
    }
   ],
   "source": [
    "bfs(A)"
   ]
  },
  {
   "cell_type": "markdown",
   "id": "49ac1f51",
   "metadata": {
    "slideshow": {
     "slide_type": "fragment"
    }
   },
   "source": [
    "<img src=\"tree-bfs.png\"/>"
   ]
  },
  {
   "cell_type": "markdown",
   "id": "f93cec87",
   "metadata": {
    "slideshow": {
     "slide_type": "slide"
    }
   },
   "source": [
    "## Traversal\n",
    "\n",
    "The process of listing the nodes of a tree is called **traversal**.\n",
    "\n",
    "DFS and BFS are two strategies for traversing a tree. In either case, there is another question to consider:\n",
    "\n",
    "Do you process the current node *before* or *after* you process the children?\n",
    "\n",
    "**Preorder** traversal means that you process a node *before* you process its children.\n",
    "\n",
    "**Postorder** traversal means that you process a node *after* you process its children."
   ]
  },
  {
   "cell_type": "markdown",
   "id": "5d5e5371",
   "metadata": {
    "slideshow": {
     "slide_type": "slide"
    }
   },
   "source": [
    "While in theory there is a postorder BFS traversal, I've never seen it used, so we won't go into it.\n",
    "\n",
    "Unless otherwise specified, **preorder** and **postorder** traversals assume a DFS strategy. \n",
    "\n",
    "The two examples of DFS and BFS we saw previously were preorder traversals."
   ]
  },
  {
   "cell_type": "markdown",
   "id": "c47f8c55",
   "metadata": {
    "slideshow": {
     "slide_type": "slide"
    }
   },
   "source": [
    "What is the DFS postorder traversal of our tree?"
   ]
  },
  {
   "cell_type": "markdown",
   "id": "b9d879e1",
   "metadata": {
    "slideshow": {
     "slide_type": "-"
    }
   },
   "source": [
    "<img src=\"tree.png\"/>"
   ]
  },
  {
   "cell_type": "markdown",
   "id": "ce0540e9",
   "metadata": {
    "slideshow": {
     "slide_type": "fragment"
    }
   },
   "source": [
    "E, B, F, G, H, C, D, A"
   ]
  },
  {
   "cell_type": "code",
   "execution_count": 16,
   "id": "160ea155",
   "metadata": {
    "cell_style": "split",
    "slideshow": {
     "slide_type": "slide"
    }
   },
   "outputs": [],
   "source": [
    "template<class T>\n",
    "void dfs_pre(Node<T>*& node) {\n",
    "    \n",
    "    cout << node->value << endl;\n",
    "    \n",
    "    for (auto child : node->children) {\n",
    "        dfs_pre(child);\n",
    "    }\n",
    "}"
   ]
  },
  {
   "cell_type": "code",
   "execution_count": 17,
   "id": "d7400ae9",
   "metadata": {
    "cell_style": "split"
   },
   "outputs": [],
   "source": [
    "template<class T>\n",
    "void dfs_post(Node<T>*& node) {\n",
    "    \n",
    "    for (auto child : node->children) {\n",
    "        dfs_post(child);\n",
    "    }\n",
    "    \n",
    "    cout << node->value << endl;\n",
    "}"
   ]
  },
  {
   "cell_type": "code",
   "execution_count": 18,
   "id": "b4214fd0",
   "metadata": {
    "cell_style": "split"
   },
   "outputs": [
    {
     "name": "stdout",
     "output_type": "stream",
     "text": [
      "A\n",
      "B\n",
      "E\n",
      "C\n",
      "F\n",
      "G\n",
      "H\n",
      "D\n"
     ]
    }
   ],
   "source": [
    "dfs_pre(A)"
   ]
  },
  {
   "cell_type": "code",
   "execution_count": 19,
   "id": "8c431b14",
   "metadata": {
    "cell_style": "split"
   },
   "outputs": [
    {
     "name": "stdout",
     "output_type": "stream",
     "text": [
      "E\n",
      "B\n",
      "F\n",
      "G\n",
      "H\n",
      "C\n",
      "D\n",
      "A\n"
     ]
    }
   ],
   "source": [
    "dfs_post(A)"
   ]
  },
  {
   "cell_type": "markdown",
   "id": "ec8cb8aa",
   "metadata": {
    "slideshow": {
     "slide_type": "slide"
    }
   },
   "source": [
    "## Trees: Key Ideas\n",
    "\n",
    "- A tree is a collection of nodes (i.e. a *graph*) with directed edges where each node has at most one parent\n",
    "  - A node may have zero to many children\n",
    "- Key terms:\n",
    "  - Root\n",
    "  - Leaf\n",
    "  - Depth\n",
    "  - Height\n",
    "- The order of children to a node may or may not be defined.\n",
    "  - Some specific types of trees have a defined ordering, but the concept of trees in general does not.\n",
    "- The process of visiting each node in a tree is called a search or traversal\n",
    "  - Depth-first-search (DFS) searches children before siblings\n",
    "    - It has a succinct recursive relationship and comes up in many applications\n",
    "  - Breadth-first-search (BFS) searches siblings before children\n",
    "  - Preorder traversal processes the parent before the children\n",
    "  - Postorder traversal processes the children before the parent"
   ]
  },
  {
   "cell_type": "markdown",
   "id": "bd4df938",
   "metadata": {
    "slideshow": {
     "slide_type": "slide"
    }
   },
   "source": [
    "<img src=\"https://imgs.xkcd.com/comics/depth_and_breadth.png?1\" width=\"600\"/>"
   ]
  },
  {
   "attachments": {
    "image.png": {
     "image/png": "[encoded data removed]"
    }
   },
   "cell_type": "markdown",
   "id": "f5cc148d",
   "metadata": {
    "slideshow": {
     "slide_type": "slide"
    }
   },
   "source": [
    "<img src=\"https://imgs.xkcd.com/comics/dfs.png\" />\n",
    "\n",
    "![image.png](attachment:image.png)"
   ]
  }
 ],
 "metadata": {
  "celltoolbar": "Slideshow",
  "kernelspec": {
   "display_name": "C++14",
   "language": "C++14",
   "name": "xcpp14"
  },
  "language_info": {
   "codemirror_mode": "text/x-c++src",
   "file_extension": ".cpp",
   "mimetype": "text/x-c++src",
   "name": "c++",
   "version": "14"
  },
  "toc": {
   "base_numbering": 1,
   "nav_menu": {},
   "number_sections": false,
   "sideBar": true,
   "skip_h1_title": false,
   "title_cell": "Table of Contents",
   "title_sidebar": "Contents",
   "toc_cell": false,
   "toc_position": {
    "height": "calc(100% - 180px)",
    "left": "10px",
    "top": "150px",
    "width": "300px"
   },
   "toc_section_display": true,
   "toc_window_display": false
  }
 },
 "nbformat": 4,
 "nbformat_minor": 5
}
