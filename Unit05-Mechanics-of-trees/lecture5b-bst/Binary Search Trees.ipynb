{
 "cells": [
  {
   "cell_type": "code",
   "execution_count": null,
   "id": "19ed08b2",
   "metadata": {
    "slideshow": {
     "slide_type": "skip"
    }
   },
   "outputs": [],
   "source": [
    "! jupyter nbconvert \"Binary Search Trees.ipynb\" --Exporter.preprocessors jupybeans.RemoveSkip --to html_embed "
   ]
  },
  {
   "cell_type": "markdown",
   "id": "c4dde53f",
   "metadata": {
    "slideshow": {
     "slide_type": "slide"
    }
   },
   "source": [
    "# Binary Search Trees\n",
    "\n",
    "*And all this time I thought \"BST\" stood for some kind of sandwich* 🥪"
   ]
  },
  {
   "cell_type": "markdown",
   "id": "ca0e04b9",
   "metadata": {
    "slideshow": {
     "slide_type": "skip"
    }
   },
   "source": [
    "Binary Search Trees\n",
    "- Only two children, specific meaning\n",
    "- Inorder traversal\n",
    "- Searching for a value\n",
    "- Big O for search"
   ]
  },
  {
   "cell_type": "markdown",
   "id": "3af0d5c0",
   "metadata": {
    "slideshow": {
     "slide_type": "slide"
    }
   },
   "source": [
    "A **Binary Search Tree (BST)** is a tree with a few additional qualities:\n",
    "\n",
    "- There are no duplicate values in the tree\n",
    "- Each node has at most two children:\n",
    "  - A `left` subtree whose maximum value is smaller than the current value\n",
    "  - A `right` subtree whose minimum value is larger than the current value\n"
   ]
  },
  {
   "cell_type": "code",
   "execution_count": null,
   "id": "d16ea9e2",
   "metadata": {
    "slideshow": {
     "slide_type": "skip"
    }
   },
   "outputs": [],
   "source": [
    "%%file build_test.sh\n",
    "cat << EOF > test.txt\n",
    "5 > 3\n",
    "3 > 2\n",
    "3 < 4\n",
    "2 > 1\n",
    "5 < 7\n",
    "7 > 6\n",
    "7 < 9\n",
    "9 > 8\n",
    "EOF\n",
    "python3 ~/projects/btrees/btrees.py test.txt"
   ]
  },
  {
   "cell_type": "markdown",
   "id": "05ceb33c",
   "metadata": {
    "slideshow": {
     "slide_type": "slide"
    }
   },
   "source": [
    "<img src='test.png' />"
   ]
  },
  {
   "cell_type": "markdown",
   "id": "f3d8dc45",
   "metadata": {
    "slideshow": {
     "slide_type": "-"
    }
   },
   "source": [
    "- Each node has at most two children\n",
    "  - The left child is always smaller than the node value\n",
    "  - The right child is always greater than the node value\n",
    "- There are no duplicates"
   ]
  },
  {
   "cell_type": "markdown",
   "id": "dbc6141a",
   "metadata": {},
   "source": [
    "- What is the maximum value of the left subtree of 5?\n",
    "- What is the minimum value of the right subtree of 7?"
   ]
  },
  {
   "cell_type": "markdown",
   "id": "9c9a8dbb",
   "metadata": {
    "slideshow": {
     "slide_type": "slide"
    }
   },
   "source": [
    "## Traversing a BST"
   ]
  },
  {
   "cell_type": "markdown",
   "id": "bb627724",
   "metadata": {},
   "source": [
    "With a generic tree, the order you iterate through children is undefined.\n",
    "\n",
    "For a BST, you always iterate from `left` to `right`."
   ]
  },
  {
   "cell_type": "markdown",
   "id": "7b4bc5aa",
   "metadata": {
    "slideshow": {
     "slide_type": "-"
    }
   },
   "source": [
    "What is the preorder (DFS) traversal of this tree?"
   ]
  },
  {
   "cell_type": "markdown",
   "id": "b4b9a9ba",
   "metadata": {
    "slideshow": {
     "slide_type": "-"
    }
   },
   "source": [
    "<img src='test.png' />"
   ]
  },
  {
   "cell_type": "markdown",
   "id": "e86632c4",
   "metadata": {
    "slideshow": {
     "slide_type": "fragment"
    }
   },
   "source": [
    "5, 3, 2, 1, 4, 7, 6, 9, 8"
   ]
  },
  {
   "cell_type": "markdown",
   "id": "3d54d82d",
   "metadata": {
    "slideshow": {
     "slide_type": "slide"
    }
   },
   "source": [
    "What is the postorder (DFS) traversal of this tree?"
   ]
  },
  {
   "cell_type": "markdown",
   "id": "12a921e6",
   "metadata": {
    "slideshow": {
     "slide_type": "-"
    }
   },
   "source": [
    "<img src='test.png' />"
   ]
  },
  {
   "cell_type": "markdown",
   "id": "3cf2f3d4",
   "metadata": {
    "slideshow": {
     "slide_type": "fragment"
    }
   },
   "source": [
    "1, 2, 4, 3, 6, 8, 9, 7, 5"
   ]
  },
  {
   "cell_type": "markdown",
   "id": "c421558d",
   "metadata": {
    "slideshow": {
     "slide_type": "slide"
    }
   },
   "source": [
    "With BSTs, there is another kind of traversal available: **in-order** (a.k.a *inorder*)\n",
    "\n",
    "You process the left child before the node before the right child.\n",
    "\n",
    "I.E. `left`, `this`, `right`"
   ]
  },
  {
   "cell_type": "markdown",
   "id": "3862cc89",
   "metadata": {
    "slideshow": {
     "slide_type": "slide"
    }
   },
   "source": [
    "What is the inorder traversal of our binary tree?"
   ]
  },
  {
   "cell_type": "markdown",
   "id": "7202c243",
   "metadata": {
    "slideshow": {
     "slide_type": "-"
    }
   },
   "source": [
    "<img src='test.png' />"
   ]
  },
  {
   "cell_type": "markdown",
   "id": "4f4deebf",
   "metadata": {
    "slideshow": {
     "slide_type": "fragment"
    }
   },
   "source": [
    "1, 2, 3, 4, 5, 6, 7, 8, 9"
   ]
  },
  {
   "cell_type": "markdown",
   "id": "c517403a",
   "metadata": {
    "slideshow": {
     "slide_type": "fragment"
    }
   },
   "source": [
    "<div class='big centered' style='font-size: 100pt'> 🤯 </div>"
   ]
  },
  {
   "cell_type": "markdown",
   "id": "262a9c5e",
   "metadata": {
    "slideshow": {
     "slide_type": "fragment"
    }
   },
   "source": [
    "<div class='big centered' style='font-size: 100pt'> 😮 🤯 🤭 🤔 😵 😶‍🌫️ 😴 </div>"
   ]
  },
  {
   "cell_type": "markdown",
   "id": "41bb1c73",
   "metadata": {
    "slideshow": {
     "slide_type": "slide"
    }
   },
   "source": [
    "## Code"
   ]
  },
  {
   "cell_type": "code",
   "execution_count": 1,
   "id": "677c6666",
   "metadata": {},
   "outputs": [],
   "source": [
    "#include <string>\n",
    "using std::string;\n",
    "\n",
    "#include <iostream>\n",
    "using std::cout, std::endl;\n",
    "\n",
    "#include <sstream>\n",
    "using std::stringstream;\n",
    "\n",
    "#include <vector>\n",
    "using std::vector;"
   ]
  },
  {
   "cell_type": "code",
   "execution_count": 2,
   "id": "e4ac8e6a",
   "metadata": {
    "slideshow": {
     "slide_type": "slide"
    }
   },
   "outputs": [],
   "source": [
    "template<class T>\n",
    "struct Node {\n",
    "    T value;\n",
    "    Node<T>* left;\n",
    "    Node<T>* right;\n",
    "    Node(T value) : value(value), left(nullptr), right(nullptr) {}\n",
    "};"
   ]
  },
  {
   "cell_type": "code",
   "execution_count": 3,
   "id": "3521be70",
   "metadata": {
    "slideshow": {
     "slide_type": "slide"
    }
   },
   "outputs": [],
   "source": [
    "template<class T>\n",
    "void _inorder_to_string(Node<T>* const& node, string const& prefix, vector<string>& lines) {\n",
    "    if (node == nullptr) {\n",
    "        return;\n",
    "    }\n",
    "    \n",
    "    // Print left\n",
    "    _inorder_to_string(node->left, prefix + \"  \", lines);\n",
    "    \n",
    "    // Print node\n",
    "    stringstream ss;\n",
    "    ss << prefix << node->value;\n",
    "    lines.push_back(ss.str());\n",
    "    \n",
    "    // Print right\n",
    "    _inorder_to_string(node->right, prefix + \"  \", lines);\n",
    "}\n",
    "\n",
    "\n",
    "template<class T>\n",
    "string inorder_to_string(Node<T>* const& node) {\n",
    "    vector<string> lines;\n",
    "    _inorder_to_string(node, \"\", lines);\n",
    "    \n",
    "    // Transpose!\n",
    "    int max_len = 0;\n",
    "    for (auto line : lines) {\n",
    "        max_len = (max_len < line.length()) ? line.length() : max_len;\n",
    "    }\n",
    "    \n",
    "    char** out = new char*[max_len];\n",
    "    for (int i = 0; i < max_len; i++) {\n",
    "        out[i] = new char[lines.size()];\n",
    "    }\n",
    "    \n",
    "    stringstream ss;\n",
    "    for (int i = 0; i < max_len; i++) {\n",
    "        for (int j = 0; j < lines.size(); j++) {\n",
    "            if (i < lines[j].length()) {\n",
    "                ss << lines[j][i];\n",
    "            } else {\n",
    "                ss << ' ';\n",
    "            }\n",
    "        }\n",
    "        ss << endl;\n",
    "    }\n",
    "    \n",
    "    return ss.str();\n",
    "}"
   ]
  },
  {
   "cell_type": "code",
   "execution_count": 4,
   "id": "77d8cfc9",
   "metadata": {},
   "outputs": [],
   "source": [
    "template<class T>\n",
    "void print_inorder(Node<T>* const& node) {\n",
    "    cout << inorder_to_string(node) << endl;\n",
    "}"
   ]
  },
  {
   "cell_type": "code",
   "execution_count": 5,
   "id": "b603e6e2",
   "metadata": {
    "slideshow": {
     "slide_type": "slide"
    }
   },
   "outputs": [],
   "source": [
    "Node<string>* M = new Node<string>(\"M\");\n",
    "\n",
    "M->left = new Node<string>(\"G\");\n",
    "M->left->left = new Node<string>(\"A\");\n",
    "M->left->right = new Node<string>(\"J\");\n",
    "\n",
    "M->right = new Node<string>(\"T\");\n",
    "M->right->left = new Node<string>(\"Q\");"
   ]
  },
  {
   "cell_type": "code",
   "execution_count": 6,
   "id": "34bed7b5",
   "metadata": {},
   "outputs": [
    {
     "name": "stdout",
     "output_type": "stream",
     "text": [
      "   M  \n",
      "      \n",
      " G   T\n",
      "      \n",
      "A J Q \n",
      "\n"
     ]
    }
   ],
   "source": [
    "print_inorder(M)"
   ]
  },
  {
   "cell_type": "markdown",
   "id": "ccac9544",
   "metadata": {
    "slideshow": {
     "slide_type": "slide"
    }
   },
   "source": [
    "## How can we tell if a value is in our BST?"
   ]
  },
  {
   "cell_type": "markdown",
   "id": "66af5e94",
   "metadata": {
    "slideshow": {
     "slide_type": "fragment"
    }
   },
   "source": [
    "Perform a depth-first-search!\n",
    "\n",
    "- If the current node value is the search value, return true.\n",
    "- If the search value is less than our current value, search the left subtree.\n",
    "- If the search value is greater than our current value, search the right subtree.\n",
    "- If I'm supposed to search the left or right subtree but there is no node there, return false."
   ]
  },
  {
   "cell_type": "markdown",
   "id": "d356bac3",
   "metadata": {
    "slideshow": {
     "slide_type": "fragment"
    }
   },
   "source": [
    "- What is my base case?\n",
    "- Do we progress towards the base case?\n",
    "- Is the induction correct?"
   ]
  },
  {
   "cell_type": "markdown",
   "id": "5f255f72",
   "metadata": {
    "slideshow": {
     "slide_type": "slide"
    }
   },
   "source": [
    "- What is my base case?\n",
    "  - If the current node is the search value\n",
    "  - If I'm supposed to recurse but there is no node to recurse onto\n",
    "- Do we progress towards the base case?\n",
    "  - Yes, at each step I move further down the tree.\n",
    "  - At some point I'll find my value or run out of tree.\n",
    "- Is the induction correct?\n",
    "  - If the search value is equal to the current value I'm done.\n",
    "  - Every value in the left subtree is less than the current value.\n",
    "  - Every value in the right subtree is greater than the current value.\n",
    "  - If the search value is greater than the current value, then if it is in the tree it will be found in the right subtree and we continue our search there.\n",
    "    - Symmetric logic for the left side\n",
    "  - So, if the problem isn't solved on step $k$, we progress towards a solution with step $k+1$.\n"
   ]
  },
  {
   "cell_type": "code",
   "execution_count": 7,
   "id": "eda14a83",
   "metadata": {
    "slideshow": {
     "slide_type": "slide"
    }
   },
   "outputs": [],
   "source": [
    "template<class T>\n",
    "Node<T>* search_bst(Node<T>* const& node, T item) {\n",
    "    // If current node is null or the value is the same, return current\n",
    "    if (node == nullptr || node->value == item) {\n",
    "        return node;\n",
    "    }\n",
    "    \n",
    "    // Check left\n",
    "    if (item < node->value) {\n",
    "        return search_bst(node->left, item);\n",
    "    } else {\n",
    "        // Check right\n",
    "        return search_bst(node->right, item);\n",
    "    }\n",
    "}"
   ]
  },
  {
   "cell_type": "code",
   "execution_count": 9,
   "id": "2e9d22af",
   "metadata": {},
   "outputs": [
    {
     "name": "stdout",
     "output_type": "stream",
     "text": [
      "nullptr\n"
     ]
    }
   ],
   "source": [
    "auto node = search_bst<string>(M, \"Z\");\n",
    "\n",
    "if (node != nullptr) {\n",
    "    cout << node->value << endl;\n",
    "} else {\n",
    "    cout << \"nullptr\" << endl;\n",
    "}"
   ]
  },
  {
   "cell_type": "markdown",
   "id": "3457e13a",
   "metadata": {
    "slideshow": {
     "slide_type": "slide"
    }
   },
   "source": [
    "## BST Big O\n",
    "\n",
    "What is the Big-O for BST search?"
   ]
  },
  {
   "cell_type": "markdown",
   "id": "6fbc3671",
   "metadata": {
    "slideshow": {
     "slide_type": "fragment"
    }
   },
   "source": [
    "At each step we cut out half of the search values.\n",
    "\n",
    "How many times can I cut $n$ values in half before I run out of values?\n",
    "\n",
    "$O(\\log n)$"
   ]
  },
  {
   "cell_type": "markdown",
   "id": "646c5f66",
   "metadata": {
    "slideshow": {
     "slide_type": "slide"
    }
   },
   "source": [
    "We've observed the following properties about BSTs:\n",
    "\n",
    "- $O(\\log n)$ search time\n",
    "- Does not permit duplicate values\n",
    "- Prints out contents in sorted order (using the inorder traversal)\n",
    "\n",
    "What data structure have we seen with these qualities?"
   ]
  },
  {
   "cell_type": "markdown",
   "id": "ab6fa653",
   "metadata": {
    "slideshow": {
     "slide_type": "fragment"
    }
   },
   "source": [
    "A **set**!"
   ]
  },
  {
   "cell_type": "markdown",
   "id": "8e09be62",
   "metadata": {
    "slideshow": {
     "slide_type": "fragment"
    }
   },
   "source": [
    "<div style='font-size: 200px'> 🤯 </div>"
   ]
  },
  {
   "cell_type": "markdown",
   "id": "b17deb76",
   "metadata": {
    "slideshow": {
     "slide_type": "slide"
    }
   },
   "source": [
    "Sets (i.e. *ordered* sets) are implemented with a BST.\n",
    "\n",
    "But wait, you say.\n",
    "\n",
    "You can add and remove items from a set. How do we add to and remove from a BST?"
   ]
  },
  {
   "cell_type": "markdown",
   "id": "a428e1b6",
   "metadata": {
    "slideshow": {
     "slide_type": "slide"
    }
   },
   "source": [
    "## Adding Items to a BST"
   ]
  },
  {
   "cell_type": "markdown",
   "id": "3d73fecd",
   "metadata": {
    "slideshow": {
     "slide_type": "slide"
    }
   },
   "source": [
    "- Let the root be the current node.\n",
    "- While the current node is not null:\n",
    "  - If the item is equal to the current node value, return false (item not added)\n",
    "  - If the item is greater than the current node value, let current = current.right\n",
    "  - If the item is less than the current node value, let current == current.left\n",
    "- Insert the item at the current location"
   ]
  },
  {
   "cell_type": "code",
   "execution_count": null,
   "id": "873d345b",
   "metadata": {
    "slideshow": {
     "slide_type": "skip"
    }
   },
   "outputs": [],
   "source": [
    "%%file build_first.sh\n",
    "cat << EOF > first.txt\n",
    "5 > 3\n",
    "3 < 4\n",
    "5 < 7\n",
    "EOF\n",
    "python3 ~/projects/btrees/btrees.py first.txt"
   ]
  },
  {
   "cell_type": "markdown",
   "id": "c0902a3c",
   "metadata": {
    "slideshow": {
     "slide_type": "slide"
    }
   },
   "source": [
    "What do I get when I insert 2?"
   ]
  },
  {
   "cell_type": "markdown",
   "id": "ff010973",
   "metadata": {
    "slideshow": {
     "slide_type": "-"
    }
   },
   "source": [
    "<img src=\"first.png\"/>"
   ]
  },
  {
   "cell_type": "code",
   "execution_count": null,
   "id": "5301a1d8",
   "metadata": {
    "slideshow": {
     "slide_type": "skip"
    }
   },
   "outputs": [],
   "source": [
    "%%file build_first_p2.sh\n",
    "cat << EOF > first_p2.txt\n",
    "5 > 3\n",
    "3 < 4\n",
    "5 < 7\n",
    "3 > 2\n",
    "EOF\n",
    "python3 ~/projects/btrees/btrees.py first_p2.txt"
   ]
  },
  {
   "cell_type": "markdown",
   "id": "61b64106",
   "metadata": {
    "slideshow": {
     "slide_type": "slide"
    }
   },
   "source": [
    "- 2 < 5, go left\n",
    "- 2 < 3, go left\n",
    "- No node here, add it!\n",
    "\n",
    "<img src=\"first_p2.png\"/>"
   ]
  },
  {
   "cell_type": "markdown",
   "id": "bfe7e0c7",
   "metadata": {
    "slideshow": {
     "slide_type": "fragment"
    }
   },
   "source": [
    "What happens when I insert 8?"
   ]
  },
  {
   "cell_type": "code",
   "execution_count": null,
   "id": "03c1158f",
   "metadata": {
    "slideshow": {
     "slide_type": "skip"
    }
   },
   "outputs": [],
   "source": [
    "%%file build_first_p2_p8.sh\n",
    "cat << EOF > first_p2_p8.txt\n",
    "5 > 3\n",
    "3 < 4\n",
    "5 < 7\n",
    "3 > 2\n",
    "7 < 8\n",
    "EOF\n",
    "python3 ~/projects/btrees/btrees.py first_p2_p8.txt"
   ]
  },
  {
   "cell_type": "markdown",
   "id": "4a14efe8",
   "metadata": {
    "slideshow": {
     "slide_type": "slide"
    }
   },
   "source": [
    "- 8 > 5, go right\n",
    "- 8 > 7, go right\n",
    "- No node here, add it!\n",
    "\n",
    "<img src=\"first_p2_p8.png\"/>"
   ]
  },
  {
   "cell_type": "markdown",
   "id": "15e66479",
   "metadata": {
    "slideshow": {
     "slide_type": "fragment"
    }
   },
   "source": [
    "What happens when I insert 4?"
   ]
  },
  {
   "cell_type": "markdown",
   "id": "699f70d7",
   "metadata": {
    "slideshow": {
     "slide_type": "fragment"
    }
   },
   "source": [
    "- 4 < 5, go left\n",
    "- 4 > 3, go right\n",
    "- 4 == 4, return false"
   ]
  },
  {
   "cell_type": "code",
   "execution_count": 10,
   "id": "5299314f",
   "metadata": {
    "slideshow": {
     "slide_type": "slide"
    }
   },
   "outputs": [],
   "source": [
    "template<class T>\n",
    "bool add(Node<T>*& node, T item) {\n",
    "    if (node == nullptr) {\n",
    "        node = new Node<T>(item);\n",
    "        return true;\n",
    "    }\n",
    "    if (node->value == item) {\n",
    "        return false;\n",
    "    }\n",
    "    if (item < node->value) {\n",
    "        return add(node->left, item);\n",
    "    } else {\n",
    "        return add(node->right, item);\n",
    "    }\n",
    "}"
   ]
  },
  {
   "cell_type": "code",
   "execution_count": 11,
   "id": "e1b0530d",
   "metadata": {
    "slideshow": {
     "slide_type": "slide"
    }
   },
   "outputs": [
    {
     "name": "stdout",
     "output_type": "stream",
     "text": [
      "   M  \n",
      "      \n",
      " G   T\n",
      "      \n",
      "A J Q \n",
      "\n"
     ]
    }
   ],
   "source": [
    "print_inorder(M)"
   ]
  },
  {
   "cell_type": "code",
   "execution_count": 12,
   "id": "e977a0c7",
   "metadata": {
    "slideshow": {
     "slide_type": "-"
    }
   },
   "outputs": [
    {
     "data": {
      "text/plain": [
       "true"
      ]
     },
     "execution_count": 12,
     "metadata": {},
     "output_type": "execute_result"
    }
   ],
   "source": [
    "add<string>(M, \"Z\")"
   ]
  },
  {
   "cell_type": "code",
   "execution_count": 13,
   "id": "dd54f95c",
   "metadata": {},
   "outputs": [
    {
     "data": {
      "text/plain": [
       "false"
      ]
     },
     "execution_count": 13,
     "metadata": {},
     "output_type": "execute_result"
    }
   ],
   "source": [
    "add<string>(M, \"Z\")"
   ]
  },
  {
   "cell_type": "code",
   "execution_count": 14,
   "id": "6c464da1",
   "metadata": {},
   "outputs": [
    {
     "data": {
      "text/plain": [
       "true"
      ]
     },
     "execution_count": 14,
     "metadata": {},
     "output_type": "execute_result"
    }
   ],
   "source": [
    "add<string>(M, \"a\")"
   ]
  },
  {
   "cell_type": "code",
   "execution_count": 15,
   "id": "3b3ab107",
   "metadata": {},
   "outputs": [
    {
     "name": "stdout",
     "output_type": "stream",
     "text": [
      "   M    \n",
      "        \n",
      " G   T  \n",
      "        \n",
      "A J Q Z \n",
      "        \n",
      "       a\n",
      "\n"
     ]
    }
   ],
   "source": [
    "print_inorder(M)"
   ]
  },
  {
   "cell_type": "markdown",
   "id": "89e534eb",
   "metadata": {
    "slideshow": {
     "slide_type": "slide"
    }
   },
   "source": [
    "### Big-O for Add\n",
    "\n",
    "What is the big-O complexity for add?"
   ]
  },
  {
   "cell_type": "markdown",
   "id": "cbb28e68",
   "metadata": {
    "slideshow": {
     "slide_type": "fragment"
    }
   },
   "source": [
    "At each iteration, I halve the size of the tree I still need to search, so $O(\\log n)$"
   ]
  },
  {
   "cell_type": "markdown",
   "id": "abbe9863",
   "metadata": {
    "slideshow": {
     "slide_type": "slide"
    }
   },
   "source": [
    "### Can I use a BST to sort and find data?\n",
    "\n",
    "Sure!\n",
    "\n",
    "What would the big-O complexity be for such an algorithm?"
   ]
  },
  {
   "cell_type": "markdown",
   "id": "7af11289",
   "metadata": {
    "slideshow": {
     "slide_type": "fragment"
    }
   },
   "source": [
    "Time to add an item: $O(\\log n)$\n",
    "\n",
    "How many items to I have to add? $O(n)$\n",
    "\n",
    "Total complexity: $O(n \\log n)$"
   ]
  },
  {
   "cell_type": "markdown",
   "id": "75936559",
   "metadata": {
    "slideshow": {
     "slide_type": "slide"
    }
   },
   "source": [
    "### Key Ideas\n",
    "\n",
    "- Adding a node preserves the structure of the BST\n",
    "- Adding a node takes $O(\\log n)$ time\n"
   ]
  },
  {
   "cell_type": "markdown",
   "id": "c444d2f2",
   "metadata": {
    "slideshow": {
     "slide_type": "slide"
    }
   },
   "source": [
    "## Removing from a BST"
   ]
  },
  {
   "cell_type": "markdown",
   "id": "0aed1290",
   "metadata": {
    "slideshow": {
     "slide_type": "fragment"
    }
   },
   "source": [
    "<img src=\"first_p2_p8.png\"/>"
   ]
  },
  {
   "cell_type": "markdown",
   "id": "73d7f425",
   "metadata": {
    "slideshow": {
     "slide_type": "fragment"
    }
   },
   "source": [
    "If I want to remove 4, what do I do?"
   ]
  },
  {
   "cell_type": "markdown",
   "id": "42e4bf55",
   "metadata": {
    "slideshow": {
     "slide_type": "fragment"
    }
   },
   "source": [
    "- Find 4, delete it, and set 3->right to `nullptr`"
   ]
  },
  {
   "cell_type": "markdown",
   "id": "836e64ef",
   "metadata": {
    "slideshow": {
     "slide_type": "fragment"
    }
   },
   "source": [
    "What if I want to remove 7?"
   ]
  },
  {
   "cell_type": "markdown",
   "id": "6ef204ae",
   "metadata": {
    "slideshow": {
     "slide_type": "fragment"
    }
   },
   "source": [
    "- Find 7, delete it, and have 5 point to 8."
   ]
  },
  {
   "cell_type": "markdown",
   "id": "eadcc486",
   "metadata": {
    "slideshow": {
     "slide_type": "slide"
    }
   },
   "source": [
    "<img src=\"first_p2_p8.png\"/>"
   ]
  },
  {
   "cell_type": "markdown",
   "id": "b62f57ec",
   "metadata": {
    "slideshow": {
     "slide_type": "-"
    }
   },
   "source": [
    "What if I want to delete 3?\n",
    "\n",
    "Which node should take its place?"
   ]
  },
  {
   "cell_type": "markdown",
   "id": "29583f2e",
   "metadata": {
    "slideshow": {
     "slide_type": "fragment"
    }
   },
   "source": [
    "What if I want to delete 5?\n",
    "\n",
    "Which node should take its place?"
   ]
  },
  {
   "cell_type": "markdown",
   "id": "7687a344",
   "metadata": {
    "slideshow": {
     "slide_type": "fragment"
    }
   },
   "source": [
    "- When a node has no children, it's easy: just delete the node.\n",
    "- When a node has only one child, it's easy: just replace the node with the child.\n",
    "- When a node has two children (and possibly decendents!), we need a little more decision making."
   ]
  },
  {
   "cell_type": "markdown",
   "id": "a0da94f1",
   "metadata": {
    "slideshow": {
     "slide_type": "slide"
    }
   },
   "source": [
    "### Inorder Predecessor"
   ]
  },
  {
   "cell_type": "markdown",
   "id": "41ff20ac",
   "metadata": {},
   "source": [
    "When removing a node with two children, we want to replace the node with the **inorder predecessor**.\n",
    "\n",
    "I.E the node that would come immediately before the removed node in an inorder traversal.\n",
    "\n",
    "**The inorder predecessor is the largest node in the left subtree.**"
   ]
  },
  {
   "cell_type": "code",
   "execution_count": null,
   "id": "26032b90",
   "metadata": {
    "slideshow": {
     "slide_type": "skip"
    }
   },
   "outputs": [],
   "source": [
    "%%file build_big.sh\n",
    "cat << EOF > big.txt\n",
    "10 > 6\n",
    "6 > 3\n",
    "3 > 1\n",
    "3 < 4\n",
    "4 < 5\n",
    "1 < 2\n",
    "1 > 0\n",
    "    \n",
    "6 < 8\n",
    "8 > 7\n",
    "    \n",
    "10 < 15\n",
    "15 > 12\n",
    "12 < 14\n",
    "14 > 13\n",
    "\n",
    "15 < 18\n",
    "18 > 17\n",
    "17 > 16\n",
    "18 < 19\n",
    "EOF\n",
    "python3 ~/projects/btrees/btrees.py big.txt"
   ]
  },
  {
   "cell_type": "markdown",
   "id": "1eed3310",
   "metadata": {
    "slideshow": {
     "slide_type": "slide"
    }
   },
   "source": [
    "<img src=\"big.png\"/>"
   ]
  },
  {
   "cell_type": "markdown",
   "id": "b7e51e75",
   "metadata": {
    "slideshow": {
     "slide_type": "fragment"
    }
   },
   "source": [
    "What is the inorder predecessor for 1?"
   ]
  },
  {
   "cell_type": "markdown",
   "id": "a620f3d9",
   "metadata": {
    "slideshow": {
     "slide_type": "fragment"
    }
   },
   "source": [
    "**0**"
   ]
  },
  {
   "cell_type": "markdown",
   "id": "896e667b",
   "metadata": {
    "slideshow": {
     "slide_type": "fragment"
    }
   },
   "source": [
    "What is the inorder predecessor for 3?"
   ]
  },
  {
   "cell_type": "markdown",
   "id": "0df43db2",
   "metadata": {
    "slideshow": {
     "slide_type": "fragment"
    }
   },
   "source": [
    "**2**"
   ]
  },
  {
   "cell_type": "markdown",
   "id": "a77976ca",
   "metadata": {
    "slideshow": {
     "slide_type": "fragment"
    }
   },
   "source": [
    "What is the inorder predecessor for 6?"
   ]
  },
  {
   "cell_type": "markdown",
   "id": "79b0e1b2",
   "metadata": {
    "slideshow": {
     "slide_type": "fragment"
    }
   },
   "source": [
    "**5**"
   ]
  },
  {
   "cell_type": "markdown",
   "id": "6cf81460",
   "metadata": {
    "slideshow": {
     "slide_type": "fragment"
    }
   },
   "source": [
    "What is the inorder predecessor for 15?"
   ]
  },
  {
   "cell_type": "markdown",
   "id": "e4e58c7b",
   "metadata": {
    "slideshow": {
     "slide_type": "fragment"
    }
   },
   "source": [
    "**14**"
   ]
  },
  {
   "cell_type": "markdown",
   "id": "e4623937",
   "metadata": {
    "slideshow": {
     "slide_type": "fragment"
    }
   },
   "source": [
    "What is the inorder predecessor for 10?"
   ]
  },
  {
   "cell_type": "markdown",
   "id": "e169dfcd",
   "metadata": {
    "slideshow": {
     "slide_type": "fragment"
    }
   },
   "source": [
    "**8**"
   ]
  },
  {
   "cell_type": "code",
   "execution_count": 16,
   "id": "364f3a59",
   "metadata": {
    "slideshow": {
     "slide_type": "slide"
    }
   },
   "outputs": [],
   "source": [
    "template<class T>\n",
    "Node<T>* inorder_predecessor(Node<T>* const& node) {\n",
    "    // Pass in the node, not the left child\n",
    "    Node<T>* iop = node->left;\n",
    "    while (iop->right != nullptr) {\n",
    "        iop = iop->right;\n",
    "    }\n",
    "    return iop;\n",
    "}"
   ]
  },
  {
   "cell_type": "code",
   "execution_count": 17,
   "id": "2f239e6a",
   "metadata": {},
   "outputs": [
    {
     "name": "stdout",
     "output_type": "stream",
     "text": [
      "   M    \n",
      "        \n",
      " G   T  \n",
      "        \n",
      "A J Q Z \n",
      "        \n",
      "       a\n",
      "\n"
     ]
    }
   ],
   "source": [
    "print_inorder(M)"
   ]
  },
  {
   "cell_type": "code",
   "execution_count": 18,
   "id": "a0238cc4",
   "metadata": {},
   "outputs": [
    {
     "name": "stdout",
     "output_type": "stream",
     "text": [
      "J\n"
     ]
    }
   ],
   "source": [
    "auto node = inorder_predecessor(M);\n",
    "cout << node->value << endl;"
   ]
  },
  {
   "cell_type": "markdown",
   "id": "94e16f16",
   "metadata": {
    "slideshow": {
     "slide_type": "slide"
    }
   },
   "source": [
    "## Removing from a BST"
   ]
  },
  {
   "cell_type": "markdown",
   "id": "6408c967",
   "metadata": {
    "slideshow": {
     "slide_type": "-"
    }
   },
   "source": [
    "```\n",
    "bool remove(node, value):\n",
    "    if node is null, return false\n",
    "    \n",
    "    if node->value == value:\n",
    "        if node->left == null:\n",
    "            node = node->right\n",
    "```\n",
    "```\n",
    "        else if node->right == null:\n",
    "            node = node->left\n",
    "        else:\n",
    "            iop = get_inorder_predecessor(node)\n",
    "            node->value = iop->value\n",
    "            remove(node->left, iop->value)\n",
    "        return true\n",
    "```\n",
    "```\n",
    "    else if value < node->value:\n",
    "        return remove(node->left, value)\n",
    "        \n",
    "    else:\n",
    "        return remove(node->right, value)\n",
    "```        "
   ]
  },
  {
   "cell_type": "markdown",
   "id": "4e5e7c65",
   "metadata": {
    "slideshow": {
     "slide_type": "slide"
    }
   },
   "source": [
    "What will the tree look like after removing **17**?"
   ]
  },
  {
   "cell_type": "markdown",
   "id": "3954fdc5",
   "metadata": {
    "slideshow": {
     "slide_type": "-"
    }
   },
   "source": [
    "<img src=\"big.png\"/>"
   ]
  },
  {
   "cell_type": "code",
   "execution_count": null,
   "id": "817ecf37",
   "metadata": {
    "slideshow": {
     "slide_type": "skip"
    }
   },
   "outputs": [],
   "source": [
    "%%file build_big_no17.sh\n",
    "cat << EOF > big_no17.txt\n",
    "10 > 6\n",
    "6 > 3\n",
    "3 > 1\n",
    "3 < 4\n",
    "4 < 5\n",
    "1 < 2\n",
    "1 > 0\n",
    "    \n",
    "6 < 8\n",
    "8 > 7\n",
    "    \n",
    "10 < 14\n",
    "14 > 12\n",
    "12 < 13\n",
    "\n",
    "14 < 18\n",
    "18 > 16\n",
    "18 < 19\n",
    "EOF\n",
    "python3 ~/projects/btrees/btrees.py big_no17.txt"
   ]
  },
  {
   "cell_type": "markdown",
   "id": "4cebaeb8",
   "metadata": {
    "slideshow": {
     "slide_type": "fragment"
    }
   },
   "source": [
    "<img src=\"big_no17.png\" />"
   ]
  },
  {
   "cell_type": "markdown",
   "id": "b841aa0a",
   "metadata": {
    "slideshow": {
     "slide_type": "slide"
    }
   },
   "source": [
    "What will the tree look like after removing **6**?"
   ]
  },
  {
   "cell_type": "markdown",
   "id": "ed5daf3a",
   "metadata": {
    "slideshow": {
     "slide_type": "-"
    }
   },
   "source": [
    "<img src=\"big.png\"/>"
   ]
  },
  {
   "cell_type": "code",
   "execution_count": null,
   "id": "63d9589c",
   "metadata": {
    "slideshow": {
     "slide_type": "skip"
    }
   },
   "outputs": [],
   "source": [
    "%%file build_big_6.sh\n",
    "rm -f big_6.png\n",
    "cat big.txt.dot | sed -e 's/}/  n5 -> n6 [color=\"red\"]\\n}/' | neato -Tpng > big_6.png"
   ]
  },
  {
   "cell_type": "markdown",
   "id": "ab31f9ba",
   "metadata": {
    "slideshow": {
     "slide_type": "fragment"
    }
   },
   "source": [
    "<img src=\"big_6.png\" />"
   ]
  },
  {
   "cell_type": "code",
   "execution_count": null,
   "id": "2953b3c1",
   "metadata": {
    "slideshow": {
     "slide_type": "skip"
    }
   },
   "outputs": [],
   "source": [
    "%%file build_big_no6.sh\n",
    "cat << EOF > big_no6.txt\n",
    "10 > 5\n",
    "5 > 3\n",
    "3 > 1\n",
    "3 < 4\n",
    "1 < 2\n",
    "1 > 0\n",
    "    \n",
    "5 < 8\n",
    "8 > 7\n",
    "    \n",
    "10 < 14\n",
    "14 > 12\n",
    "12 < 13\n",
    "\n",
    "14 < 18\n",
    "18 > 17\n",
    "17 > 16\n",
    "18 < 19\n",
    "EOF\n",
    "python3 ~/projects/btrees/btrees.py big_no6.txt"
   ]
  },
  {
   "cell_type": "markdown",
   "id": "b1f658f3",
   "metadata": {},
   "source": [
    "<img src=\"big_no6.png\" />"
   ]
  },
  {
   "cell_type": "markdown",
   "id": "3fba994c",
   "metadata": {
    "slideshow": {
     "slide_type": "slide"
    }
   },
   "source": [
    "What will the tree look like after removing **15**?"
   ]
  },
  {
   "cell_type": "markdown",
   "id": "022d8ad5",
   "metadata": {
    "slideshow": {
     "slide_type": "-"
    }
   },
   "source": [
    "<img src=\"big.png\"/>"
   ]
  },
  {
   "cell_type": "code",
   "execution_count": null,
   "id": "42be7cd9",
   "metadata": {
    "slideshow": {
     "slide_type": "skip"
    }
   },
   "outputs": [],
   "source": [
    "%%file build_big_14.sh\n",
    "rm -f big_14.png\n",
    "cat big.txt.dot | sed -e 's/}/  n14 -> n15 [color=\"red\"]\\n}/' | neato -Tpng > big_14.png"
   ]
  },
  {
   "cell_type": "markdown",
   "id": "1341f3cf",
   "metadata": {
    "slideshow": {
     "slide_type": "fragment"
    }
   },
   "source": [
    "<img src=\"big_14.png\" />"
   ]
  },
  {
   "cell_type": "code",
   "execution_count": null,
   "id": "df14b1e2",
   "metadata": {
    "slideshow": {
     "slide_type": "skip"
    }
   },
   "outputs": [],
   "source": [
    "%%file build_big_no15.sh\n",
    "cat << EOF > big_no15.txt\n",
    "10 > 6\n",
    "6 > 3\n",
    "3 > 1\n",
    "3 < 4\n",
    "4 < 5\n",
    "1 < 2\n",
    "1 > 0\n",
    "    \n",
    "6 < 8\n",
    "8 > 7\n",
    "    \n",
    "10 < 14\n",
    "14 > 12\n",
    "12 < 13\n",
    "\n",
    "14 < 18\n",
    "18 > 17\n",
    "17 > 16\n",
    "18 < 19\n",
    "EOF\n",
    "python3 ~/projects/btrees/btrees.py big_no15.txt"
   ]
  },
  {
   "cell_type": "markdown",
   "id": "2c030b22",
   "metadata": {},
   "source": [
    "<img src=\"big_no15.png\" />"
   ]
  },
  {
   "cell_type": "code",
   "execution_count": null,
   "id": "4fa86184",
   "metadata": {
    "slideshow": {
     "slide_type": "skip"
    }
   },
   "outputs": [],
   "source": [
    "template<class T>\n",
    "bool remove(Node<T>*& node, T item) {\n",
    "    if (node == nullptr) {\n",
    "        return false;\n",
    "    }\n",
    "    if (node->value == item) {\n",
    "        if (node->left == nullptr) {\n",
    "            auto tmp = node;\n",
    "            node = node->right;\n",
    "            delete tmp;\n",
    "        } else if (node->right == nullptr) {\n",
    "            auto tmp = node;\n",
    "            node = node->left;\n",
    "            delete tmp;\n",
    "        } else {\n",
    "            Node<T>* iOP = getInorderPredecessor(node->left);\n",
    "            node->value = iOP->value;\n",
    "            remove(node->left, iOP->value);\n",
    "        }\n",
    "        return true;\n",
    "    }\n",
    "    if (item < node->value) {\n",
    "        return remove(node->left, item);\n",
    "    } else {\n",
    "        return remove(node->right, item);\n",
    "    }\n",
    "}"
   ]
  },
  {
   "cell_type": "markdown",
   "id": "1c033685",
   "metadata": {
    "slideshow": {
     "slide_type": "slide"
    }
   },
   "source": [
    "### Big-O complexity of remove\n",
    "\n",
    "What is the time complexity of the remove function?"
   ]
  },
  {
   "cell_type": "markdown",
   "id": "1a3ac48e",
   "metadata": {
    "slideshow": {
     "slide_type": "fragment"
    }
   },
   "source": [
    "At each iteration I do constant work.\n",
    "\n",
    "I have at most $\\log n$ iterations (I will have to potentially search down to the lowest leaf during the search for an inorder predecessor). \n",
    "\n",
    "$O(\\log n)$"
   ]
  },
  {
   "cell_type": "markdown",
   "id": "1f028dd0",
   "metadata": {},
   "source": [
    "### Key Ideas\n",
    "\n",
    "- When removing a node:\n",
    "  - If the node has no children, just remove it\n",
    "  - If the node has only one child, just replace it with the child\n",
    "  - If the node has two children, replace its value with the value of its inorder predecessor and remove the inorder predecessor"
   ]
  },
  {
   "cell_type": "markdown",
   "id": "a78991c8",
   "metadata": {
    "slideshow": {
     "slide_type": "slide"
    }
   },
   "source": [
    "## Pathologic BST\n",
    "\n",
    "What kind of tree do I get when I add 1, 2, 3, 4, 5, 6, 7, 8, 9, in that order?"
   ]
  },
  {
   "cell_type": "code",
   "execution_count": 19,
   "id": "ba40c591",
   "metadata": {},
   "outputs": [
    {
     "name": "stdout",
     "output_type": "stream",
     "text": [
      "1        \n",
      "         \n",
      " 2       \n",
      "         \n",
      "  3      \n",
      "         \n",
      "   4     \n",
      "         \n",
      "    5    \n",
      "         \n",
      "     6   \n",
      "         \n",
      "      7  \n",
      "         \n",
      "       8 \n",
      "         \n",
      "        9\n",
      "\n"
     ]
    }
   ],
   "source": [
    "auto tree = new Node<int>(1);\n",
    "for (int i = 1; i <= 9; i++) {\n",
    "    add(tree, i);\n",
    "}\n",
    "print_inorder(tree)"
   ]
  },
  {
   "cell_type": "markdown",
   "id": "4e8621a6",
   "metadata": {},
   "source": [
    "What is the big-O search complexity for this tree?"
   ]
  },
  {
   "cell_type": "markdown",
   "id": "6cc9b793",
   "metadata": {
    "slideshow": {
     "slide_type": "fragment"
    }
   },
   "source": [
    "$O(n)$!"
   ]
  },
  {
   "cell_type": "markdown",
   "id": "4543af08",
   "metadata": {
    "slideshow": {
     "slide_type": "slide"
    }
   },
   "source": [
    "### Key Ideas\n",
    "\n",
    "- The $O(\\log n)$ lookup depends on the tree having a balanced structure.\n"
   ]
  },
  {
   "cell_type": "markdown",
   "id": "5b722f2b",
   "metadata": {
    "slideshow": {
     "slide_type": "slide"
    }
   },
   "source": [
    "## Key Ideas for a BST\n",
    "\n",
    "- $O(\\log n)$ complexity for search, add, and remove\n",
    "  - But only if the tree stays balanced!\n",
    "- BST is the underlying structure used to implement `set` and `map`"
   ]
  }
 ],
 "metadata": {
  "celltoolbar": "Slideshow",
  "kernelspec": {
   "display_name": "C++17 (docker)",
   "language": "C++17",
   "name": "xeus-cling"
  },
  "language_info": {
   "codemirror_mode": "text/x-c++src",
   "file_extension": ".cpp",
   "mimetype": "text/x-c++src",
   "name": "c++",
   "version": "17"
  },
  "toc": {
   "base_numbering": 1,
   "nav_menu": {},
   "number_sections": false,
   "sideBar": true,
   "skip_h1_title": false,
   "title_cell": "Table of Contents",
   "title_sidebar": "Contents",
   "toc_cell": false,
   "toc_position": {},
   "toc_section_display": true,
   "toc_window_display": true
  }
 },
 "nbformat": 4,
 "nbformat_minor": 5
}
