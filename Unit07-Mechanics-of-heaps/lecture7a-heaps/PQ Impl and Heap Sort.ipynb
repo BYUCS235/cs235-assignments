{
 "cells": [
  {
   "cell_type": "code",
   "execution_count": null,
   "id": "e584272a",
   "metadata": {
    "slideshow": {
     "slide_type": "slide"
    }
   },
   "outputs": [],
   "source": [
    "struct Interval {\n",
    "    int lower;\n",
    "    int upper;\n",
    "    bool contains(int point) {\n",
    "        return lower <= point && point < upper;\n",
    "    }\n",
    "};\n",
    "\n",
    "void foo(Interval intv, int point) {\n",
    "    if (intv.lower <= point && point < intv.upper) {\n",
    "        // yep\n",
    "    }\n",
    "    \n",
    "    if (intv.contains(point)) {\n",
    "        // yep\n",
    "    }\n",
    "}\n"
   ]
  },
  {
   "cell_type": "markdown",
   "id": "c045557d",
   "metadata": {
    "slideshow": {
     "slide_type": "slide"
    }
   },
   "source": [
    "# Priority Queue Implementation"
   ]
  },
  {
   "cell_type": "markdown",
   "id": "56ac170c",
   "metadata": {
    "slideshow": {
     "slide_type": "slide"
    }
   },
   "source": [
    "## Write a Priority Queue class with `set_priority` functionality"
   ]
  },
  {
   "cell_type": "markdown",
   "id": "983db8cb",
   "metadata": {},
   "source": [
    "### 9:30 am discussion\n",
    "\n",
    "Class should be able to:\n",
    "- `add(item, priority)`\n",
    "- `set_priority(item, priority)`\n",
    "- `top`\n",
    "- `pop`\n",
    "- `is_empty`\n",
    "\n",
    "\n",
    "Ideas:\n",
    "- Use a heap\n",
    "- Search for an item to change priority\n",
    "  - Use another structure (BST?) with pointers to items\n",
    "- Map: key is priority level, value is list of items with that priority\n",
    "  - Hashmap is fast\n",
    "    - How do I find things of highest priority\n",
    "      - Search each possible key, one at a time\n",
    "  - BST is better\n",
    "- BST\n",
    "  - Add is easy - keeps things sorted by priority\n",
    "    - Can I have duplicate priorities?\n",
    "      - Store lists of values at a priority \n",
    "  - Could you do some AVL stuff after changing priority?\n",
    "- Set-Priority\n",
    "  - Remove the old item, add a new version of the item with new priority\n",
    "    - Can I remove from the middle?\n",
    "      - Pop only takes top\n",
    "    - A little more complicated\n",
    "  - Change the priority of the existing, and percolate\n",
    "    - Simpler\n",
    "    - Does this work correctly?\n",
    "    - Percolate which way?\n",
    "      - Compare to existing priority\n",
    "    - Update pointers in lookup table\n",
    "      - If any item swaps position, update the table with the new positions\n",
    "  - How do I find the existing value?\n",
    "    - Search each item in the heap (which is just a linear array)\n",
    "      - $O(n)$\n",
    "    - Have a BST map for value=>priority, then search by priority in a BST storing things by priority\n",
    "      - $O(\\log n)$ \n",
    "    - Use a hashmap to map value=>position in heap\n",
    "      - $O(1)$ \n",
    "    - \n",
    "\n",
    "\n",
    "\n",
    "\n",
    "\n",
    "\n",
    "\n",
    "\n",
    "\n",
    "\n",
    "\n",
    "\n",
    "\n",
    "\n",
    "\n",
    "\n",
    "\n",
    "\n",
    "\n",
    "\n",
    "\n",
    "\n"
   ]
  },
  {
   "cell_type": "markdown",
   "id": "fad75f7e",
   "metadata": {},
   "source": [
    "Class should be able to:\n",
    "- `add(item, priority)`\n",
    "- `set_priority(item, priority)`\n",
    "- `top`\n",
    "- `pop`\n",
    "- `is_empty`\n",
    "\n",
    "Ideas:\n",
    "- Probably a heap\n",
    "- Store tuples of priority + value\n",
    "- How to implement add?\n",
    "  - heap: create a tuple and stick it in the back and percolate up\n",
    "- How to implement set_priority?\n",
    "  - Need a way to access tuple for a specific item\n",
    "    - Just root would be easy...\n",
    "  - Strategy 1: save a new tuple with the value and new priority\n",
    "    - Delete the old one\n",
    "      - How?\n",
    "      - Pop them all off, push onto new heap, filter item of interest\n",
    "        - Big-O?  slow $O(n \\log n)$\n",
    "      - \n",
    "    - Insert new one\n",
    "  - Strategy 2: Go find the value\n",
    "    - Compare all items until you find the value\n",
    "      - Big-O $O(n)$ using BFS\n",
    "    - Once found, change priority, percolate\n",
    "    - BST instead of heap\n",
    "      - Can I store duplicate priorities?\n",
    "        - Just make the \"less than\"?\n",
    "        - Make a node store a list of values\n",
    "        - Can I search fast by value? or just priority?\n",
    "  - Strategy 3: maintain a lookup for the values\n",
    "    - BST for values: $O(\\log n)$\n",
    "    - Hashtable for values: $O(1)$ \n",
    "    - Update the table as the heap changes\n",
    "    \n",
    "    \n",
    "    \n",
    "    \n",
    "    \n",
    "    \n",
    "    \n",
    "    \n",
    "    \n",
    "    \n",
    "    \n",
    "    "
   ]
  },
  {
   "cell_type": "code",
   "execution_count": 1,
   "id": "f71dcce9",
   "metadata": {
    "slideshow": {
     "slide_type": "slide"
    }
   },
   "outputs": [],
   "source": [
    "#include <string>\n",
    "#include <sstream>\n",
    "#include <iostream>\n",
    "#include <map>\n",
    "#include <vector>\n",
    "#include <utility>  // swap\n",
    "using namespace std;"
   ]
  },
  {
   "cell_type": "code",
   "execution_count": 94,
   "id": "e88ecc3a",
   "metadata": {},
   "outputs": [],
   "source": [
    "template<class T> class PQ {\n",
    "    struct Node {\n",
    "        int priority;\n",
    "        T value;\n",
    "        Node(T value, int priority) : priority(priority), value(value) {}\n",
    "    };\n",
    "    \n",
    "    unordered_map<T, int> lookup;\n",
    "    vector<Node*> array;\n",
    "    \n",
    "    int _parent(int const& index) {\n",
    "        return (index - 1) / 2;\n",
    "    }\n",
    "    \n",
    "    int _left(int const& index) {\n",
    "        return 2 * index + 1;\n",
    "    }\n",
    "    \n",
    "    void _percolate_up(int const& index) {\n",
    "        if (index == 0) { return; }\n",
    "        \n",
    "        // If the parent is heavier than the item, swap and continue percolating\n",
    "        int parent = _parent(index);\n",
    "        if (array.at(parent)->priority > array.at(index)->priority) {\n",
    "            // Swap values\n",
    "            swap(array[parent], array[index]);\n",
    "            \n",
    "            // Update map\n",
    "            lookup[array[parent]->value] = parent;\n",
    "            lookup[array[index]->value] = index;\n",
    "         \n",
    "            // Recurse!\n",
    "            _percolate_up(parent);\n",
    "        }        \n",
    "    }\n",
    "\n",
    "    void _percolate_down(int const& index) {\n",
    "        \n",
    "        int left = _left(index);\n",
    "        int right = left + 1;\n",
    "        \n",
    "        // Which child is lighter?\n",
    "        // I want the child that exists and has the lighter value\n",
    "        \n",
    "        if (left >= array.size()) {\n",
    "            // Left child doesn't exist, so right doesn't either\n",
    "            return;\n",
    "        }\n",
    "        \n",
    "        // Assume left is lighter, then compare to right, if it exists\n",
    "        // Use <= to pick right if there is a tie\n",
    "        int &child = left;\n",
    "        if (right < array.size() && array[right]->priority <= array[left]->priority) {\n",
    "            child = right;\n",
    "        }\n",
    "        \n",
    "        // Now compare the parent value to the child value\n",
    "        if (array[index]->priority > array[child]->priority) {\n",
    "            // Swap\n",
    "            swap(array[index], array[child]);\n",
    "            \n",
    "            // Update map\n",
    "            lookup[array[index]->value] = index;\n",
    "            lookup[array[child]->value] = child;\n",
    "            \n",
    "            // Recurse!\n",
    "            _percolate_down(child);\n",
    "        }\n",
    "    }\n",
    "    \n",
    "    public:\n",
    "    \n",
    "    PQ() : array(), lookup() {}\n",
    "    \n",
    "    ~PQ() {\n",
    "        for (auto nodePtr : array) {\n",
    "            delete nodePtr;\n",
    "        }\n",
    "    }\n",
    "    \n",
    "    bool has_item(T const& item) {\n",
    "        return lookup.find(item) != lookup.end();\n",
    "    }\n",
    "    \n",
    "    bool add(T const& item, int priority) {\n",
    "        if (has_item(item)) { return false; }\n",
    "        \n",
    "        // Add to array\n",
    "        Node* node = new Node(item, priority);\n",
    "        \n",
    "        // Push to back of array\n",
    "        array.push_back(node);\n",
    "        int pos = array.size() - 1;\n",
    "        \n",
    "        // Add to map\n",
    "        lookup[item] = pos;\n",
    "\n",
    "        // Percolate up\n",
    "        _percolate_up(pos);\n",
    "        \n",
    "        return true;\n",
    "    }\n",
    "    \n",
    "    bool set_priority(T item, int priority) {\n",
    "        // If the item doesn't exist in the queue, return false\n",
    "        if (!has_item(item)) { return false; }\n",
    "        \n",
    "        // Get the node\n",
    "        int pos = lookup[item];\n",
    "        \n",
    "        // If the priority is the same, return false\n",
    "        if (array[pos]->priority == priority) { return false; }\n",
    "        \n",
    "        // Update the priority\n",
    "        array[pos]->priority = priority;\n",
    "        \n",
    "        // Percolate\n",
    "        _percolate_up(pos);\n",
    "        _percolate_down(pos);\n",
    "        \n",
    "        return true;\n",
    "    }\n",
    "\n",
    "    bool is_empty() const {\n",
    "        return array.empty();\n",
    "    }\n",
    "    \n",
    "    T const& top() const {\n",
    "        if (is_empty()) { throw invalid_argument(\"Queue is empty. No item to top!\"); }\n",
    "        return array[0]->value;\n",
    "    }\n",
    "    \n",
    "    void pop() {\n",
    "        // Delete first\n",
    "        lookup.erase(array[0]->value);\n",
    "        \n",
    "        // Put last item in front\n",
    "        array[0] = array[array.size()-1];\n",
    "        lookup[array[0]->value] = 0;\n",
    "        \n",
    "        // Remove last\n",
    "        array.pop_back();\n",
    "        \n",
    "        // Percolate down the first\n",
    "        _percolate_down(0);\n",
    "    }\n",
    "    \n",
    "    string as_array() const {\n",
    "        stringstream ss;\n",
    "        for (auto item : array) {\n",
    "            ss << item->value << \" (\" << item->priority << \"), \"; \n",
    "        }\n",
    "        return ss.str();\n",
    "    }\n",
    "};"
   ]
  },
  {
   "cell_type": "code",
   "execution_count": 95,
   "id": "94c1da72",
   "metadata": {},
   "outputs": [],
   "source": [
    "PQ<string> pq;"
   ]
  },
  {
   "cell_type": "code",
   "execution_count": 96,
   "id": "b24f540c",
   "metadata": {},
   "outputs": [],
   "source": [
    "pq.add(\"foo\", 8);\n",
    "pq.add(\"bar\", 28);\n",
    "pq.add(\"baz\", 28);\n",
    "pq.add(\"quux\", 7);"
   ]
  },
  {
   "cell_type": "code",
   "execution_count": 97,
   "id": "a6c0fe17",
   "metadata": {},
   "outputs": [
    {
     "name": "stdout",
     "output_type": "stream",
     "text": [
      "quux (7), foo (8), baz (28), bar (28), \n"
     ]
    }
   ],
   "source": [
    "cout << pq.as_array() << endl;"
   ]
  },
  {
   "cell_type": "code",
   "execution_count": 98,
   "id": "1a8e88c2",
   "metadata": {},
   "outputs": [],
   "source": [
    "pq.set_priority(\"bar\", 6);"
   ]
  },
  {
   "cell_type": "code",
   "execution_count": 99,
   "id": "faa7bdeb",
   "metadata": {},
   "outputs": [
    {
     "name": "stdout",
     "output_type": "stream",
     "text": [
      "bar (6), quux (7), baz (28), foo (8), \n"
     ]
    }
   ],
   "source": [
    "cout << pq.as_array() << endl;"
   ]
  },
  {
   "cell_type": "code",
   "execution_count": 100,
   "id": "75804464",
   "metadata": {},
   "outputs": [
    {
     "name": "stdout",
     "output_type": "stream",
     "text": [
      "bar\n"
     ]
    }
   ],
   "source": [
    "cout << pq.top() << endl;"
   ]
  },
  {
   "cell_type": "code",
   "execution_count": 101,
   "id": "82d798b5",
   "metadata": {},
   "outputs": [
    {
     "name": "stdout",
     "output_type": "stream",
     "text": [
      "bar (6), quux (7), baz (28), foo (8), \n",
      "\n",
      "bar\n",
      "quux (7), foo (8), baz (28), \n",
      "\n",
      "quux\n",
      "foo (8), baz (28), \n",
      "\n",
      "foo\n",
      "baz (28), \n",
      "\n",
      "baz\n",
      "\n",
      "\n"
     ]
    }
   ],
   "source": [
    "cout << pq.as_array() << endl << endl;\n",
    "\n",
    "while (!pq.is_empty()) {\n",
    "    cout << pq.top() << endl;\n",
    "    pq.pop();\n",
    "    cout << pq.as_array() << endl << endl;\n",
    "}"
   ]
  },
  {
   "cell_type": "markdown",
   "id": "08003716",
   "metadata": {
    "slideshow": {
     "slide_type": "slide"
    }
   },
   "source": [
    "# Heap Sort\n",
    "\n",
    "**We did not discuss this in class, but the content is included for your personal edification.**"
   ]
  },
  {
   "cell_type": "markdown",
   "id": "7a54dcff",
   "metadata": {
    "slideshow": {
     "slide_type": "slide"
    }
   },
   "source": [
    "- First you heapify\n",
    "- Then you empty the heap"
   ]
  },
  {
   "cell_type": "markdown",
   "id": "1b0b688b",
   "metadata": {
    "slideshow": {
     "slide_type": "fragment"
    }
   },
   "source": [
    "<div class='big centered'> 🤓 </div>"
   ]
  },
  {
   "cell_type": "markdown",
   "id": "ec4ef176",
   "metadata": {
    "slideshow": {
     "slide_type": "slide"
    }
   },
   "source": [
    "## Can you use a heap to sort data?"
   ]
  },
  {
   "cell_type": "markdown",
   "id": "2b5122de",
   "metadata": {
    "slideshow": {
     "slide_type": "fragment"
    }
   },
   "source": [
    "Sure!\n",
    "\n",
    "Add everything to a heap: $O(n)$  \n",
    "Pull everything off the heap: $O(n \\log n)$"
   ]
  },
  {
   "cell_type": "markdown",
   "id": "3cce8065",
   "metadata": {
    "slideshow": {
     "slide_type": "fragment"
    }
   },
   "source": [
    "But you can also use heap logic to perform a sort on the items *in place*. "
   ]
  },
  {
   "cell_type": "markdown",
   "id": "2c800b3d",
   "metadata": {
    "slideshow": {
     "slide_type": "slide"
    }
   },
   "source": [
    "## Step 1: Heapify"
   ]
  },
  {
   "cell_type": "markdown",
   "id": "f9e01f6a",
   "metadata": {
    "slideshow": {
     "slide_type": "fragment"
    }
   },
   "source": [
    "First, impose the **heap ordering property** onto the items in your array.\n",
    "\n",
    "But reverse the comparison property.\n",
    "\n",
    "So, if you want to sort least to greatest, make \"greater\" items percolate **up**.\n",
    "\n",
    "I.E. if you want to sort ascending values, use a max-heap."
   ]
  },
  {
   "cell_type": "markdown",
   "id": "46a00b5d",
   "metadata": {
    "slideshow": {
     "slide_type": "slide"
    }
   },
   "source": [
    "- You partition the array into the \"heap\" side and the \"remainder\" side.\n",
    "- Add each item, one at a time, to the \"heap\" side of the array\n",
    "  - After each add, percolate up\n",
    "  - Once all the items are added, you are done."
   ]
  },
  {
   "cell_type": "markdown",
   "id": "483c9f63",
   "metadata": {},
   "source": [
    "```\n",
    "Add 3.\n",
    "value: 3 2 4 1 5\n",
    "index: 1 2 3 4 5\n",
    "heap:  ^\n",
    "\n",
    "\n",
    "Add 2.\n",
    "value: 3 2 4 1 5\n",
    "index: 1 2 3 4 5\n",
    "heap:    ^\n",
    "\n",
    "\n",
    "Add 4.\n",
    "value: 3 2 4 1 5\n",
    "index: 1 2 3 4 5\n",
    "heap:      ^\n",
    "\n",
    "value: 4 2 3 1 5\n",
    "index: 1 2 3 4 5\n",
    "heap:      ^\n",
    "\n",
    "\n",
    "Add 1.\n",
    "value: 4 2 3 1 5\n",
    "index: 1 2 3 4 5\n",
    "heap:        ^\n",
    "\n",
    "\n",
    "Add 5.\n",
    "value: 4 2 3 1 5\n",
    "index: 1 2 3 4 5\n",
    "heap:          ^\n",
    "\n",
    "value: 4 5 3 1 2\n",
    "index: 1 2 3 4 5\n",
    "heap:          ^\n",
    "\n",
    "value: 5 4 3 1 2\n",
    "index: 1 2 3 4 5\n",
    "heap:          ^\n",
    "\n",
    "```"
   ]
  },
  {
   "cell_type": "markdown",
   "id": "b2706e2a",
   "metadata": {
    "slideshow": {
     "slide_type": "slide"
    }
   },
   "source": [
    "We call this **heapify**."
   ]
  },
  {
   "cell_type": "markdown",
   "id": "cb0b451d",
   "metadata": {
    "slideshow": {
     "slide_type": "slide"
    }
   },
   "source": [
    "## Step 2: Empty the Heap"
   ]
  },
  {
   "cell_type": "markdown",
   "id": "6d67fcec",
   "metadata": {},
   "source": [
    "- While the heap is not empty\n",
    "  - Swap the root with the value in the last position of the array\n",
    "  - Percolate down"
   ]
  },
  {
   "cell_type": "markdown",
   "id": "99c8f39f",
   "metadata": {},
   "source": [
    "```\n",
    "value: 5 4 3 1 2\n",
    "index: 1 2 3 4 5\n",
    "heap:          ^\n",
    "\n",
    "Remove 5.\n",
    "value: 2 4 3 1 5\n",
    "index: 1 2 3 4 5\n",
    "heap:        ^\n",
    "\n",
    "value: 4 2 3 1 5\n",
    "index: 1 2 3 4 5\n",
    "heap:        ^\n",
    "\n",
    "\n",
    "Remove 4.\n",
    "value: 1 2 3 4 5\n",
    "index: 1 2 3 4 5\n",
    "heap:      ^\n",
    "\n",
    "value: 3 2 1 4 5\n",
    "index: 1 2 3 4 5\n",
    "heap:      ^\n",
    "\n",
    "\n",
    "Remove 3.\n",
    "value: 1 2 3 4 5\n",
    "index: 1 2 3 4 5\n",
    "heap:    ^\n",
    "\n",
    "value: 2 1 3 4 5\n",
    "index: 1 2 3 4 5\n",
    "heap:    ^\n",
    "\n",
    "\n",
    "Remove 2.\n",
    "value: 1 2 3 4 5\n",
    "index: 1 2 3 4 5\n",
    "heap:  ^\n",
    "\n",
    "Done!\n",
    "```\n",
    "\n"
   ]
  },
  {
   "cell_type": "markdown",
   "id": "80a8690c",
   "metadata": {
    "slideshow": {
     "slide_type": "slide"
    }
   },
   "source": [
    "## Heap Sort Intuition\n",
    "\n",
    "- Use the heap ordering property to put the largest value in the front\n",
    "- One by one, swap the largest value to the back and reheapify the array"
   ]
  }
 ],
 "metadata": {
  "celltoolbar": "Slideshow",
  "kernelspec": {
   "display_name": "C++11",
   "language": "C++11",
   "name": "xcpp11"
  },
  "language_info": {
   "codemirror_mode": "text/x-c++src",
   "file_extension": ".cpp",
   "mimetype": "text/x-c++src",
   "name": "c++",
   "version": "11"
  }
 },
 "nbformat": 4,
 "nbformat_minor": 5
}
