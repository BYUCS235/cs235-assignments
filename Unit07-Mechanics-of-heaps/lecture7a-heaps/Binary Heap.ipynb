{
 "cells": [
  {
   "cell_type": "code",
   "execution_count": 1,
   "id": "7a54d058",
   "metadata": {
    "slideshow": {
     "slide_type": "skip"
    }
   },
   "outputs": [
    {
     "name": "stdout",
     "output_type": "stream",
     "text": [
      "[NbConvertApp] Converting notebook Binary Heap.ipynb to html_embed\n",
      "[NbConvertApp] Writing 1452178 bytes to Binary Heap.html\n"
     ]
    }
   ],
   "source": [
    "! jupyter nbconvert \"Binary Heap.ipynb\" --Exporter.preprocessors jupybeans.RemoveSkip --to html_embed"
   ]
  },
  {
   "cell_type": "markdown",
   "id": "1159cf2a",
   "metadata": {
    "slideshow": {
     "slide_type": "slide"
    }
   },
   "source": [
    "# Heap"
   ]
  },
  {
   "cell_type": "markdown",
   "id": "7f36f0ee",
   "metadata": {
    "slideshow": {
     "slide_type": "skip"
    }
   },
   "source": [
    "- A heap is\n",
    "  - a complete binary tree\n",
    "  - obeys the heap order property\n",
    "- A complete binary tree\n",
    "  - Not a BST, just a tree where each node has 0-2 children\n",
    "  - Every depth is completely filled except the last\n",
    "  - The items in the last row are packed left\n",
    "  - The height is $\\log n$\n",
    "  - What fraction of the tree is a leaf?\n",
    "- heap order property\n",
    "  - for every node $n$, the value of $n$'s parents is <= the value of n\n",
    "- example\n",
    "- insert\n",
    "  - add in next open slot\n",
    "  - percolate up\n",
    "- big-O\n",
    "  - $O(\\log n)$ worse case\n",
    "  - $O(1)$ average case https://stackoverflow.com/questions/39514469/argument-for-o1-average-case-complexity-of-heap-insertion\n",
    "- remove\n",
    "  - replace root with last item\n",
    "  - percolate down\n",
    "  - $O(\\log n)$ average and worse case\n",
    "- implementation\n",
    "  - Array!\n",
    "  \n",
    "- Review structures\n",
    "  - Stack, queue\n",
    "  - vector, list\n",
    "  - set, map\n",
    "    - BST, hashtable\n",
    "  - priority queue: heap!"
   ]
  },
  {
   "cell_type": "markdown",
   "id": "c45e0e18",
   "metadata": {
    "slideshow": {
     "slide_type": "slide"
    }
   },
   "source": [
    "A **heap** is a *complete binary tree* that obeys the *heap order property*."
   ]
  },
  {
   "cell_type": "markdown",
   "id": "bd4e3e6c",
   "metadata": {
    "slideshow": {
     "slide_type": "fragment"
    }
   },
   "source": [
    "<div class='big centered' style='font-size: 200pt'> 🤨 </div>"
   ]
  },
  {
   "cell_type": "markdown",
   "id": "88dac64b",
   "metadata": {
    "slideshow": {
     "slide_type": "slide"
    }
   },
   "source": [
    "A **complete binary tree** is a binary tree (i.e. each node has at most two children) where every row but the last must be completely filled.\n",
    "\n",
    "And the elements on the last row must be packed to the left."
   ]
  },
  {
   "cell_type": "code",
   "execution_count": 1,
   "id": "2679fe79",
   "metadata": {
    "slideshow": {
     "slide_type": "skip"
    }
   },
   "outputs": [
    {
     "name": "stdout",
     "output_type": "stream",
     "text": [
      "Writing complete_binary_tree.txt\n"
     ]
    }
   ],
   "source": [
    "%%file complete_binary_tree.txt\n",
    "A > B\n",
    "A < C\n",
    "B < D\n",
    "B > E\n",
    "C > F"
   ]
  },
  {
   "cell_type": "code",
   "execution_count": 6,
   "id": "569c713a",
   "metadata": {
    "slideshow": {
     "slide_type": "skip"
    }
   },
   "outputs": [],
   "source": [
    "! python /data/projects/btrees/btrees.py --w-scale 0.7 complete_binary_tree.txt"
   ]
  },
  {
   "cell_type": "markdown",
   "id": "54e705de",
   "metadata": {},
   "source": [
    "<img src=\"complete_binary_tree.png\" />"
   ]
  },
  {
   "cell_type": "markdown",
   "id": "eba8b5df",
   "metadata": {
    "slideshow": {
     "slide_type": "slide"
    }
   },
   "source": [
    "The **heap order property** means that each the value of any node is greater than its parent's value."
   ]
  },
  {
   "cell_type": "markdown",
   "id": "5c3bc2ec",
   "metadata": {},
   "source": [
    "<img src=\"complete_binary_tree.png\" />"
   ]
  },
  {
   "cell_type": "markdown",
   "id": "6da3c4eb",
   "metadata": {},
   "source": [
    "You can think of the \"heavy\" values sinking to the bottom of the tree."
   ]
  },
  {
   "cell_type": "markdown",
   "id": "dc0e6d42",
   "metadata": {
    "slideshow": {
     "slide_type": "slide"
    }
   },
   "source": [
    "## Inserting into a heap"
   ]
  },
  {
   "cell_type": "markdown",
   "id": "39a41e28",
   "metadata": {},
   "source": [
    "**How do you add a new item to the heap while maintaining the required properties?**\n",
    "\n",
    "- Add an item to the next open slot\n",
    "- Percolate up until the value is in the correct location\n",
    "\n",
    "To *percolate up*:\n",
    "- Compare the current value to the value of the parent node\n",
    "- If the parent value is greater, swap"
   ]
  },
  {
   "cell_type": "code",
   "execution_count": 9,
   "id": "4baadcd0",
   "metadata": {
    "slideshow": {
     "slide_type": "skip"
    }
   },
   "outputs": [
    {
     "name": "stdout",
     "output_type": "stream",
     "text": [
      "Overwriting numeric_heap.txt\n"
     ]
    }
   ],
   "source": [
    "%%file numeric_heap.txt\n",
    "n4a [label=\"4\"]\n",
    "n4b [label=\"4\"]\n",
    "n4a > n4b\n",
    "n4a < 8\n",
    "n4b > 7\n",
    "n4b < 5"
   ]
  },
  {
   "cell_type": "code",
   "execution_count": 10,
   "id": "7c0f8710",
   "metadata": {
    "slideshow": {
     "slide_type": "skip"
    }
   },
   "outputs": [],
   "source": [
    "! python /data/projects/btrees/btrees.py --w-scale 0.7 numeric_heap.txt"
   ]
  },
  {
   "cell_type": "markdown",
   "id": "a77390f7",
   "metadata": {
    "slideshow": {
     "slide_type": "slide"
    }
   },
   "source": [
    "<img src=\"numeric_heap.png\" />"
   ]
  },
  {
   "cell_type": "markdown",
   "id": "26cc112f",
   "metadata": {},
   "source": [
    "What is the result of inserting 8 into the heap?"
   ]
  },
  {
   "cell_type": "code",
   "execution_count": 13,
   "id": "8b7adde9",
   "metadata": {
    "slideshow": {
     "slide_type": "skip"
    }
   },
   "outputs": [
    {
     "name": "stdout",
     "output_type": "stream",
     "text": [
      "Overwriting numeric_heap_with8.txt\n"
     ]
    }
   ],
   "source": [
    "%%file numeric_heap_with8.txt\n",
    "n4a [label=\"4\"]\n",
    "n4b [label=\"4\"]\n",
    "n8a [label=\"8\"]\n",
    "n8b [label=\"8\"]\n",
    "n4a > n4b\n",
    "n4a < n8a\n",
    "n4b > 7\n",
    "n4b < 5\n",
    "n8a > n8b"
   ]
  },
  {
   "cell_type": "code",
   "execution_count": 14,
   "id": "06e431f4",
   "metadata": {
    "slideshow": {
     "slide_type": "skip"
    }
   },
   "outputs": [],
   "source": [
    "! python /data/projects/btrees/btrees.py --w-scale 0.7 numeric_heap_with8.txt"
   ]
  },
  {
   "cell_type": "markdown",
   "id": "5d439975",
   "metadata": {
    "slideshow": {
     "slide_type": "fragment"
    }
   },
   "source": [
    "<img src=\"numeric_heap_with8.png\" />"
   ]
  },
  {
   "cell_type": "code",
   "execution_count": 15,
   "id": "90c5788b",
   "metadata": {
    "slideshow": {
     "slide_type": "skip"
    }
   },
   "outputs": [
    {
     "name": "stdout",
     "output_type": "stream",
     "text": [
      "Writing numeric_heap_with2.txt\n"
     ]
    }
   ],
   "source": [
    "%%file numeric_heap_with2.txt\n",
    "n2 [label=\"2\"]\n",
    "n4a [label=\"4\"]\n",
    "n4b [label=\"4\"]\n",
    "n2 > n4a\n",
    "n4a > 7\n",
    "n4a < 5\n",
    "n2 < n4b\n",
    "n4b > 8"
   ]
  },
  {
   "cell_type": "code",
   "execution_count": 16,
   "id": "17d7802f",
   "metadata": {
    "slideshow": {
     "slide_type": "skip"
    }
   },
   "outputs": [],
   "source": [
    "! python /data/projects/btrees/btrees.py --w-scale 0.7 numeric_heap_with2.txt"
   ]
  },
  {
   "cell_type": "markdown",
   "id": "4ffa9793",
   "metadata": {
    "slideshow": {
     "slide_type": "slide"
    }
   },
   "source": [
    "What is the result of inserting 2 into the heap?"
   ]
  },
  {
   "cell_type": "markdown",
   "id": "ac5d0ad6",
   "metadata": {
    "cell_style": "split",
    "slideshow": {
     "slide_type": "-"
    }
   },
   "source": [
    "<img src=\"numeric_heap.png\" />"
   ]
  },
  {
   "cell_type": "markdown",
   "id": "d240a06a",
   "metadata": {
    "cell_style": "split",
    "slideshow": {
     "slide_type": "fragment"
    }
   },
   "source": [
    "<img src=\"numeric_heap_with2.png\" />"
   ]
  },
  {
   "cell_type": "code",
   "execution_count": 17,
   "id": "b7458fe6",
   "metadata": {
    "slideshow": {
     "slide_type": "skip"
    }
   },
   "outputs": [
    {
     "name": "stdout",
     "output_type": "stream",
     "text": [
      "Writing needs4.txt\n"
     ]
    }
   ],
   "source": [
    "%%file needs4.txt\n",
    "6 < 9\n",
    "6 > 7\n",
    "7 > 8"
   ]
  },
  {
   "cell_type": "code",
   "execution_count": 18,
   "id": "46cb25ce",
   "metadata": {
    "slideshow": {
     "slide_type": "skip"
    }
   },
   "outputs": [],
   "source": [
    "! python /data/projects/btrees/btrees.py --w-scale 0.7 needs4.txt"
   ]
  },
  {
   "cell_type": "code",
   "execution_count": 19,
   "id": "0530187d",
   "metadata": {
    "slideshow": {
     "slide_type": "skip"
    }
   },
   "outputs": [
    {
     "name": "stdout",
     "output_type": "stream",
     "text": [
      "Writing has4.txt\n"
     ]
    }
   ],
   "source": [
    "%%file has4.txt\n",
    "4 < 9\n",
    "4 > 6\n",
    "6 > 8\n",
    "6 < 7"
   ]
  },
  {
   "cell_type": "code",
   "execution_count": 20,
   "id": "c55d6999",
   "metadata": {
    "slideshow": {
     "slide_type": "skip"
    }
   },
   "outputs": [],
   "source": [
    "! python /data/projects/btrees/btrees.py --w-scale 0.7 has4.txt"
   ]
  },
  {
   "cell_type": "markdown",
   "id": "ed9769a9",
   "metadata": {
    "slideshow": {
     "slide_type": "slide"
    }
   },
   "source": [
    "Work with a partner.\n",
    "\n",
    "What is the result of inserting 4 into this tree."
   ]
  },
  {
   "cell_type": "markdown",
   "id": "d665d44e",
   "metadata": {
    "cell_style": "split"
   },
   "source": [
    "<img src=\"needs4.png\" />"
   ]
  },
  {
   "cell_type": "markdown",
   "id": "45f95137",
   "metadata": {
    "cell_style": "split",
    "slideshow": {
     "slide_type": "fragment"
    }
   },
   "source": [
    "<img src=\"has4.png\" />"
   ]
  },
  {
   "cell_type": "markdown",
   "id": "08a285ef",
   "metadata": {
    "slideshow": {
     "slide_type": "slide"
    }
   },
   "source": [
    "What is the result of inserting 5, 2, 8, 3, 1, 9, 6, 4 into an empty heap?"
   ]
  },
  {
   "cell_type": "code",
   "execution_count": 24,
   "id": "3e5365b0",
   "metadata": {
    "slideshow": {
     "slide_type": "skip"
    }
   },
   "outputs": [
    {
     "name": "stdout",
     "output_type": "stream",
     "text": [
      "Writing heap_5.dot\n"
     ]
    }
   ],
   "source": [
    "%%file heap_5.dot\n",
    "digraph {\n",
    "  n5 [label=\"5\"]\n",
    "}"
   ]
  },
  {
   "cell_type": "code",
   "execution_count": 25,
   "id": "3eb7246f",
   "metadata": {
    "slideshow": {
     "slide_type": "skip"
    }
   },
   "outputs": [],
   "source": [
    "! dot -Tpng -o heap_5.png heap_5.dot"
   ]
  },
  {
   "cell_type": "code",
   "execution_count": 26,
   "id": "1286820f",
   "metadata": {
    "slideshow": {
     "slide_type": "skip"
    }
   },
   "outputs": [
    {
     "name": "stdout",
     "output_type": "stream",
     "text": [
      "Writing heap_52a.txt\n"
     ]
    }
   ],
   "source": [
    "%%file heap_52a.txt\n",
    "5 > 2"
   ]
  },
  {
   "cell_type": "code",
   "execution_count": 27,
   "id": "28e74ce0",
   "metadata": {
    "slideshow": {
     "slide_type": "skip"
    }
   },
   "outputs": [],
   "source": [
    "! python /data/projects/btrees/btrees.py --w-scale 0.7 heap_52a.txt"
   ]
  },
  {
   "cell_type": "code",
   "execution_count": 28,
   "id": "1a765739",
   "metadata": {
    "slideshow": {
     "slide_type": "skip"
    }
   },
   "outputs": [
    {
     "name": "stdout",
     "output_type": "stream",
     "text": [
      "Writing heap_52b.txt\n"
     ]
    }
   ],
   "source": [
    "%%file heap_52b.txt\n",
    "2 > 5"
   ]
  },
  {
   "cell_type": "code",
   "execution_count": 29,
   "id": "3770dde4",
   "metadata": {
    "slideshow": {
     "slide_type": "skip"
    }
   },
   "outputs": [],
   "source": [
    "! python /data/projects/btrees/btrees.py --w-scale 0.7 heap_52b.txt"
   ]
  },
  {
   "cell_type": "code",
   "execution_count": 30,
   "id": "4dea88cc",
   "metadata": {
    "slideshow": {
     "slide_type": "skip"
    }
   },
   "outputs": [
    {
     "name": "stdout",
     "output_type": "stream",
     "text": [
      "Writing heap_528.txt\n"
     ]
    }
   ],
   "source": [
    "%%file heap_528.txt\n",
    "2 > 5\n",
    "2 < 8"
   ]
  },
  {
   "cell_type": "code",
   "execution_count": 31,
   "id": "037ce960",
   "metadata": {
    "slideshow": {
     "slide_type": "skip"
    }
   },
   "outputs": [],
   "source": [
    "! python /data/projects/btrees/btrees.py --w-scale 0.7 heap_528.txt"
   ]
  },
  {
   "cell_type": "code",
   "execution_count": 32,
   "id": "20c40221",
   "metadata": {
    "slideshow": {
     "slide_type": "skip"
    }
   },
   "outputs": [
    {
     "name": "stdout",
     "output_type": "stream",
     "text": [
      "Writing heap_5283a.txt\n"
     ]
    }
   ],
   "source": [
    "%%file heap_5283a.txt\n",
    "2 > 5\n",
    "2 < 8\n",
    "5 > 3"
   ]
  },
  {
   "cell_type": "code",
   "execution_count": 33,
   "id": "672832e9",
   "metadata": {
    "slideshow": {
     "slide_type": "skip"
    }
   },
   "outputs": [],
   "source": [
    "! python /data/projects/btrees/btrees.py --w-scale 0.7 heap_5283a.txt"
   ]
  },
  {
   "cell_type": "code",
   "execution_count": 34,
   "id": "7e546878",
   "metadata": {
    "slideshow": {
     "slide_type": "skip"
    }
   },
   "outputs": [
    {
     "name": "stdout",
     "output_type": "stream",
     "text": [
      "Writing heap_5283b.txt\n"
     ]
    }
   ],
   "source": [
    "%%file heap_5283b.txt\n",
    "2 > 3\n",
    "2 < 8\n",
    "3 > 5"
   ]
  },
  {
   "cell_type": "code",
   "execution_count": 35,
   "id": "252d3116",
   "metadata": {
    "slideshow": {
     "slide_type": "skip"
    }
   },
   "outputs": [],
   "source": [
    "! python /data/projects/btrees/btrees.py --w-scale 0.7 heap_5283b.txt"
   ]
  },
  {
   "cell_type": "code",
   "execution_count": 36,
   "id": "be47d6e0",
   "metadata": {
    "slideshow": {
     "slide_type": "skip"
    }
   },
   "outputs": [
    {
     "name": "stdout",
     "output_type": "stream",
     "text": [
      "Writing heap_52831a.txt\n"
     ]
    }
   ],
   "source": [
    "%%file heap_52831a.txt\n",
    "2 > 3\n",
    "2 < 8\n",
    "3 > 5\n",
    "3 < 1"
   ]
  },
  {
   "cell_type": "code",
   "execution_count": 37,
   "id": "e65b96e7",
   "metadata": {
    "slideshow": {
     "slide_type": "skip"
    }
   },
   "outputs": [],
   "source": [
    "! python /data/projects/btrees/btrees.py --w-scale 0.7 heap_52831a.txt"
   ]
  },
  {
   "cell_type": "code",
   "execution_count": 38,
   "id": "0f20dd42",
   "metadata": {
    "slideshow": {
     "slide_type": "skip"
    }
   },
   "outputs": [
    {
     "name": "stdout",
     "output_type": "stream",
     "text": [
      "Writing heap_52831b.txt\n"
     ]
    }
   ],
   "source": [
    "%%file heap_52831b.txt\n",
    "2 > 1\n",
    "2 < 8\n",
    "1 > 5\n",
    "1 < 3"
   ]
  },
  {
   "cell_type": "code",
   "execution_count": 39,
   "id": "2b59c9be",
   "metadata": {
    "slideshow": {
     "slide_type": "skip"
    }
   },
   "outputs": [],
   "source": [
    "! python /data/projects/btrees/btrees.py --w-scale 0.7 heap_52831b.txt"
   ]
  },
  {
   "cell_type": "code",
   "execution_count": 40,
   "id": "3cc89755",
   "metadata": {
    "slideshow": {
     "slide_type": "skip"
    }
   },
   "outputs": [
    {
     "name": "stdout",
     "output_type": "stream",
     "text": [
      "Writing heap_52831c.txt\n"
     ]
    }
   ],
   "source": [
    "%%file heap_52831c.txt\n",
    "1 > 2\n",
    "1 < 8\n",
    "2 > 5\n",
    "2 < 3"
   ]
  },
  {
   "cell_type": "code",
   "execution_count": 41,
   "id": "806709f4",
   "metadata": {
    "slideshow": {
     "slide_type": "skip"
    }
   },
   "outputs": [],
   "source": [
    "! python /data/projects/btrees/btrees.py --w-scale 0.7 heap_52831c.txt"
   ]
  },
  {
   "cell_type": "code",
   "execution_count": 42,
   "id": "b4d79f63",
   "metadata": {
    "slideshow": {
     "slide_type": "skip"
    }
   },
   "outputs": [
    {
     "name": "stdout",
     "output_type": "stream",
     "text": [
      "Writing heap_528319.txt\n"
     ]
    }
   ],
   "source": [
    "%%file heap_528319.txt\n",
    "1 > 2\n",
    "1 < 8\n",
    "2 > 5\n",
    "2 < 3\n",
    "8 > 9"
   ]
  },
  {
   "cell_type": "code",
   "execution_count": 43,
   "id": "8434366d",
   "metadata": {
    "slideshow": {
     "slide_type": "skip"
    }
   },
   "outputs": [],
   "source": [
    "! python /data/projects/btrees/btrees.py --w-scale 0.7 heap_528319.txt"
   ]
  },
  {
   "cell_type": "code",
   "execution_count": 44,
   "id": "ddb96384",
   "metadata": {
    "slideshow": {
     "slide_type": "skip"
    }
   },
   "outputs": [
    {
     "name": "stdout",
     "output_type": "stream",
     "text": [
      "Writing heap_5283196a.txt\n"
     ]
    }
   ],
   "source": [
    "%%file heap_5283196a.txt\n",
    "1 > 2\n",
    "1 < 8\n",
    "2 > 5\n",
    "2 < 3\n",
    "8 > 9\n",
    "8 < 6"
   ]
  },
  {
   "cell_type": "code",
   "execution_count": 45,
   "id": "c2014fbb",
   "metadata": {
    "slideshow": {
     "slide_type": "skip"
    }
   },
   "outputs": [],
   "source": [
    "! python /data/projects/btrees/btrees.py --w-scale 0.7 heap_5283196a.txt"
   ]
  },
  {
   "cell_type": "code",
   "execution_count": 46,
   "id": "59c394b3",
   "metadata": {
    "slideshow": {
     "slide_type": "skip"
    }
   },
   "outputs": [
    {
     "name": "stdout",
     "output_type": "stream",
     "text": [
      "Writing heap_5283196b.txt\n"
     ]
    }
   ],
   "source": [
    "%%file heap_5283196b.txt\n",
    "1 > 2\n",
    "1 < 6\n",
    "2 > 5\n",
    "2 < 3\n",
    "6 > 9\n",
    "6 < 8"
   ]
  },
  {
   "cell_type": "code",
   "execution_count": 47,
   "id": "80559a93",
   "metadata": {
    "slideshow": {
     "slide_type": "skip"
    }
   },
   "outputs": [],
   "source": [
    "! python /data/projects/btrees/btrees.py --w-scale 0.7 heap_5283196b.txt"
   ]
  },
  {
   "cell_type": "code",
   "execution_count": 48,
   "id": "373bc2af",
   "metadata": {
    "slideshow": {
     "slide_type": "skip"
    }
   },
   "outputs": [
    {
     "name": "stdout",
     "output_type": "stream",
     "text": [
      "Writing heap_52831964a.txt\n"
     ]
    }
   ],
   "source": [
    "%%file heap_52831964a.txt\n",
    "1 > 2\n",
    "1 < 6\n",
    "2 > 5\n",
    "2 < 3\n",
    "6 > 9\n",
    "6 < 8\n",
    "5 > 4    "
   ]
  },
  {
   "cell_type": "code",
   "execution_count": 49,
   "id": "34b37b9b",
   "metadata": {
    "slideshow": {
     "slide_type": "skip"
    }
   },
   "outputs": [],
   "source": [
    "! python /data/projects/btrees/btrees.py --w-scale 0.7 heap_52831964a.txt"
   ]
  },
  {
   "cell_type": "code",
   "execution_count": 50,
   "id": "36a16fce",
   "metadata": {
    "slideshow": {
     "slide_type": "skip"
    }
   },
   "outputs": [
    {
     "name": "stdout",
     "output_type": "stream",
     "text": [
      "Writing heap_52831964b.txt\n"
     ]
    }
   ],
   "source": [
    "%%file heap_52831964b.txt\n",
    "1 > 2\n",
    "1 < 6\n",
    "2 > 4\n",
    "2 < 3\n",
    "6 > 9\n",
    "6 < 8\n",
    "4 > 5"
   ]
  },
  {
   "cell_type": "code",
   "execution_count": 51,
   "id": "f87ef8e8",
   "metadata": {
    "slideshow": {
     "slide_type": "skip"
    }
   },
   "outputs": [],
   "source": [
    "! python /data/projects/btrees/btrees.py --w-scale 0.7 heap_52831964b.txt"
   ]
  },
  {
   "cell_type": "markdown",
   "id": "b4a68406",
   "metadata": {
    "slideshow": {
     "slide_type": "slide"
    }
   },
   "source": [
    "<img src=\"heap_5.png\" />"
   ]
  },
  {
   "cell_type": "markdown",
   "id": "771470f6",
   "metadata": {
    "slideshow": {
     "slide_type": "slide"
    }
   },
   "source": [
    "<img src=\"heap_52a.png\" />"
   ]
  },
  {
   "cell_type": "markdown",
   "id": "f45d2644",
   "metadata": {
    "slideshow": {
     "slide_type": "slide"
    }
   },
   "source": [
    "<img src=\"heap_52b.png\" />"
   ]
  },
  {
   "cell_type": "markdown",
   "id": "d8decdaa",
   "metadata": {
    "slideshow": {
     "slide_type": "slide"
    }
   },
   "source": [
    "<img src=\"heap_528.png\" />"
   ]
  },
  {
   "cell_type": "markdown",
   "id": "2881c8a9",
   "metadata": {
    "slideshow": {
     "slide_type": "slide"
    }
   },
   "source": [
    "<img src=\"heap_5283a.png\" />"
   ]
  },
  {
   "cell_type": "markdown",
   "id": "88d73dc1",
   "metadata": {
    "slideshow": {
     "slide_type": "slide"
    }
   },
   "source": [
    "<img src=\"heap_5283b.png\" />"
   ]
  },
  {
   "cell_type": "markdown",
   "id": "49519b4c",
   "metadata": {
    "slideshow": {
     "slide_type": "slide"
    }
   },
   "source": [
    "<img src=\"heap_52831a.png\" />"
   ]
  },
  {
   "cell_type": "markdown",
   "id": "a11c7125",
   "metadata": {
    "slideshow": {
     "slide_type": "slide"
    }
   },
   "source": [
    "<img src=\"heap_52831b.png\" />"
   ]
  },
  {
   "cell_type": "markdown",
   "id": "c8c851ed",
   "metadata": {
    "slideshow": {
     "slide_type": "slide"
    }
   },
   "source": [
    "<img src=\"heap_52831c.png\" />"
   ]
  },
  {
   "cell_type": "markdown",
   "id": "e8c91885",
   "metadata": {
    "slideshow": {
     "slide_type": "slide"
    }
   },
   "source": [
    "<img src=\"heap_528319.png\" />"
   ]
  },
  {
   "cell_type": "markdown",
   "id": "aad4a839",
   "metadata": {
    "slideshow": {
     "slide_type": "slide"
    }
   },
   "source": [
    "<img src=\"heap_5283196a.png\" />"
   ]
  },
  {
   "cell_type": "markdown",
   "id": "7a3f7495",
   "metadata": {
    "slideshow": {
     "slide_type": "slide"
    }
   },
   "source": [
    "<img src=\"heap_5283196b.png\" />"
   ]
  },
  {
   "cell_type": "markdown",
   "id": "024cbd5c",
   "metadata": {
    "slideshow": {
     "slide_type": "slide"
    }
   },
   "source": [
    "<img src=\"heap_52831964a.png\" />"
   ]
  },
  {
   "cell_type": "markdown",
   "id": "0fc2a81b",
   "metadata": {
    "slideshow": {
     "slide_type": "slide"
    }
   },
   "source": [
    "<img src=\"heap_52831964b.png\" />"
   ]
  },
  {
   "cell_type": "markdown",
   "id": "ae32ba0f",
   "metadata": {
    "slideshow": {
     "slide_type": "slide"
    }
   },
   "source": [
    "Work with a partner.\n",
    "\n",
    "Show the result of inserting 5, 3, 8, 1, 7, 4, 6, 2 into an empty Heap."
   ]
  },
  {
   "cell_type": "code",
   "execution_count": 52,
   "id": "ac802232",
   "metadata": {
    "slideshow": {
     "slide_type": "skip"
    }
   },
   "outputs": [
    {
     "name": "stdout",
     "output_type": "stream",
     "text": [
      "Writing heap_53817462.txt\n"
     ]
    }
   ],
   "source": [
    "%%file heap_53817462.txt\n",
    "1 > 2\n",
    "1 < 4\n",
    "2 > 3\n",
    "2 < 7\n",
    "3 > 5\n",
    "4 > 8\n",
    "4 < 6"
   ]
  },
  {
   "cell_type": "code",
   "execution_count": 53,
   "id": "ed5e8333",
   "metadata": {
    "slideshow": {
     "slide_type": "skip"
    }
   },
   "outputs": [],
   "source": [
    "! python /data/projects/btrees/btrees.py --w-scale 0.7 heap_53817462.txt"
   ]
  },
  {
   "cell_type": "markdown",
   "id": "68a5c526",
   "metadata": {
    "slideshow": {
     "slide_type": "fragment"
    }
   },
   "source": [
    "<img src=\"heap_53817462.png\" />"
   ]
  },
  {
   "cell_type": "markdown",
   "id": "68292d13",
   "metadata": {
    "slideshow": {
     "slide_type": "slide"
    }
   },
   "source": [
    "## Big-O\n",
    "\n",
    "- What is the big-O for inserting into a heap?"
   ]
  },
  {
   "cell_type": "markdown",
   "id": "26f4b0d2",
   "metadata": {
    "slideshow": {
     "slide_type": "fragment"
    }
   },
   "source": [
    "$O(\\log n)$ for worst case.\n",
    "\n",
    "$O(1)$ for average case. \n",
    "\n",
    "Intuition: <https://stackoverflow.com/a/39517553/2288986>\n",
    "- Half of the items are leaves, and leaves are heavy, and non-leaves are light.\n",
    "- The inserted item has a $\\frac{1}{2}$ chance of staying put as a leaf.\n",
    "- It has a $\\left(\\frac{1}{2}\\right)^2 = \\frac{1}{4}$ chance of ending up in the $height=1$ row.\n",
    "- Thus, the probability of taking another step decreases exponentially.\n",
    "- The result is an average of $O(1)$ time (actual constant is somewhere near 2). "
   ]
  },
  {
   "cell_type": "markdown",
   "id": "b7423646",
   "metadata": {
    "slideshow": {
     "slide_type": "slide"
    }
   },
   "source": [
    "## Removing from a heap"
   ]
  },
  {
   "cell_type": "markdown",
   "id": "f0957400",
   "metadata": {
    "slideshow": {
     "slide_type": "fragment"
    }
   },
   "source": [
    "Usually, when working with a heap, the item we remove is always the top item.\n",
    "\n",
    "**Why?**"
   ]
  },
  {
   "cell_type": "markdown",
   "id": "1176dcbd",
   "metadata": {
    "slideshow": {
     "slide_type": "fragment"
    }
   },
   "source": [
    "To remove the top item:\n",
    "\n",
    "- Replace the top with the last item\n",
    "- Percolate down until the order is correct"
   ]
  },
  {
   "cell_type": "markdown",
   "id": "1469e13b",
   "metadata": {
    "slideshow": {
     "slide_type": "fragment"
    }
   },
   "source": [
    "To percolate down:\n",
    "- Compare an item with its **smaller** child\n",
    "- Swap if the item is larger"
   ]
  },
  {
   "cell_type": "code",
   "execution_count": 54,
   "id": "9730d492",
   "metadata": {
    "slideshow": {
     "slide_type": "skip"
    }
   },
   "outputs": [
    {
     "name": "stdout",
     "output_type": "stream",
     "text": [
      "Writing remove_4549658.txt\n"
     ]
    }
   ],
   "source": [
    "%%file remove_4549658.txt\n",
    "n4a [label=\"4\"]\n",
    "n4b [label=\"4\"]\n",
    "n5a [label=\"5\"]\n",
    "n5b [label=\"5\"]\n",
    "\n",
    "n4a > n5a\n",
    "n4a < n4b\n",
    "n5a > 9\n",
    "n5a < 6\n",
    "n4b > n5b\n",
    "n4b < 8\n",
    "n5a > 9\n",
    "n5a < 6"
   ]
  },
  {
   "cell_type": "code",
   "execution_count": 55,
   "id": "be3ee919",
   "metadata": {
    "slideshow": {
     "slide_type": "skip"
    }
   },
   "outputs": [],
   "source": [
    "! python /data/projects/btrees/btrees.py --w-scale 0.7 remove_4549658.txt"
   ]
  },
  {
   "cell_type": "markdown",
   "id": "d0788aac",
   "metadata": {
    "slideshow": {
     "slide_type": "slide"
    }
   },
   "source": [
    "<img src=\"remove_4549658.png\" />"
   ]
  },
  {
   "cell_type": "code",
   "execution_count": 67,
   "id": "32bd211f",
   "metadata": {
    "slideshow": {
     "slide_type": "skip"
    }
   },
   "outputs": [
    {
     "name": "stdout",
     "output_type": "stream",
     "text": [
      "Overwriting remove_549658a.txt\n"
     ]
    }
   ],
   "source": [
    "%%file remove_549658a.txt\n",
    "n8 [label=\"8\"]\n",
    "n4b [label=\"4\"]\n",
    "n5a [label=\"5\"]\n",
    "n5b [label=\"5\"]\n",
    "\n",
    "n8 > n5a\n",
    "n8 < n4b\n",
    "n5a > 9\n",
    "n5a < 6\n",
    "n4b > n5b\n",
    "n5a > 9\n",
    "n5a < 6"
   ]
  },
  {
   "cell_type": "code",
   "execution_count": 68,
   "id": "ef06c4dc",
   "metadata": {
    "slideshow": {
     "slide_type": "skip"
    }
   },
   "outputs": [],
   "source": [
    "! python /data/projects/btrees/btrees.py --w-scale 0.7 remove_549658a.txt"
   ]
  },
  {
   "cell_type": "markdown",
   "id": "bfe67f10",
   "metadata": {
    "slideshow": {
     "slide_type": "slide"
    }
   },
   "source": [
    "<img src=\"remove_549658a.png\" />"
   ]
  },
  {
   "cell_type": "code",
   "execution_count": 73,
   "id": "989eff67",
   "metadata": {
    "slideshow": {
     "slide_type": "skip"
    }
   },
   "outputs": [
    {
     "name": "stdout",
     "output_type": "stream",
     "text": [
      "Overwriting remove_549658b.txt\n"
     ]
    }
   ],
   "source": [
    "%%file remove_549658b.txt\n",
    "n4b [label=\"4\"]\n",
    "n8 [label=\"8\"]\n",
    "n5a [label=\"5\"]\n",
    "n5b [label=\"5\"]\n",
    "\n",
    "n4b > n5a\n",
    "n4b < n8\n",
    "n5a > 9\n",
    "n5a < 6\n",
    "n8 > n5b\n",
    "n5a > 9\n",
    "n5a < 6"
   ]
  },
  {
   "cell_type": "code",
   "execution_count": 74,
   "id": "e4447cd6",
   "metadata": {
    "slideshow": {
     "slide_type": "skip"
    }
   },
   "outputs": [],
   "source": [
    "! python /data/projects/btrees/btrees.py --w-scale 0.7 remove_549658b.txt"
   ]
  },
  {
   "cell_type": "markdown",
   "id": "d66d31eb",
   "metadata": {
    "slideshow": {
     "slide_type": "slide"
    }
   },
   "source": [
    "<img src=\"remove_549658b.png\" />"
   ]
  },
  {
   "cell_type": "code",
   "execution_count": 77,
   "id": "de5c1951",
   "metadata": {
    "slideshow": {
     "slide_type": "skip"
    }
   },
   "outputs": [
    {
     "name": "stdout",
     "output_type": "stream",
     "text": [
      "Overwriting remove_549658c.txt\n"
     ]
    }
   ],
   "source": [
    "%%file remove_549658c.txt\n",
    "n4b [label=\"4\"]\n",
    "n8 [label=\"8\"]\n",
    "n5a [label=\"5\"]\n",
    "n5b [label=\"5\"]\n",
    "\n",
    "n4b > n5a\n",
    "n4b < n5b\n",
    "n5a > 9\n",
    "n5a < 6\n",
    "n5b > n8\n",
    "n5a > 9\n",
    "n5a < 6"
   ]
  },
  {
   "cell_type": "code",
   "execution_count": 78,
   "id": "0dfc625b",
   "metadata": {
    "slideshow": {
     "slide_type": "skip"
    }
   },
   "outputs": [],
   "source": [
    "! python /data/projects/btrees/btrees.py --w-scale 0.7 remove_549658c.txt"
   ]
  },
  {
   "cell_type": "markdown",
   "id": "b4e910f8",
   "metadata": {
    "slideshow": {
     "slide_type": "slide"
    }
   },
   "source": [
    "<img src=\"remove_549658c.png\" />"
   ]
  },
  {
   "cell_type": "code",
   "execution_count": 79,
   "id": "ad3db5ca",
   "metadata": {
    "slideshow": {
     "slide_type": "skip"
    }
   },
   "outputs": [
    {
     "name": "stdout",
     "output_type": "stream",
     "text": [
      "Writing remove_455968a.txt\n"
     ]
    }
   ],
   "source": [
    "%%file remove_455968a.txt\n",
    "n8 [label=\"8\"]\n",
    "n4b [label=\"4\"]\n",
    "n5a [label=\"5\"]\n",
    "n5b [label=\"5\"]\n",
    "\n",
    "n8 > n5a\n",
    "n8 < n5b\n",
    "n5a > 9\n",
    "n5a < 6\n",
    "n5a > 9\n",
    "n5a < 6"
   ]
  },
  {
   "cell_type": "code",
   "execution_count": 80,
   "id": "ce3522c8",
   "metadata": {
    "slideshow": {
     "slide_type": "skip"
    }
   },
   "outputs": [],
   "source": [
    "! python /data/projects/btrees/btrees.py --w-scale 0.7 remove_455968a.txt"
   ]
  },
  {
   "cell_type": "markdown",
   "id": "dec582b0",
   "metadata": {
    "slideshow": {
     "slide_type": "slide"
    }
   },
   "source": [
    "<img src=\"remove_455968a.png\" />"
   ]
  },
  {
   "cell_type": "code",
   "execution_count": 81,
   "id": "71488620",
   "metadata": {
    "slideshow": {
     "slide_type": "skip"
    }
   },
   "outputs": [
    {
     "name": "stdout",
     "output_type": "stream",
     "text": [
      "Writing remove_455968b.txt\n"
     ]
    }
   ],
   "source": [
    "%%file remove_455968b.txt\n",
    "n5b [label=\"5\"]\n",
    "n5a [label=\"5\"]\n",
    "n8 [label=\"8\"]\n",
    "\n",
    "n5b > n5a\n",
    "n5b < n8\n",
    "n5a > 9\n",
    "n5a < 6\n",
    "n5a > 9\n",
    "n5a < 6"
   ]
  },
  {
   "cell_type": "code",
   "execution_count": 82,
   "id": "771e8c09",
   "metadata": {
    "slideshow": {
     "slide_type": "skip"
    }
   },
   "outputs": [],
   "source": [
    "! python /data/projects/btrees/btrees.py --w-scale 0.7 remove_455968b.txt"
   ]
  },
  {
   "cell_type": "markdown",
   "id": "d2792de2",
   "metadata": {
    "slideshow": {
     "slide_type": "slide"
    }
   },
   "source": [
    "<img src=\"remove_455968b.png\" />"
   ]
  },
  {
   "cell_type": "code",
   "execution_count": 85,
   "id": "f524c3da",
   "metadata": {
    "slideshow": {
     "slide_type": "skip"
    }
   },
   "outputs": [
    {
     "name": "stdout",
     "output_type": "stream",
     "text": [
      "Overwriting remove_55896a.txt\n"
     ]
    }
   ],
   "source": [
    "%%file remove_55896a.txt\n",
    "n6 [label=\"6\"]\n",
    "n5a [label=\"5\"]\n",
    "n8 [label=\"8\"]\n",
    "\n",
    "n6 > n5a\n",
    "n6 < n8\n",
    "n5a > 9"
   ]
  },
  {
   "cell_type": "code",
   "execution_count": 86,
   "id": "2fbbc349",
   "metadata": {
    "slideshow": {
     "slide_type": "skip"
    }
   },
   "outputs": [],
   "source": [
    "! python /data/projects/btrees/btrees.py --w-scale 0.7 remove_55896a.txt"
   ]
  },
  {
   "cell_type": "markdown",
   "id": "d8f3de21",
   "metadata": {
    "slideshow": {
     "slide_type": "slide"
    }
   },
   "source": [
    "<img src=\"remove_55896a.png\" />"
   ]
  },
  {
   "cell_type": "code",
   "execution_count": 87,
   "id": "219a63d2",
   "metadata": {
    "slideshow": {
     "slide_type": "skip"
    }
   },
   "outputs": [
    {
     "name": "stdout",
     "output_type": "stream",
     "text": [
      "Writing remove_55896b.txt\n"
     ]
    }
   ],
   "source": [
    "%%file remove_55896b.txt\n",
    "n5a [label=\"5\"]\n",
    "n6 [label=\"6\"]\n",
    "n8 [label=\"8\"]\n",
    "\n",
    "n5a > n6\n",
    "n5a < n8\n",
    "n6 > 9"
   ]
  },
  {
   "cell_type": "code",
   "execution_count": 88,
   "id": "f5db6ccc",
   "metadata": {
    "slideshow": {
     "slide_type": "skip"
    }
   },
   "outputs": [],
   "source": [
    "! python /data/projects/btrees/btrees.py --w-scale 0.7 remove_55896b.txt"
   ]
  },
  {
   "cell_type": "markdown",
   "id": "2ec988a7",
   "metadata": {
    "slideshow": {
     "slide_type": "slide"
    }
   },
   "source": [
    "<img src=\"remove_55896b.png\" />"
   ]
  },
  {
   "cell_type": "code",
   "execution_count": 87,
   "id": "5d8c2e3a",
   "metadata": {
    "slideshow": {
     "slide_type": "skip"
    }
   },
   "outputs": [
    {
     "name": "stdout",
     "output_type": "stream",
     "text": [
      "Writing remove_55896b.txt\n"
     ]
    }
   ],
   "source": [
    "%%file remove_55896b.txt\n",
    "n5a [label=\"5\"]\n",
    "n6 [label=\"6\"]\n",
    "n8 [label=\"8\"]\n",
    "\n",
    "n5a > n6\n",
    "n5a < n8\n",
    "n6 > 9"
   ]
  },
  {
   "cell_type": "code",
   "execution_count": 88,
   "id": "858615cc",
   "metadata": {
    "slideshow": {
     "slide_type": "skip"
    }
   },
   "outputs": [],
   "source": [
    "! python /data/projects/btrees/btrees.py --w-scale 0.7 remove_55896b.txt"
   ]
  },
  {
   "cell_type": "markdown",
   "id": "24cbe57f",
   "metadata": {
    "slideshow": {
     "slide_type": "slide"
    }
   },
   "source": [
    "<img src=\"remove_55896b.png\" />"
   ]
  },
  {
   "cell_type": "code",
   "execution_count": 91,
   "id": "a89559ba",
   "metadata": {
    "slideshow": {
     "slide_type": "skip"
    }
   },
   "outputs": [
    {
     "name": "stdout",
     "output_type": "stream",
     "text": [
      "Overwriting remove_5689a.txt\n"
     ]
    }
   ],
   "source": [
    "%%file remove_5689a.txt\n",
    "n9 [label=\"9\"]\n",
    "n6 [label=\"6\"]\n",
    "n8 [label=\"8\"]\n",
    "\n",
    "n9 > n6\n",
    "n9 < n8"
   ]
  },
  {
   "cell_type": "code",
   "execution_count": 92,
   "id": "e725cffb",
   "metadata": {
    "slideshow": {
     "slide_type": "skip"
    }
   },
   "outputs": [],
   "source": [
    "! python /data/projects/btrees/btrees.py --w-scale 0.7 remove_5689a.txt"
   ]
  },
  {
   "cell_type": "markdown",
   "id": "85c81f81",
   "metadata": {
    "slideshow": {
     "slide_type": "slide"
    }
   },
   "source": [
    "<img src=\"remove_5689a.png\" />"
   ]
  },
  {
   "cell_type": "code",
   "execution_count": 93,
   "id": "ec2c0a94",
   "metadata": {
    "slideshow": {
     "slide_type": "skip"
    }
   },
   "outputs": [
    {
     "name": "stdout",
     "output_type": "stream",
     "text": [
      "Writing remove_5689b.txt\n"
     ]
    }
   ],
   "source": [
    "%%file remove_5689b.txt\n",
    "n6 [label=\"6\"]\n",
    "n9 [label=\"9\"]\n",
    "n8 [label=\"8\"]\n",
    "\n",
    "n6 > n9\n",
    "n6 < n8"
   ]
  },
  {
   "cell_type": "code",
   "execution_count": 94,
   "id": "b97e37ab",
   "metadata": {
    "slideshow": {
     "slide_type": "skip"
    }
   },
   "outputs": [],
   "source": [
    "! python /data/projects/btrees/btrees.py --w-scale 0.7 remove_5689b.txt"
   ]
  },
  {
   "cell_type": "markdown",
   "id": "2b495006",
   "metadata": {
    "slideshow": {
     "slide_type": "slide"
    }
   },
   "source": [
    "<img src=\"remove_5689b.png\" />"
   ]
  },
  {
   "cell_type": "code",
   "execution_count": 95,
   "id": "072f7fb5",
   "metadata": {
    "slideshow": {
     "slide_type": "skip"
    }
   },
   "outputs": [
    {
     "name": "stdout",
     "output_type": "stream",
     "text": [
      "Writing remove_698.txt\n"
     ]
    }
   ],
   "source": [
    "%%file remove_698.txt\n",
    "n8 [label=\"8\"]\n",
    "n9 [label=\"9\"]\n",
    "\n",
    "n8 > n9"
   ]
  },
  {
   "cell_type": "code",
   "execution_count": 96,
   "id": "2a018125",
   "metadata": {
    "slideshow": {
     "slide_type": "skip"
    }
   },
   "outputs": [],
   "source": [
    "! python /data/projects/btrees/btrees.py --w-scale 0.7 remove_698.txt"
   ]
  },
  {
   "cell_type": "markdown",
   "id": "facaca56",
   "metadata": {
    "slideshow": {
     "slide_type": "slide"
    }
   },
   "source": [
    "<img src=\"remove_698.png\" />"
   ]
  },
  {
   "cell_type": "code",
   "execution_count": 97,
   "id": "e394b899",
   "metadata": {
    "slideshow": {
     "slide_type": "skip"
    }
   },
   "outputs": [
    {
     "name": "stdout",
     "output_type": "stream",
     "text": [
      "Writing remove_9.dot\n"
     ]
    }
   ],
   "source": [
    "%%file remove_9.dot\n",
    "digraph {\n",
    "n9 [label=\"9\"]\n",
    "}\n"
   ]
  },
  {
   "cell_type": "code",
   "execution_count": 98,
   "id": "948ef521",
   "metadata": {
    "slideshow": {
     "slide_type": "skip"
    }
   },
   "outputs": [],
   "source": [
    "! dot -Tpng -o remove_9.png remove_9.dot"
   ]
  },
  {
   "cell_type": "markdown",
   "id": "54659e52",
   "metadata": {
    "slideshow": {
     "slide_type": "slide"
    }
   },
   "source": [
    "<img src=\"remove_9.png\" />"
   ]
  },
  {
   "cell_type": "markdown",
   "id": "c4194e90",
   "metadata": {
    "slideshow": {
     "slide_type": "slide"
    }
   },
   "source": [
    "   \n",
    "   "
   ]
  },
  {
   "cell_type": "markdown",
   "id": "9abb419c",
   "metadata": {},
   "source": [
    "Work with a partner.\n",
    "\n",
    "Show all the steps of removing an item from the heap.\n",
    "\n",
    "**Remember**, you can only remove the top element."
   ]
  },
  {
   "cell_type": "code",
   "execution_count": 1,
   "id": "9ac7b155",
   "metadata": {
    "slideshow": {
     "slide_type": "skip"
    }
   },
   "outputs": [
    {
     "name": "stdout",
     "output_type": "stream",
     "text": [
      "Writing remove_class.txt\n"
     ]
    }
   ],
   "source": [
    "%%file remove_class.txt\n",
    "2 > 4\n",
    "2 < 3\n",
    "4 < 5\n",
    "4 > 7"
   ]
  },
  {
   "cell_type": "code",
   "execution_count": 2,
   "id": "e0193622",
   "metadata": {
    "slideshow": {
     "slide_type": "skip"
    }
   },
   "outputs": [],
   "source": [
    "! python /data/projects/btrees/btrees.py --w-scale 0.7 remove_class.txt"
   ]
  },
  {
   "cell_type": "markdown",
   "id": "b24d15b4",
   "metadata": {},
   "source": [
    "<img src=\"remove_class.png\" />"
   ]
  },
  {
   "cell_type": "code",
   "execution_count": 3,
   "id": "20250e9e",
   "metadata": {
    "slideshow": {
     "slide_type": "skip"
    }
   },
   "outputs": [
    {
     "name": "stdout",
     "output_type": "stream",
     "text": [
      "Writing remove_classb.txt\n"
     ]
    }
   ],
   "source": [
    "%%file remove_classb.txt\n",
    "3 > 4\n",
    "3 < 5\n",
    "4 > 7"
   ]
  },
  {
   "cell_type": "code",
   "execution_count": 4,
   "id": "b5d6d5b8",
   "metadata": {
    "slideshow": {
     "slide_type": "skip"
    }
   },
   "outputs": [],
   "source": [
    "! python /data/projects/btrees/btrees.py --w-scale 0.7 remove_classb.txt"
   ]
  },
  {
   "cell_type": "markdown",
   "id": "6db7e0e0",
   "metadata": {
    "slideshow": {
     "slide_type": "fragment"
    }
   },
   "source": [
    "<img src=\"remove_classb.png\" />"
   ]
  },
  {
   "cell_type": "markdown",
   "id": "28a37fc2",
   "metadata": {
    "slideshow": {
     "slide_type": "slide"
    }
   },
   "source": [
    "When percolating down, why do we swap with the **smaller** child?"
   ]
  },
  {
   "cell_type": "markdown",
   "id": "7732315f",
   "metadata": {
    "slideshow": {
     "slide_type": "slide"
    }
   },
   "source": [
    "## Big-O\n",
    "\n",
    "- What is the big-O for removing from a heap?"
   ]
  },
  {
   "cell_type": "markdown",
   "id": "cf07d0a5",
   "metadata": {
    "slideshow": {
     "slide_type": "fragment"
    }
   },
   "source": [
    "$O(\\log n)$ for both average and worst case."
   ]
  },
  {
   "cell_type": "markdown",
   "id": "e28b46db",
   "metadata": {
    "slideshow": {
     "slide_type": "slide"
    }
   },
   "source": [
    "## Implementing a Heap"
   ]
  },
  {
   "cell_type": "markdown",
   "id": "20b0446b",
   "metadata": {
    "slideshow": {
     "slide_type": "fragment"
    }
   },
   "source": [
    "Observe:"
   ]
  },
  {
   "cell_type": "code",
   "execution_count": 18,
   "id": "678b257c",
   "metadata": {
    "slideshow": {
     "slide_type": "skip"
    }
   },
   "outputs": [
    {
     "name": "stdout",
     "output_type": "stream",
     "text": [
      "Overwriting heap_numbered.txt\n"
     ]
    }
   ],
   "source": [
    "%%file heap_numbered.txt\n",
    "n1 [label=<1<br/><font point-size=\"10\" color=\"red\">1</font>>]\n",
    "n2[label=<2<br/><font point-size=\"10\" color=\"red\">2</font>>]\n",
    "n4 [label=<4<br/><font point-size=\"10\" color=\"red\">3</font>>]\n",
    "n3 [label=<3<br/><font point-size=\"10\" color=\"red\">4</font>>]\n",
    "n7 [label=<7<br/><font point-size=\"10\" color=\"red\">5</font>>]\n",
    "n8 [label=<8<br/><font point-size=\"10\" color=\"red\">6</font>>]\n",
    "n6 [label=<6<br/><font point-size=\"10\" color=\"red\">7</font>>]\n",
    "n5 [label=<5<br/><font point-size=\"10\" color=\"red\">8</font>>]\n",
    "\n",
    "n1 > n2\n",
    "n1 < n4\n",
    "n2 > n3\n",
    "n2 < n7\n",
    "n3 > n5\n",
    "n4 > n8\n",
    "n4 < n6"
   ]
  },
  {
   "cell_type": "code",
   "execution_count": 19,
   "id": "362b2ded",
   "metadata": {
    "slideshow": {
     "slide_type": "skip"
    }
   },
   "outputs": [],
   "source": [
    "! python /data/projects/btrees/btrees.py --w-scale 0.5 heap_numbered.txt"
   ]
  },
  {
   "cell_type": "markdown",
   "id": "a1c70d7f",
   "metadata": {},
   "source": [
    "<img src=\"heap_numbered.png\" />"
   ]
  },
  {
   "cell_type": "markdown",
   "id": "04243716",
   "metadata": {
    "slideshow": {
     "slide_type": "fragment"
    }
   },
   "source": [
    "Let's call the red numbers the \"index\" of the node.\n",
    "\n",
    "What is the relationship between the index of the parent and the index of the **left** child?\n",
    "\n",
    "What is the relationship between the index of the **left** child and the index of the **right** child?\n",
    "\n",
    "What do all left children have in common? What do all right children have in common?"
   ]
  },
  {
   "cell_type": "markdown",
   "id": "2e15cbad",
   "metadata": {
    "slideshow": {
     "slide_type": "slide"
    }
   },
   "source": [
    "Inasmuch as a heap is a **complete** tree, items are only added or removed **from the end**.\n",
    "\n",
    "Each item in the tree has an index, and the index of a node can be calculated from the index of a parent or child."
   ]
  },
  {
   "cell_type": "markdown",
   "id": "8a57c2b5",
   "metadata": {
    "slideshow": {
     "slide_type": "fragment"
    }
   },
   "source": [
    "So, we typically implement a heap using a vector (or an array)!"
   ]
  },
  {
   "cell_type": "markdown",
   "id": "946e35f4",
   "metadata": {
    "slideshow": {
     "slide_type": "slide"
    }
   },
   "source": [
    "<img src=\"heap_numbered.png\" />"
   ]
  },
  {
   "cell_type": "markdown",
   "id": "915aebd8",
   "metadata": {},
   "source": [
    "```\n",
    "value: 1 2 4 3 7 8 6 5\n",
    "index: 1 2 3 4 5 6 7 8\n",
    "```"
   ]
  },
  {
   "cell_type": "markdown",
   "id": "0b1f4a4d",
   "metadata": {
    "slideshow": {
     "slide_type": "fragment"
    }
   },
   "source": [
    "How do you find the children of a node?"
   ]
  },
  {
   "cell_type": "markdown",
   "id": "c0231462",
   "metadata": {
    "slideshow": {
     "slide_type": "fragment"
    }
   },
   "source": [
    "Left:  $2i$  \n",
    "Right: $2i+1$"
   ]
  },
  {
   "cell_type": "markdown",
   "id": "3256e7c2",
   "metadata": {
    "slideshow": {
     "slide_type": "fragment"
    }
   },
   "source": [
    "How do you find the parent of a node?"
   ]
  },
  {
   "cell_type": "markdown",
   "id": "b1ca25fb",
   "metadata": {
    "slideshow": {
     "slide_type": "fragment"
    }
   },
   "source": [
    "$i/2$"
   ]
  },
  {
   "cell_type": "markdown",
   "id": "ec51e1e3",
   "metadata": {
    "slideshow": {
     "slide_type": "slide"
    }
   },
   "source": [
    "So, given the heap \n",
    "```\n",
    "1 2 4 3 7 8 6 5\n",
    "```\n",
    "what is the result of inserting a 2?"
   ]
  },
  {
   "cell_type": "markdown",
   "id": "5ea9bf46",
   "metadata": {
    "slideshow": {
     "slide_type": "slide"
    }
   },
   "source": [
    "```\n",
    "value:  1 2 4 3 7 8 6 5 2\n",
    "index:  1 2 3 4 5 6 7 8 9\n",
    "\n",
    "i = 9\n",
    "p = 9/2 = 4\n",
    "value[4] = 3\n",
    "3 > 2, so swap\n",
    "\n",
    "value:  1 2 4 2 7 8 6 5 3\n",
    "index:  1 2 3 4 5 6 7 8 9\n",
    "\n",
    "i = 4\n",
    "p = 4 / 2 = 2\n",
    "value[2] = 2\n",
    "2 !> 2, so done.\n",
    "\n",
    "\n",
    "1 2 4 2 7 8 6 5 3\n",
    "\n",
    "```\n"
   ]
  },
  {
   "cell_type": "code",
   "execution_count": 20,
   "id": "e773947c",
   "metadata": {
    "slideshow": {
     "slide_type": "skip"
    }
   },
   "outputs": [
    {
     "name": "stdout",
     "output_type": "stream",
     "text": [
      "Writing heap_numbered_p2.txt\n"
     ]
    }
   ],
   "source": [
    "%%file heap_numbered_p2.txt\n",
    "n1 [label=<1<br/><font point-size=\"10\" color=\"red\">1</font>>]\n",
    "n2 [label=<2<br/><font point-size=\"10\" color=\"red\">2</font>>]\n",
    "n4 [label=<4<br/><font point-size=\"10\" color=\"red\">3</font>>]\n",
    "n2b [label=<2<br/><font point-size=\"10\" color=\"red\">4</font>>]\n",
    "n7 [label=<7<br/><font point-size=\"10\" color=\"red\">5</font>>]\n",
    "n8 [label=<8<br/><font point-size=\"10\" color=\"red\">6</font>>]\n",
    "n6 [label=<6<br/><font point-size=\"10\" color=\"red\">7</font>>]\n",
    "n5 [label=<5<br/><font point-size=\"10\" color=\"red\">8</font>>]\n",
    "n3 [label=<3<br/><font point-size=\"10\" color=\"red\">9</font>>]\n",
    "\n",
    "n1 > n2\n",
    "n1 < n4\n",
    "n2 > n2b\n",
    "n2 < n7\n",
    "n2b > n5\n",
    "n2b < n3\n",
    "n4 > n8\n",
    "n4 < n6"
   ]
  },
  {
   "cell_type": "code",
   "execution_count": 21,
   "id": "47535513",
   "metadata": {
    "slideshow": {
     "slide_type": "skip"
    }
   },
   "outputs": [],
   "source": [
    "! python /data/projects/btrees/btrees.py --w-scale 0.5 heap_numbered_p2.txt"
   ]
  },
  {
   "cell_type": "markdown",
   "id": "b3f61c66",
   "metadata": {},
   "source": [
    "<img src=\"heap_numbered_p2.png\" />\n",
    "\n",
    "```\n",
    "1 2 4 2 7 8 6 5 3\n",
    "```"
   ]
  },
  {
   "cell_type": "markdown",
   "id": "81ebd729",
   "metadata": {
    "slideshow": {
     "slide_type": "slide"
    }
   },
   "source": [
    "What is the result of removing an item from this heap?\n",
    "\n",
    "```\n",
    "3 4 3 5 4 6 8 5 8\n",
    "```"
   ]
  },
  {
   "cell_type": "markdown",
   "id": "3dfb82fb",
   "metadata": {},
   "source": [
    "```\n",
    "value:  3 4 3 5 4 6 8 5 8\n",
    "index:  1 2 3 4 5 6 7 8 9\n",
    "\n",
    "\n",
    "value:  8 4 3 5 4 6 8 5\n",
    "index:  1 2 3 4 5 6 7 8 9\n",
    "\n",
    "i = 1\n",
    "left = 2*1 = 2\n",
    "right = left + 1 = 3\n",
    "value[2] = 4\n",
    "value[3] = 3\n",
    "3 is smaller, so use child=3\n",
    "8 > 3, so swap\n",
    "\n",
    "value:  3 4 8 5 4 6 8 5\n",
    "index:  1 2 3 4 5 6 7 8 9\n",
    "\n",
    "i = 3\n",
    "left = 6\n",
    "right = 7\n",
    "value[6] = 6\n",
    "value[7] = 8\n",
    "6 is smaller, so use child=6\n",
    "8 > 6, so swap\n",
    "\n",
    "value:  3 4 6 5 4 8 8 5\n",
    "index:  1 2 3 4 5 6 7 8 9\n",
    "\n",
    "i = 6\n",
    "left = 12 (no child)\n",
    "right = 13 (no child)\n",
    "done.\n",
    "```\n"
   ]
  },
  {
   "cell_type": "markdown",
   "id": "e393aa33",
   "metadata": {
    "slideshow": {
     "slide_type": "slide"
    }
   },
   "source": [
    "**Note**: when using actual arrays or vectors, we need to use 0-based indexing.\n",
    "\n",
    "#### 0-based Heap Relationships\n",
    "\n",
    "- Root is at 0\n",
    "- Left child is at $2i+1$\n",
    "- Right child is at $2i+2$\n",
    "- Parent is at $\\frac{i-1}{2}$"
   ]
  },
  {
   "cell_type": "markdown",
   "id": "082a6317",
   "metadata": {
    "slideshow": {
     "slide_type": "slide"
    }
   },
   "source": [
    "## Key Ideas\n",
    "\n",
    "- A heap is implemented with an array, much like a vector\n",
    "- The \"smallest\" item is always at the root\n",
    "  - You can define what \"smallest\" means to change what value ends up on top\n",
    "- You can add in $O(1)$ and remove in $O(\\log n)$"
   ]
  },
  {
   "cell_type": "markdown",
   "id": "86cb2de3",
   "metadata": {
    "slideshow": {
     "slide_type": "slide"
    }
   },
   "source": [
    "What data structure only allows you to retrieve the smallest item, regardless of the order you insert them?"
   ]
  },
  {
   "cell_type": "markdown",
   "id": "73f500e1",
   "metadata": {
    "slideshow": {
     "slide_type": "fragment"
    }
   },
   "source": [
    "A **priority queue**!"
   ]
  },
  {
   "cell_type": "markdown",
   "id": "458f95ad",
   "metadata": {
    "slideshow": {
     "slide_type": "fragment"
    }
   },
   "source": [
    "Priority queues are implemented using heaps."
   ]
  }
 ],
 "metadata": {
  "celltoolbar": "Slideshow",
  "kernelspec": {
   "display_name": "C++17 (docker)",
   "language": "C++17",
   "name": "xeus-cling"
  },
  "language_info": {
   "codemirror_mode": "text/x-c++src",
   "file_extension": ".cpp",
   "mimetype": "text/x-c++src",
   "name": "c++",
   "version": "17"
  },
  "toc": {
   "base_numbering": 1,
   "nav_menu": {},
   "number_sections": false,
   "sideBar": true,
   "skip_h1_title": false,
   "title_cell": "Table of Contents",
   "title_sidebar": "Contents",
   "toc_cell": false,
   "toc_position": {},
   "toc_section_display": true,
   "toc_window_display": false
  }
 },
 "nbformat": 4,
 "nbformat_minor": 5
}
